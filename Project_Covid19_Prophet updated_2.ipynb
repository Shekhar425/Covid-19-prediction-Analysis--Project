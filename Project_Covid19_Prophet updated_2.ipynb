{
  "cells": [
    {
      "cell_type": "markdown",
      "metadata": {
        "id": "D7LciZex3ieE"
      },
      "source": [
        " Problem Statement:\n",
        " Given data about COVID-19 patients, write code to visualize the impact and\n",
        " analyze the trend of rate of infection and recovery as well as make predictions\n",
        " about the number of cases expected a week in future based on the current\n",
        " trends.\n",
        "\n",
        " Dataset:\n",
        " CSV and Excel files containing data about the number of COVID-19 confirmed\n",
        " deaths and recovered patients both around the world and in India.\n",
        "\n",
        " Guidelines:\n",
        " ● Usepandas to accumulate data from multiple data files.\n",
        " ● Useplotly (visualization library) to create interactive visualizations.\n",
        " ● UseFacebook prophet library to make time series models.\n",
        " ● Visualize the prediction by combining these technologies.\n",
        "\n"
      ]
    },
    {
      "cell_type": "code",
      "execution_count": null,
      "metadata": {
        "id": "CVhCk3RKDmgm"
      },
      "outputs": [],
      "source": []
    },
    {
      "cell_type": "markdown",
      "metadata": {
        "id": "LWYlKNefREHA"
      },
      "source": [
        "Import required libraries"
      ]
    },
    {
      "cell_type": "code",
      "execution_count": 28,
      "metadata": {
        "id": "yBqSqxLxydC8"
      },
      "outputs": [],
      "source": [
        "import pandas as pd\n",
        "import numpy as np\n",
        "import matplotlib.pyplot as plt\n",
        "import seaborn as sns\n",
        "import plotly.express as px\n",
        "import plotly.graph_objects as go\n",
        "import plotly.io as pio\n",
        "pio.templates.default = \"plotly_white\"\n",
        "from prophet import Prophet\n",
        "from prophet.plot import plot_plotly\n",
        "import glob\n",
        "import zipfile\n",
        "import os\n"
      ]
    },
    {
      "cell_type": "code",
      "execution_count": 35,
      "metadata": {
        "colab": {
          "base_uri": "https://localhost:8080/"
        },
        "id": "8zDqM1dAyfGA",
        "outputId": "3cf1bad0-fefa-4eb1-ecac-015901f356fe"
      },
      "outputs": [
        {
          "name": "stdout",
          "output_type": "stream",
          "text": [
            "Drive already mounted at /content/drive; to attempt to forcibly remount, call drive.mount(\"/content/drive\", force_remount=True).\n"
          ]
        }
      ],
      "source": [
        "from google.colab import drive\n",
        "drive.mount('/content/drive')"
      ]
    },
    {
      "cell_type": "code",
      "execution_count": 2,
      "metadata": {
        "id": "qwugxeKayfJo"
      },
      "outputs": [],
      "source": [
        "df = pd.read_csv(\"covid_19_clean_complete.csv\")"
      ]
    },
    {
      "cell_type": "code",
      "execution_count": 3,
      "metadata": {
        "colab": {
          "base_uri": "https://localhost:8080/",
          "height": 423
        },
        "id": "4ME1utYkyfNB",
        "outputId": "64aea1e8-bc51-4030-bfca-9de181bbdd96"
      },
      "outputs": [
        {
          "data": {
            "text/html": [
              "<div>\n",
              "<style scoped>\n",
              "    .dataframe tbody tr th:only-of-type {\n",
              "        vertical-align: middle;\n",
              "    }\n",
              "\n",
              "    .dataframe tbody tr th {\n",
              "        vertical-align: top;\n",
              "    }\n",
              "\n",
              "    .dataframe thead th {\n",
              "        text-align: right;\n",
              "    }\n",
              "</style>\n",
              "<table border=\"1\" class=\"dataframe\">\n",
              "  <thead>\n",
              "    <tr style=\"text-align: right;\">\n",
              "      <th></th>\n",
              "      <th>Province/State</th>\n",
              "      <th>Country/Region</th>\n",
              "      <th>Lat</th>\n",
              "      <th>Long</th>\n",
              "      <th>Date</th>\n",
              "      <th>Confirmed</th>\n",
              "      <th>Deaths</th>\n",
              "      <th>Recovered</th>\n",
              "      <th>Active</th>\n",
              "      <th>WHO Region</th>\n",
              "    </tr>\n",
              "  </thead>\n",
              "  <tbody>\n",
              "    <tr>\n",
              "      <th>0</th>\n",
              "      <td>NaN</td>\n",
              "      <td>Afghanistan</td>\n",
              "      <td>33.939110</td>\n",
              "      <td>67.709953</td>\n",
              "      <td>2020-01-22</td>\n",
              "      <td>0</td>\n",
              "      <td>0</td>\n",
              "      <td>0</td>\n",
              "      <td>0</td>\n",
              "      <td>Eastern Mediterranean</td>\n",
              "    </tr>\n",
              "    <tr>\n",
              "      <th>1</th>\n",
              "      <td>NaN</td>\n",
              "      <td>Albania</td>\n",
              "      <td>41.153300</td>\n",
              "      <td>20.168300</td>\n",
              "      <td>2020-01-22</td>\n",
              "      <td>0</td>\n",
              "      <td>0</td>\n",
              "      <td>0</td>\n",
              "      <td>0</td>\n",
              "      <td>Europe</td>\n",
              "    </tr>\n",
              "    <tr>\n",
              "      <th>2</th>\n",
              "      <td>NaN</td>\n",
              "      <td>Algeria</td>\n",
              "      <td>28.033900</td>\n",
              "      <td>1.659600</td>\n",
              "      <td>2020-01-22</td>\n",
              "      <td>0</td>\n",
              "      <td>0</td>\n",
              "      <td>0</td>\n",
              "      <td>0</td>\n",
              "      <td>Africa</td>\n",
              "    </tr>\n",
              "    <tr>\n",
              "      <th>3</th>\n",
              "      <td>NaN</td>\n",
              "      <td>Andorra</td>\n",
              "      <td>42.506300</td>\n",
              "      <td>1.521800</td>\n",
              "      <td>2020-01-22</td>\n",
              "      <td>0</td>\n",
              "      <td>0</td>\n",
              "      <td>0</td>\n",
              "      <td>0</td>\n",
              "      <td>Europe</td>\n",
              "    </tr>\n",
              "    <tr>\n",
              "      <th>4</th>\n",
              "      <td>NaN</td>\n",
              "      <td>Angola</td>\n",
              "      <td>-11.202700</td>\n",
              "      <td>17.873900</td>\n",
              "      <td>2020-01-22</td>\n",
              "      <td>0</td>\n",
              "      <td>0</td>\n",
              "      <td>0</td>\n",
              "      <td>0</td>\n",
              "      <td>Africa</td>\n",
              "    </tr>\n",
              "    <tr>\n",
              "      <th>...</th>\n",
              "      <td>...</td>\n",
              "      <td>...</td>\n",
              "      <td>...</td>\n",
              "      <td>...</td>\n",
              "      <td>...</td>\n",
              "      <td>...</td>\n",
              "      <td>...</td>\n",
              "      <td>...</td>\n",
              "      <td>...</td>\n",
              "      <td>...</td>\n",
              "    </tr>\n",
              "    <tr>\n",
              "      <th>49063</th>\n",
              "      <td>NaN</td>\n",
              "      <td>Sao Tome and Principe</td>\n",
              "      <td>0.186400</td>\n",
              "      <td>6.613100</td>\n",
              "      <td>2020-07-27</td>\n",
              "      <td>865</td>\n",
              "      <td>14</td>\n",
              "      <td>734</td>\n",
              "      <td>117</td>\n",
              "      <td>Africa</td>\n",
              "    </tr>\n",
              "    <tr>\n",
              "      <th>49064</th>\n",
              "      <td>NaN</td>\n",
              "      <td>Yemen</td>\n",
              "      <td>15.552727</td>\n",
              "      <td>48.516388</td>\n",
              "      <td>2020-07-27</td>\n",
              "      <td>1691</td>\n",
              "      <td>483</td>\n",
              "      <td>833</td>\n",
              "      <td>375</td>\n",
              "      <td>Eastern Mediterranean</td>\n",
              "    </tr>\n",
              "    <tr>\n",
              "      <th>49065</th>\n",
              "      <td>NaN</td>\n",
              "      <td>Comoros</td>\n",
              "      <td>-11.645500</td>\n",
              "      <td>43.333300</td>\n",
              "      <td>2020-07-27</td>\n",
              "      <td>354</td>\n",
              "      <td>7</td>\n",
              "      <td>328</td>\n",
              "      <td>19</td>\n",
              "      <td>Africa</td>\n",
              "    </tr>\n",
              "    <tr>\n",
              "      <th>49066</th>\n",
              "      <td>NaN</td>\n",
              "      <td>Tajikistan</td>\n",
              "      <td>38.861000</td>\n",
              "      <td>71.276100</td>\n",
              "      <td>2020-07-27</td>\n",
              "      <td>7235</td>\n",
              "      <td>60</td>\n",
              "      <td>6028</td>\n",
              "      <td>1147</td>\n",
              "      <td>Europe</td>\n",
              "    </tr>\n",
              "    <tr>\n",
              "      <th>49067</th>\n",
              "      <td>NaN</td>\n",
              "      <td>Lesotho</td>\n",
              "      <td>-29.610000</td>\n",
              "      <td>28.233600</td>\n",
              "      <td>2020-07-27</td>\n",
              "      <td>505</td>\n",
              "      <td>12</td>\n",
              "      <td>128</td>\n",
              "      <td>365</td>\n",
              "      <td>Africa</td>\n",
              "    </tr>\n",
              "  </tbody>\n",
              "</table>\n",
              "<p>49068 rows × 10 columns</p>\n",
              "</div>"
            ],
            "text/plain": [
              "      Province/State         Country/Region        Lat       Long        Date  \\\n",
              "0                NaN            Afghanistan  33.939110  67.709953  2020-01-22   \n",
              "1                NaN                Albania  41.153300  20.168300  2020-01-22   \n",
              "2                NaN                Algeria  28.033900   1.659600  2020-01-22   \n",
              "3                NaN                Andorra  42.506300   1.521800  2020-01-22   \n",
              "4                NaN                 Angola -11.202700  17.873900  2020-01-22   \n",
              "...              ...                    ...        ...        ...         ...   \n",
              "49063            NaN  Sao Tome and Principe   0.186400   6.613100  2020-07-27   \n",
              "49064            NaN                  Yemen  15.552727  48.516388  2020-07-27   \n",
              "49065            NaN                Comoros -11.645500  43.333300  2020-07-27   \n",
              "49066            NaN             Tajikistan  38.861000  71.276100  2020-07-27   \n",
              "49067            NaN                Lesotho -29.610000  28.233600  2020-07-27   \n",
              "\n",
              "       Confirmed  Deaths  Recovered  Active             WHO Region  \n",
              "0              0       0          0       0  Eastern Mediterranean  \n",
              "1              0       0          0       0                 Europe  \n",
              "2              0       0          0       0                 Africa  \n",
              "3              0       0          0       0                 Europe  \n",
              "4              0       0          0       0                 Africa  \n",
              "...          ...     ...        ...     ...                    ...  \n",
              "49063        865      14        734     117                 Africa  \n",
              "49064       1691     483        833     375  Eastern Mediterranean  \n",
              "49065        354       7        328      19                 Africa  \n",
              "49066       7235      60       6028    1147                 Europe  \n",
              "49067        505      12        128     365                 Africa  \n",
              "\n",
              "[49068 rows x 10 columns]"
            ]
          },
          "execution_count": 3,
          "metadata": {},
          "output_type": "execute_result"
        }
      ],
      "source": [
        "df"
      ]
    },
    {
      "cell_type": "code",
      "execution_count": 4,
      "metadata": {
        "colab": {
          "base_uri": "https://localhost:8080/"
        },
        "id": "K7skBX-hyfQn",
        "outputId": "ad33dca1-ac3b-4699-ba58-44367f0e8b53"
      },
      "outputs": [
        {
          "name": "stdout",
          "output_type": "stream",
          "text": [
            "<class 'pandas.core.frame.DataFrame'>\n",
            "RangeIndex: 49068 entries, 0 to 49067\n",
            "Data columns (total 10 columns):\n",
            " #   Column          Non-Null Count  Dtype  \n",
            "---  ------          --------------  -----  \n",
            " 0   Province/State  14664 non-null  object \n",
            " 1   Country/Region  49068 non-null  object \n",
            " 2   Lat             49068 non-null  float64\n",
            " 3   Long            49068 non-null  float64\n",
            " 4   Date            49068 non-null  object \n",
            " 5   Confirmed       49068 non-null  int64  \n",
            " 6   Deaths          49068 non-null  int64  \n",
            " 7   Recovered       49068 non-null  int64  \n",
            " 8   Active          49068 non-null  int64  \n",
            " 9   WHO Region      49068 non-null  object \n",
            "dtypes: float64(2), int64(4), object(4)\n",
            "memory usage: 3.7+ MB\n"
          ]
        }
      ],
      "source": [
        "df.info()"
      ]
    },
    {
      "cell_type": "code",
      "execution_count": 5,
      "metadata": {
        "colab": {
          "base_uri": "https://localhost:8080/",
          "height": 397
        },
        "id": "wfFrs751yfUR",
        "outputId": "ddf16a3f-4c77-4fda-fa6b-bf01faab87dd"
      },
      "outputs": [
        {
          "data": {
            "text/plain": [
              "Province/State    34404\n",
              "Country/Region        0\n",
              "Lat                   0\n",
              "Long                  0\n",
              "Date                  0\n",
              "Confirmed             0\n",
              "Deaths                0\n",
              "Recovered             0\n",
              "Active                0\n",
              "WHO Region            0\n",
              "dtype: int64"
            ]
          },
          "execution_count": 5,
          "metadata": {},
          "output_type": "execute_result"
        }
      ],
      "source": [
        "df.isnull().sum()"
      ]
    },
    {
      "cell_type": "code",
      "execution_count": 6,
      "metadata": {
        "colab": {
          "base_uri": "https://localhost:8080/",
          "height": 300
        },
        "id": "DScFp6os2Ak9",
        "outputId": "8a4dba07-1134-4b22-e089-0507b9525b53"
      },
      "outputs": [
        {
          "data": {
            "text/html": [
              "<div>\n",
              "<style scoped>\n",
              "    .dataframe tbody tr th:only-of-type {\n",
              "        vertical-align: middle;\n",
              "    }\n",
              "\n",
              "    .dataframe tbody tr th {\n",
              "        vertical-align: top;\n",
              "    }\n",
              "\n",
              "    .dataframe thead th {\n",
              "        text-align: right;\n",
              "    }\n",
              "</style>\n",
              "<table border=\"1\" class=\"dataframe\">\n",
              "  <thead>\n",
              "    <tr style=\"text-align: right;\">\n",
              "      <th></th>\n",
              "      <th>Lat</th>\n",
              "      <th>Long</th>\n",
              "      <th>Confirmed</th>\n",
              "      <th>Deaths</th>\n",
              "      <th>Recovered</th>\n",
              "      <th>Active</th>\n",
              "    </tr>\n",
              "  </thead>\n",
              "  <tbody>\n",
              "    <tr>\n",
              "      <th>count</th>\n",
              "      <td>49068.000000</td>\n",
              "      <td>49068.000000</td>\n",
              "      <td>4.906800e+04</td>\n",
              "      <td>49068.000000</td>\n",
              "      <td>4.906800e+04</td>\n",
              "      <td>4.906800e+04</td>\n",
              "    </tr>\n",
              "    <tr>\n",
              "      <th>mean</th>\n",
              "      <td>21.433730</td>\n",
              "      <td>23.528236</td>\n",
              "      <td>1.688490e+04</td>\n",
              "      <td>884.179160</td>\n",
              "      <td>7.915713e+03</td>\n",
              "      <td>8.085012e+03</td>\n",
              "    </tr>\n",
              "    <tr>\n",
              "      <th>std</th>\n",
              "      <td>24.950320</td>\n",
              "      <td>70.442740</td>\n",
              "      <td>1.273002e+05</td>\n",
              "      <td>6313.584411</td>\n",
              "      <td>5.480092e+04</td>\n",
              "      <td>7.625890e+04</td>\n",
              "    </tr>\n",
              "    <tr>\n",
              "      <th>min</th>\n",
              "      <td>-51.796300</td>\n",
              "      <td>-135.000000</td>\n",
              "      <td>0.000000e+00</td>\n",
              "      <td>0.000000</td>\n",
              "      <td>0.000000e+00</td>\n",
              "      <td>-1.400000e+01</td>\n",
              "    </tr>\n",
              "    <tr>\n",
              "      <th>25%</th>\n",
              "      <td>7.873054</td>\n",
              "      <td>-15.310100</td>\n",
              "      <td>4.000000e+00</td>\n",
              "      <td>0.000000</td>\n",
              "      <td>0.000000e+00</td>\n",
              "      <td>0.000000e+00</td>\n",
              "    </tr>\n",
              "    <tr>\n",
              "      <th>50%</th>\n",
              "      <td>23.634500</td>\n",
              "      <td>21.745300</td>\n",
              "      <td>1.680000e+02</td>\n",
              "      <td>2.000000</td>\n",
              "      <td>2.900000e+01</td>\n",
              "      <td>2.600000e+01</td>\n",
              "    </tr>\n",
              "    <tr>\n",
              "      <th>75%</th>\n",
              "      <td>41.204380</td>\n",
              "      <td>80.771797</td>\n",
              "      <td>1.518250e+03</td>\n",
              "      <td>30.000000</td>\n",
              "      <td>6.660000e+02</td>\n",
              "      <td>6.060000e+02</td>\n",
              "    </tr>\n",
              "    <tr>\n",
              "      <th>max</th>\n",
              "      <td>71.706900</td>\n",
              "      <td>178.065000</td>\n",
              "      <td>4.290259e+06</td>\n",
              "      <td>148011.000000</td>\n",
              "      <td>1.846641e+06</td>\n",
              "      <td>2.816444e+06</td>\n",
              "    </tr>\n",
              "  </tbody>\n",
              "</table>\n",
              "</div>"
            ],
            "text/plain": [
              "                Lat          Long     Confirmed         Deaths     Recovered  \\\n",
              "count  49068.000000  49068.000000  4.906800e+04   49068.000000  4.906800e+04   \n",
              "mean      21.433730     23.528236  1.688490e+04     884.179160  7.915713e+03   \n",
              "std       24.950320     70.442740  1.273002e+05    6313.584411  5.480092e+04   \n",
              "min      -51.796300   -135.000000  0.000000e+00       0.000000  0.000000e+00   \n",
              "25%        7.873054    -15.310100  4.000000e+00       0.000000  0.000000e+00   \n",
              "50%       23.634500     21.745300  1.680000e+02       2.000000  2.900000e+01   \n",
              "75%       41.204380     80.771797  1.518250e+03      30.000000  6.660000e+02   \n",
              "max       71.706900    178.065000  4.290259e+06  148011.000000  1.846641e+06   \n",
              "\n",
              "             Active  \n",
              "count  4.906800e+04  \n",
              "mean   8.085012e+03  \n",
              "std    7.625890e+04  \n",
              "min   -1.400000e+01  \n",
              "25%    0.000000e+00  \n",
              "50%    2.600000e+01  \n",
              "75%    6.060000e+02  \n",
              "max    2.816444e+06  "
            ]
          },
          "execution_count": 6,
          "metadata": {},
          "output_type": "execute_result"
        }
      ],
      "source": [
        "df.describe()"
      ]
    },
    {
      "cell_type": "code",
      "execution_count": 7,
      "metadata": {
        "id": "fA9z41ph_Xar"
      },
      "outputs": [],
      "source": [
        "num_df = df.select_dtypes(include = 'number')"
      ]
    },
    {
      "cell_type": "code",
      "execution_count": 8,
      "metadata": {
        "id": "9zF2o0rg_y59"
      },
      "outputs": [],
      "source": [
        "df_corr = num_df.corr()\n"
      ]
    },
    {
      "cell_type": "code",
      "execution_count": 9,
      "metadata": {
        "colab": {
          "base_uri": "https://localhost:8080/",
          "height": 237
        },
        "id": "X-NTMe0m_zE7",
        "outputId": "623ae407-cfb0-405f-a235-fbe174d2b5d0"
      },
      "outputs": [
        {
          "data": {
            "text/html": [
              "<div>\n",
              "<style scoped>\n",
              "    .dataframe tbody tr th:only-of-type {\n",
              "        vertical-align: middle;\n",
              "    }\n",
              "\n",
              "    .dataframe tbody tr th {\n",
              "        vertical-align: top;\n",
              "    }\n",
              "\n",
              "    .dataframe thead th {\n",
              "        text-align: right;\n",
              "    }\n",
              "</style>\n",
              "<table border=\"1\" class=\"dataframe\">\n",
              "  <thead>\n",
              "    <tr style=\"text-align: right;\">\n",
              "      <th></th>\n",
              "      <th>Lat</th>\n",
              "      <th>Long</th>\n",
              "      <th>Confirmed</th>\n",
              "      <th>Deaths</th>\n",
              "      <th>Recovered</th>\n",
              "      <th>Active</th>\n",
              "    </tr>\n",
              "  </thead>\n",
              "  <tbody>\n",
              "    <tr>\n",
              "      <th>Lat</th>\n",
              "      <td>1.000000</td>\n",
              "      <td>-0.127259</td>\n",
              "      <td>0.036665</td>\n",
              "      <td>0.070040</td>\n",
              "      <td>0.015329</td>\n",
              "      <td>0.044392</td>\n",
              "    </tr>\n",
              "    <tr>\n",
              "      <th>Long</th>\n",
              "      <td>-0.127259</td>\n",
              "      <td>1.000000</td>\n",
              "      <td>-0.078911</td>\n",
              "      <td>-0.101340</td>\n",
              "      <td>-0.052391</td>\n",
              "      <td>-0.085688</td>\n",
              "    </tr>\n",
              "    <tr>\n",
              "      <th>Confirmed</th>\n",
              "      <td>0.036665</td>\n",
              "      <td>-0.078911</td>\n",
              "      <td>1.000000</td>\n",
              "      <td>0.912361</td>\n",
              "      <td>0.895506</td>\n",
              "      <td>0.950255</td>\n",
              "    </tr>\n",
              "    <tr>\n",
              "      <th>Deaths</th>\n",
              "      <td>0.070040</td>\n",
              "      <td>-0.101340</td>\n",
              "      <td>0.912361</td>\n",
              "      <td>1.000000</td>\n",
              "      <td>0.763090</td>\n",
              "      <td>0.891858</td>\n",
              "    </tr>\n",
              "    <tr>\n",
              "      <th>Recovered</th>\n",
              "      <td>0.015329</td>\n",
              "      <td>-0.052391</td>\n",
              "      <td>0.895506</td>\n",
              "      <td>0.763090</td>\n",
              "      <td>1.000000</td>\n",
              "      <td>0.713088</td>\n",
              "    </tr>\n",
              "    <tr>\n",
              "      <th>Active</th>\n",
              "      <td>0.044392</td>\n",
              "      <td>-0.085688</td>\n",
              "      <td>0.950255</td>\n",
              "      <td>0.891858</td>\n",
              "      <td>0.713088</td>\n",
              "      <td>1.000000</td>\n",
              "    </tr>\n",
              "  </tbody>\n",
              "</table>\n",
              "</div>"
            ],
            "text/plain": [
              "                Lat      Long  Confirmed    Deaths  Recovered    Active\n",
              "Lat        1.000000 -0.127259   0.036665  0.070040   0.015329  0.044392\n",
              "Long      -0.127259  1.000000  -0.078911 -0.101340  -0.052391 -0.085688\n",
              "Confirmed  0.036665 -0.078911   1.000000  0.912361   0.895506  0.950255\n",
              "Deaths     0.070040 -0.101340   0.912361  1.000000   0.763090  0.891858\n",
              "Recovered  0.015329 -0.052391   0.895506  0.763090   1.000000  0.713088\n",
              "Active     0.044392 -0.085688   0.950255  0.891858   0.713088  1.000000"
            ]
          },
          "execution_count": 9,
          "metadata": {},
          "output_type": "execute_result"
        }
      ],
      "source": [
        "df_corr"
      ]
    },
    {
      "cell_type": "markdown",
      "metadata": {
        "id": "pRYE82VAYszn"
      },
      "source": [
        "Creating heatmap to understand better about correlation among features"
      ]
    },
    {
      "cell_type": "code",
      "execution_count": 10,
      "metadata": {
        "colab": {
          "base_uri": "https://localhost:8080/",
          "height": 853
        },
        "id": "3lKHAEoJU2z1",
        "outputId": "d71dc92c-09a1-458d-d9d4-701ba8d018b3"
      },
      "outputs": [
        {
          "data": {
            "image/png": "[encoded data removed]",
            "text/plain": [
              "<Figure size 1000x1000 with 2 Axes>"
            ]
          },
          "metadata": {},
          "output_type": "display_data"
        }
      ],
      "source": [
        "plt.figure(figsize = (10, 10))\n",
        "sns.heatmap(df_corr, annot = True, fmt = '.2f', cmap = 'Greens')\n",
        "plt.title('Correlation_heatmap')\n",
        "plt.show()"
      ]
    },
    {
      "cell_type": "markdown",
      "metadata": {
        "id": "lsImx-fXXsS9"
      },
      "source": [
        "Inference from above heatmap and correlation matrics is that columns : Confirmed, Deaths, Recovered and Active are highly correlated."
      ]
    },
    {
      "cell_type": "code",
      "execution_count": 11,
      "metadata": {
        "colab": {
          "base_uri": "https://localhost:8080/"
        },
        "id": "Qw0O6O32XMe-",
        "outputId": "7d54429e-b0d5-49ae-a838-11741e3fb318"
      },
      "outputs": [
        {
          "data": {
            "text/plain": [
              "Index(['Lat', 'Long', 'Confirmed', 'Deaths', 'Recovered', 'Active'], dtype='object')"
            ]
          },
          "execution_count": 11,
          "metadata": {},
          "output_type": "execute_result"
        }
      ],
      "source": [
        "num_df.columns"
      ]
    },
    {
      "cell_type": "markdown",
      "metadata": {
        "id": "USDQ9WJCfx2A"
      },
      "source": [
        "Heatmap using plotly.express"
      ]
    },
    {
      "cell_type": "code",
      "execution_count": 29,
      "metadata": {
        "colab": {
          "base_uri": "https://localhost:8080/",
          "height": 617
        },
        "id": "B285Ahlc2A-b",
        "outputId": "f593433d-a9c9-4ae3-f9fb-ff40bd034dd2"
      },
      "outputs": [
        {
          "ename": "ValueError",
          "evalue": "Invalid property specified for object of type plotly.graph_objs.layout.coloraxis.ColorBar: 'titleside'\n\nDid you mean \"title\"?\n\n    Valid properties:\n        bgcolor\n            Sets the color of padded area.\n        bordercolor\n            Sets the axis line color.\n        borderwidth\n            Sets the width (in px) or the border enclosing this\n            color bar.\n        dtick\n            Sets the step in-between ticks on this axis. Use with\n            `tick0`. Must be a positive number, or special strings\n            available to \"log\" and \"date\" axes. If the axis `type`\n            is \"log\", then ticks are set every 10^(n*dtick) where n\n            is the tick number. For example, to set a tick mark at\n            1, 10, 100, 1000, ... set dtick to 1. To set tick marks\n            at 1, 100, 10000, ... set dtick to 2. To set tick marks\n            at 1, 5, 25, 125, 625, 3125, ... set dtick to\n            log_10(5), or 0.69897000433. \"log\" has several special\n            values; \"L<f>\", where `f` is a positive number, gives\n            ticks linearly spaced in value (but not position). For\n            example `tick0` = 0.1, `dtick` = \"L0.5\" will put ticks\n            at 0.1, 0.6, 1.1, 1.6 etc. To show powers of 10 plus\n            small digits between, use \"D1\" (all digits) or \"D2\"\n            (only 2 and 5). `tick0` is ignored for \"D1\" and \"D2\".\n            If the axis `type` is \"date\", then you must convert the\n            time to milliseconds. For example, to set the interval\n            between ticks to one day, set `dtick` to 86400000.0.\n            \"date\" also has special values \"M<n>\" gives ticks\n            spaced by a number of months. `n` must be a positive\n            integer. To set ticks on the 15th of every third month,\n            set `tick0` to \"2000-01-15\" and `dtick` to \"M3\". To set\n            ticks every 4 years, set `dtick` to \"M48\"\n        exponentformat\n            Determines a formatting rule for the tick exponents.\n            For example, consider the number 1,000,000,000. If\n            \"none\", it appears as 1,000,000,000. If \"e\", 1e+9. If\n            \"E\", 1E+9. If \"power\", 1x10^9 (with 9 in a super\n            script). If \"SI\", 1G. If \"B\", 1B.\n        labelalias\n            Replacement text for specific tick or hover labels. For\n            example using {US: 'USA', CA: 'Canada'} changes US to\n            USA and CA to Canada. The labels we would have shown\n            must match the keys exactly, after adding any\n            tickprefix or ticksuffix. For negative numbers the\n            minus sign symbol used (U+2212) is wider than the\n            regular ascii dash. That means you need to use −1\n            instead of -1. labelalias can be used with any axis\n            type, and both keys (if needed) and values (if desired)\n            can include html-like tags or MathJax.\n        len\n            Sets the length of the color bar This measure excludes\n            the padding of both ends. That is, the color bar length\n            is this length minus the padding on both ends.\n        lenmode\n            Determines whether this color bar's length (i.e. the\n            measure in the color variation direction) is set in\n            units of plot \"fraction\" or in *pixels. Use `len` to\n            set the value.\n        minexponent\n            Hide SI prefix for 10^n if |n| is below this number.\n            This only has an effect when `tickformat` is \"SI\" or\n            \"B\".\n        nticks\n            Specifies the maximum number of ticks for the\n            particular axis. The actual number of ticks will be\n            chosen automatically to be less than or equal to\n            `nticks`. Has an effect only if `tickmode` is set to\n            \"auto\".\n        orientation\n            Sets the orientation of the colorbar.\n        outlinecolor\n            Sets the axis line color.\n        outlinewidth\n            Sets the width (in px) of the axis line.\n        separatethousands\n            If \"true\", even 4-digit integers are separated\n        showexponent\n            If \"all\", all exponents are shown besides their\n            significands. If \"first\", only the exponent of the\n            first tick is shown. If \"last\", only the exponent of\n            the last tick is shown. If \"none\", no exponents appear.\n        showticklabels\n            Determines whether or not the tick labels are drawn.\n        showtickprefix\n            If \"all\", all tick labels are displayed with a prefix.\n            If \"first\", only the first tick is displayed with a\n            prefix. If \"last\", only the last tick is displayed with\n            a suffix. If \"none\", tick prefixes are hidden.\n        showticksuffix\n            Same as `showtickprefix` but for tick suffixes.\n        thickness\n            Sets the thickness of the color bar This measure\n            excludes the size of the padding, ticks and labels.\n        thicknessmode\n            Determines whether this color bar's thickness (i.e. the\n            measure in the constant color direction) is set in\n            units of plot \"fraction\" or in \"pixels\". Use\n            `thickness` to set the value.\n        tick0\n            Sets the placement of the first tick on this axis. Use\n            with `dtick`. If the axis `type` is \"log\", then you\n            must take the log of your starting tick (e.g. to set\n            the starting tick to 100, set the `tick0` to 2) except\n            when `dtick`=*L<f>* (see `dtick` for more info). If the\n            axis `type` is \"date\", it should be a date string, like\n            date data. If the axis `type` is \"category\", it should\n            be a number, using the scale where each category is\n            assigned a serial number from zero in the order it\n            appears.\n        tickangle\n            Sets the angle of the tick labels with respect to the\n            horizontal. For example, a `tickangle` of -90 draws the\n            tick labels vertically.\n        tickcolor\n            Sets the tick color.\n        tickfont\n            Sets the color bar's tick label font\n        tickformat\n            Sets the tick label formatting rule using d3 formatting\n            mini-languages which are very similar to those in\n            Python. For numbers, see:\n            https://github.com/d3/d3-format/tree/v1.4.5#d3-format.\n            And for dates see: https://github.com/d3/d3-time-\n            format/tree/v2.2.3#locale_format. We add two items to\n            d3's date formatter: \"%h\" for half of the year as a\n            decimal number as well as \"%{n}f\" for fractional\n            seconds with n digits. For example, *2016-10-13\n            09:15:23.456* with tickformat \"%H~%M~%S.%2f\" would\n            display \"09~15~23.46\"\n        tickformatstops\n            A tuple of :class:`plotly.graph_objects.layout.coloraxi\n            s.colorbar.Tickformatstop` instances or dicts with\n            compatible properties\n        tickformatstopdefaults\n            When used in a template (as layout.template.layout.colo\n            raxis.colorbar.tickformatstopdefaults), sets the\n            default property values to use for elements of\n            layout.coloraxis.colorbar.tickformatstops\n        ticklabeloverflow\n            Determines how we handle tick labels that would\n            overflow either the graph div or the domain of the\n            axis. The default value for inside tick labels is *hide\n            past domain*. In other cases the default is *hide past\n            div*.\n        ticklabelposition\n            Determines where tick labels are drawn relative to the\n            ticks. Left and right options are used when\n            `orientation` is \"h\", top and bottom when `orientation`\n            is \"v\".\n        ticklabelstep\n            Sets the spacing between tick labels as compared to the\n            spacing between ticks. A value of 1 (default) means\n            each tick gets a label. A value of 2 means shows every\n            2nd label. A larger value n means only every nth tick\n            is labeled. `tick0` determines which labels are shown.\n            Not implemented for axes with `type` \"log\" or\n            \"multicategory\", or when `tickmode` is \"array\".\n        ticklen\n            Sets the tick length (in px).\n        tickmode\n            Sets the tick mode for this axis. If \"auto\", the number\n            of ticks is set via `nticks`. If \"linear\", the\n            placement of the ticks is determined by a starting\n            position `tick0` and a tick step `dtick` (\"linear\" is\n            the default value if `tick0` and `dtick` are provided).\n            If \"array\", the placement of the ticks is set via\n            `tickvals` and the tick text is `ticktext`. (\"array\" is\n            the default value if `tickvals` is provided).\n        tickprefix\n            Sets a tick label prefix.\n        ticks\n            Determines whether ticks are drawn or not. If \"\", this\n            axis' ticks are not drawn. If \"outside\" (\"inside\"),\n            this axis' are drawn outside (inside) the axis lines.\n        ticksuffix\n            Sets a tick label suffix.\n        ticktext\n            Sets the text displayed at the ticks position via\n            `tickvals`. Only has an effect if `tickmode` is set to\n            \"array\". Used with `tickvals`.\n        ticktextsrc\n            Sets the source reference on Chart Studio Cloud for\n            `ticktext`.\n        tickvals\n            Sets the values at which ticks on this axis appear.\n            Only has an effect if `tickmode` is set to \"array\".\n            Used with `ticktext`.\n        tickvalssrc\n            Sets the source reference on Chart Studio Cloud for\n            `tickvals`.\n        tickwidth\n            Sets the tick width (in px).\n        title\n            :class:`plotly.graph_objects.layout.coloraxis.colorbar.\n            Title` instance or dict with compatible properties\n        x\n            Sets the x position with respect to `xref` of the color\n            bar (in plot fraction). When `xref` is \"paper\",\n            defaults to 1.02 when `orientation` is \"v\" and 0.5 when\n            `orientation` is \"h\". When `xref` is \"container\",\n            defaults to 1 when `orientation` is \"v\" and 0.5 when\n            `orientation` is \"h\". Must be between 0 and 1 if `xref`\n            is \"container\" and between \"-2\" and 3 if `xref` is\n            \"paper\".\n        xanchor\n            Sets this color bar's horizontal position anchor. This\n            anchor binds the `x` position to the \"left\", \"center\"\n            or \"right\" of the color bar. Defaults to \"left\" when\n            `orientation` is \"v\" and \"center\" when `orientation` is\n            \"h\".\n        xpad\n            Sets the amount of padding (in px) along the x\n            direction.\n        xref\n            Sets the container `x` refers to. \"container\" spans the\n            entire `width` of the plot. \"paper\" refers to the width\n            of the plotting area only.\n        y\n            Sets the y position with respect to `yref` of the color\n            bar (in plot fraction). When `yref` is \"paper\",\n            defaults to 0.5 when `orientation` is \"v\" and 1.02 when\n            `orientation` is \"h\". When `yref` is \"container\",\n            defaults to 0.5 when `orientation` is \"v\" and 1 when\n            `orientation` is \"h\". Must be between 0 and 1 if `yref`\n            is \"container\" and between \"-2\" and 3 if `yref` is\n            \"paper\".\n        yanchor\n            Sets this color bar's vertical position anchor This\n            anchor binds the `y` position to the \"top\", \"middle\" or\n            \"bottom\" of the color bar. Defaults to \"middle\" when\n            `orientation` is \"v\" and \"bottom\" when `orientation` is\n            \"h\".\n        ypad\n            Sets the amount of padding (in px) along the y\n            direction.\n        yref\n            Sets the container `y` refers to. \"container\" spans the\n            entire `height` of the plot. \"paper\" refers to the\n            height of the plotting area only.\n        \nDid you mean \"title\"?\n\nBad property path:\ntitleside\n^^^^^^^^^",
          "output_type": "error",
          "traceback": [
            "\u001b[1;31m---------------------------------------------------------------------------\u001b[0m",
            "\u001b[1;31mValueError\u001b[0m                                Traceback (most recent call last)",
            "Cell \u001b[1;32mIn[29], line 24\u001b[0m\n\u001b[0;32m     13\u001b[0m         annotations\u001b[38;5;241m.\u001b[39mappend(\n\u001b[0;32m     14\u001b[0m             go\u001b[38;5;241m.\u001b[39mlayout\u001b[38;5;241m.\u001b[39mAnnotation(\n\u001b[0;32m     15\u001b[0m                 text\u001b[38;5;241m=\u001b[39m\u001b[38;5;28mstr\u001b[39m(\u001b[38;5;28mround\u001b[39m(df_corr\u001b[38;5;241m.\u001b[39miloc[i, j], \u001b[38;5;241m2\u001b[39m)),\n\u001b[1;32m   (...)\u001b[0m\n\u001b[0;32m     20\u001b[0m             )\n\u001b[0;32m     21\u001b[0m         )\n\u001b[0;32m     23\u001b[0m \u001b[38;5;66;03m# Customizing the layout\u001b[39;00m\n\u001b[1;32m---> 24\u001b[0m \u001b[43mfig\u001b[49m\u001b[38;5;241;43m.\u001b[39;49m\u001b[43mupdate_layout\u001b[49m\u001b[43m(\u001b[49m\n\u001b[0;32m     25\u001b[0m \u001b[43m    \u001b[49m\u001b[43mtitle_font_size\u001b[49m\u001b[38;5;241;43m=\u001b[39;49m\u001b[38;5;241;43m20\u001b[39;49m\u001b[43m,\u001b[49m\n\u001b[0;32m     26\u001b[0m \u001b[43m    \u001b[49m\u001b[43mtitle_x\u001b[49m\u001b[38;5;241;43m=\u001b[39;49m\u001b[38;5;241;43m0.5\u001b[39;49m\u001b[43m,\u001b[49m\n\u001b[0;32m     27\u001b[0m \u001b[43m    \u001b[49m\u001b[43mwidth\u001b[49m\u001b[38;5;241;43m=\u001b[39;49m\u001b[38;5;241;43m800\u001b[39;49m\u001b[43m,\u001b[49m\n\u001b[0;32m     28\u001b[0m \u001b[43m    \u001b[49m\u001b[43mheight\u001b[49m\u001b[38;5;241;43m=\u001b[39;49m\u001b[38;5;241;43m600\u001b[39;49m\u001b[43m,\u001b[49m\n\u001b[0;32m     29\u001b[0m \u001b[43m    \u001b[49m\u001b[43mmargin\u001b[49m\u001b[38;5;241;43m=\u001b[39;49m\u001b[38;5;28;43mdict\u001b[39;49m\u001b[43m(\u001b[49m\u001b[43ml\u001b[49m\u001b[38;5;241;43m=\u001b[39;49m\u001b[38;5;241;43m40\u001b[39;49m\u001b[43m,\u001b[49m\u001b[43m \u001b[49m\u001b[43mr\u001b[49m\u001b[38;5;241;43m=\u001b[39;49m\u001b[38;5;241;43m40\u001b[39;49m\u001b[43m,\u001b[49m\u001b[43m \u001b[49m\u001b[43mt\u001b[49m\u001b[38;5;241;43m=\u001b[39;49m\u001b[38;5;241;43m40\u001b[39;49m\u001b[43m,\u001b[49m\u001b[43m \u001b[49m\u001b[43mb\u001b[49m\u001b[38;5;241;43m=\u001b[39;49m\u001b[38;5;241;43m40\u001b[39;49m\u001b[43m)\u001b[49m\u001b[43m,\u001b[49m\n\u001b[0;32m     30\u001b[0m \u001b[43m    \u001b[49m\u001b[43mcoloraxis_colorbar\u001b[49m\u001b[38;5;241;43m=\u001b[39;49m\u001b[38;5;28;43mdict\u001b[39;49m\u001b[43m(\u001b[49m\n\u001b[0;32m     31\u001b[0m \u001b[43m        \u001b[49m\u001b[43mtitle\u001b[49m\u001b[38;5;241;43m=\u001b[39;49m\u001b[38;5;124;43m'\u001b[39;49m\u001b[38;5;124;43mCorrelation\u001b[39;49m\u001b[38;5;124;43m'\u001b[39;49m\u001b[43m,\u001b[49m\n\u001b[0;32m     32\u001b[0m \u001b[43m        \u001b[49m\u001b[43mtitleside\u001b[49m\u001b[38;5;241;43m=\u001b[39;49m\u001b[38;5;124;43m'\u001b[39;49m\u001b[38;5;124;43mright\u001b[39;49m\u001b[38;5;124;43m'\u001b[39;49m\u001b[43m,\u001b[49m\n\u001b[0;32m     33\u001b[0m \u001b[43m        \u001b[49m\u001b[43mticks\u001b[49m\u001b[38;5;241;43m=\u001b[39;49m\u001b[38;5;124;43m'\u001b[39;49m\u001b[38;5;124;43moutside\u001b[39;49m\u001b[38;5;124;43m'\u001b[39;49m\n\u001b[0;32m     34\u001b[0m \u001b[43m    \u001b[49m\u001b[43m)\u001b[49m\u001b[43m,\u001b[49m\n\u001b[0;32m     35\u001b[0m \u001b[43m    \u001b[49m\u001b[43mannotations\u001b[49m\u001b[38;5;241;43m=\u001b[39;49m\u001b[43mannotations\u001b[49m\n\u001b[0;32m     36\u001b[0m \u001b[43m)\u001b[49m\n\u001b[0;32m     38\u001b[0m \u001b[38;5;66;03m# Displaying the heatmap\u001b[39;00m\n\u001b[0;32m     39\u001b[0m fig\u001b[38;5;241m.\u001b[39mshow()\n",
            "File \u001b[1;32mc:\\Users\\Shekhar mishra\\AppData\\Local\\Programs\\Python\\Python311\\Lib\\site-packages\\plotly\\graph_objs\\_figure.py:787\u001b[0m, in \u001b[0;36mFigure.update_layout\u001b[1;34m(self, dict1, overwrite, **kwargs)\u001b[0m\n\u001b[0;32m    761\u001b[0m \u001b[38;5;28;01mdef\u001b[39;00m \u001b[38;5;21mupdate_layout\u001b[39m(\u001b[38;5;28mself\u001b[39m, dict1\u001b[38;5;241m=\u001b[39m\u001b[38;5;28;01mNone\u001b[39;00m, overwrite\u001b[38;5;241m=\u001b[39m\u001b[38;5;28;01mFalse\u001b[39;00m, \u001b[38;5;241m*\u001b[39m\u001b[38;5;241m*\u001b[39mkwargs) \u001b[38;5;241m-\u001b[39m\u001b[38;5;241m>\u001b[39m \u001b[38;5;124m\"\u001b[39m\u001b[38;5;124mFigure\u001b[39m\u001b[38;5;124m\"\u001b[39m:\n\u001b[0;32m    762\u001b[0m \u001b[38;5;250m    \u001b[39m\u001b[38;5;124;03m\"\"\"\u001b[39;00m\n\u001b[0;32m    763\u001b[0m \n\u001b[0;32m    764\u001b[0m \u001b[38;5;124;03m    Update the properties of the figure's layout with a dict and/or with\u001b[39;00m\n\u001b[1;32m   (...)\u001b[0m\n\u001b[0;32m    785\u001b[0m \n\u001b[0;32m    786\u001b[0m \u001b[38;5;124;03m    \"\"\"\u001b[39;00m\n\u001b[1;32m--> 787\u001b[0m     \u001b[38;5;28;01mreturn\u001b[39;00m \u001b[38;5;28;43msuper\u001b[39;49m\u001b[43m(\u001b[49m\u001b[43mFigure\u001b[49m\u001b[43m,\u001b[49m\u001b[43m \u001b[49m\u001b[38;5;28;43mself\u001b[39;49m\u001b[43m)\u001b[49m\u001b[38;5;241;43m.\u001b[39;49m\u001b[43mupdate_layout\u001b[49m\u001b[43m(\u001b[49m\u001b[43mdict1\u001b[49m\u001b[43m,\u001b[49m\u001b[43m \u001b[49m\u001b[43moverwrite\u001b[49m\u001b[43m,\u001b[49m\u001b[43m \u001b[49m\u001b[38;5;241;43m*\u001b[39;49m\u001b[38;5;241;43m*\u001b[39;49m\u001b[43mkwargs\u001b[49m\u001b[43m)\u001b[49m\n",
            "File \u001b[1;32mc:\\Users\\Shekhar mishra\\AppData\\Local\\Programs\\Python\\Python311\\Lib\\site-packages\\plotly\\basedatatypes.py:1392\u001b[0m, in \u001b[0;36mBaseFigure.update_layout\u001b[1;34m(self, dict1, overwrite, **kwargs)\u001b[0m\n\u001b[0;32m   1368\u001b[0m \u001b[38;5;28;01mdef\u001b[39;00m \u001b[38;5;21mupdate_layout\u001b[39m(\u001b[38;5;28mself\u001b[39m, dict1\u001b[38;5;241m=\u001b[39m\u001b[38;5;28;01mNone\u001b[39;00m, overwrite\u001b[38;5;241m=\u001b[39m\u001b[38;5;28;01mFalse\u001b[39;00m, \u001b[38;5;241m*\u001b[39m\u001b[38;5;241m*\u001b[39mkwargs):\n\u001b[0;32m   1369\u001b[0m \u001b[38;5;250m    \u001b[39m\u001b[38;5;124;03m\"\"\"\u001b[39;00m\n\u001b[0;32m   1370\u001b[0m \u001b[38;5;124;03m    Update the properties of the figure's layout with a dict and/or with\u001b[39;00m\n\u001b[0;32m   1371\u001b[0m \u001b[38;5;124;03m    keyword arguments.\u001b[39;00m\n\u001b[1;32m   (...)\u001b[0m\n\u001b[0;32m   1390\u001b[0m \u001b[38;5;124;03m        The Figure object that the update_layout method was called on\u001b[39;00m\n\u001b[0;32m   1391\u001b[0m \u001b[38;5;124;03m    \"\"\"\u001b[39;00m\n\u001b[1;32m-> 1392\u001b[0m     \u001b[38;5;28;43mself\u001b[39;49m\u001b[38;5;241;43m.\u001b[39;49m\u001b[43mlayout\u001b[49m\u001b[38;5;241;43m.\u001b[39;49m\u001b[43mupdate\u001b[49m\u001b[43m(\u001b[49m\u001b[43mdict1\u001b[49m\u001b[43m,\u001b[49m\u001b[43m \u001b[49m\u001b[43moverwrite\u001b[49m\u001b[38;5;241;43m=\u001b[39;49m\u001b[43moverwrite\u001b[49m\u001b[43m,\u001b[49m\u001b[43m \u001b[49m\u001b[38;5;241;43m*\u001b[39;49m\u001b[38;5;241;43m*\u001b[39;49m\u001b[43mkwargs\u001b[49m\u001b[43m)\u001b[49m\n\u001b[0;32m   1393\u001b[0m     \u001b[38;5;28;01mreturn\u001b[39;00m \u001b[38;5;28mself\u001b[39m\n",
            "File \u001b[1;32mc:\\Users\\Shekhar mishra\\AppData\\Local\\Programs\\Python\\Python311\\Lib\\site-packages\\plotly\\basedatatypes.py:5123\u001b[0m, in \u001b[0;36mBasePlotlyType.update\u001b[1;34m(self, dict1, overwrite, **kwargs)\u001b[0m\n\u001b[0;32m   5121\u001b[0m     \u001b[38;5;28;01mwith\u001b[39;00m \u001b[38;5;28mself\u001b[39m\u001b[38;5;241m.\u001b[39mfigure\u001b[38;5;241m.\u001b[39mbatch_update():\n\u001b[0;32m   5122\u001b[0m         BaseFigure\u001b[38;5;241m.\u001b[39m_perform_update(\u001b[38;5;28mself\u001b[39m, dict1, overwrite\u001b[38;5;241m=\u001b[39moverwrite)\n\u001b[1;32m-> 5123\u001b[0m         \u001b[43mBaseFigure\u001b[49m\u001b[38;5;241;43m.\u001b[39;49m\u001b[43m_perform_update\u001b[49m\u001b[43m(\u001b[49m\u001b[38;5;28;43mself\u001b[39;49m\u001b[43m,\u001b[49m\u001b[43m \u001b[49m\u001b[43mkwargs\u001b[49m\u001b[43m,\u001b[49m\u001b[43m \u001b[49m\u001b[43moverwrite\u001b[49m\u001b[38;5;241;43m=\u001b[39;49m\u001b[43moverwrite\u001b[49m\u001b[43m)\u001b[49m\n\u001b[0;32m   5124\u001b[0m \u001b[38;5;28;01melse\u001b[39;00m:\n\u001b[0;32m   5125\u001b[0m     BaseFigure\u001b[38;5;241m.\u001b[39m_perform_update(\u001b[38;5;28mself\u001b[39m, dict1, overwrite\u001b[38;5;241m=\u001b[39moverwrite)\n",
            "File \u001b[1;32mc:\\Users\\Shekhar mishra\\AppData\\Local\\Programs\\Python\\Python311\\Lib\\site-packages\\plotly\\basedatatypes.py:3905\u001b[0m, in \u001b[0;36mBaseFigure._perform_update\u001b[1;34m(plotly_obj, update_obj, overwrite)\u001b[0m\n\u001b[0;32m   3899\u001b[0m validator \u001b[38;5;241m=\u001b[39m plotly_obj\u001b[38;5;241m.\u001b[39m_get_prop_validator(key)\n\u001b[0;32m   3901\u001b[0m \u001b[38;5;28;01mif\u001b[39;00m \u001b[38;5;28misinstance\u001b[39m(validator, CompoundValidator) \u001b[38;5;129;01mand\u001b[39;00m \u001b[38;5;28misinstance\u001b[39m(val, \u001b[38;5;28mdict\u001b[39m):\n\u001b[0;32m   3902\u001b[0m \n\u001b[0;32m   3903\u001b[0m     \u001b[38;5;66;03m# Update compound objects recursively\u001b[39;00m\n\u001b[0;32m   3904\u001b[0m     \u001b[38;5;66;03m# plotly_obj[key].update(val)\u001b[39;00m\n\u001b[1;32m-> 3905\u001b[0m     \u001b[43mBaseFigure\u001b[49m\u001b[38;5;241;43m.\u001b[39;49m\u001b[43m_perform_update\u001b[49m\u001b[43m(\u001b[49m\u001b[43mplotly_obj\u001b[49m\u001b[43m[\u001b[49m\u001b[43mkey\u001b[49m\u001b[43m]\u001b[49m\u001b[43m,\u001b[49m\u001b[43m \u001b[49m\u001b[43mval\u001b[49m\u001b[43m)\u001b[49m\n\u001b[0;32m   3906\u001b[0m \u001b[38;5;28;01melif\u001b[39;00m \u001b[38;5;28misinstance\u001b[39m(validator, CompoundArrayValidator):\n\u001b[0;32m   3907\u001b[0m     \u001b[38;5;28;01mif\u001b[39;00m plotly_obj[key]:\n\u001b[0;32m   3908\u001b[0m         \u001b[38;5;66;03m# plotly_obj has an existing non-empty array for key\u001b[39;00m\n\u001b[0;32m   3909\u001b[0m         \u001b[38;5;66;03m# In this case we merge val into the existing elements\u001b[39;00m\n",
            "File \u001b[1;32mc:\\Users\\Shekhar mishra\\AppData\\Local\\Programs\\Python\\Python311\\Lib\\site-packages\\plotly\\basedatatypes.py:3882\u001b[0m, in \u001b[0;36mBaseFigure._perform_update\u001b[1;34m(plotly_obj, update_obj, overwrite)\u001b[0m\n\u001b[0;32m   3880\u001b[0m     err \u001b[38;5;241m=\u001b[39m _check_path_in_prop_tree(plotly_obj, key, error_cast\u001b[38;5;241m=\u001b[39m\u001b[38;5;167;01mValueError\u001b[39;00m)\n\u001b[0;32m   3881\u001b[0m     \u001b[38;5;28;01mif\u001b[39;00m err \u001b[38;5;129;01mis\u001b[39;00m \u001b[38;5;129;01mnot\u001b[39;00m \u001b[38;5;28;01mNone\u001b[39;00m:\n\u001b[1;32m-> 3882\u001b[0m         \u001b[38;5;28;01mraise\u001b[39;00m err\n\u001b[0;32m   3884\u001b[0m \u001b[38;5;66;03m# Convert update_obj to dict\u001b[39;00m\n\u001b[0;32m   3885\u001b[0m \u001b[38;5;66;03m# --------------------------\u001b[39;00m\n\u001b[0;32m   3886\u001b[0m \u001b[38;5;28;01mif\u001b[39;00m \u001b[38;5;28misinstance\u001b[39m(update_obj, BasePlotlyType):\n",
            "\u001b[1;31mValueError\u001b[0m: Invalid property specified for object of type plotly.graph_objs.layout.coloraxis.ColorBar: 'titleside'\n\nDid you mean \"title\"?\n\n    Valid properties:\n        bgcolor\n            Sets the color of padded area.\n        bordercolor\n            Sets the axis line color.\n        borderwidth\n            Sets the width (in px) or the border enclosing this\n            color bar.\n        dtick\n            Sets the step in-between ticks on this axis. Use with\n            `tick0`. Must be a positive number, or special strings\n            available to \"log\" and \"date\" axes. If the axis `type`\n            is \"log\", then ticks are set every 10^(n*dtick) where n\n            is the tick number. For example, to set a tick mark at\n            1, 10, 100, 1000, ... set dtick to 1. To set tick marks\n            at 1, 100, 10000, ... set dtick to 2. To set tick marks\n            at 1, 5, 25, 125, 625, 3125, ... set dtick to\n            log_10(5), or 0.69897000433. \"log\" has several special\n            values; \"L<f>\", where `f` is a positive number, gives\n            ticks linearly spaced in value (but not position). For\n            example `tick0` = 0.1, `dtick` = \"L0.5\" will put ticks\n            at 0.1, 0.6, 1.1, 1.6 etc. To show powers of 10 plus\n            small digits between, use \"D1\" (all digits) or \"D2\"\n            (only 2 and 5). `tick0` is ignored for \"D1\" and \"D2\".\n            If the axis `type` is \"date\", then you must convert the\n            time to milliseconds. For example, to set the interval\n            between ticks to one day, set `dtick` to 86400000.0.\n            \"date\" also has special values \"M<n>\" gives ticks\n            spaced by a number of months. `n` must be a positive\n            integer. To set ticks on the 15th of every third month,\n            set `tick0` to \"2000-01-15\" and `dtick` to \"M3\". To set\n            ticks every 4 years, set `dtick` to \"M48\"\n        exponentformat\n            Determines a formatting rule for the tick exponents.\n            For example, consider the number 1,000,000,000. If\n            \"none\", it appears as 1,000,000,000. If \"e\", 1e+9. If\n            \"E\", 1E+9. If \"power\", 1x10^9 (with 9 in a super\n            script). If \"SI\", 1G. If \"B\", 1B.\n        labelalias\n            Replacement text for specific tick or hover labels. For\n            example using {US: 'USA', CA: 'Canada'} changes US to\n            USA and CA to Canada. The labels we would have shown\n            must match the keys exactly, after adding any\n            tickprefix or ticksuffix. For negative numbers the\n            minus sign symbol used (U+2212) is wider than the\n            regular ascii dash. That means you need to use −1\n            instead of -1. labelalias can be used with any axis\n            type, and both keys (if needed) and values (if desired)\n            can include html-like tags or MathJax.\n        len\n            Sets the length of the color bar This measure excludes\n            the padding of both ends. That is, the color bar length\n            is this length minus the padding on both ends.\n        lenmode\n            Determines whether this color bar's length (i.e. the\n            measure in the color variation direction) is set in\n            units of plot \"fraction\" or in *pixels. Use `len` to\n            set the value.\n        minexponent\n            Hide SI prefix for 10^n if |n| is below this number.\n            This only has an effect when `tickformat` is \"SI\" or\n            \"B\".\n        nticks\n            Specifies the maximum number of ticks for the\n            particular axis. The actual number of ticks will be\n            chosen automatically to be less than or equal to\n            `nticks`. Has an effect only if `tickmode` is set to\n            \"auto\".\n        orientation\n            Sets the orientation of the colorbar.\n        outlinecolor\n            Sets the axis line color.\n        outlinewidth\n            Sets the width (in px) of the axis line.\n        separatethousands\n            If \"true\", even 4-digit integers are separated\n        showexponent\n            If \"all\", all exponents are shown besides their\n            significands. If \"first\", only the exponent of the\n            first tick is shown. If \"last\", only the exponent of\n            the last tick is shown. If \"none\", no exponents appear.\n        showticklabels\n            Determines whether or not the tick labels are drawn.\n        showtickprefix\n            If \"all\", all tick labels are displayed with a prefix.\n            If \"first\", only the first tick is displayed with a\n            prefix. If \"last\", only the last tick is displayed with\n            a suffix. If \"none\", tick prefixes are hidden.\n        showticksuffix\n            Same as `showtickprefix` but for tick suffixes.\n        thickness\n            Sets the thickness of the color bar This measure\n            excludes the size of the padding, ticks and labels.\n        thicknessmode\n            Determines whether this color bar's thickness (i.e. the\n            measure in the constant color direction) is set in\n            units of plot \"fraction\" or in \"pixels\". Use\n            `thickness` to set the value.\n        tick0\n            Sets the placement of the first tick on this axis. Use\n            with `dtick`. If the axis `type` is \"log\", then you\n            must take the log of your starting tick (e.g. to set\n            the starting tick to 100, set the `tick0` to 2) except\n            when `dtick`=*L<f>* (see `dtick` for more info). If the\n            axis `type` is \"date\", it should be a date string, like\n            date data. If the axis `type` is \"category\", it should\n            be a number, using the scale where each category is\n            assigned a serial number from zero in the order it\n            appears.\n        tickangle\n            Sets the angle of the tick labels with respect to the\n            horizontal. For example, a `tickangle` of -90 draws the\n            tick labels vertically.\n        tickcolor\n            Sets the tick color.\n        tickfont\n            Sets the color bar's tick label font\n        tickformat\n            Sets the tick label formatting rule using d3 formatting\n            mini-languages which are very similar to those in\n            Python. For numbers, see:\n            https://github.com/d3/d3-format/tree/v1.4.5#d3-format.\n            And for dates see: https://github.com/d3/d3-time-\n            format/tree/v2.2.3#locale_format. We add two items to\n            d3's date formatter: \"%h\" for half of the year as a\n            decimal number as well as \"%{n}f\" for fractional\n            seconds with n digits. For example, *2016-10-13\n            09:15:23.456* with tickformat \"%H~%M~%S.%2f\" would\n            display \"09~15~23.46\"\n        tickformatstops\n            A tuple of :class:`plotly.graph_objects.layout.coloraxi\n            s.colorbar.Tickformatstop` instances or dicts with\n            compatible properties\n        tickformatstopdefaults\n            When used in a template (as layout.template.layout.colo\n            raxis.colorbar.tickformatstopdefaults), sets the\n            default property values to use for elements of\n            layout.coloraxis.colorbar.tickformatstops\n        ticklabeloverflow\n            Determines how we handle tick labels that would\n            overflow either the graph div or the domain of the\n            axis. The default value for inside tick labels is *hide\n            past domain*. In other cases the default is *hide past\n            div*.\n        ticklabelposition\n            Determines where tick labels are drawn relative to the\n            ticks. Left and right options are used when\n            `orientation` is \"h\", top and bottom when `orientation`\n            is \"v\".\n        ticklabelstep\n            Sets the spacing between tick labels as compared to the\n            spacing between ticks. A value of 1 (default) means\n            each tick gets a label. A value of 2 means shows every\n            2nd label. A larger value n means only every nth tick\n            is labeled. `tick0` determines which labels are shown.\n            Not implemented for axes with `type` \"log\" or\n            \"multicategory\", or when `tickmode` is \"array\".\n        ticklen\n            Sets the tick length (in px).\n        tickmode\n            Sets the tick mode for this axis. If \"auto\", the number\n            of ticks is set via `nticks`. If \"linear\", the\n            placement of the ticks is determined by a starting\n            position `tick0` and a tick step `dtick` (\"linear\" is\n            the default value if `tick0` and `dtick` are provided).\n            If \"array\", the placement of the ticks is set via\n            `tickvals` and the tick text is `ticktext`. (\"array\" is\n            the default value if `tickvals` is provided).\n        tickprefix\n            Sets a tick label prefix.\n        ticks\n            Determines whether ticks are drawn or not. If \"\", this\n            axis' ticks are not drawn. If \"outside\" (\"inside\"),\n            this axis' are drawn outside (inside) the axis lines.\n        ticksuffix\n            Sets a tick label suffix.\n        ticktext\n            Sets the text displayed at the ticks position via\n            `tickvals`. Only has an effect if `tickmode` is set to\n            \"array\". Used with `tickvals`.\n        ticktextsrc\n            Sets the source reference on Chart Studio Cloud for\n            `ticktext`.\n        tickvals\n            Sets the values at which ticks on this axis appear.\n            Only has an effect if `tickmode` is set to \"array\".\n            Used with `ticktext`.\n        tickvalssrc\n            Sets the source reference on Chart Studio Cloud for\n            `tickvals`.\n        tickwidth\n            Sets the tick width (in px).\n        title\n            :class:`plotly.graph_objects.layout.coloraxis.colorbar.\n            Title` instance or dict with compatible properties\n        x\n            Sets the x position with respect to `xref` of the color\n            bar (in plot fraction). When `xref` is \"paper\",\n            defaults to 1.02 when `orientation` is \"v\" and 0.5 when\n            `orientation` is \"h\". When `xref` is \"container\",\n            defaults to 1 when `orientation` is \"v\" and 0.5 when\n            `orientation` is \"h\". Must be between 0 and 1 if `xref`\n            is \"container\" and between \"-2\" and 3 if `xref` is\n            \"paper\".\n        xanchor\n            Sets this color bar's horizontal position anchor. This\n            anchor binds the `x` position to the \"left\", \"center\"\n            or \"right\" of the color bar. Defaults to \"left\" when\n            `orientation` is \"v\" and \"center\" when `orientation` is\n            \"h\".\n        xpad\n            Sets the amount of padding (in px) along the x\n            direction.\n        xref\n            Sets the container `x` refers to. \"container\" spans the\n            entire `width` of the plot. \"paper\" refers to the width\n            of the plotting area only.\n        y\n            Sets the y position with respect to `yref` of the color\n            bar (in plot fraction). When `yref` is \"paper\",\n            defaults to 0.5 when `orientation` is \"v\" and 1.02 when\n            `orientation` is \"h\". When `yref` is \"container\",\n            defaults to 0.5 when `orientation` is \"v\" and 1 when\n            `orientation` is \"h\". Must be between 0 and 1 if `yref`\n            is \"container\" and between \"-2\" and 3 if `yref` is\n            \"paper\".\n        yanchor\n            Sets this color bar's vertical position anchor This\n            anchor binds the `y` position to the \"top\", \"middle\" or\n            \"bottom\" of the color bar. Defaults to \"middle\" when\n            `orientation` is \"v\" and \"bottom\" when `orientation` is\n            \"h\".\n        ypad\n            Sets the amount of padding (in px) along the y\n            direction.\n        yref\n            Sets the container `y` refers to. \"container\" spans the\n            entire `height` of the plot. \"paper\" refers to the\n            height of the plotting area only.\n        \nDid you mean \"title\"?\n\nBad property path:\ntitleside\n^^^^^^^^^"
          ]
        }
      ],
      "source": [
        "\n",
        "# Creating a heatmap using the correlation matrix\n",
        "fig = px.imshow(\n",
        "    df_corr,\n",
        "    title='Correlation Heatmap',\n",
        "    labels={'color': 'Correlation'},\n",
        "    color_continuous_scale='RdBu'\n",
        ")\n",
        "\n",
        "# Adding annotations  \n",
        "annotations = []\n",
        "for i in range(len(df_corr)):\n",
        "    for j in range(len(df_corr.columns)):\n",
        "        annotations.append(\n",
        "            go.layout.Annotation(\n",
        "                text=str(round(df_corr.iloc[i, j], 2)),\n",
        "                x=j,\n",
        "                y=i,\n",
        "                showarrow=False,\n",
        "                font=dict(color='black')\n",
        "            )\n",
        "        )\n",
        "\n",
        "# Customizing the layout\n",
        "fig.update_layout(\n",
        "    title_font_size=20,\n",
        "    title_x=0.5,\n",
        "    width=800,\n",
        "    height=600,\n",
        "    margin=dict(l=40, r=40, t=40, b=40),\n",
        "    coloraxis_colorbar=dict(\n",
        "        title='Correlation',\n",
        "        titleside='right',\n",
        "        ticks='outside'\n",
        "    ),\n",
        "    annotations=annotations\n",
        ")\n",
        "\n",
        "# Displaying the heatmap\n",
        "fig.show()\n"
      ]
    },
    {
      "cell_type": "markdown",
      "metadata": {
        "id": "bqN-h_ODZWc4"
      },
      "source": [
        "Data cleaning, EDA and Feature Engineering"
      ]
    },
    {
      "cell_type": "code",
      "execution_count": 13,
      "metadata": {
        "colab": {
          "base_uri": "https://localhost:8080/",
          "height": 206
        },
        "id": "Na6NZRBTCjXr",
        "outputId": "fee00f54-0f56-4a81-912a-f19e9457e8d0"
      },
      "outputs": [
        {
          "data": {
            "text/html": [
              "<div>\n",
              "<style scoped>\n",
              "    .dataframe tbody tr th:only-of-type {\n",
              "        vertical-align: middle;\n",
              "    }\n",
              "\n",
              "    .dataframe tbody tr th {\n",
              "        vertical-align: top;\n",
              "    }\n",
              "\n",
              "    .dataframe thead th {\n",
              "        text-align: right;\n",
              "    }\n",
              "</style>\n",
              "<table border=\"1\" class=\"dataframe\">\n",
              "  <thead>\n",
              "    <tr style=\"text-align: right;\">\n",
              "      <th></th>\n",
              "      <th>Province/State</th>\n",
              "      <th>Country/Region</th>\n",
              "      <th>Lat</th>\n",
              "      <th>Long</th>\n",
              "      <th>Date</th>\n",
              "      <th>Confirmed</th>\n",
              "      <th>Deaths</th>\n",
              "      <th>Recovered</th>\n",
              "      <th>Active</th>\n",
              "      <th>WHO Region</th>\n",
              "    </tr>\n",
              "  </thead>\n",
              "  <tbody>\n",
              "    <tr>\n",
              "      <th>0</th>\n",
              "      <td>NaN</td>\n",
              "      <td>Afghanistan</td>\n",
              "      <td>33.93911</td>\n",
              "      <td>67.709953</td>\n",
              "      <td>2020-01-22</td>\n",
              "      <td>0</td>\n",
              "      <td>0</td>\n",
              "      <td>0</td>\n",
              "      <td>0</td>\n",
              "      <td>Eastern Mediterranean</td>\n",
              "    </tr>\n",
              "    <tr>\n",
              "      <th>1</th>\n",
              "      <td>NaN</td>\n",
              "      <td>Albania</td>\n",
              "      <td>41.15330</td>\n",
              "      <td>20.168300</td>\n",
              "      <td>2020-01-22</td>\n",
              "      <td>0</td>\n",
              "      <td>0</td>\n",
              "      <td>0</td>\n",
              "      <td>0</td>\n",
              "      <td>Europe</td>\n",
              "    </tr>\n",
              "    <tr>\n",
              "      <th>2</th>\n",
              "      <td>NaN</td>\n",
              "      <td>Algeria</td>\n",
              "      <td>28.03390</td>\n",
              "      <td>1.659600</td>\n",
              "      <td>2020-01-22</td>\n",
              "      <td>0</td>\n",
              "      <td>0</td>\n",
              "      <td>0</td>\n",
              "      <td>0</td>\n",
              "      <td>Africa</td>\n",
              "    </tr>\n",
              "    <tr>\n",
              "      <th>3</th>\n",
              "      <td>NaN</td>\n",
              "      <td>Andorra</td>\n",
              "      <td>42.50630</td>\n",
              "      <td>1.521800</td>\n",
              "      <td>2020-01-22</td>\n",
              "      <td>0</td>\n",
              "      <td>0</td>\n",
              "      <td>0</td>\n",
              "      <td>0</td>\n",
              "      <td>Europe</td>\n",
              "    </tr>\n",
              "    <tr>\n",
              "      <th>4</th>\n",
              "      <td>NaN</td>\n",
              "      <td>Angola</td>\n",
              "      <td>-11.20270</td>\n",
              "      <td>17.873900</td>\n",
              "      <td>2020-01-22</td>\n",
              "      <td>0</td>\n",
              "      <td>0</td>\n",
              "      <td>0</td>\n",
              "      <td>0</td>\n",
              "      <td>Africa</td>\n",
              "    </tr>\n",
              "  </tbody>\n",
              "</table>\n",
              "</div>"
            ],
            "text/plain": [
              "  Province/State Country/Region       Lat       Long        Date  Confirmed  \\\n",
              "0            NaN    Afghanistan  33.93911  67.709953  2020-01-22          0   \n",
              "1            NaN        Albania  41.15330  20.168300  2020-01-22          0   \n",
              "2            NaN        Algeria  28.03390   1.659600  2020-01-22          0   \n",
              "3            NaN        Andorra  42.50630   1.521800  2020-01-22          0   \n",
              "4            NaN         Angola -11.20270  17.873900  2020-01-22          0   \n",
              "\n",
              "   Deaths  Recovered  Active             WHO Region  \n",
              "0       0          0       0  Eastern Mediterranean  \n",
              "1       0          0       0                 Europe  \n",
              "2       0          0       0                 Africa  \n",
              "3       0          0       0                 Europe  \n",
              "4       0          0       0                 Africa  "
            ]
          },
          "execution_count": 13,
          "metadata": {},
          "output_type": "execute_result"
        }
      ],
      "source": [
        "df.head()"
      ]
    },
    {
      "cell_type": "markdown",
      "metadata": {
        "id": "YWk08Jl5LKVU"
      },
      "source": [
        "Data cleaning and Preprocessing"
      ]
    },
    {
      "cell_type": "code",
      "execution_count": 14,
      "metadata": {
        "id": "MCSCixz6It4m"
      },
      "outputs": [],
      "source": [
        "df.rename(columns={'Country/Region': 'country', 'Province/State': 'state', 'WHO Region': 'region'}, inplace=True)\n"
      ]
    },
    {
      "cell_type": "code",
      "execution_count": 15,
      "metadata": {
        "colab": {
          "base_uri": "https://localhost:8080/"
        },
        "id": "vJOMHROPCjbm",
        "outputId": "b203a4d7-f56e-4a7d-93f6-12b98997315c"
      },
      "outputs": [
        {
          "data": {
            "text/plain": [
              "dtype('O')"
            ]
          },
          "execution_count": 15,
          "metadata": {},
          "output_type": "execute_result"
        }
      ],
      "source": [
        "df['Date'].dtypes"
      ]
    },
    {
      "cell_type": "code",
      "execution_count": 17,
      "metadata": {
        "colab": {
          "base_uri": "https://localhost:8080/"
        },
        "id": "V3jDuX9ICjfO",
        "outputId": "7b5f2826-5dd9-40f0-9e08-3b27816a024f"
      },
      "outputs": [
        {
          "name": "stdout",
          "output_type": "stream",
          "text": [
            "<class 'pandas.core.frame.DataFrame'>\n",
            "RangeIndex: 49068 entries, 0 to 49067\n",
            "Data columns (total 10 columns):\n",
            " #   Column     Non-Null Count  Dtype  \n",
            "---  ------     --------------  -----  \n",
            " 0   state      14664 non-null  object \n",
            " 1   country    49068 non-null  object \n",
            " 2   Lat        49068 non-null  float64\n",
            " 3   Long       49068 non-null  float64\n",
            " 4   Date       49068 non-null  object \n",
            " 5   Confirmed  49068 non-null  int64  \n",
            " 6   Deaths     49068 non-null  int64  \n",
            " 7   Recovered  49068 non-null  int64  \n",
            " 8   Active     49068 non-null  int64  \n",
            " 9   region     49068 non-null  object \n",
            "dtypes: float64(2), int64(4), object(4)\n",
            "memory usage: 3.7+ MB\n"
          ]
        }
      ],
      "source": [
        "df.info()"
      ]
    },
    {
      "cell_type": "code",
      "execution_count": 18,
      "metadata": {
        "id": "ChePDG0RCji9"
      },
      "outputs": [],
      "source": [
        "df['Date'] = pd.to_datetime(df['Date'])"
      ]
    },
    {
      "cell_type": "code",
      "execution_count": 19,
      "metadata": {
        "colab": {
          "base_uri": "https://localhost:8080/"
        },
        "id": "-Ubwo2tsCjml",
        "outputId": "bbf1e530-a6c5-4c02-f48a-09c66f7adbbf"
      },
      "outputs": [
        {
          "data": {
            "text/plain": [
              "dtype('<M8[ns]')"
            ]
          },
          "execution_count": 19,
          "metadata": {},
          "output_type": "execute_result"
        }
      ],
      "source": [
        "df['Date'].dtypes"
      ]
    },
    {
      "cell_type": "code",
      "execution_count": 20,
      "metadata": {
        "colab": {
          "base_uri": "https://localhost:8080/",
          "height": 206
        },
        "id": "8sRFoqQrCjqC",
        "outputId": "2eff5cd8-ef63-4200-afb2-c8d9bdbc17b8"
      },
      "outputs": [
        {
          "data": {
            "text/html": [
              "<div>\n",
              "<style scoped>\n",
              "    .dataframe tbody tr th:only-of-type {\n",
              "        vertical-align: middle;\n",
              "    }\n",
              "\n",
              "    .dataframe tbody tr th {\n",
              "        vertical-align: top;\n",
              "    }\n",
              "\n",
              "    .dataframe thead th {\n",
              "        text-align: right;\n",
              "    }\n",
              "</style>\n",
              "<table border=\"1\" class=\"dataframe\">\n",
              "  <thead>\n",
              "    <tr style=\"text-align: right;\">\n",
              "      <th></th>\n",
              "      <th>state</th>\n",
              "      <th>country</th>\n",
              "      <th>Lat</th>\n",
              "      <th>Long</th>\n",
              "      <th>Date</th>\n",
              "      <th>Confirmed</th>\n",
              "      <th>Deaths</th>\n",
              "      <th>Recovered</th>\n",
              "      <th>Active</th>\n",
              "      <th>region</th>\n",
              "    </tr>\n",
              "  </thead>\n",
              "  <tbody>\n",
              "    <tr>\n",
              "      <th>0</th>\n",
              "      <td>NaN</td>\n",
              "      <td>Afghanistan</td>\n",
              "      <td>33.93911</td>\n",
              "      <td>67.709953</td>\n",
              "      <td>2020-01-22</td>\n",
              "      <td>0</td>\n",
              "      <td>0</td>\n",
              "      <td>0</td>\n",
              "      <td>0</td>\n",
              "      <td>Eastern Mediterranean</td>\n",
              "    </tr>\n",
              "    <tr>\n",
              "      <th>1</th>\n",
              "      <td>NaN</td>\n",
              "      <td>Albania</td>\n",
              "      <td>41.15330</td>\n",
              "      <td>20.168300</td>\n",
              "      <td>2020-01-22</td>\n",
              "      <td>0</td>\n",
              "      <td>0</td>\n",
              "      <td>0</td>\n",
              "      <td>0</td>\n",
              "      <td>Europe</td>\n",
              "    </tr>\n",
              "    <tr>\n",
              "      <th>2</th>\n",
              "      <td>NaN</td>\n",
              "      <td>Algeria</td>\n",
              "      <td>28.03390</td>\n",
              "      <td>1.659600</td>\n",
              "      <td>2020-01-22</td>\n",
              "      <td>0</td>\n",
              "      <td>0</td>\n",
              "      <td>0</td>\n",
              "      <td>0</td>\n",
              "      <td>Africa</td>\n",
              "    </tr>\n",
              "    <tr>\n",
              "      <th>3</th>\n",
              "      <td>NaN</td>\n",
              "      <td>Andorra</td>\n",
              "      <td>42.50630</td>\n",
              "      <td>1.521800</td>\n",
              "      <td>2020-01-22</td>\n",
              "      <td>0</td>\n",
              "      <td>0</td>\n",
              "      <td>0</td>\n",
              "      <td>0</td>\n",
              "      <td>Europe</td>\n",
              "    </tr>\n",
              "    <tr>\n",
              "      <th>4</th>\n",
              "      <td>NaN</td>\n",
              "      <td>Angola</td>\n",
              "      <td>-11.20270</td>\n",
              "      <td>17.873900</td>\n",
              "      <td>2020-01-22</td>\n",
              "      <td>0</td>\n",
              "      <td>0</td>\n",
              "      <td>0</td>\n",
              "      <td>0</td>\n",
              "      <td>Africa</td>\n",
              "    </tr>\n",
              "  </tbody>\n",
              "</table>\n",
              "</div>"
            ],
            "text/plain": [
              "  state      country       Lat       Long       Date  Confirmed  Deaths  \\\n",
              "0   NaN  Afghanistan  33.93911  67.709953 2020-01-22          0       0   \n",
              "1   NaN      Albania  41.15330  20.168300 2020-01-22          0       0   \n",
              "2   NaN      Algeria  28.03390   1.659600 2020-01-22          0       0   \n",
              "3   NaN      Andorra  42.50630   1.521800 2020-01-22          0       0   \n",
              "4   NaN       Angola -11.20270  17.873900 2020-01-22          0       0   \n",
              "\n",
              "   Recovered  Active                 region  \n",
              "0          0       0  Eastern Mediterranean  \n",
              "1          0       0                 Europe  \n",
              "2          0       0                 Africa  \n",
              "3          0       0                 Europe  \n",
              "4          0       0                 Africa  "
            ]
          },
          "execution_count": 20,
          "metadata": {},
          "output_type": "execute_result"
        }
      ],
      "source": [
        "df.head()"
      ]
    },
    {
      "cell_type": "markdown",
      "metadata": {
        "id": "rkpGrPyBLZwy"
      },
      "source": [
        "Features Selection"
      ]
    },
    {
      "cell_type": "markdown",
      "metadata": {
        "id": "7-_zT5pyZ8KJ"
      },
      "source": [
        "Selecting features for data analysis"
      ]
    },
    {
      "cell_type": "code",
      "execution_count": 21,
      "metadata": {
        "id": "e1bKHaN7Cjtf"
      },
      "outputs": [],
      "source": [
        "df2 = df.groupby('Date').agg({'Confirmed': 'sum', 'Deaths': 'sum', 'Recovered': 'sum'}).reset_index()\n",
        "\n"
      ]
    },
    {
      "cell_type": "code",
      "execution_count": 22,
      "metadata": {
        "colab": {
          "base_uri": "https://localhost:8080/",
          "height": 423
        },
        "id": "A6wR72SyKQAf",
        "outputId": "86547989-7f26-4904-b50a-7fcba3d853f5"
      },
      "outputs": [
        {
          "data": {
            "text/html": [
              "<div>\n",
              "<style scoped>\n",
              "    .dataframe tbody tr th:only-of-type {\n",
              "        vertical-align: middle;\n",
              "    }\n",
              "\n",
              "    .dataframe tbody tr th {\n",
              "        vertical-align: top;\n",
              "    }\n",
              "\n",
              "    .dataframe thead th {\n",
              "        text-align: right;\n",
              "    }\n",
              "</style>\n",
              "<table border=\"1\" class=\"dataframe\">\n",
              "  <thead>\n",
              "    <tr style=\"text-align: right;\">\n",
              "      <th></th>\n",
              "      <th>Date</th>\n",
              "      <th>Confirmed</th>\n",
              "      <th>Deaths</th>\n",
              "      <th>Recovered</th>\n",
              "    </tr>\n",
              "  </thead>\n",
              "  <tbody>\n",
              "    <tr>\n",
              "      <th>0</th>\n",
              "      <td>2020-01-22</td>\n",
              "      <td>555</td>\n",
              "      <td>17</td>\n",
              "      <td>28</td>\n",
              "    </tr>\n",
              "    <tr>\n",
              "      <th>1</th>\n",
              "      <td>2020-01-23</td>\n",
              "      <td>654</td>\n",
              "      <td>18</td>\n",
              "      <td>30</td>\n",
              "    </tr>\n",
              "    <tr>\n",
              "      <th>2</th>\n",
              "      <td>2020-01-24</td>\n",
              "      <td>941</td>\n",
              "      <td>26</td>\n",
              "      <td>36</td>\n",
              "    </tr>\n",
              "    <tr>\n",
              "      <th>3</th>\n",
              "      <td>2020-01-25</td>\n",
              "      <td>1434</td>\n",
              "      <td>42</td>\n",
              "      <td>39</td>\n",
              "    </tr>\n",
              "    <tr>\n",
              "      <th>4</th>\n",
              "      <td>2020-01-26</td>\n",
              "      <td>2118</td>\n",
              "      <td>56</td>\n",
              "      <td>52</td>\n",
              "    </tr>\n",
              "    <tr>\n",
              "      <th>...</th>\n",
              "      <td>...</td>\n",
              "      <td>...</td>\n",
              "      <td>...</td>\n",
              "      <td>...</td>\n",
              "    </tr>\n",
              "    <tr>\n",
              "      <th>183</th>\n",
              "      <td>2020-07-23</td>\n",
              "      <td>15510481</td>\n",
              "      <td>633506</td>\n",
              "      <td>8710969</td>\n",
              "    </tr>\n",
              "    <tr>\n",
              "      <th>184</th>\n",
              "      <td>2020-07-24</td>\n",
              "      <td>15791645</td>\n",
              "      <td>639650</td>\n",
              "      <td>8939705</td>\n",
              "    </tr>\n",
              "    <tr>\n",
              "      <th>185</th>\n",
              "      <td>2020-07-25</td>\n",
              "      <td>16047190</td>\n",
              "      <td>644517</td>\n",
              "      <td>9158743</td>\n",
              "    </tr>\n",
              "    <tr>\n",
              "      <th>186</th>\n",
              "      <td>2020-07-26</td>\n",
              "      <td>16251796</td>\n",
              "      <td>648621</td>\n",
              "      <td>9293464</td>\n",
              "    </tr>\n",
              "    <tr>\n",
              "      <th>187</th>\n",
              "      <td>2020-07-27</td>\n",
              "      <td>16480485</td>\n",
              "      <td>654036</td>\n",
              "      <td>9468087</td>\n",
              "    </tr>\n",
              "  </tbody>\n",
              "</table>\n",
              "<p>188 rows × 4 columns</p>\n",
              "</div>"
            ],
            "text/plain": [
              "          Date  Confirmed  Deaths  Recovered\n",
              "0   2020-01-22        555      17         28\n",
              "1   2020-01-23        654      18         30\n",
              "2   2020-01-24        941      26         36\n",
              "3   2020-01-25       1434      42         39\n",
              "4   2020-01-26       2118      56         52\n",
              "..         ...        ...     ...        ...\n",
              "183 2020-07-23   15510481  633506    8710969\n",
              "184 2020-07-24   15791645  639650    8939705\n",
              "185 2020-07-25   16047190  644517    9158743\n",
              "186 2020-07-26   16251796  648621    9293464\n",
              "187 2020-07-27   16480485  654036    9468087\n",
              "\n",
              "[188 rows x 4 columns]"
            ]
          },
          "execution_count": 22,
          "metadata": {},
          "output_type": "execute_result"
        }
      ],
      "source": [
        "df2"
      ]
    },
    {
      "cell_type": "code",
      "execution_count": 23,
      "metadata": {
        "id": "0cWxmcolCjzC"
      },
      "outputs": [],
      "source": [
        "df2['Active'] = df2['Confirmed'] - df2['Deaths'] - df2['Recovered']\n"
      ]
    },
    {
      "cell_type": "code",
      "execution_count": 24,
      "metadata": {
        "id": "OaJdSbR8Cj2K"
      },
      "outputs": [],
      "source": [
        "df2 = df2.sort_values('Date')"
      ]
    },
    {
      "cell_type": "code",
      "execution_count": 25,
      "metadata": {
        "colab": {
          "base_uri": "https://localhost:8080/",
          "height": 423
        },
        "id": "IppPU2B8Cj50",
        "outputId": "929fba03-8b54-4860-b777-47105af52a38"
      },
      "outputs": [
        {
          "data": {
            "text/html": [
              "<div>\n",
              "<style scoped>\n",
              "    .dataframe tbody tr th:only-of-type {\n",
              "        vertical-align: middle;\n",
              "    }\n",
              "\n",
              "    .dataframe tbody tr th {\n",
              "        vertical-align: top;\n",
              "    }\n",
              "\n",
              "    .dataframe thead th {\n",
              "        text-align: right;\n",
              "    }\n",
              "</style>\n",
              "<table border=\"1\" class=\"dataframe\">\n",
              "  <thead>\n",
              "    <tr style=\"text-align: right;\">\n",
              "      <th></th>\n",
              "      <th>Date</th>\n",
              "      <th>Confirmed</th>\n",
              "      <th>Deaths</th>\n",
              "      <th>Recovered</th>\n",
              "      <th>Active</th>\n",
              "    </tr>\n",
              "  </thead>\n",
              "  <tbody>\n",
              "    <tr>\n",
              "      <th>0</th>\n",
              "      <td>2020-01-22</td>\n",
              "      <td>555</td>\n",
              "      <td>17</td>\n",
              "      <td>28</td>\n",
              "      <td>510</td>\n",
              "    </tr>\n",
              "    <tr>\n",
              "      <th>1</th>\n",
              "      <td>2020-01-23</td>\n",
              "      <td>654</td>\n",
              "      <td>18</td>\n",
              "      <td>30</td>\n",
              "      <td>606</td>\n",
              "    </tr>\n",
              "    <tr>\n",
              "      <th>2</th>\n",
              "      <td>2020-01-24</td>\n",
              "      <td>941</td>\n",
              "      <td>26</td>\n",
              "      <td>36</td>\n",
              "      <td>879</td>\n",
              "    </tr>\n",
              "    <tr>\n",
              "      <th>3</th>\n",
              "      <td>2020-01-25</td>\n",
              "      <td>1434</td>\n",
              "      <td>42</td>\n",
              "      <td>39</td>\n",
              "      <td>1353</td>\n",
              "    </tr>\n",
              "    <tr>\n",
              "      <th>4</th>\n",
              "      <td>2020-01-26</td>\n",
              "      <td>2118</td>\n",
              "      <td>56</td>\n",
              "      <td>52</td>\n",
              "      <td>2010</td>\n",
              "    </tr>\n",
              "    <tr>\n",
              "      <th>...</th>\n",
              "      <td>...</td>\n",
              "      <td>...</td>\n",
              "      <td>...</td>\n",
              "      <td>...</td>\n",
              "      <td>...</td>\n",
              "    </tr>\n",
              "    <tr>\n",
              "      <th>183</th>\n",
              "      <td>2020-07-23</td>\n",
              "      <td>15510481</td>\n",
              "      <td>633506</td>\n",
              "      <td>8710969</td>\n",
              "      <td>6166006</td>\n",
              "    </tr>\n",
              "    <tr>\n",
              "      <th>184</th>\n",
              "      <td>2020-07-24</td>\n",
              "      <td>15791645</td>\n",
              "      <td>639650</td>\n",
              "      <td>8939705</td>\n",
              "      <td>6212290</td>\n",
              "    </tr>\n",
              "    <tr>\n",
              "      <th>185</th>\n",
              "      <td>2020-07-25</td>\n",
              "      <td>16047190</td>\n",
              "      <td>644517</td>\n",
              "      <td>9158743</td>\n",
              "      <td>6243930</td>\n",
              "    </tr>\n",
              "    <tr>\n",
              "      <th>186</th>\n",
              "      <td>2020-07-26</td>\n",
              "      <td>16251796</td>\n",
              "      <td>648621</td>\n",
              "      <td>9293464</td>\n",
              "      <td>6309711</td>\n",
              "    </tr>\n",
              "    <tr>\n",
              "      <th>187</th>\n",
              "      <td>2020-07-27</td>\n",
              "      <td>16480485</td>\n",
              "      <td>654036</td>\n",
              "      <td>9468087</td>\n",
              "      <td>6358362</td>\n",
              "    </tr>\n",
              "  </tbody>\n",
              "</table>\n",
              "<p>188 rows × 5 columns</p>\n",
              "</div>"
            ],
            "text/plain": [
              "          Date  Confirmed  Deaths  Recovered   Active\n",
              "0   2020-01-22        555      17         28      510\n",
              "1   2020-01-23        654      18         30      606\n",
              "2   2020-01-24        941      26         36      879\n",
              "3   2020-01-25       1434      42         39     1353\n",
              "4   2020-01-26       2118      56         52     2010\n",
              "..         ...        ...     ...        ...      ...\n",
              "183 2020-07-23   15510481  633506    8710969  6166006\n",
              "184 2020-07-24   15791645  639650    8939705  6212290\n",
              "185 2020-07-25   16047190  644517    9158743  6243930\n",
              "186 2020-07-26   16251796  648621    9293464  6309711\n",
              "187 2020-07-27   16480485  654036    9468087  6358362\n",
              "\n",
              "[188 rows x 5 columns]"
            ]
          },
          "execution_count": 25,
          "metadata": {},
          "output_type": "execute_result"
        }
      ],
      "source": [
        "df2"
      ]
    },
    {
      "cell_type": "markdown",
      "metadata": {
        "id": "Hjyf_BE9LynJ"
      },
      "source": [
        "Interactive Visualization"
      ]
    },
    {
      "cell_type": "code",
      "execution_count": 26,
      "metadata": {
        "colab": {
          "base_uri": "https://localhost:8080/"
        },
        "id": "ATRfGZTkXUKE",
        "outputId": "1540c15f-f399-418c-d1c2-3fb8c671ec83"
      },
      "outputs": [
        {
          "name": "stdout",
          "output_type": "stream",
          "text": [
            "Index([  129,   390,   651,   912,  1173,  1434,  1695,  1956,  2217,  2478,\n",
            "       ...\n",
            "       46587, 46848, 47109, 47370, 47631, 47892, 48153, 48414, 48675, 48936],\n",
            "      dtype='int64', length=188)\n"
          ]
        }
      ],
      "source": [
        "india_indices = df[df['country'] == 'India'].index\n",
        "print(india_indices)\n"
      ]
    },
    {
      "cell_type": "code",
      "execution_count": 27,
      "metadata": {
        "colab": {
          "base_uri": "https://localhost:8080/"
        },
        "id": "R7Du6-X5XUpJ",
        "outputId": "260790db-4b33-49d1-a4a2-d78cb1e88092"
      },
      "outputs": [
        {
          "data": {
            "text/plain": [
              "(188,)"
            ]
          },
          "execution_count": 27,
          "metadata": {},
          "output_type": "execute_result"
        }
      ],
      "source": [
        "india_indices.shape"
      ]
    },
    {
      "cell_type": "markdown",
      "metadata": {
        "id": "wf9JL0EwagxR"
      },
      "source": [
        "Ploting Visualization"
      ]
    },
    {
      "cell_type": "code",
      "execution_count": 30,
      "metadata": {
        "colab": {
          "base_uri": "https://localhost:8080/",
          "height": 542
        },
        "id": "UHFX95U7VbFo",
        "outputId": "930e3abe-cfe2-461f-bbab-9a30d1d83775"
      },
      "outputs": [
        {
          "data": {
            "application/vnd.plotly.v1+json": {
              "config": {
                "plotlyServerURL": "https://plot.ly"
              },
              "data": [
                {
                  "hovertemplate": "Case Type=Confirmed<br>Date=%{x}<br>Count=%{y}<extra></extra>",
                  "legendgroup": "Confirmed",
                  "line": {
                    "color": "#636efa",
                    "dash": "solid"
                  },
                  "marker": {
                    "symbol": "circle"
                  },
                  "mode": "lines",
                  "name": "Confirmed",
                  "orientation": "v",
                  "showlegend": true,
                  "type": "scatter",
                  "x": [
                    "2020-01-22T00:00:00.000000000",
                    "2020-01-23T00:00:00.000000000",
                    "2020-01-24T00:00:00.000000000",
                    "2020-01-25T00:00:00.000000000",
                    "2020-01-26T00:00:00.000000000",
                    "2020-01-27T00:00:00.000000000",
                    "2020-01-28T00:00:00.000000000",
                    "2020-01-29T00:00:00.000000000",
                    "2020-01-30T00:00:00.000000000",
                    "2020-01-31T00:00:00.000000000",
                    "2020-02-01T00:00:00.000000000",
                    "2020-02-02T00:00:00.000000000",
                    "2020-02-03T00:00:00.000000000",
                    "2020-02-04T00:00:00.000000000",
                    "2020-02-05T00:00:00.000000000",
                    "2020-02-06T00:00:00.000000000",
                    "2020-02-07T00:00:00.000000000",
                    "2020-02-08T00:00:00.000000000",
                    "2020-02-09T00:00:00.000000000",
                    "2020-02-10T00:00:00.000000000",
                    "2020-02-11T00:00:00.000000000",
                    "2020-02-12T00:00:00.000000000",
                    "2020-02-13T00:00:00.000000000",
                    "2020-02-14T00:00:00.000000000",
                    "2020-02-15T00:00:00.000000000",
                    "2020-02-16T00:00:00.000000000",
                    "2020-02-17T00:00:00.000000000",
                    "2020-02-18T00:00:00.000000000",
                    "2020-02-19T00:00:00.000000000",
                    "2020-02-20T00:00:00.000000000",
                    "2020-02-21T00:00:00.000000000",
                    "2020-02-22T00:00:00.000000000",
                    "2020-02-23T00:00:00.000000000",
                    "2020-02-24T00:00:00.000000000",
                    "2020-02-25T00:00:00.000000000",
                    "2020-02-26T00:00:00.000000000",
                    "2020-02-27T00:00:00.000000000",
                    "2020-02-28T00:00:00.000000000",
                    "2020-02-29T00:00:00.000000000",
                    "2020-03-01T00:00:00.000000000",
                    "2020-03-02T00:00:00.000000000",
                    "2020-03-03T00:00:00.000000000",
                    "2020-03-04T00:00:00.000000000",
                    "2020-03-05T00:00:00.000000000",
                    "2020-03-06T00:00:00.000000000",
                    "2020-03-07T00:00:00.000000000",
                    "2020-03-08T00:00:00.000000000",
                    "2020-03-09T00:00:00.000000000",
                    "2020-03-10T00:00:00.000000000",
                    "2020-03-11T00:00:00.000000000",
                    "2020-03-12T00:00:00.000000000",
                    "2020-03-13T00:00:00.000000000",
                    "2020-03-14T00:00:00.000000000",
                    "2020-03-15T00:00:00.000000000",
                    "2020-03-16T00:00:00.000000000",
                    "2020-03-17T00:00:00.000000000",
                    "2020-03-18T00:00:00.000000000",
                    "2020-03-19T00:00:00.000000000",
                    "2020-03-20T00:00:00.000000000",
                    "2020-03-21T00:00:00.000000000",
                    "2020-03-22T00:00:00.000000000",
                    "2020-03-23T00:00:00.000000000",
                    "2020-03-24T00:00:00.000000000",
                    "2020-03-25T00:00:00.000000000",
                    "2020-03-26T00:00:00.000000000",
                    "2020-03-27T00:00:00.000000000",
                    "2020-03-28T00:00:00.000000000",
                    "2020-03-29T00:00:00.000000000",
                    "2020-03-30T00:00:00.000000000",
                    "2020-03-31T00:00:00.000000000",
                    "2020-04-01T00:00:00.000000000",
                    "2020-04-02T00:00:00.000000000",
                    "2020-04-03T00:00:00.000000000",
                    "2020-04-04T00:00:00.000000000",
                    "2020-04-05T00:00:00.000000000",
                    "2020-04-06T00:00:00.000000000",
                    "2020-04-07T00:00:00.000000000",
                    "2020-04-08T00:00:00.000000000",
                    "2020-04-09T00:00:00.000000000",
                    "2020-04-10T00:00:00.000000000",
                    "2020-04-11T00:00:00.000000000",
                    "2020-04-12T00:00:00.000000000",
                    "2020-04-13T00:00:00.000000000",
                    "2020-04-14T00:00:00.000000000",
                    "2020-04-15T00:00:00.000000000",
                    "2020-04-16T00:00:00.000000000",
                    "2020-04-17T00:00:00.000000000",
                    "2020-04-18T00:00:00.000000000",
                    "2020-04-19T00:00:00.000000000",
                    "2020-04-20T00:00:00.000000000",
                    "2020-04-21T00:00:00.000000000",
                    "2020-04-22T00:00:00.000000000",
                    "2020-04-23T00:00:00.000000000",
                    "2020-04-24T00:00:00.000000000",
                    "2020-04-25T00:00:00.000000000",
                    "2020-04-26T00:00:00.000000000",
                    "2020-04-27T00:00:00.000000000",
                    "2020-04-28T00:00:00.000000000",
                    "2020-04-29T00:00:00.000000000",
                    "2020-04-30T00:00:00.000000000",
                    "2020-05-01T00:00:00.000000000",
                    "2020-05-02T00:00:00.000000000",
                    "2020-05-03T00:00:00.000000000",
                    "2020-05-04T00:00:00.000000000",
                    "2020-05-05T00:00:00.000000000",
                    "2020-05-06T00:00:00.000000000",
                    "2020-05-07T00:00:00.000000000",
                    "2020-05-08T00:00:00.000000000",
                    "2020-05-09T00:00:00.000000000",
                    "2020-05-10T00:00:00.000000000",
                    "2020-05-11T00:00:00.000000000",
                    "2020-05-12T00:00:00.000000000",
                    "2020-05-13T00:00:00.000000000",
                    "2020-05-14T00:00:00.000000000",
                    "2020-05-15T00:00:00.000000000",
                    "2020-05-16T00:00:00.000000000",
                    "2020-05-17T00:00:00.000000000",
                    "2020-05-18T00:00:00.000000000",
                    "2020-05-19T00:00:00.000000000",
                    "2020-05-20T00:00:00.000000000",
                    "2020-05-21T00:00:00.000000000",
                    "2020-05-22T00:00:00.000000000",
                    "2020-05-23T00:00:00.000000000",
                    "2020-05-24T00:00:00.000000000",
                    "2020-05-25T00:00:00.000000000",
                    "2020-05-26T00:00:00.000000000",
                    "2020-05-27T00:00:00.000000000",
                    "2020-05-28T00:00:00.000000000",
                    "2020-05-29T00:00:00.000000000",
                    "2020-05-30T00:00:00.000000000",
                    "2020-05-31T00:00:00.000000000",
                    "2020-06-01T00:00:00.000000000",
                    "2020-06-02T00:00:00.000000000",
                    "2020-06-03T00:00:00.000000000",
                    "2020-06-04T00:00:00.000000000",
                    "2020-06-05T00:00:00.000000000",
                    "2020-06-06T00:00:00.000000000",
                    "2020-06-07T00:00:00.000000000",
                    "2020-06-08T00:00:00.000000000",
                    "2020-06-09T00:00:00.000000000",
                    "2020-06-10T00:00:00.000000000",
                    "2020-06-11T00:00:00.000000000",
                    "2020-06-12T00:00:00.000000000",
                    "2020-06-13T00:00:00.000000000",
                    "2020-06-14T00:00:00.000000000",
                    "2020-06-15T00:00:00.000000000",
                    "2020-06-16T00:00:00.000000000",
                    "2020-06-17T00:00:00.000000000",
                    "2020-06-18T00:00:00.000000000",
                    "2020-06-19T00:00:00.000000000",
                    "2020-06-20T00:00:00.000000000",
                    "2020-06-21T00:00:00.000000000",
                    "2020-06-22T00:00:00.000000000",
                    "2020-06-23T00:00:00.000000000",
                    "2020-06-24T00:00:00.000000000",
                    "2020-06-25T00:00:00.000000000",
                    "2020-06-26T00:00:00.000000000",
                    "2020-06-27T00:00:00.000000000",
                    "2020-06-28T00:00:00.000000000",
                    "2020-06-29T00:00:00.000000000",
                    "2020-06-30T00:00:00.000000000",
                    "2020-07-01T00:00:00.000000000",
                    "2020-07-02T00:00:00.000000000",
                    "2020-07-03T00:00:00.000000000",
                    "2020-07-04T00:00:00.000000000",
                    "2020-07-05T00:00:00.000000000",
                    "2020-07-06T00:00:00.000000000",
                    "2020-07-07T00:00:00.000000000",
                    "2020-07-08T00:00:00.000000000",
                    "2020-07-09T00:00:00.000000000",
                    "2020-07-10T00:00:00.000000000",
                    "2020-07-11T00:00:00.000000000",
                    "2020-07-12T00:00:00.000000000",
                    "2020-07-13T00:00:00.000000000",
                    "2020-07-14T00:00:00.000000000",
                    "2020-07-15T00:00:00.000000000",
                    "2020-07-16T00:00:00.000000000",
                    "2020-07-17T00:00:00.000000000",
                    "2020-07-18T00:00:00.000000000",
                    "2020-07-19T00:00:00.000000000",
                    "2020-07-20T00:00:00.000000000",
                    "2020-07-21T00:00:00.000000000",
                    "2020-07-22T00:00:00.000000000",
                    "2020-07-23T00:00:00.000000000",
                    "2020-07-24T00:00:00.000000000",
                    "2020-07-25T00:00:00.000000000",
                    "2020-07-26T00:00:00.000000000",
                    "2020-07-27T00:00:00.000000000"
                  ],
                  "xaxis": "x",
                  "y": {
                    "bdata": "KwIAAI4CAACtAwAAmgUAAEYIAABvCwAAyhUAABYYAAAqIAAAxyYAAAYvAACTQQAAr00AAFpdAAD7awAAUngAAB6GAADMkAAAn5wAAImmAACDrgAA4bUAAC7rAACCBAEAnQwBAN8UAQBvHAEAcSMBABYlAQA5JwEArikBAI8wAQDSMQEABjQBAFs3AQAeOwEAckABANNFAQA6TQEAilYBAEBeAQBRaAEATHEBADN8AQCaiwEAYJsBANKqAQAOugEArs0BAJ3rAQATAgIAWDoCALplAgBEkQIAh8oCAGUIAwDnVAMA9cEDAJ01BADPswQAUTYFAAbbBQC5ewYAOkIHACo4CAC6MwkAAzwKALwkCwA7IQwAu0sNAHF1DgBosw8AO/gQAIoyEgCwShMAkGYUANmSFQAY2hYAeSwYAOOCGQCIrxoAlSkcAG85HQCWSh4AU4YfABsAIQDHViIArHcjADeyJACy0CUApPYmAKoiKABffikA+9EqAL8dLACyOi0AEkcuADVtLwArmjAADOExABI1MwAodDQAbKM1AJnMNgAOBTgAtGQ5ALLAOgAvJjwAhXU9AFufPgAsyT8Auw9BAMtaQgAc1kMAeU5FAC3DRgDa9UcAtk5JAF7HSgDSWUwAMPlNAMSaTwANNlEAa6pSAB7+UwCIZ1UAUPhWAGLKWACxo1oAGr5cADpiXgAV1l8AAK5hAFyAYwA1cGUAZG9nAGqCaQDtOGsAPshsAPStbgB9uXAA/9RyAEXNdACP4HYAvOl4ABK9egBt5XwAig9/ACIygQBo9IMA2FuGAPNRiAB1bIoAT/KMAP6OjwDdRZIATzGVAA3plwBrYJoA18ucACFznwB6xaIA0/ClALkLqQDY/6sAf8muAC5XsQDKjrQAJMq3AKdFuwAo0r4AMB/CAMwPxQDXAMgA42HLALDozgAtw9IAo3TWAOYU2gBdW90AF4PgAAYT5ABNW+gA0avsAB328ABW3PQAlPv3AOV4+wA=",
                    "dtype": "i4"
                  },
                  "yaxis": "y"
                },
                {
                  "hovertemplate": "Case Type=Active<br>Date=%{x}<br>Count=%{y}<extra></extra>",
                  "legendgroup": "Active",
                  "line": {
                    "color": "#EF553B",
                    "dash": "solid"
                  },
                  "marker": {
                    "symbol": "circle"
                  },
                  "mode": "lines",
                  "name": "Active",
                  "orientation": "v",
                  "showlegend": true,
                  "type": "scatter",
                  "x": [
                    "2020-01-22T00:00:00.000000000",
                    "2020-01-23T00:00:00.000000000",
                    "2020-01-24T00:00:00.000000000",
                    "2020-01-25T00:00:00.000000000",
                    "2020-01-26T00:00:00.000000000",
                    "2020-01-27T00:00:00.000000000",
                    "2020-01-28T00:00:00.000000000",
                    "2020-01-29T00:00:00.000000000",
                    "2020-01-30T00:00:00.000000000",
                    "2020-01-31T00:00:00.000000000",
                    "2020-02-01T00:00:00.000000000",
                    "2020-02-02T00:00:00.000000000",
                    "2020-02-03T00:00:00.000000000",
                    "2020-02-04T00:00:00.000000000",
                    "2020-02-05T00:00:00.000000000",
                    "2020-02-06T00:00:00.000000000",
                    "2020-02-07T00:00:00.000000000",
                    "2020-02-08T00:00:00.000000000",
                    "2020-02-09T00:00:00.000000000",
                    "2020-02-10T00:00:00.000000000",
                    "2020-02-11T00:00:00.000000000",
                    "2020-02-12T00:00:00.000000000",
                    "2020-02-13T00:00:00.000000000",
                    "2020-02-14T00:00:00.000000000",
                    "2020-02-15T00:00:00.000000000",
                    "2020-02-16T00:00:00.000000000",
                    "2020-02-17T00:00:00.000000000",
                    "2020-02-18T00:00:00.000000000",
                    "2020-02-19T00:00:00.000000000",
                    "2020-02-20T00:00:00.000000000",
                    "2020-02-21T00:00:00.000000000",
                    "2020-02-22T00:00:00.000000000",
                    "2020-02-23T00:00:00.000000000",
                    "2020-02-24T00:00:00.000000000",
                    "2020-02-25T00:00:00.000000000",
                    "2020-02-26T00:00:00.000000000",
                    "2020-02-27T00:00:00.000000000",
                    "2020-02-28T00:00:00.000000000",
                    "2020-02-29T00:00:00.000000000",
                    "2020-03-01T00:00:00.000000000",
                    "2020-03-02T00:00:00.000000000",
                    "2020-03-03T00:00:00.000000000",
                    "2020-03-04T00:00:00.000000000",
                    "2020-03-05T00:00:00.000000000",
                    "2020-03-06T00:00:00.000000000",
                    "2020-03-07T00:00:00.000000000",
                    "2020-03-08T00:00:00.000000000",
                    "2020-03-09T00:00:00.000000000",
                    "2020-03-10T00:00:00.000000000",
                    "2020-03-11T00:00:00.000000000",
                    "2020-03-12T00:00:00.000000000",
                    "2020-03-13T00:00:00.000000000",
                    "2020-03-14T00:00:00.000000000",
                    "2020-03-15T00:00:00.000000000",
                    "2020-03-16T00:00:00.000000000",
                    "2020-03-17T00:00:00.000000000",
                    "2020-03-18T00:00:00.000000000",
                    "2020-03-19T00:00:00.000000000",
                    "2020-03-20T00:00:00.000000000",
                    "2020-03-21T00:00:00.000000000",
                    "2020-03-22T00:00:00.000000000",
                    "2020-03-23T00:00:00.000000000",
                    "2020-03-24T00:00:00.000000000",
                    "2020-03-25T00:00:00.000000000",
                    "2020-03-26T00:00:00.000000000",
                    "2020-03-27T00:00:00.000000000",
                    "2020-03-28T00:00:00.000000000",
                    "2020-03-29T00:00:00.000000000",
                    "2020-03-30T00:00:00.000000000",
                    "2020-03-31T00:00:00.000000000",
                    "2020-04-01T00:00:00.000000000",
                    "2020-04-02T00:00:00.000000000",
                    "2020-04-03T00:00:00.000000000",
                    "2020-04-04T00:00:00.000000000",
                    "2020-04-05T00:00:00.000000000",
                    "2020-04-06T00:00:00.000000000",
                    "2020-04-07T00:00:00.000000000",
                    "2020-04-08T00:00:00.000000000",
                    "2020-04-09T00:00:00.000000000",
                    "2020-04-10T00:00:00.000000000",
                    "2020-04-11T00:00:00.000000000",
                    "2020-04-12T00:00:00.000000000",
                    "2020-04-13T00:00:00.000000000",
                    "2020-04-14T00:00:00.000000000",
                    "2020-04-15T00:00:00.000000000",
                    "2020-04-16T00:00:00.000000000",
                    "2020-04-17T00:00:00.000000000",
                    "2020-04-18T00:00:00.000000000",
                    "2020-04-19T00:00:00.000000000",
                    "2020-04-20T00:00:00.000000000",
                    "2020-04-21T00:00:00.000000000",
                    "2020-04-22T00:00:00.000000000",
                    "2020-04-23T00:00:00.000000000",
                    "2020-04-24T00:00:00.000000000",
                    "2020-04-25T00:00:00.000000000",
                    "2020-04-26T00:00:00.000000000",
                    "2020-04-27T00:00:00.000000000",
                    "2020-04-28T00:00:00.000000000",
                    "2020-04-29T00:00:00.000000000",
                    "2020-04-30T00:00:00.000000000",
                    "2020-05-01T00:00:00.000000000",
                    "2020-05-02T00:00:00.000000000",
                    "2020-05-03T00:00:00.000000000",
                    "2020-05-04T00:00:00.000000000",
                    "2020-05-05T00:00:00.000000000",
                    "2020-05-06T00:00:00.000000000",
                    "2020-05-07T00:00:00.000000000",
                    "2020-05-08T00:00:00.000000000",
                    "2020-05-09T00:00:00.000000000",
                    "2020-05-10T00:00:00.000000000",
                    "2020-05-11T00:00:00.000000000",
                    "2020-05-12T00:00:00.000000000",
                    "2020-05-13T00:00:00.000000000",
                    "2020-05-14T00:00:00.000000000",
                    "2020-05-15T00:00:00.000000000",
                    "2020-05-16T00:00:00.000000000",
                    "2020-05-17T00:00:00.000000000",
                    "2020-05-18T00:00:00.000000000",
                    "2020-05-19T00:00:00.000000000",
                    "2020-05-20T00:00:00.000000000",
                    "2020-05-21T00:00:00.000000000",
                    "2020-05-22T00:00:00.000000000",
                    "2020-05-23T00:00:00.000000000",
                    "2020-05-24T00:00:00.000000000",
                    "2020-05-25T00:00:00.000000000",
                    "2020-05-26T00:00:00.000000000",
                    "2020-05-27T00:00:00.000000000",
                    "2020-05-28T00:00:00.000000000",
                    "2020-05-29T00:00:00.000000000",
                    "2020-05-30T00:00:00.000000000",
                    "2020-05-31T00:00:00.000000000",
                    "2020-06-01T00:00:00.000000000",
                    "2020-06-02T00:00:00.000000000",
                    "2020-06-03T00:00:00.000000000",
                    "2020-06-04T00:00:00.000000000",
                    "2020-06-05T00:00:00.000000000",
                    "2020-06-06T00:00:00.000000000",
                    "2020-06-07T00:00:00.000000000",
                    "2020-06-08T00:00:00.000000000",
                    "2020-06-09T00:00:00.000000000",
                    "2020-06-10T00:00:00.000000000",
                    "2020-06-11T00:00:00.000000000",
                    "2020-06-12T00:00:00.000000000",
                    "2020-06-13T00:00:00.000000000",
                    "2020-06-14T00:00:00.000000000",
                    "2020-06-15T00:00:00.000000000",
                    "2020-06-16T00:00:00.000000000",
                    "2020-06-17T00:00:00.000000000",
                    "2020-06-18T00:00:00.000000000",
                    "2020-06-19T00:00:00.000000000",
                    "2020-06-20T00:00:00.000000000",
                    "2020-06-21T00:00:00.000000000",
                    "2020-06-22T00:00:00.000000000",
                    "2020-06-23T00:00:00.000000000",
                    "2020-06-24T00:00:00.000000000",
                    "2020-06-25T00:00:00.000000000",
                    "2020-06-26T00:00:00.000000000",
                    "2020-06-27T00:00:00.000000000",
                    "2020-06-28T00:00:00.000000000",
                    "2020-06-29T00:00:00.000000000",
                    "2020-06-30T00:00:00.000000000",
                    "2020-07-01T00:00:00.000000000",
                    "2020-07-02T00:00:00.000000000",
                    "2020-07-03T00:00:00.000000000",
                    "2020-07-04T00:00:00.000000000",
                    "2020-07-05T00:00:00.000000000",
                    "2020-07-06T00:00:00.000000000",
                    "2020-07-07T00:00:00.000000000",
                    "2020-07-08T00:00:00.000000000",
                    "2020-07-09T00:00:00.000000000",
                    "2020-07-10T00:00:00.000000000",
                    "2020-07-11T00:00:00.000000000",
                    "2020-07-12T00:00:00.000000000",
                    "2020-07-13T00:00:00.000000000",
                    "2020-07-14T00:00:00.000000000",
                    "2020-07-15T00:00:00.000000000",
                    "2020-07-16T00:00:00.000000000",
                    "2020-07-17T00:00:00.000000000",
                    "2020-07-18T00:00:00.000000000",
                    "2020-07-19T00:00:00.000000000",
                    "2020-07-20T00:00:00.000000000",
                    "2020-07-21T00:00:00.000000000",
                    "2020-07-22T00:00:00.000000000",
                    "2020-07-23T00:00:00.000000000",
                    "2020-07-24T00:00:00.000000000",
                    "2020-07-25T00:00:00.000000000",
                    "2020-07-26T00:00:00.000000000",
                    "2020-07-27T00:00:00.000000000"
                  ],
                  "xaxis": "x",
                  "y": {
                    "bdata": "/gEAAF4CAABvAwAASQUAANoHAADgCgAA3BQAABQXAADyHgAAFyUAAOosAABePgAAqUkAADlYAACYZQAATnAAAOB7AAAAhAAAJI0AABKUAADpmAAAkp4AAKnOAADS4AAAVeMAAKblAAB05gAAHOYAAKngAACa2gAAttoAAJ3RAAAP0QAA1MsAAKzEAAC6vgAAybgAALawAAAYrAAA5KkAAASmAACmpQAAyKIAABijAAAeqgAAx68AACm1AACmvAAAuMcAAEjbAABk6wAAMxoBALI6AQBpVgEA/4QBAPm0AQBH9AEAnlYCAPO6AgDSIQMAbIUDANIgBABkkwQAxDkFAE4DBgAgzwYApqgHANleCAC+DgkAA/YJAArOCgB2sgsASKUMAJp6DQDGSg4ADxAPADXEDwBlghAA7VcRAGc/EgCt8BIAngoUAGKcFABsMhUAasEVADWpFgBvehcAPyYYAMDWGAC/jBkANxEaAO6wGgCfghsAQfobAB3HHACTaB0AnfsdAFeKHgBt/B4AjDIfAETiHwDYcCAAsBghAAixIQBhRyIAN94iAAOPIwDuUyQAdcUkAHhhJQCoySUA+W0mAOPOJgAJnicAx0koAL7UKACRXSkAoN0pAAV7KgAbFysAMN8rACPHKwDifiwAGxEtAOppLQD47S0ARHYuAKQzLwAQ0C8AX8kwAN86MQDEzzEAnAAyACmLMgADWDMA5Tk0ALknNQCe/jUA9DE1ACfGNQCKjDYAf0k3ACD9NwBhszgAGp45AOctOgD9vjoA+gk7APzdOwC5Fj0AJ6s9ABeHPgBULz8AvAtAAHHRQABIBUIAkz5DAJlGRAAWV0UAK0VGAIQPRwCiikgAEUtHANumSACAjkgAL3lJALMWSgALAUsAX8BLAEMaTQD8ck4A0sJPAJXwUAD8r1EALtFSAMfTUwAsRlUALG5WAG6rVwCji1kAzzdaAN8GWwBSg1wA9hVeAMLKXgBaRl8AT0dgAFoFYQA=",
                    "dtype": "i4"
                  },
                  "yaxis": "y"
                },
                {
                  "hovertemplate": "Case Type=Recovered<br>Date=%{x}<br>Count=%{y}<extra></extra>",
                  "legendgroup": "Recovered",
                  "line": {
                    "color": "#00cc96",
                    "dash": "solid"
                  },
                  "marker": {
                    "symbol": "circle"
                  },
                  "mode": "lines",
                  "name": "Recovered",
                  "orientation": "v",
                  "showlegend": true,
                  "type": "scatter",
                  "x": [
                    "2020-01-22T00:00:00.000000000",
                    "2020-01-23T00:00:00.000000000",
                    "2020-01-24T00:00:00.000000000",
                    "2020-01-25T00:00:00.000000000",
                    "2020-01-26T00:00:00.000000000",
                    "2020-01-27T00:00:00.000000000",
                    "2020-01-28T00:00:00.000000000",
                    "2020-01-29T00:00:00.000000000",
                    "2020-01-30T00:00:00.000000000",
                    "2020-01-31T00:00:00.000000000",
                    "2020-02-01T00:00:00.000000000",
                    "2020-02-02T00:00:00.000000000",
                    "2020-02-03T00:00:00.000000000",
                    "2020-02-04T00:00:00.000000000",
                    "2020-02-05T00:00:00.000000000",
                    "2020-02-06T00:00:00.000000000",
                    "2020-02-07T00:00:00.000000000",
                    "2020-02-08T00:00:00.000000000",
                    "2020-02-09T00:00:00.000000000",
                    "2020-02-10T00:00:00.000000000",
                    "2020-02-11T00:00:00.000000000",
                    "2020-02-12T00:00:00.000000000",
                    "2020-02-13T00:00:00.000000000",
                    "2020-02-14T00:00:00.000000000",
                    "2020-02-15T00:00:00.000000000",
                    "2020-02-16T00:00:00.000000000",
                    "2020-02-17T00:00:00.000000000",
                    "2020-02-18T00:00:00.000000000",
                    "2020-02-19T00:00:00.000000000",
                    "2020-02-20T00:00:00.000000000",
                    "2020-02-21T00:00:00.000000000",
                    "2020-02-22T00:00:00.000000000",
                    "2020-02-23T00:00:00.000000000",
                    "2020-02-24T00:00:00.000000000",
                    "2020-02-25T00:00:00.000000000",
                    "2020-02-26T00:00:00.000000000",
                    "2020-02-27T00:00:00.000000000",
                    "2020-02-28T00:00:00.000000000",
                    "2020-02-29T00:00:00.000000000",
                    "2020-03-01T00:00:00.000000000",
                    "2020-03-02T00:00:00.000000000",
                    "2020-03-03T00:00:00.000000000",
                    "2020-03-04T00:00:00.000000000",
                    "2020-03-05T00:00:00.000000000",
                    "2020-03-06T00:00:00.000000000",
                    "2020-03-07T00:00:00.000000000",
                    "2020-03-08T00:00:00.000000000",
                    "2020-03-09T00:00:00.000000000",
                    "2020-03-10T00:00:00.000000000",
                    "2020-03-11T00:00:00.000000000",
                    "2020-03-12T00:00:00.000000000",
                    "2020-03-13T00:00:00.000000000",
                    "2020-03-14T00:00:00.000000000",
                    "2020-03-15T00:00:00.000000000",
                    "2020-03-16T00:00:00.000000000",
                    "2020-03-17T00:00:00.000000000",
                    "2020-03-18T00:00:00.000000000",
                    "2020-03-19T00:00:00.000000000",
                    "2020-03-20T00:00:00.000000000",
                    "2020-03-21T00:00:00.000000000",
                    "2020-03-22T00:00:00.000000000",
                    "2020-03-23T00:00:00.000000000",
                    "2020-03-24T00:00:00.000000000",
                    "2020-03-25T00:00:00.000000000",
                    "2020-03-26T00:00:00.000000000",
                    "2020-03-27T00:00:00.000000000",
                    "2020-03-28T00:00:00.000000000",
                    "2020-03-29T00:00:00.000000000",
                    "2020-03-30T00:00:00.000000000",
                    "2020-03-31T00:00:00.000000000",
                    "2020-04-01T00:00:00.000000000",
                    "2020-04-02T00:00:00.000000000",
                    "2020-04-03T00:00:00.000000000",
                    "2020-04-04T00:00:00.000000000",
                    "2020-04-05T00:00:00.000000000",
                    "2020-04-06T00:00:00.000000000",
                    "2020-04-07T00:00:00.000000000",
                    "2020-04-08T00:00:00.000000000",
                    "2020-04-09T00:00:00.000000000",
                    "2020-04-10T00:00:00.000000000",
                    "2020-04-11T00:00:00.000000000",
                    "2020-04-12T00:00:00.000000000",
                    "2020-04-13T00:00:00.000000000",
                    "2020-04-14T00:00:00.000000000",
                    "2020-04-15T00:00:00.000000000",
                    "2020-04-16T00:00:00.000000000",
                    "2020-04-17T00:00:00.000000000",
                    "2020-04-18T00:00:00.000000000",
                    "2020-04-19T00:00:00.000000000",
                    "2020-04-20T00:00:00.000000000",
                    "2020-04-21T00:00:00.000000000",
                    "2020-04-22T00:00:00.000000000",
                    "2020-04-23T00:00:00.000000000",
                    "2020-04-24T00:00:00.000000000",
                    "2020-04-25T00:00:00.000000000",
                    "2020-04-26T00:00:00.000000000",
                    "2020-04-27T00:00:00.000000000",
                    "2020-04-28T00:00:00.000000000",
                    "2020-04-29T00:00:00.000000000",
                    "2020-04-30T00:00:00.000000000",
                    "2020-05-01T00:00:00.000000000",
                    "2020-05-02T00:00:00.000000000",
                    "2020-05-03T00:00:00.000000000",
                    "2020-05-04T00:00:00.000000000",
                    "2020-05-05T00:00:00.000000000",
                    "2020-05-06T00:00:00.000000000",
                    "2020-05-07T00:00:00.000000000",
                    "2020-05-08T00:00:00.000000000",
                    "2020-05-09T00:00:00.000000000",
                    "2020-05-10T00:00:00.000000000",
                    "2020-05-11T00:00:00.000000000",
                    "2020-05-12T00:00:00.000000000",
                    "2020-05-13T00:00:00.000000000",
                    "2020-05-14T00:00:00.000000000",
                    "2020-05-15T00:00:00.000000000",
                    "2020-05-16T00:00:00.000000000",
                    "2020-05-17T00:00:00.000000000",
                    "2020-05-18T00:00:00.000000000",
                    "2020-05-19T00:00:00.000000000",
                    "2020-05-20T00:00:00.000000000",
                    "2020-05-21T00:00:00.000000000",
                    "2020-05-22T00:00:00.000000000",
                    "2020-05-23T00:00:00.000000000",
                    "2020-05-24T00:00:00.000000000",
                    "2020-05-25T00:00:00.000000000",
                    "2020-05-26T00:00:00.000000000",
                    "2020-05-27T00:00:00.000000000",
                    "2020-05-28T00:00:00.000000000",
                    "2020-05-29T00:00:00.000000000",
                    "2020-05-30T00:00:00.000000000",
                    "2020-05-31T00:00:00.000000000",
                    "2020-06-01T00:00:00.000000000",
                    "2020-06-02T00:00:00.000000000",
                    "2020-06-03T00:00:00.000000000",
                    "2020-06-04T00:00:00.000000000",
                    "2020-06-05T00:00:00.000000000",
                    "2020-06-06T00:00:00.000000000",
                    "2020-06-07T00:00:00.000000000",
                    "2020-06-08T00:00:00.000000000",
                    "2020-06-09T00:00:00.000000000",
                    "2020-06-10T00:00:00.000000000",
                    "2020-06-11T00:00:00.000000000",
                    "2020-06-12T00:00:00.000000000",
                    "2020-06-13T00:00:00.000000000",
                    "2020-06-14T00:00:00.000000000",
                    "2020-06-15T00:00:00.000000000",
                    "2020-06-16T00:00:00.000000000",
                    "2020-06-17T00:00:00.000000000",
                    "2020-06-18T00:00:00.000000000",
                    "2020-06-19T00:00:00.000000000",
                    "2020-06-20T00:00:00.000000000",
                    "2020-06-21T00:00:00.000000000",
                    "2020-06-22T00:00:00.000000000",
                    "2020-06-23T00:00:00.000000000",
                    "2020-06-24T00:00:00.000000000",
                    "2020-06-25T00:00:00.000000000",
                    "2020-06-26T00:00:00.000000000",
                    "2020-06-27T00:00:00.000000000",
                    "2020-06-28T00:00:00.000000000",
                    "2020-06-29T00:00:00.000000000",
                    "2020-06-30T00:00:00.000000000",
                    "2020-07-01T00:00:00.000000000",
                    "2020-07-02T00:00:00.000000000",
                    "2020-07-03T00:00:00.000000000",
                    "2020-07-04T00:00:00.000000000",
                    "2020-07-05T00:00:00.000000000",
                    "2020-07-06T00:00:00.000000000",
                    "2020-07-07T00:00:00.000000000",
                    "2020-07-08T00:00:00.000000000",
                    "2020-07-09T00:00:00.000000000",
                    "2020-07-10T00:00:00.000000000",
                    "2020-07-11T00:00:00.000000000",
                    "2020-07-12T00:00:00.000000000",
                    "2020-07-13T00:00:00.000000000",
                    "2020-07-14T00:00:00.000000000",
                    "2020-07-15T00:00:00.000000000",
                    "2020-07-16T00:00:00.000000000",
                    "2020-07-17T00:00:00.000000000",
                    "2020-07-18T00:00:00.000000000",
                    "2020-07-19T00:00:00.000000000",
                    "2020-07-20T00:00:00.000000000",
                    "2020-07-21T00:00:00.000000000",
                    "2020-07-22T00:00:00.000000000",
                    "2020-07-23T00:00:00.000000000",
                    "2020-07-24T00:00:00.000000000",
                    "2020-07-25T00:00:00.000000000",
                    "2020-07-26T00:00:00.000000000",
                    "2020-07-27T00:00:00.000000000"
                  ],
                  "xaxis": "x",
                  "y": {
                    "bdata": "HAAAAB4AAAAkAAAAJwAAADQAAAA9AAAAawAAAH0AAACNAAAA2wAAABkBAADLAQAAXAIAADUDAAAvBAAAigUAAG8HAACmCQAA8QsAAIIOAABBEQAA8RIAACoXAAC9HQAAxiIAAE8oAACvLgAAfTUAACI8AADZQwAALkYAAFlVAAAgVwAA710AABxoAACVcQAAr3wAAOqJAACqlQAA+KAAADWsAABZtgAA08EAAA3MAAD+0wAAuN0AANTmAADb7QAAUvUAAFn+AACCAwEABwsBAEkUAQCbIQEAoCkBAGA0AQATPgEAeEQBAAVOAQCvXgEA9nYBAMh4AQANngEAVbMBAPzTAQD89QEAYBYCAFU7AgCrdwIA+qcCAPrjAgDkJAMAhF8DALCtAwAN4gMA3CEEACF7BADh6QQA7UgFAHWbBQAf/wUA2EgGAHuwBgCmEAcA7ZwHAHcSCAAvdQgA/dAIAC1JCQBmnAkA6yEKANeTCgAZAwsAAcULAB8uDABxmgwAngENAMh/DQA4IA4AsBkPAMWpDwB6RRAAab8QAB5AEQBLyxEADnoSAB8QEwDxmhMAF2gUAPznFAAMnBUAnygWAFn+FgDwlRcAME4YAKInGQB7xBkAbZAaAABZGwBJPBwA4AAdAN2lHgDSeR8As08gAP1FIQDuGiIADQ8jAGIRJAC/OyUAnUwmAPVzJwDvRigAK9spADYNKwAYHCwAvSYtAMY8LgCuES8AOF8xAIGdMgBSzjMAORo1ABVONgCQmjcA1qs4AP7hOQBwXjsACSk9APpjPgAC1T8Aa5dBABuiQgBtBkQAIJtFAI1dRwCyxkgA/mVKADAETAAAX00Azs1OALOWUABbWlIARbFWAN5cWABHWFsAyildACALXwCJQGEAyKdjABW0ZQAe02cAL71pAJZwawBTk20AEb1vANArcgBBfXQAYOx2AGY5eQDrj3oAOft8ALqjfwBHVIIAOeuEALloiABXwIsAmM6NALd4kAA=",
                    "dtype": "i4"
                  },
                  "yaxis": "y"
                },
                {
                  "hovertemplate": "Case Type=Deaths<br>Date=%{x}<br>Count=%{y}<extra></extra>",
                  "legendgroup": "Deaths",
                  "line": {
                    "color": "#ab63fa",
                    "dash": "solid"
                  },
                  "marker": {
                    "symbol": "circle"
                  },
                  "mode": "lines",
                  "name": "Deaths",
                  "orientation": "v",
                  "showlegend": true,
                  "type": "scatter",
                  "x": [
                    "2020-01-22T00:00:00.000000000",
                    "2020-01-23T00:00:00.000000000",
                    "2020-01-24T00:00:00.000000000",
                    "2020-01-25T00:00:00.000000000",
                    "2020-01-26T00:00:00.000000000",
                    "2020-01-27T00:00:00.000000000",
                    "2020-01-28T00:00:00.000000000",
                    "2020-01-29T00:00:00.000000000",
                    "2020-01-30T00:00:00.000000000",
                    "2020-01-31T00:00:00.000000000",
                    "2020-02-01T00:00:00.000000000",
                    "2020-02-02T00:00:00.000000000",
                    "2020-02-03T00:00:00.000000000",
                    "2020-02-04T00:00:00.000000000",
                    "2020-02-05T00:00:00.000000000",
                    "2020-02-06T00:00:00.000000000",
                    "2020-02-07T00:00:00.000000000",
                    "2020-02-08T00:00:00.000000000",
                    "2020-02-09T00:00:00.000000000",
                    "2020-02-10T00:00:00.000000000",
                    "2020-02-11T00:00:00.000000000",
                    "2020-02-12T00:00:00.000000000",
                    "2020-02-13T00:00:00.000000000",
                    "2020-02-14T00:00:00.000000000",
                    "2020-02-15T00:00:00.000000000",
                    "2020-02-16T00:00:00.000000000",
                    "2020-02-17T00:00:00.000000000",
                    "2020-02-18T00:00:00.000000000",
                    "2020-02-19T00:00:00.000000000",
                    "2020-02-20T00:00:00.000000000",
                    "2020-02-21T00:00:00.000000000",
                    "2020-02-22T00:00:00.000000000",
                    "2020-02-23T00:00:00.000000000",
                    "2020-02-24T00:00:00.000000000",
                    "2020-02-25T00:00:00.000000000",
                    "2020-02-26T00:00:00.000000000",
                    "2020-02-27T00:00:00.000000000",
                    "2020-02-28T00:00:00.000000000",
                    "2020-02-29T00:00:00.000000000",
                    "2020-03-01T00:00:00.000000000",
                    "2020-03-02T00:00:00.000000000",
                    "2020-03-03T00:00:00.000000000",
                    "2020-03-04T00:00:00.000000000",
                    "2020-03-05T00:00:00.000000000",
                    "2020-03-06T00:00:00.000000000",
                    "2020-03-07T00:00:00.000000000",
                    "2020-03-08T00:00:00.000000000",
                    "2020-03-09T00:00:00.000000000",
                    "2020-03-10T00:00:00.000000000",
                    "2020-03-11T00:00:00.000000000",
                    "2020-03-12T00:00:00.000000000",
                    "2020-03-13T00:00:00.000000000",
                    "2020-03-14T00:00:00.000000000",
                    "2020-03-15T00:00:00.000000000",
                    "2020-03-16T00:00:00.000000000",
                    "2020-03-17T00:00:00.000000000",
                    "2020-03-18T00:00:00.000000000",
                    "2020-03-19T00:00:00.000000000",
                    "2020-03-20T00:00:00.000000000",
                    "2020-03-21T00:00:00.000000000",
                    "2020-03-22T00:00:00.000000000",
                    "2020-03-23T00:00:00.000000000",
                    "2020-03-24T00:00:00.000000000",
                    "2020-03-25T00:00:00.000000000",
                    "2020-03-26T00:00:00.000000000",
                    "2020-03-27T00:00:00.000000000",
                    "2020-03-28T00:00:00.000000000",
                    "2020-03-29T00:00:00.000000000",
                    "2020-03-30T00:00:00.000000000",
                    "2020-03-31T00:00:00.000000000",
                    "2020-04-01T00:00:00.000000000",
                    "2020-04-02T00:00:00.000000000",
                    "2020-04-03T00:00:00.000000000",
                    "2020-04-04T00:00:00.000000000",
                    "2020-04-05T00:00:00.000000000",
                    "2020-04-06T00:00:00.000000000",
                    "2020-04-07T00:00:00.000000000",
                    "2020-04-08T00:00:00.000000000",
                    "2020-04-09T00:00:00.000000000",
                    "2020-04-10T00:00:00.000000000",
                    "2020-04-11T00:00:00.000000000",
                    "2020-04-12T00:00:00.000000000",
                    "2020-04-13T00:00:00.000000000",
                    "2020-04-14T00:00:00.000000000",
                    "2020-04-15T00:00:00.000000000",
                    "2020-04-16T00:00:00.000000000",
                    "2020-04-17T00:00:00.000000000",
                    "2020-04-18T00:00:00.000000000",
                    "2020-04-19T00:00:00.000000000",
                    "2020-04-20T00:00:00.000000000",
                    "2020-04-21T00:00:00.000000000",
                    "2020-04-22T00:00:00.000000000",
                    "2020-04-23T00:00:00.000000000",
                    "2020-04-24T00:00:00.000000000",
                    "2020-04-25T00:00:00.000000000",
                    "2020-04-26T00:00:00.000000000",
                    "2020-04-27T00:00:00.000000000",
                    "2020-04-28T00:00:00.000000000",
                    "2020-04-29T00:00:00.000000000",
                    "2020-04-30T00:00:00.000000000",
                    "2020-05-01T00:00:00.000000000",
                    "2020-05-02T00:00:00.000000000",
                    "2020-05-03T00:00:00.000000000",
                    "2020-05-04T00:00:00.000000000",
                    "2020-05-05T00:00:00.000000000",
                    "2020-05-06T00:00:00.000000000",
                    "2020-05-07T00:00:00.000000000",
                    "2020-05-08T00:00:00.000000000",
                    "2020-05-09T00:00:00.000000000",
                    "2020-05-10T00:00:00.000000000",
                    "2020-05-11T00:00:00.000000000",
                    "2020-05-12T00:00:00.000000000",
                    "2020-05-13T00:00:00.000000000",
                    "2020-05-14T00:00:00.000000000",
                    "2020-05-15T00:00:00.000000000",
                    "2020-05-16T00:00:00.000000000",
                    "2020-05-17T00:00:00.000000000",
                    "2020-05-18T00:00:00.000000000",
                    "2020-05-19T00:00:00.000000000",
                    "2020-05-20T00:00:00.000000000",
                    "2020-05-21T00:00:00.000000000",
                    "2020-05-22T00:00:00.000000000",
                    "2020-05-23T00:00:00.000000000",
                    "2020-05-24T00:00:00.000000000",
                    "2020-05-25T00:00:00.000000000",
                    "2020-05-26T00:00:00.000000000",
                    "2020-05-27T00:00:00.000000000",
                    "2020-05-28T00:00:00.000000000",
                    "2020-05-29T00:00:00.000000000",
                    "2020-05-30T00:00:00.000000000",
                    "2020-05-31T00:00:00.000000000",
                    "2020-06-01T00:00:00.000000000",
                    "2020-06-02T00:00:00.000000000",
                    "2020-06-03T00:00:00.000000000",
                    "2020-06-04T00:00:00.000000000",
                    "2020-06-05T00:00:00.000000000",
                    "2020-06-06T00:00:00.000000000",
                    "2020-06-07T00:00:00.000000000",
                    "2020-06-08T00:00:00.000000000",
                    "2020-06-09T00:00:00.000000000",
                    "2020-06-10T00:00:00.000000000",
                    "2020-06-11T00:00:00.000000000",
                    "2020-06-12T00:00:00.000000000",
                    "2020-06-13T00:00:00.000000000",
                    "2020-06-14T00:00:00.000000000",
                    "2020-06-15T00:00:00.000000000",
                    "2020-06-16T00:00:00.000000000",
                    "2020-06-17T00:00:00.000000000",
                    "2020-06-18T00:00:00.000000000",
                    "2020-06-19T00:00:00.000000000",
                    "2020-06-20T00:00:00.000000000",
                    "2020-06-21T00:00:00.000000000",
                    "2020-06-22T00:00:00.000000000",
                    "2020-06-23T00:00:00.000000000",
                    "2020-06-24T00:00:00.000000000",
                    "2020-06-25T00:00:00.000000000",
                    "2020-06-26T00:00:00.000000000",
                    "2020-06-27T00:00:00.000000000",
                    "2020-06-28T00:00:00.000000000",
                    "2020-06-29T00:00:00.000000000",
                    "2020-06-30T00:00:00.000000000",
                    "2020-07-01T00:00:00.000000000",
                    "2020-07-02T00:00:00.000000000",
                    "2020-07-03T00:00:00.000000000",
                    "2020-07-04T00:00:00.000000000",
                    "2020-07-05T00:00:00.000000000",
                    "2020-07-06T00:00:00.000000000",
                    "2020-07-07T00:00:00.000000000",
                    "2020-07-08T00:00:00.000000000",
                    "2020-07-09T00:00:00.000000000",
                    "2020-07-10T00:00:00.000000000",
                    "2020-07-11T00:00:00.000000000",
                    "2020-07-12T00:00:00.000000000",
                    "2020-07-13T00:00:00.000000000",
                    "2020-07-14T00:00:00.000000000",
                    "2020-07-15T00:00:00.000000000",
                    "2020-07-16T00:00:00.000000000",
                    "2020-07-17T00:00:00.000000000",
                    "2020-07-18T00:00:00.000000000",
                    "2020-07-19T00:00:00.000000000",
                    "2020-07-20T00:00:00.000000000",
                    "2020-07-21T00:00:00.000000000",
                    "2020-07-22T00:00:00.000000000",
                    "2020-07-23T00:00:00.000000000",
                    "2020-07-24T00:00:00.000000000",
                    "2020-07-25T00:00:00.000000000",
                    "2020-07-26T00:00:00.000000000",
                    "2020-07-27T00:00:00.000000000"
                  ],
                  "xaxis": "x",
                  "y": {
                    "bdata": "EQAAABIAAAAaAAAAKgAAADgAAABSAAAAgwAAAIUAAACrAAAA1QAAAAMBAABqAQAAqgEAAOwBAAA0AgAAegIAAM8CAAAmAwAAigMAAPUDAABZBAAAXgQAAFsFAADzBQAAggYAAOoGAABMBwAA2AcAAEsIAADGCAAAyggAAJkJAACjCQAAQwoAAJMKAADPCgAA+goAADMLAAB4CwAArgsAAAcMAABSDAAAsQwAAA4NAAB+DQAA4Q0AANUOAACNDwAApBAAAPwRAAAtEwAAHhUAAL8WAABAGQAA6BsAAAwfAACNIgAA3yYAAKUsAABOMwAA7zkAAGxBAABISgAAIVUAAOBgAACebgAA/XwAAI6KAADSmgAAvq0AAG3DAAAO3AAAb/MAAEAKAQDdHQEApTQBAINTAQDSbQEAn4sBAAeoAQC8vwEAH9YBAJLsAQCEBwIA/CcCAG9EAgApZwIAcIACAEqSAgCNpwIAgsMCAOXdAgCn+AIAuRIDAIMoAwCuNwMA10kDABZjAwCGfQMA0JQDAAmpAwDWvQMAU8sDAHPbAwBi8gMAbwwEAJAhBABQNwQA+UcEAOdVBAB4YwQAI3kEAI+NBAAjogQAgrYEAM3GBADO0wQAqeAEAFnzBABuBgUAIBkFAMQtBQBZPQUAnUkFADdOBQCiXgUA/3IFAFyFBQDilwUAHqgFAGazBQBivwUAOdIFAP3nBQAa/AUAwg4GAOsdBgChKAYAEjcGAExKBgChXgYAR3EGABCCBgCekgYAzJ8GAC2tBgAAyAYAh9wGACzwBgCtCAcARhkHAMEoBwC0NgcAc0sHAABgBwDjeQcAvowHAESeBwBVqgcA3rgHAOrMBwB94AcAffQHAAAICAARGQgAhiYIAFs1CAA2TQgA/WEIAE93CAAOjAgAL58IAKGuCACIvQgApNMIABnpCADA/wgAFxoJABIwCQDPPwkAD1AJAG1oCQC0gwkAoqoJAKLCCQCl1QkAreUJANT6CQA=",
                    "dtype": "i4"
                  },
                  "yaxis": "y"
                }
              ],
              "layout": {
                "legend": {
                  "title": {
                    "text": "Case Type"
                  },
                  "tracegroupgap": 0
                },
                "template": {
                  "data": {
                    "bar": [
                      {
                        "error_x": {
                          "color": "#2a3f5f"
                        },
                        "error_y": {
                          "color": "#2a3f5f"
                        },
                        "marker": {
                          "line": {
                            "color": "white",
                            "width": 0.5
                          },
                          "pattern": {
                            "fillmode": "overlay",
                            "size": 10,
                            "solidity": 0.2
                          }
                        },
                        "type": "bar"
                      }
                    ],
                    "barpolar": [
                      {
                        "marker": {
                          "line": {
                            "color": "white",
                            "width": 0.5
                          },
                          "pattern": {
                            "fillmode": "overlay",
                            "size": 10,
                            "solidity": 0.2
                          }
                        },
                        "type": "barpolar"
                      }
                    ],
                    "carpet": [
                      {
                        "aaxis": {
                          "endlinecolor": "#2a3f5f",
                          "gridcolor": "#C8D4E3",
                          "linecolor": "#C8D4E3",
                          "minorgridcolor": "#C8D4E3",
                          "startlinecolor": "#2a3f5f"
                        },
                        "baxis": {
                          "endlinecolor": "#2a3f5f",
                          "gridcolor": "#C8D4E3",
                          "linecolor": "#C8D4E3",
                          "minorgridcolor": "#C8D4E3",
                          "startlinecolor": "#2a3f5f"
                        },
                        "type": "carpet"
                      }
                    ],
                    "choropleth": [
                      {
                        "colorbar": {
                          "outlinewidth": 0,
                          "ticks": ""
                        },
                        "type": "choropleth"
                      }
                    ],
                    "contour": [
                      {
                        "colorbar": {
                          "outlinewidth": 0,
                          "ticks": ""
                        },
                        "colorscale": [
                          [
                            0,
                            "#0d0887"
                          ],
                          [
                            0.1111111111111111,
                            "#46039f"
                          ],
                          [
                            0.2222222222222222,
                            "#7201a8"
                          ],
                          [
                            0.3333333333333333,
                            "#9c179e"
                          ],
                          [
                            0.4444444444444444,
                            "#bd3786"
                          ],
                          [
                            0.5555555555555556,
                            "#d8576b"
                          ],
                          [
                            0.6666666666666666,
                            "#ed7953"
                          ],
                          [
                            0.7777777777777778,
                            "#fb9f3a"
                          ],
                          [
                            0.8888888888888888,
                            "#fdca26"
                          ],
                          [
                            1,
                            "#f0f921"
                          ]
                        ],
                        "type": "contour"
                      }
                    ],
                    "contourcarpet": [
                      {
                        "colorbar": {
                          "outlinewidth": 0,
                          "ticks": ""
                        },
                        "type": "contourcarpet"
                      }
                    ],
                    "heatmap": [
                      {
                        "colorbar": {
                          "outlinewidth": 0,
                          "ticks": ""
                        },
                        "colorscale": [
                          [
                            0,
                            "#0d0887"
                          ],
                          [
                            0.1111111111111111,
                            "#46039f"
                          ],
                          [
                            0.2222222222222222,
                            "#7201a8"
                          ],
                          [
                            0.3333333333333333,
                            "#9c179e"
                          ],
                          [
                            0.4444444444444444,
                            "#bd3786"
                          ],
                          [
                            0.5555555555555556,
                            "#d8576b"
                          ],
                          [
                            0.6666666666666666,
                            "#ed7953"
                          ],
                          [
                            0.7777777777777778,
                            "#fb9f3a"
                          ],
                          [
                            0.8888888888888888,
                            "#fdca26"
                          ],
                          [
                            1,
                            "#f0f921"
                          ]
                        ],
                        "type": "heatmap"
                      }
                    ],
                    "histogram": [
                      {
                        "marker": {
                          "pattern": {
                            "fillmode": "overlay",
                            "size": 10,
                            "solidity": 0.2
                          }
                        },
                        "type": "histogram"
                      }
                    ],
                    "histogram2d": [
                      {
                        "colorbar": {
                          "outlinewidth": 0,
                          "ticks": ""
                        },
                        "colorscale": [
                          [
                            0,
                            "#0d0887"
                          ],
                          [
                            0.1111111111111111,
                            "#46039f"
                          ],
                          [
                            0.2222222222222222,
                            "#7201a8"
                          ],
                          [
                            0.3333333333333333,
                            "#9c179e"
                          ],
                          [
                            0.4444444444444444,
                            "#bd3786"
                          ],
                          [
                            0.5555555555555556,
                            "#d8576b"
                          ],
                          [
                            0.6666666666666666,
                            "#ed7953"
                          ],
                          [
                            0.7777777777777778,
                            "#fb9f3a"
                          ],
                          [
                            0.8888888888888888,
                            "#fdca26"
                          ],
                          [
                            1,
                            "#f0f921"
                          ]
                        ],
                        "type": "histogram2d"
                      }
                    ],
                    "histogram2dcontour": [
                      {
                        "colorbar": {
                          "outlinewidth": 0,
                          "ticks": ""
                        },
                        "colorscale": [
                          [
                            0,
                            "#0d0887"
                          ],
                          [
                            0.1111111111111111,
                            "#46039f"
                          ],
                          [
                            0.2222222222222222,
                            "#7201a8"
                          ],
                          [
                            0.3333333333333333,
                            "#9c179e"
                          ],
                          [
                            0.4444444444444444,
                            "#bd3786"
                          ],
                          [
                            0.5555555555555556,
                            "#d8576b"
                          ],
                          [
                            0.6666666666666666,
                            "#ed7953"
                          ],
                          [
                            0.7777777777777778,
                            "#fb9f3a"
                          ],
                          [
                            0.8888888888888888,
                            "#fdca26"
                          ],
                          [
                            1,
                            "#f0f921"
                          ]
                        ],
                        "type": "histogram2dcontour"
                      }
                    ],
                    "mesh3d": [
                      {
                        "colorbar": {
                          "outlinewidth": 0,
                          "ticks": ""
                        },
                        "type": "mesh3d"
                      }
                    ],
                    "parcoords": [
                      {
                        "line": {
                          "colorbar": {
                            "outlinewidth": 0,
                            "ticks": ""
                          }
                        },
                        "type": "parcoords"
                      }
                    ],
                    "pie": [
                      {
                        "automargin": true,
                        "type": "pie"
                      }
                    ],
                    "scatter": [
                      {
                        "fillpattern": {
                          "fillmode": "overlay",
                          "size": 10,
                          "solidity": 0.2
                        },
                        "type": "scatter"
                      }
                    ],
                    "scatter3d": [
                      {
                        "line": {
                          "colorbar": {
                            "outlinewidth": 0,
                            "ticks": ""
                          }
                        },
                        "marker": {
                          "colorbar": {
                            "outlinewidth": 0,
                            "ticks": ""
                          }
                        },
                        "type": "scatter3d"
                      }
                    ],
                    "scattercarpet": [
                      {
                        "marker": {
                          "colorbar": {
                            "outlinewidth": 0,
                            "ticks": ""
                          }
                        },
                        "type": "scattercarpet"
                      }
                    ],
                    "scattergeo": [
                      {
                        "marker": {
                          "colorbar": {
                            "outlinewidth": 0,
                            "ticks": ""
                          }
                        },
                        "type": "scattergeo"
                      }
                    ],
                    "scattergl": [
                      {
                        "marker": {
                          "colorbar": {
                            "outlinewidth": 0,
                            "ticks": ""
                          }
                        },
                        "type": "scattergl"
                      }
                    ],
                    "scattermap": [
                      {
                        "marker": {
                          "colorbar": {
                            "outlinewidth": 0,
                            "ticks": ""
                          }
                        },
                        "type": "scattermap"
                      }
                    ],
                    "scattermapbox": [
                      {
                        "marker": {
                          "colorbar": {
                            "outlinewidth": 0,
                            "ticks": ""
                          }
                        },
                        "type": "scattermapbox"
                      }
                    ],
                    "scatterpolar": [
                      {
                        "marker": {
                          "colorbar": {
                            "outlinewidth": 0,
                            "ticks": ""
                          }
                        },
                        "type": "scatterpolar"
                      }
                    ],
                    "scatterpolargl": [
                      {
                        "marker": {
                          "colorbar": {
                            "outlinewidth": 0,
                            "ticks": ""
                          }
                        },
                        "type": "scatterpolargl"
                      }
                    ],
                    "scatterternary": [
                      {
                        "marker": {
                          "colorbar": {
                            "outlinewidth": 0,
                            "ticks": ""
                          }
                        },
                        "type": "scatterternary"
                      }
                    ],
                    "surface": [
                      {
                        "colorbar": {
                          "outlinewidth": 0,
                          "ticks": ""
                        },
                        "colorscale": [
                          [
                            0,
                            "#0d0887"
                          ],
                          [
                            0.1111111111111111,
                            "#46039f"
                          ],
                          [
                            0.2222222222222222,
                            "#7201a8"
                          ],
                          [
                            0.3333333333333333,
                            "#9c179e"
                          ],
                          [
                            0.4444444444444444,
                            "#bd3786"
                          ],
                          [
                            0.5555555555555556,
                            "#d8576b"
                          ],
                          [
                            0.6666666666666666,
                            "#ed7953"
                          ],
                          [
                            0.7777777777777778,
                            "#fb9f3a"
                          ],
                          [
                            0.8888888888888888,
                            "#fdca26"
                          ],
                          [
                            1,
                            "#f0f921"
                          ]
                        ],
                        "type": "surface"
                      }
                    ],
                    "table": [
                      {
                        "cells": {
                          "fill": {
                            "color": "#EBF0F8"
                          },
                          "line": {
                            "color": "white"
                          }
                        },
                        "header": {
                          "fill": {
                            "color": "#C8D4E3"
                          },
                          "line": {
                            "color": "white"
                          }
                        },
                        "type": "table"
                      }
                    ]
                  },
                  "layout": {
                    "annotationdefaults": {
                      "arrowcolor": "#2a3f5f",
                      "arrowhead": 0,
                      "arrowwidth": 1
                    },
                    "autotypenumbers": "strict",
                    "coloraxis": {
                      "colorbar": {
                        "outlinewidth": 0,
                        "ticks": ""
                      }
                    },
                    "colorscale": {
                      "diverging": [
                        [
                          0,
                          "#8e0152"
                        ],
                        [
                          0.1,
                          "#c51b7d"
                        ],
                        [
                          0.2,
                          "#de77ae"
                        ],
                        [
                          0.3,
                          "#f1b6da"
                        ],
                        [
                          0.4,
                          "#fde0ef"
                        ],
                        [
                          0.5,
                          "#f7f7f7"
                        ],
                        [
                          0.6,
                          "#e6f5d0"
                        ],
                        [
                          0.7,
                          "#b8e186"
                        ],
                        [
                          0.8,
                          "#7fbc41"
                        ],
                        [
                          0.9,
                          "#4d9221"
                        ],
                        [
                          1,
                          "#276419"
                        ]
                      ],
                      "sequential": [
                        [
                          0,
                          "#0d0887"
                        ],
                        [
                          0.1111111111111111,
                          "#46039f"
                        ],
                        [
                          0.2222222222222222,
                          "#7201a8"
                        ],
                        [
                          0.3333333333333333,
                          "#9c179e"
                        ],
                        [
                          0.4444444444444444,
                          "#bd3786"
                        ],
                        [
                          0.5555555555555556,
                          "#d8576b"
                        ],
                        [
                          0.6666666666666666,
                          "#ed7953"
                        ],
                        [
                          0.7777777777777778,
                          "#fb9f3a"
                        ],
                        [
                          0.8888888888888888,
                          "#fdca26"
                        ],
                        [
                          1,
                          "#f0f921"
                        ]
                      ],
                      "sequentialminus": [
                        [
                          0,
                          "#0d0887"
                        ],
                        [
                          0.1111111111111111,
                          "#46039f"
                        ],
                        [
                          0.2222222222222222,
                          "#7201a8"
                        ],
                        [
                          0.3333333333333333,
                          "#9c179e"
                        ],
                        [
                          0.4444444444444444,
                          "#bd3786"
                        ],
                        [
                          0.5555555555555556,
                          "#d8576b"
                        ],
                        [
                          0.6666666666666666,
                          "#ed7953"
                        ],
                        [
                          0.7777777777777778,
                          "#fb9f3a"
                        ],
                        [
                          0.8888888888888888,
                          "#fdca26"
                        ],
                        [
                          1,
                          "#f0f921"
                        ]
                      ]
                    },
                    "colorway": [
                      "#636efa",
                      "#EF553B",
                      "#00cc96",
                      "#ab63fa",
                      "#FFA15A",
                      "#19d3f3",
                      "#FF6692",
                      "#B6E880",
                      "#FF97FF",
                      "#FECB52"
                    ],
                    "font": {
                      "color": "#2a3f5f"
                    },
                    "geo": {
                      "bgcolor": "white",
                      "lakecolor": "white",
                      "landcolor": "white",
                      "showlakes": true,
                      "showland": true,
                      "subunitcolor": "#C8D4E3"
                    },
                    "hoverlabel": {
                      "align": "left"
                    },
                    "hovermode": "closest",
                    "mapbox": {
                      "style": "light"
                    },
                    "paper_bgcolor": "white",
                    "plot_bgcolor": "white",
                    "polar": {
                      "angularaxis": {
                        "gridcolor": "#EBF0F8",
                        "linecolor": "#EBF0F8",
                        "ticks": ""
                      },
                      "bgcolor": "white",
                      "radialaxis": {
                        "gridcolor": "#EBF0F8",
                        "linecolor": "#EBF0F8",
                        "ticks": ""
                      }
                    },
                    "scene": {
                      "xaxis": {
                        "backgroundcolor": "white",
                        "gridcolor": "#DFE8F3",
                        "gridwidth": 2,
                        "linecolor": "#EBF0F8",
                        "showbackground": true,
                        "ticks": "",
                        "zerolinecolor": "#EBF0F8"
                      },
                      "yaxis": {
                        "backgroundcolor": "white",
                        "gridcolor": "#DFE8F3",
                        "gridwidth": 2,
                        "linecolor": "#EBF0F8",
                        "showbackground": true,
                        "ticks": "",
                        "zerolinecolor": "#EBF0F8"
                      },
                      "zaxis": {
                        "backgroundcolor": "white",
                        "gridcolor": "#DFE8F3",
                        "gridwidth": 2,
                        "linecolor": "#EBF0F8",
                        "showbackground": true,
                        "ticks": "",
                        "zerolinecolor": "#EBF0F8"
                      }
                    },
                    "shapedefaults": {
                      "line": {
                        "color": "#2a3f5f"
                      }
                    },
                    "ternary": {
                      "aaxis": {
                        "gridcolor": "#DFE8F3",
                        "linecolor": "#A2B1C6",
                        "ticks": ""
                      },
                      "baxis": {
                        "gridcolor": "#DFE8F3",
                        "linecolor": "#A2B1C6",
                        "ticks": ""
                      },
                      "bgcolor": "white",
                      "caxis": {
                        "gridcolor": "#DFE8F3",
                        "linecolor": "#A2B1C6",
                        "ticks": ""
                      }
                    },
                    "title": {
                      "x": 0.05
                    },
                    "xaxis": {
                      "automargin": true,
                      "gridcolor": "#EBF0F8",
                      "linecolor": "#EBF0F8",
                      "ticks": "",
                      "title": {
                        "standoff": 15
                      },
                      "zerolinecolor": "#EBF0F8",
                      "zerolinewidth": 2
                    },
                    "yaxis": {
                      "automargin": true,
                      "gridcolor": "#EBF0F8",
                      "linecolor": "#EBF0F8",
                      "ticks": "",
                      "title": {
                        "standoff": 15
                      },
                      "zerolinecolor": "#EBF0F8",
                      "zerolinewidth": 2
                    }
                  }
                },
                "title": {
                  "text": "COVID-19 Cases in 129"
                },
                "xaxis": {
                  "anchor": "y",
                  "domain": [
                    0,
                    1
                  ],
                  "title": {
                    "text": "Date"
                  }
                },
                "yaxis": {
                  "anchor": "x",
                  "domain": [
                    0,
                    1
                  ],
                  "title": {
                    "text": "Count"
                  }
                }
              }
            }
          },
          "metadata": {},
          "output_type": "display_data"
        }
      ],
      "source": [
        "country = india_indices[0]\n",
        "\n",
        "fig = px.line(df2, x='Date', y=['Confirmed', 'Active', 'Recovered', 'Deaths'],\n",
        "                         title=f'COVID-19 Cases in {country}',\n",
        "                         labels={'value': 'Count', 'variable': 'Case Type'})\n",
        "fig.show()"
      ]
    },
    {
      "cell_type": "code",
      "execution_count": 31,
      "metadata": {
        "colab": {
          "base_uri": "https://localhost:8080/",
          "height": 542
        },
        "id": "SfNa62MqYxWe",
        "outputId": "ccfa78cc-a4b5-40ae-f022-2a33784fcb7b"
      },
      "outputs": [
        {
          "data": {
            "application/vnd.plotly.v1+json": {
              "config": {
                "plotlyServerURL": "https://plot.ly"
              },
              "data": [
                {
                  "hovertemplate": "Case Type=Confirmed<br>Date=%{x}<br>Count=%{y}<extra></extra>",
                  "legendgroup": "Confirmed",
                  "line": {
                    "color": "#636efa",
                    "dash": "solid"
                  },
                  "marker": {
                    "symbol": "circle"
                  },
                  "mode": "lines",
                  "name": "Confirmed",
                  "orientation": "v",
                  "showlegend": true,
                  "type": "scatter",
                  "x": [
                    "2020-01-22T00:00:00.000000000",
                    "2020-01-23T00:00:00.000000000",
                    "2020-01-24T00:00:00.000000000",
                    "2020-01-25T00:00:00.000000000",
                    "2020-01-26T00:00:00.000000000",
                    "2020-01-27T00:00:00.000000000",
                    "2020-01-28T00:00:00.000000000",
                    "2020-01-29T00:00:00.000000000",
                    "2020-01-30T00:00:00.000000000",
                    "2020-01-31T00:00:00.000000000",
                    "2020-02-01T00:00:00.000000000",
                    "2020-02-02T00:00:00.000000000",
                    "2020-02-03T00:00:00.000000000",
                    "2020-02-04T00:00:00.000000000",
                    "2020-02-05T00:00:00.000000000",
                    "2020-02-06T00:00:00.000000000",
                    "2020-02-07T00:00:00.000000000",
                    "2020-02-08T00:00:00.000000000",
                    "2020-02-09T00:00:00.000000000",
                    "2020-02-10T00:00:00.000000000",
                    "2020-02-11T00:00:00.000000000",
                    "2020-02-12T00:00:00.000000000",
                    "2020-02-13T00:00:00.000000000",
                    "2020-02-14T00:00:00.000000000",
                    "2020-02-15T00:00:00.000000000",
                    "2020-02-16T00:00:00.000000000",
                    "2020-02-17T00:00:00.000000000",
                    "2020-02-18T00:00:00.000000000",
                    "2020-02-19T00:00:00.000000000",
                    "2020-02-20T00:00:00.000000000",
                    "2020-02-21T00:00:00.000000000",
                    "2020-02-22T00:00:00.000000000",
                    "2020-02-23T00:00:00.000000000",
                    "2020-02-24T00:00:00.000000000",
                    "2020-02-25T00:00:00.000000000",
                    "2020-02-26T00:00:00.000000000",
                    "2020-02-27T00:00:00.000000000",
                    "2020-02-28T00:00:00.000000000",
                    "2020-02-29T00:00:00.000000000",
                    "2020-03-01T00:00:00.000000000",
                    "2020-03-02T00:00:00.000000000",
                    "2020-03-03T00:00:00.000000000",
                    "2020-03-04T00:00:00.000000000",
                    "2020-03-05T00:00:00.000000000",
                    "2020-03-06T00:00:00.000000000",
                    "2020-03-07T00:00:00.000000000",
                    "2020-03-08T00:00:00.000000000",
                    "2020-03-09T00:00:00.000000000",
                    "2020-03-10T00:00:00.000000000",
                    "2020-03-11T00:00:00.000000000",
                    "2020-03-12T00:00:00.000000000",
                    "2020-03-13T00:00:00.000000000",
                    "2020-03-14T00:00:00.000000000",
                    "2020-03-15T00:00:00.000000000",
                    "2020-03-16T00:00:00.000000000",
                    "2020-03-17T00:00:00.000000000",
                    "2020-03-18T00:00:00.000000000",
                    "2020-03-19T00:00:00.000000000",
                    "2020-03-20T00:00:00.000000000",
                    "2020-03-21T00:00:00.000000000",
                    "2020-03-22T00:00:00.000000000",
                    "2020-03-23T00:00:00.000000000",
                    "2020-03-24T00:00:00.000000000",
                    "2020-03-25T00:00:00.000000000",
                    "2020-03-26T00:00:00.000000000",
                    "2020-03-27T00:00:00.000000000",
                    "2020-03-28T00:00:00.000000000",
                    "2020-03-29T00:00:00.000000000",
                    "2020-03-30T00:00:00.000000000",
                    "2020-03-31T00:00:00.000000000",
                    "2020-04-01T00:00:00.000000000",
                    "2020-04-02T00:00:00.000000000",
                    "2020-04-03T00:00:00.000000000",
                    "2020-04-04T00:00:00.000000000",
                    "2020-04-05T00:00:00.000000000",
                    "2020-04-06T00:00:00.000000000",
                    "2020-04-07T00:00:00.000000000",
                    "2020-04-08T00:00:00.000000000",
                    "2020-04-09T00:00:00.000000000",
                    "2020-04-10T00:00:00.000000000",
                    "2020-04-11T00:00:00.000000000",
                    "2020-04-12T00:00:00.000000000",
                    "2020-04-13T00:00:00.000000000",
                    "2020-04-14T00:00:00.000000000",
                    "2020-04-15T00:00:00.000000000",
                    "2020-04-16T00:00:00.000000000",
                    "2020-04-17T00:00:00.000000000",
                    "2020-04-18T00:00:00.000000000",
                    "2020-04-19T00:00:00.000000000",
                    "2020-04-20T00:00:00.000000000",
                    "2020-04-21T00:00:00.000000000",
                    "2020-04-22T00:00:00.000000000",
                    "2020-04-23T00:00:00.000000000",
                    "2020-04-24T00:00:00.000000000",
                    "2020-04-25T00:00:00.000000000",
                    "2020-04-26T00:00:00.000000000",
                    "2020-04-27T00:00:00.000000000",
                    "2020-04-28T00:00:00.000000000",
                    "2020-04-29T00:00:00.000000000",
                    "2020-04-30T00:00:00.000000000",
                    "2020-05-01T00:00:00.000000000",
                    "2020-05-02T00:00:00.000000000",
                    "2020-05-03T00:00:00.000000000",
                    "2020-05-04T00:00:00.000000000",
                    "2020-05-05T00:00:00.000000000",
                    "2020-05-06T00:00:00.000000000",
                    "2020-05-07T00:00:00.000000000",
                    "2020-05-08T00:00:00.000000000",
                    "2020-05-09T00:00:00.000000000",
                    "2020-05-10T00:00:00.000000000",
                    "2020-05-11T00:00:00.000000000",
                    "2020-05-12T00:00:00.000000000",
                    "2020-05-13T00:00:00.000000000",
                    "2020-05-14T00:00:00.000000000",
                    "2020-05-15T00:00:00.000000000",
                    "2020-05-16T00:00:00.000000000",
                    "2020-05-17T00:00:00.000000000",
                    "2020-05-18T00:00:00.000000000",
                    "2020-05-19T00:00:00.000000000",
                    "2020-05-20T00:00:00.000000000",
                    "2020-05-21T00:00:00.000000000",
                    "2020-05-22T00:00:00.000000000",
                    "2020-05-23T00:00:00.000000000",
                    "2020-05-24T00:00:00.000000000",
                    "2020-05-25T00:00:00.000000000",
                    "2020-05-26T00:00:00.000000000",
                    "2020-05-27T00:00:00.000000000",
                    "2020-05-28T00:00:00.000000000",
                    "2020-05-29T00:00:00.000000000",
                    "2020-05-30T00:00:00.000000000",
                    "2020-05-31T00:00:00.000000000",
                    "2020-06-01T00:00:00.000000000",
                    "2020-06-02T00:00:00.000000000",
                    "2020-06-03T00:00:00.000000000",
                    "2020-06-04T00:00:00.000000000",
                    "2020-06-05T00:00:00.000000000",
                    "2020-06-06T00:00:00.000000000",
                    "2020-06-07T00:00:00.000000000",
                    "2020-06-08T00:00:00.000000000",
                    "2020-06-09T00:00:00.000000000",
                    "2020-06-10T00:00:00.000000000",
                    "2020-06-11T00:00:00.000000000",
                    "2020-06-12T00:00:00.000000000",
                    "2020-06-13T00:00:00.000000000",
                    "2020-06-14T00:00:00.000000000",
                    "2020-06-15T00:00:00.000000000",
                    "2020-06-16T00:00:00.000000000",
                    "2020-06-17T00:00:00.000000000",
                    "2020-06-18T00:00:00.000000000",
                    "2020-06-19T00:00:00.000000000",
                    "2020-06-20T00:00:00.000000000",
                    "2020-06-21T00:00:00.000000000",
                    "2020-06-22T00:00:00.000000000",
                    "2020-06-23T00:00:00.000000000",
                    "2020-06-24T00:00:00.000000000",
                    "2020-06-25T00:00:00.000000000",
                    "2020-06-26T00:00:00.000000000",
                    "2020-06-27T00:00:00.000000000",
                    "2020-06-28T00:00:00.000000000",
                    "2020-06-29T00:00:00.000000000",
                    "2020-06-30T00:00:00.000000000",
                    "2020-07-01T00:00:00.000000000",
                    "2020-07-02T00:00:00.000000000",
                    "2020-07-03T00:00:00.000000000",
                    "2020-07-04T00:00:00.000000000",
                    "2020-07-05T00:00:00.000000000",
                    "2020-07-06T00:00:00.000000000",
                    "2020-07-07T00:00:00.000000000",
                    "2020-07-08T00:00:00.000000000",
                    "2020-07-09T00:00:00.000000000",
                    "2020-07-10T00:00:00.000000000",
                    "2020-07-11T00:00:00.000000000",
                    "2020-07-12T00:00:00.000000000",
                    "2020-07-13T00:00:00.000000000",
                    "2020-07-14T00:00:00.000000000",
                    "2020-07-15T00:00:00.000000000",
                    "2020-07-16T00:00:00.000000000",
                    "2020-07-17T00:00:00.000000000",
                    "2020-07-18T00:00:00.000000000",
                    "2020-07-19T00:00:00.000000000",
                    "2020-07-20T00:00:00.000000000",
                    "2020-07-21T00:00:00.000000000",
                    "2020-07-22T00:00:00.000000000",
                    "2020-07-23T00:00:00.000000000",
                    "2020-07-24T00:00:00.000000000",
                    "2020-07-25T00:00:00.000000000",
                    "2020-07-26T00:00:00.000000000",
                    "2020-07-27T00:00:00.000000000"
                  ],
                  "xaxis": "x",
                  "y": {
                    "bdata": "KwIAAI4CAACtAwAAmgUAAEYIAABvCwAAyhUAABYYAAAqIAAAxyYAAAYvAACTQQAAr00AAFpdAAD7awAAUngAAB6GAADMkAAAn5wAAImmAACDrgAA4bUAAC7rAACCBAEAnQwBAN8UAQBvHAEAcSMBABYlAQA5JwEArikBAI8wAQDSMQEABjQBAFs3AQAeOwEAckABANNFAQA6TQEAilYBAEBeAQBRaAEATHEBADN8AQCaiwEAYJsBANKqAQAOugEArs0BAJ3rAQATAgIAWDoCALplAgBEkQIAh8oCAGUIAwDnVAMA9cEDAJ01BADPswQAUTYFAAbbBQC5ewYAOkIHACo4CAC6MwkAAzwKALwkCwA7IQwAu0sNAHF1DgBosw8AO/gQAIoyEgCwShMAkGYUANmSFQAY2hYAeSwYAOOCGQCIrxoAlSkcAG85HQCWSh4AU4YfABsAIQDHViIArHcjADeyJACy0CUApPYmAKoiKABffikA+9EqAL8dLACyOi0AEkcuADVtLwArmjAADOExABI1MwAodDQAbKM1AJnMNgAOBTgAtGQ5ALLAOgAvJjwAhXU9AFufPgAsyT8Auw9BAMtaQgAc1kMAeU5FAC3DRgDa9UcAtk5JAF7HSgDSWUwAMPlNAMSaTwANNlEAa6pSAB7+UwCIZ1UAUPhWAGLKWACxo1oAGr5cADpiXgAV1l8AAK5hAFyAYwA1cGUAZG9nAGqCaQDtOGsAPshsAPStbgB9uXAA/9RyAEXNdACP4HYAvOl4ABK9egBt5XwAig9/ACIygQBo9IMA2FuGAPNRiAB1bIoAT/KMAP6OjwDdRZIATzGVAA3plwBrYJoA18ucACFznwB6xaIA0/ClALkLqQDY/6sAf8muAC5XsQDKjrQAJMq3AKdFuwAo0r4AMB/CAMwPxQDXAMgA42HLALDozgAtw9IAo3TWAOYU2gBdW90AF4PgAAYT5ABNW+gA0avsAB328ABW3PQAlPv3AOV4+wA=",
                    "dtype": "i4"
                  },
                  "yaxis": "y"
                },
                {
                  "hovertemplate": "Case Type=Active<br>Date=%{x}<br>Count=%{y}<extra></extra>",
                  "legendgroup": "Active",
                  "line": {
                    "color": "#EF553B",
                    "dash": "solid"
                  },
                  "marker": {
                    "symbol": "circle"
                  },
                  "mode": "lines",
                  "name": "Active",
                  "orientation": "v",
                  "showlegend": true,
                  "type": "scatter",
                  "x": [
                    "2020-01-22T00:00:00.000000000",
                    "2020-01-23T00:00:00.000000000",
                    "2020-01-24T00:00:00.000000000",
                    "2020-01-25T00:00:00.000000000",
                    "2020-01-26T00:00:00.000000000",
                    "2020-01-27T00:00:00.000000000",
                    "2020-01-28T00:00:00.000000000",
                    "2020-01-29T00:00:00.000000000",
                    "2020-01-30T00:00:00.000000000",
                    "2020-01-31T00:00:00.000000000",
                    "2020-02-01T00:00:00.000000000",
                    "2020-02-02T00:00:00.000000000",
                    "2020-02-03T00:00:00.000000000",
                    "2020-02-04T00:00:00.000000000",
                    "2020-02-05T00:00:00.000000000",
                    "2020-02-06T00:00:00.000000000",
                    "2020-02-07T00:00:00.000000000",
                    "2020-02-08T00:00:00.000000000",
                    "2020-02-09T00:00:00.000000000",
                    "2020-02-10T00:00:00.000000000",
                    "2020-02-11T00:00:00.000000000",
                    "2020-02-12T00:00:00.000000000",
                    "2020-02-13T00:00:00.000000000",
                    "2020-02-14T00:00:00.000000000",
                    "2020-02-15T00:00:00.000000000",
                    "2020-02-16T00:00:00.000000000",
                    "2020-02-17T00:00:00.000000000",
                    "2020-02-18T00:00:00.000000000",
                    "2020-02-19T00:00:00.000000000",
                    "2020-02-20T00:00:00.000000000",
                    "2020-02-21T00:00:00.000000000",
                    "2020-02-22T00:00:00.000000000",
                    "2020-02-23T00:00:00.000000000",
                    "2020-02-24T00:00:00.000000000",
                    "2020-02-25T00:00:00.000000000",
                    "2020-02-26T00:00:00.000000000",
                    "2020-02-27T00:00:00.000000000",
                    "2020-02-28T00:00:00.000000000",
                    "2020-02-29T00:00:00.000000000",
                    "2020-03-01T00:00:00.000000000",
                    "2020-03-02T00:00:00.000000000",
                    "2020-03-03T00:00:00.000000000",
                    "2020-03-04T00:00:00.000000000",
                    "2020-03-05T00:00:00.000000000",
                    "2020-03-06T00:00:00.000000000",
                    "2020-03-07T00:00:00.000000000",
                    "2020-03-08T00:00:00.000000000",
                    "2020-03-09T00:00:00.000000000",
                    "2020-03-10T00:00:00.000000000",
                    "2020-03-11T00:00:00.000000000",
                    "2020-03-12T00:00:00.000000000",
                    "2020-03-13T00:00:00.000000000",
                    "2020-03-14T00:00:00.000000000",
                    "2020-03-15T00:00:00.000000000",
                    "2020-03-16T00:00:00.000000000",
                    "2020-03-17T00:00:00.000000000",
                    "2020-03-18T00:00:00.000000000",
                    "2020-03-19T00:00:00.000000000",
                    "2020-03-20T00:00:00.000000000",
                    "2020-03-21T00:00:00.000000000",
                    "2020-03-22T00:00:00.000000000",
                    "2020-03-23T00:00:00.000000000",
                    "2020-03-24T00:00:00.000000000",
                    "2020-03-25T00:00:00.000000000",
                    "2020-03-26T00:00:00.000000000",
                    "2020-03-27T00:00:00.000000000",
                    "2020-03-28T00:00:00.000000000",
                    "2020-03-29T00:00:00.000000000",
                    "2020-03-30T00:00:00.000000000",
                    "2020-03-31T00:00:00.000000000",
                    "2020-04-01T00:00:00.000000000",
                    "2020-04-02T00:00:00.000000000",
                    "2020-04-03T00:00:00.000000000",
                    "2020-04-04T00:00:00.000000000",
                    "2020-04-05T00:00:00.000000000",
                    "2020-04-06T00:00:00.000000000",
                    "2020-04-07T00:00:00.000000000",
                    "2020-04-08T00:00:00.000000000",
                    "2020-04-09T00:00:00.000000000",
                    "2020-04-10T00:00:00.000000000",
                    "2020-04-11T00:00:00.000000000",
                    "2020-04-12T00:00:00.000000000",
                    "2020-04-13T00:00:00.000000000",
                    "2020-04-14T00:00:00.000000000",
                    "2020-04-15T00:00:00.000000000",
                    "2020-04-16T00:00:00.000000000",
                    "2020-04-17T00:00:00.000000000",
                    "2020-04-18T00:00:00.000000000",
                    "2020-04-19T00:00:00.000000000",
                    "2020-04-20T00:00:00.000000000",
                    "2020-04-21T00:00:00.000000000",
                    "2020-04-22T00:00:00.000000000",
                    "2020-04-23T00:00:00.000000000",
                    "2020-04-24T00:00:00.000000000",
                    "2020-04-25T00:00:00.000000000",
                    "2020-04-26T00:00:00.000000000",
                    "2020-04-27T00:00:00.000000000",
                    "2020-04-28T00:00:00.000000000",
                    "2020-04-29T00:00:00.000000000",
                    "2020-04-30T00:00:00.000000000",
                    "2020-05-01T00:00:00.000000000",
                    "2020-05-02T00:00:00.000000000",
                    "2020-05-03T00:00:00.000000000",
                    "2020-05-04T00:00:00.000000000",
                    "2020-05-05T00:00:00.000000000",
                    "2020-05-06T00:00:00.000000000",
                    "2020-05-07T00:00:00.000000000",
                    "2020-05-08T00:00:00.000000000",
                    "2020-05-09T00:00:00.000000000",
                    "2020-05-10T00:00:00.000000000",
                    "2020-05-11T00:00:00.000000000",
                    "2020-05-12T00:00:00.000000000",
                    "2020-05-13T00:00:00.000000000",
                    "2020-05-14T00:00:00.000000000",
                    "2020-05-15T00:00:00.000000000",
                    "2020-05-16T00:00:00.000000000",
                    "2020-05-17T00:00:00.000000000",
                    "2020-05-18T00:00:00.000000000",
                    "2020-05-19T00:00:00.000000000",
                    "2020-05-20T00:00:00.000000000",
                    "2020-05-21T00:00:00.000000000",
                    "2020-05-22T00:00:00.000000000",
                    "2020-05-23T00:00:00.000000000",
                    "2020-05-24T00:00:00.000000000",
                    "2020-05-25T00:00:00.000000000",
                    "2020-05-26T00:00:00.000000000",
                    "2020-05-27T00:00:00.000000000",
                    "2020-05-28T00:00:00.000000000",
                    "2020-05-29T00:00:00.000000000",
                    "2020-05-30T00:00:00.000000000",
                    "2020-05-31T00:00:00.000000000",
                    "2020-06-01T00:00:00.000000000",
                    "2020-06-02T00:00:00.000000000",
                    "2020-06-03T00:00:00.000000000",
                    "2020-06-04T00:00:00.000000000",
                    "2020-06-05T00:00:00.000000000",
                    "2020-06-06T00:00:00.000000000",
                    "2020-06-07T00:00:00.000000000",
                    "2020-06-08T00:00:00.000000000",
                    "2020-06-09T00:00:00.000000000",
                    "2020-06-10T00:00:00.000000000",
                    "2020-06-11T00:00:00.000000000",
                    "2020-06-12T00:00:00.000000000",
                    "2020-06-13T00:00:00.000000000",
                    "2020-06-14T00:00:00.000000000",
                    "2020-06-15T00:00:00.000000000",
                    "2020-06-16T00:00:00.000000000",
                    "2020-06-17T00:00:00.000000000",
                    "2020-06-18T00:00:00.000000000",
                    "2020-06-19T00:00:00.000000000",
                    "2020-06-20T00:00:00.000000000",
                    "2020-06-21T00:00:00.000000000",
                    "2020-06-22T00:00:00.000000000",
                    "2020-06-23T00:00:00.000000000",
                    "2020-06-24T00:00:00.000000000",
                    "2020-06-25T00:00:00.000000000",
                    "2020-06-26T00:00:00.000000000",
                    "2020-06-27T00:00:00.000000000",
                    "2020-06-28T00:00:00.000000000",
                    "2020-06-29T00:00:00.000000000",
                    "2020-06-30T00:00:00.000000000",
                    "2020-07-01T00:00:00.000000000",
                    "2020-07-02T00:00:00.000000000",
                    "2020-07-03T00:00:00.000000000",
                    "2020-07-04T00:00:00.000000000",
                    "2020-07-05T00:00:00.000000000",
                    "2020-07-06T00:00:00.000000000",
                    "2020-07-07T00:00:00.000000000",
                    "2020-07-08T00:00:00.000000000",
                    "2020-07-09T00:00:00.000000000",
                    "2020-07-10T00:00:00.000000000",
                    "2020-07-11T00:00:00.000000000",
                    "2020-07-12T00:00:00.000000000",
                    "2020-07-13T00:00:00.000000000",
                    "2020-07-14T00:00:00.000000000",
                    "2020-07-15T00:00:00.000000000",
                    "2020-07-16T00:00:00.000000000",
                    "2020-07-17T00:00:00.000000000",
                    "2020-07-18T00:00:00.000000000",
                    "2020-07-19T00:00:00.000000000",
                    "2020-07-20T00:00:00.000000000",
                    "2020-07-21T00:00:00.000000000",
                    "2020-07-22T00:00:00.000000000",
                    "2020-07-23T00:00:00.000000000",
                    "2020-07-24T00:00:00.000000000",
                    "2020-07-25T00:00:00.000000000",
                    "2020-07-26T00:00:00.000000000",
                    "2020-07-27T00:00:00.000000000"
                  ],
                  "xaxis": "x",
                  "y": {
                    "bdata": "/gEAAF4CAABvAwAASQUAANoHAADgCgAA3BQAABQXAADyHgAAFyUAAOosAABePgAAqUkAADlYAACYZQAATnAAAOB7AAAAhAAAJI0AABKUAADpmAAAkp4AAKnOAADS4AAAVeMAAKblAAB05gAAHOYAAKngAACa2gAAttoAAJ3RAAAP0QAA1MsAAKzEAAC6vgAAybgAALawAAAYrAAA5KkAAASmAACmpQAAyKIAABijAAAeqgAAx68AACm1AACmvAAAuMcAAEjbAABk6wAAMxoBALI6AQBpVgEA/4QBAPm0AQBH9AEAnlYCAPO6AgDSIQMAbIUDANIgBABkkwQAxDkFAE4DBgAgzwYApqgHANleCAC+DgkAA/YJAArOCgB2sgsASKUMAJp6DQDGSg4ADxAPADXEDwBlghAA7VcRAGc/EgCt8BIAngoUAGKcFABsMhUAasEVADWpFgBvehcAPyYYAMDWGAC/jBkANxEaAO6wGgCfghsAQfobAB3HHACTaB0AnfsdAFeKHgBt/B4AjDIfAETiHwDYcCAAsBghAAixIQBhRyIAN94iAAOPIwDuUyQAdcUkAHhhJQCoySUA+W0mAOPOJgAJnicAx0koAL7UKACRXSkAoN0pAAV7KgAbFysAMN8rACPHKwDifiwAGxEtAOppLQD47S0ARHYuAKQzLwAQ0C8AX8kwAN86MQDEzzEAnAAyACmLMgADWDMA5Tk0ALknNQCe/jUA9DE1ACfGNQCKjDYAf0k3ACD9NwBhszgAGp45AOctOgD9vjoA+gk7APzdOwC5Fj0AJ6s9ABeHPgBULz8AvAtAAHHRQABIBUIAkz5DAJlGRAAWV0UAK0VGAIQPRwCiikgAEUtHANumSACAjkgAL3lJALMWSgALAUsAX8BLAEMaTQD8ck4A0sJPAJXwUAD8r1EALtFSAMfTUwAsRlUALG5WAG6rVwCji1kAzzdaAN8GWwBSg1wA9hVeAMLKXgBaRl8AT0dgAFoFYQA=",
                    "dtype": "i4"
                  },
                  "yaxis": "y"
                },
                {
                  "hovertemplate": "Case Type=Recovered<br>Date=%{x}<br>Count=%{y}<extra></extra>",
                  "legendgroup": "Recovered",
                  "line": {
                    "color": "#00cc96",
                    "dash": "solid"
                  },
                  "marker": {
                    "symbol": "circle"
                  },
                  "mode": "lines",
                  "name": "Recovered",
                  "orientation": "v",
                  "showlegend": true,
                  "type": "scatter",
                  "x": [
                    "2020-01-22T00:00:00.000000000",
                    "2020-01-23T00:00:00.000000000",
                    "2020-01-24T00:00:00.000000000",
                    "2020-01-25T00:00:00.000000000",
                    "2020-01-26T00:00:00.000000000",
                    "2020-01-27T00:00:00.000000000",
                    "2020-01-28T00:00:00.000000000",
                    "2020-01-29T00:00:00.000000000",
                    "2020-01-30T00:00:00.000000000",
                    "2020-01-31T00:00:00.000000000",
                    "2020-02-01T00:00:00.000000000",
                    "2020-02-02T00:00:00.000000000",
                    "2020-02-03T00:00:00.000000000",
                    "2020-02-04T00:00:00.000000000",
                    "2020-02-05T00:00:00.000000000",
                    "2020-02-06T00:00:00.000000000",
                    "2020-02-07T00:00:00.000000000",
                    "2020-02-08T00:00:00.000000000",
                    "2020-02-09T00:00:00.000000000",
                    "2020-02-10T00:00:00.000000000",
                    "2020-02-11T00:00:00.000000000",
                    "2020-02-12T00:00:00.000000000",
                    "2020-02-13T00:00:00.000000000",
                    "2020-02-14T00:00:00.000000000",
                    "2020-02-15T00:00:00.000000000",
                    "2020-02-16T00:00:00.000000000",
                    "2020-02-17T00:00:00.000000000",
                    "2020-02-18T00:00:00.000000000",
                    "2020-02-19T00:00:00.000000000",
                    "2020-02-20T00:00:00.000000000",
                    "2020-02-21T00:00:00.000000000",
                    "2020-02-22T00:00:00.000000000",
                    "2020-02-23T00:00:00.000000000",
                    "2020-02-24T00:00:00.000000000",
                    "2020-02-25T00:00:00.000000000",
                    "2020-02-26T00:00:00.000000000",
                    "2020-02-27T00:00:00.000000000",
                    "2020-02-28T00:00:00.000000000",
                    "2020-02-29T00:00:00.000000000",
                    "2020-03-01T00:00:00.000000000",
                    "2020-03-02T00:00:00.000000000",
                    "2020-03-03T00:00:00.000000000",
                    "2020-03-04T00:00:00.000000000",
                    "2020-03-05T00:00:00.000000000",
                    "2020-03-06T00:00:00.000000000",
                    "2020-03-07T00:00:00.000000000",
                    "2020-03-08T00:00:00.000000000",
                    "2020-03-09T00:00:00.000000000",
                    "2020-03-10T00:00:00.000000000",
                    "2020-03-11T00:00:00.000000000",
                    "2020-03-12T00:00:00.000000000",
                    "2020-03-13T00:00:00.000000000",
                    "2020-03-14T00:00:00.000000000",
                    "2020-03-15T00:00:00.000000000",
                    "2020-03-16T00:00:00.000000000",
                    "2020-03-17T00:00:00.000000000",
                    "2020-03-18T00:00:00.000000000",
                    "2020-03-19T00:00:00.000000000",
                    "2020-03-20T00:00:00.000000000",
                    "2020-03-21T00:00:00.000000000",
                    "2020-03-22T00:00:00.000000000",
                    "2020-03-23T00:00:00.000000000",
                    "2020-03-24T00:00:00.000000000",
                    "2020-03-25T00:00:00.000000000",
                    "2020-03-26T00:00:00.000000000",
                    "2020-03-27T00:00:00.000000000",
                    "2020-03-28T00:00:00.000000000",
                    "2020-03-29T00:00:00.000000000",
                    "2020-03-30T00:00:00.000000000",
                    "2020-03-31T00:00:00.000000000",
                    "2020-04-01T00:00:00.000000000",
                    "2020-04-02T00:00:00.000000000",
                    "2020-04-03T00:00:00.000000000",
                    "2020-04-04T00:00:00.000000000",
                    "2020-04-05T00:00:00.000000000",
                    "2020-04-06T00:00:00.000000000",
                    "2020-04-07T00:00:00.000000000",
                    "2020-04-08T00:00:00.000000000",
                    "2020-04-09T00:00:00.000000000",
                    "2020-04-10T00:00:00.000000000",
                    "2020-04-11T00:00:00.000000000",
                    "2020-04-12T00:00:00.000000000",
                    "2020-04-13T00:00:00.000000000",
                    "2020-04-14T00:00:00.000000000",
                    "2020-04-15T00:00:00.000000000",
                    "2020-04-16T00:00:00.000000000",
                    "2020-04-17T00:00:00.000000000",
                    "2020-04-18T00:00:00.000000000",
                    "2020-04-19T00:00:00.000000000",
                    "2020-04-20T00:00:00.000000000",
                    "2020-04-21T00:00:00.000000000",
                    "2020-04-22T00:00:00.000000000",
                    "2020-04-23T00:00:00.000000000",
                    "2020-04-24T00:00:00.000000000",
                    "2020-04-25T00:00:00.000000000",
                    "2020-04-26T00:00:00.000000000",
                    "2020-04-27T00:00:00.000000000",
                    "2020-04-28T00:00:00.000000000",
                    "2020-04-29T00:00:00.000000000",
                    "2020-04-30T00:00:00.000000000",
                    "2020-05-01T00:00:00.000000000",
                    "2020-05-02T00:00:00.000000000",
                    "2020-05-03T00:00:00.000000000",
                    "2020-05-04T00:00:00.000000000",
                    "2020-05-05T00:00:00.000000000",
                    "2020-05-06T00:00:00.000000000",
                    "2020-05-07T00:00:00.000000000",
                    "2020-05-08T00:00:00.000000000",
                    "2020-05-09T00:00:00.000000000",
                    "2020-05-10T00:00:00.000000000",
                    "2020-05-11T00:00:00.000000000",
                    "2020-05-12T00:00:00.000000000",
                    "2020-05-13T00:00:00.000000000",
                    "2020-05-14T00:00:00.000000000",
                    "2020-05-15T00:00:00.000000000",
                    "2020-05-16T00:00:00.000000000",
                    "2020-05-17T00:00:00.000000000",
                    "2020-05-18T00:00:00.000000000",
                    "2020-05-19T00:00:00.000000000",
                    "2020-05-20T00:00:00.000000000",
                    "2020-05-21T00:00:00.000000000",
                    "2020-05-22T00:00:00.000000000",
                    "2020-05-23T00:00:00.000000000",
                    "2020-05-24T00:00:00.000000000",
                    "2020-05-25T00:00:00.000000000",
                    "2020-05-26T00:00:00.000000000",
                    "2020-05-27T00:00:00.000000000",
                    "2020-05-28T00:00:00.000000000",
                    "2020-05-29T00:00:00.000000000",
                    "2020-05-30T00:00:00.000000000",
                    "2020-05-31T00:00:00.000000000",
                    "2020-06-01T00:00:00.000000000",
                    "2020-06-02T00:00:00.000000000",
                    "2020-06-03T00:00:00.000000000",
                    "2020-06-04T00:00:00.000000000",
                    "2020-06-05T00:00:00.000000000",
                    "2020-06-06T00:00:00.000000000",
                    "2020-06-07T00:00:00.000000000",
                    "2020-06-08T00:00:00.000000000",
                    "2020-06-09T00:00:00.000000000",
                    "2020-06-10T00:00:00.000000000",
                    "2020-06-11T00:00:00.000000000",
                    "2020-06-12T00:00:00.000000000",
                    "2020-06-13T00:00:00.000000000",
                    "2020-06-14T00:00:00.000000000",
                    "2020-06-15T00:00:00.000000000",
                    "2020-06-16T00:00:00.000000000",
                    "2020-06-17T00:00:00.000000000",
                    "2020-06-18T00:00:00.000000000",
                    "2020-06-19T00:00:00.000000000",
                    "2020-06-20T00:00:00.000000000",
                    "2020-06-21T00:00:00.000000000",
                    "2020-06-22T00:00:00.000000000",
                    "2020-06-23T00:00:00.000000000",
                    "2020-06-24T00:00:00.000000000",
                    "2020-06-25T00:00:00.000000000",
                    "2020-06-26T00:00:00.000000000",
                    "2020-06-27T00:00:00.000000000",
                    "2020-06-28T00:00:00.000000000",
                    "2020-06-29T00:00:00.000000000",
                    "2020-06-30T00:00:00.000000000",
                    "2020-07-01T00:00:00.000000000",
                    "2020-07-02T00:00:00.000000000",
                    "2020-07-03T00:00:00.000000000",
                    "2020-07-04T00:00:00.000000000",
                    "2020-07-05T00:00:00.000000000",
                    "2020-07-06T00:00:00.000000000",
                    "2020-07-07T00:00:00.000000000",
                    "2020-07-08T00:00:00.000000000",
                    "2020-07-09T00:00:00.000000000",
                    "2020-07-10T00:00:00.000000000",
                    "2020-07-11T00:00:00.000000000",
                    "2020-07-12T00:00:00.000000000",
                    "2020-07-13T00:00:00.000000000",
                    "2020-07-14T00:00:00.000000000",
                    "2020-07-15T00:00:00.000000000",
                    "2020-07-16T00:00:00.000000000",
                    "2020-07-17T00:00:00.000000000",
                    "2020-07-18T00:00:00.000000000",
                    "2020-07-19T00:00:00.000000000",
                    "2020-07-20T00:00:00.000000000",
                    "2020-07-21T00:00:00.000000000",
                    "2020-07-22T00:00:00.000000000",
                    "2020-07-23T00:00:00.000000000",
                    "2020-07-24T00:00:00.000000000",
                    "2020-07-25T00:00:00.000000000",
                    "2020-07-26T00:00:00.000000000",
                    "2020-07-27T00:00:00.000000000"
                  ],
                  "xaxis": "x",
                  "y": {
                    "bdata": "HAAAAB4AAAAkAAAAJwAAADQAAAA9AAAAawAAAH0AAACNAAAA2wAAABkBAADLAQAAXAIAADUDAAAvBAAAigUAAG8HAACmCQAA8QsAAIIOAABBEQAA8RIAACoXAAC9HQAAxiIAAE8oAACvLgAAfTUAACI8AADZQwAALkYAAFlVAAAgVwAA710AABxoAACVcQAAr3wAAOqJAACqlQAA+KAAADWsAABZtgAA08EAAA3MAAD+0wAAuN0AANTmAADb7QAAUvUAAFn+AACCAwEABwsBAEkUAQCbIQEAoCkBAGA0AQATPgEAeEQBAAVOAQCvXgEA9nYBAMh4AQANngEAVbMBAPzTAQD89QEAYBYCAFU7AgCrdwIA+qcCAPrjAgDkJAMAhF8DALCtAwAN4gMA3CEEACF7BADh6QQA7UgFAHWbBQAf/wUA2EgGAHuwBgCmEAcA7ZwHAHcSCAAvdQgA/dAIAC1JCQBmnAkA6yEKANeTCgAZAwsAAcULAB8uDABxmgwAngENAMh/DQA4IA4AsBkPAMWpDwB6RRAAab8QAB5AEQBLyxEADnoSAB8QEwDxmhMAF2gUAPznFAAMnBUAnygWAFn+FgDwlRcAME4YAKInGQB7xBkAbZAaAABZGwBJPBwA4AAdAN2lHgDSeR8As08gAP1FIQDuGiIADQ8jAGIRJAC/OyUAnUwmAPVzJwDvRigAK9spADYNKwAYHCwAvSYtAMY8LgCuES8AOF8xAIGdMgBSzjMAORo1ABVONgCQmjcA1qs4AP7hOQBwXjsACSk9APpjPgAC1T8Aa5dBABuiQgBtBkQAIJtFAI1dRwCyxkgA/mVKADAETAAAX00Azs1OALOWUABbWlIARbFWAN5cWABHWFsAyildACALXwCJQGEAyKdjABW0ZQAe02cAL71pAJZwawBTk20AEb1vANArcgBBfXQAYOx2AGY5eQDrj3oAOft8ALqjfwBHVIIAOeuEALloiABXwIsAmM6NALd4kAA=",
                    "dtype": "i4"
                  },
                  "yaxis": "y"
                },
                {
                  "hovertemplate": "Case Type=Deaths<br>Date=%{x}<br>Count=%{y}<extra></extra>",
                  "legendgroup": "Deaths",
                  "line": {
                    "color": "#ab63fa",
                    "dash": "solid"
                  },
                  "marker": {
                    "symbol": "circle"
                  },
                  "mode": "lines",
                  "name": "Deaths",
                  "orientation": "v",
                  "showlegend": true,
                  "type": "scatter",
                  "x": [
                    "2020-01-22T00:00:00.000000000",
                    "2020-01-23T00:00:00.000000000",
                    "2020-01-24T00:00:00.000000000",
                    "2020-01-25T00:00:00.000000000",
                    "2020-01-26T00:00:00.000000000",
                    "2020-01-27T00:00:00.000000000",
                    "2020-01-28T00:00:00.000000000",
                    "2020-01-29T00:00:00.000000000",
                    "2020-01-30T00:00:00.000000000",
                    "2020-01-31T00:00:00.000000000",
                    "2020-02-01T00:00:00.000000000",
                    "2020-02-02T00:00:00.000000000",
                    "2020-02-03T00:00:00.000000000",
                    "2020-02-04T00:00:00.000000000",
                    "2020-02-05T00:00:00.000000000",
                    "2020-02-06T00:00:00.000000000",
                    "2020-02-07T00:00:00.000000000",
                    "2020-02-08T00:00:00.000000000",
                    "2020-02-09T00:00:00.000000000",
                    "2020-02-10T00:00:00.000000000",
                    "2020-02-11T00:00:00.000000000",
                    "2020-02-12T00:00:00.000000000",
                    "2020-02-13T00:00:00.000000000",
                    "2020-02-14T00:00:00.000000000",
                    "2020-02-15T00:00:00.000000000",
                    "2020-02-16T00:00:00.000000000",
                    "2020-02-17T00:00:00.000000000",
                    "2020-02-18T00:00:00.000000000",
                    "2020-02-19T00:00:00.000000000",
                    "2020-02-20T00:00:00.000000000",
                    "2020-02-21T00:00:00.000000000",
                    "2020-02-22T00:00:00.000000000",
                    "2020-02-23T00:00:00.000000000",
                    "2020-02-24T00:00:00.000000000",
                    "2020-02-25T00:00:00.000000000",
                    "2020-02-26T00:00:00.000000000",
                    "2020-02-27T00:00:00.000000000",
                    "2020-02-28T00:00:00.000000000",
                    "2020-02-29T00:00:00.000000000",
                    "2020-03-01T00:00:00.000000000",
                    "2020-03-02T00:00:00.000000000",
                    "2020-03-03T00:00:00.000000000",
                    "2020-03-04T00:00:00.000000000",
                    "2020-03-05T00:00:00.000000000",
                    "2020-03-06T00:00:00.000000000",
                    "2020-03-07T00:00:00.000000000",
                    "2020-03-08T00:00:00.000000000",
                    "2020-03-09T00:00:00.000000000",
                    "2020-03-10T00:00:00.000000000",
                    "2020-03-11T00:00:00.000000000",
                    "2020-03-12T00:00:00.000000000",
                    "2020-03-13T00:00:00.000000000",
                    "2020-03-14T00:00:00.000000000",
                    "2020-03-15T00:00:00.000000000",
                    "2020-03-16T00:00:00.000000000",
                    "2020-03-17T00:00:00.000000000",
                    "2020-03-18T00:00:00.000000000",
                    "2020-03-19T00:00:00.000000000",
                    "2020-03-20T00:00:00.000000000",
                    "2020-03-21T00:00:00.000000000",
                    "2020-03-22T00:00:00.000000000",
                    "2020-03-23T00:00:00.000000000",
                    "2020-03-24T00:00:00.000000000",
                    "2020-03-25T00:00:00.000000000",
                    "2020-03-26T00:00:00.000000000",
                    "2020-03-27T00:00:00.000000000",
                    "2020-03-28T00:00:00.000000000",
                    "2020-03-29T00:00:00.000000000",
                    "2020-03-30T00:00:00.000000000",
                    "2020-03-31T00:00:00.000000000",
                    "2020-04-01T00:00:00.000000000",
                    "2020-04-02T00:00:00.000000000",
                    "2020-04-03T00:00:00.000000000",
                    "2020-04-04T00:00:00.000000000",
                    "2020-04-05T00:00:00.000000000",
                    "2020-04-06T00:00:00.000000000",
                    "2020-04-07T00:00:00.000000000",
                    "2020-04-08T00:00:00.000000000",
                    "2020-04-09T00:00:00.000000000",
                    "2020-04-10T00:00:00.000000000",
                    "2020-04-11T00:00:00.000000000",
                    "2020-04-12T00:00:00.000000000",
                    "2020-04-13T00:00:00.000000000",
                    "2020-04-14T00:00:00.000000000",
                    "2020-04-15T00:00:00.000000000",
                    "2020-04-16T00:00:00.000000000",
                    "2020-04-17T00:00:00.000000000",
                    "2020-04-18T00:00:00.000000000",
                    "2020-04-19T00:00:00.000000000",
                    "2020-04-20T00:00:00.000000000",
                    "2020-04-21T00:00:00.000000000",
                    "2020-04-22T00:00:00.000000000",
                    "2020-04-23T00:00:00.000000000",
                    "2020-04-24T00:00:00.000000000",
                    "2020-04-25T00:00:00.000000000",
                    "2020-04-26T00:00:00.000000000",
                    "2020-04-27T00:00:00.000000000",
                    "2020-04-28T00:00:00.000000000",
                    "2020-04-29T00:00:00.000000000",
                    "2020-04-30T00:00:00.000000000",
                    "2020-05-01T00:00:00.000000000",
                    "2020-05-02T00:00:00.000000000",
                    "2020-05-03T00:00:00.000000000",
                    "2020-05-04T00:00:00.000000000",
                    "2020-05-05T00:00:00.000000000",
                    "2020-05-06T00:00:00.000000000",
                    "2020-05-07T00:00:00.000000000",
                    "2020-05-08T00:00:00.000000000",
                    "2020-05-09T00:00:00.000000000",
                    "2020-05-10T00:00:00.000000000",
                    "2020-05-11T00:00:00.000000000",
                    "2020-05-12T00:00:00.000000000",
                    "2020-05-13T00:00:00.000000000",
                    "2020-05-14T00:00:00.000000000",
                    "2020-05-15T00:00:00.000000000",
                    "2020-05-16T00:00:00.000000000",
                    "2020-05-17T00:00:00.000000000",
                    "2020-05-18T00:00:00.000000000",
                    "2020-05-19T00:00:00.000000000",
                    "2020-05-20T00:00:00.000000000",
                    "2020-05-21T00:00:00.000000000",
                    "2020-05-22T00:00:00.000000000",
                    "2020-05-23T00:00:00.000000000",
                    "2020-05-24T00:00:00.000000000",
                    "2020-05-25T00:00:00.000000000",
                    "2020-05-26T00:00:00.000000000",
                    "2020-05-27T00:00:00.000000000",
                    "2020-05-28T00:00:00.000000000",
                    "2020-05-29T00:00:00.000000000",
                    "2020-05-30T00:00:00.000000000",
                    "2020-05-31T00:00:00.000000000",
                    "2020-06-01T00:00:00.000000000",
                    "2020-06-02T00:00:00.000000000",
                    "2020-06-03T00:00:00.000000000",
                    "2020-06-04T00:00:00.000000000",
                    "2020-06-05T00:00:00.000000000",
                    "2020-06-06T00:00:00.000000000",
                    "2020-06-07T00:00:00.000000000",
                    "2020-06-08T00:00:00.000000000",
                    "2020-06-09T00:00:00.000000000",
                    "2020-06-10T00:00:00.000000000",
                    "2020-06-11T00:00:00.000000000",
                    "2020-06-12T00:00:00.000000000",
                    "2020-06-13T00:00:00.000000000",
                    "2020-06-14T00:00:00.000000000",
                    "2020-06-15T00:00:00.000000000",
                    "2020-06-16T00:00:00.000000000",
                    "2020-06-17T00:00:00.000000000",
                    "2020-06-18T00:00:00.000000000",
                    "2020-06-19T00:00:00.000000000",
                    "2020-06-20T00:00:00.000000000",
                    "2020-06-21T00:00:00.000000000",
                    "2020-06-22T00:00:00.000000000",
                    "2020-06-23T00:00:00.000000000",
                    "2020-06-24T00:00:00.000000000",
                    "2020-06-25T00:00:00.000000000",
                    "2020-06-26T00:00:00.000000000",
                    "2020-06-27T00:00:00.000000000",
                    "2020-06-28T00:00:00.000000000",
                    "2020-06-29T00:00:00.000000000",
                    "2020-06-30T00:00:00.000000000",
                    "2020-07-01T00:00:00.000000000",
                    "2020-07-02T00:00:00.000000000",
                    "2020-07-03T00:00:00.000000000",
                    "2020-07-04T00:00:00.000000000",
                    "2020-07-05T00:00:00.000000000",
                    "2020-07-06T00:00:00.000000000",
                    "2020-07-07T00:00:00.000000000",
                    "2020-07-08T00:00:00.000000000",
                    "2020-07-09T00:00:00.000000000",
                    "2020-07-10T00:00:00.000000000",
                    "2020-07-11T00:00:00.000000000",
                    "2020-07-12T00:00:00.000000000",
                    "2020-07-13T00:00:00.000000000",
                    "2020-07-14T00:00:00.000000000",
                    "2020-07-15T00:00:00.000000000",
                    "2020-07-16T00:00:00.000000000",
                    "2020-07-17T00:00:00.000000000",
                    "2020-07-18T00:00:00.000000000",
                    "2020-07-19T00:00:00.000000000",
                    "2020-07-20T00:00:00.000000000",
                    "2020-07-21T00:00:00.000000000",
                    "2020-07-22T00:00:00.000000000",
                    "2020-07-23T00:00:00.000000000",
                    "2020-07-24T00:00:00.000000000",
                    "2020-07-25T00:00:00.000000000",
                    "2020-07-26T00:00:00.000000000",
                    "2020-07-27T00:00:00.000000000"
                  ],
                  "xaxis": "x",
                  "y": {
                    "bdata": "EQAAABIAAAAaAAAAKgAAADgAAABSAAAAgwAAAIUAAACrAAAA1QAAAAMBAABqAQAAqgEAAOwBAAA0AgAAegIAAM8CAAAmAwAAigMAAPUDAABZBAAAXgQAAFsFAADzBQAAggYAAOoGAABMBwAA2AcAAEsIAADGCAAAyggAAJkJAACjCQAAQwoAAJMKAADPCgAA+goAADMLAAB4CwAArgsAAAcMAABSDAAAsQwAAA4NAAB+DQAA4Q0AANUOAACNDwAApBAAAPwRAAAtEwAAHhUAAL8WAABAGQAA6BsAAAwfAACNIgAA3yYAAKUsAABOMwAA7zkAAGxBAABISgAAIVUAAOBgAACebgAA/XwAAI6KAADSmgAAvq0AAG3DAAAO3AAAb/MAAEAKAQDdHQEApTQBAINTAQDSbQEAn4sBAAeoAQC8vwEAH9YBAJLsAQCEBwIA/CcCAG9EAgApZwIAcIACAEqSAgCNpwIAgsMCAOXdAgCn+AIAuRIDAIMoAwCuNwMA10kDABZjAwCGfQMA0JQDAAmpAwDWvQMAU8sDAHPbAwBi8gMAbwwEAJAhBABQNwQA+UcEAOdVBAB4YwQAI3kEAI+NBAAjogQAgrYEAM3GBADO0wQAqeAEAFnzBABuBgUAIBkFAMQtBQBZPQUAnUkFADdOBQCiXgUA/3IFAFyFBQDilwUAHqgFAGazBQBivwUAOdIFAP3nBQAa/AUAwg4GAOsdBgChKAYAEjcGAExKBgChXgYAR3EGABCCBgCekgYAzJ8GAC2tBgAAyAYAh9wGACzwBgCtCAcARhkHAMEoBwC0NgcAc0sHAABgBwDjeQcAvowHAESeBwBVqgcA3rgHAOrMBwB94AcAffQHAAAICAARGQgAhiYIAFs1CAA2TQgA/WEIAE93CAAOjAgAL58IAKGuCACIvQgApNMIABnpCADA/wgAFxoJABIwCQDPPwkAD1AJAG1oCQC0gwkAoqoJAKLCCQCl1QkAreUJANT6CQA=",
                    "dtype": "i4"
                  },
                  "yaxis": "y"
                }
              ],
              "layout": {
                "legend": {
                  "title": {
                    "text": "Case Type"
                  },
                  "tracegroupgap": 0
                },
                "template": {
                  "data": {
                    "bar": [
                      {
                        "error_x": {
                          "color": "#2a3f5f"
                        },
                        "error_y": {
                          "color": "#2a3f5f"
                        },
                        "marker": {
                          "line": {
                            "color": "white",
                            "width": 0.5
                          },
                          "pattern": {
                            "fillmode": "overlay",
                            "size": 10,
                            "solidity": 0.2
                          }
                        },
                        "type": "bar"
                      }
                    ],
                    "barpolar": [
                      {
                        "marker": {
                          "line": {
                            "color": "white",
                            "width": 0.5
                          },
                          "pattern": {
                            "fillmode": "overlay",
                            "size": 10,
                            "solidity": 0.2
                          }
                        },
                        "type": "barpolar"
                      }
                    ],
                    "carpet": [
                      {
                        "aaxis": {
                          "endlinecolor": "#2a3f5f",
                          "gridcolor": "#C8D4E3",
                          "linecolor": "#C8D4E3",
                          "minorgridcolor": "#C8D4E3",
                          "startlinecolor": "#2a3f5f"
                        },
                        "baxis": {
                          "endlinecolor": "#2a3f5f",
                          "gridcolor": "#C8D4E3",
                          "linecolor": "#C8D4E3",
                          "minorgridcolor": "#C8D4E3",
                          "startlinecolor": "#2a3f5f"
                        },
                        "type": "carpet"
                      }
                    ],
                    "choropleth": [
                      {
                        "colorbar": {
                          "outlinewidth": 0,
                          "ticks": ""
                        },
                        "type": "choropleth"
                      }
                    ],
                    "contour": [
                      {
                        "colorbar": {
                          "outlinewidth": 0,
                          "ticks": ""
                        },
                        "colorscale": [
                          [
                            0,
                            "#0d0887"
                          ],
                          [
                            0.1111111111111111,
                            "#46039f"
                          ],
                          [
                            0.2222222222222222,
                            "#7201a8"
                          ],
                          [
                            0.3333333333333333,
                            "#9c179e"
                          ],
                          [
                            0.4444444444444444,
                            "#bd3786"
                          ],
                          [
                            0.5555555555555556,
                            "#d8576b"
                          ],
                          [
                            0.6666666666666666,
                            "#ed7953"
                          ],
                          [
                            0.7777777777777778,
                            "#fb9f3a"
                          ],
                          [
                            0.8888888888888888,
                            "#fdca26"
                          ],
                          [
                            1,
                            "#f0f921"
                          ]
                        ],
                        "type": "contour"
                      }
                    ],
                    "contourcarpet": [
                      {
                        "colorbar": {
                          "outlinewidth": 0,
                          "ticks": ""
                        },
                        "type": "contourcarpet"
                      }
                    ],
                    "heatmap": [
                      {
                        "colorbar": {
                          "outlinewidth": 0,
                          "ticks": ""
                        },
                        "colorscale": [
                          [
                            0,
                            "#0d0887"
                          ],
                          [
                            0.1111111111111111,
                            "#46039f"
                          ],
                          [
                            0.2222222222222222,
                            "#7201a8"
                          ],
                          [
                            0.3333333333333333,
                            "#9c179e"
                          ],
                          [
                            0.4444444444444444,
                            "#bd3786"
                          ],
                          [
                            0.5555555555555556,
                            "#d8576b"
                          ],
                          [
                            0.6666666666666666,
                            "#ed7953"
                          ],
                          [
                            0.7777777777777778,
                            "#fb9f3a"
                          ],
                          [
                            0.8888888888888888,
                            "#fdca26"
                          ],
                          [
                            1,
                            "#f0f921"
                          ]
                        ],
                        "type": "heatmap"
                      }
                    ],
                    "histogram": [
                      {
                        "marker": {
                          "pattern": {
                            "fillmode": "overlay",
                            "size": 10,
                            "solidity": 0.2
                          }
                        },
                        "type": "histogram"
                      }
                    ],
                    "histogram2d": [
                      {
                        "colorbar": {
                          "outlinewidth": 0,
                          "ticks": ""
                        },
                        "colorscale": [
                          [
                            0,
                            "#0d0887"
                          ],
                          [
                            0.1111111111111111,
                            "#46039f"
                          ],
                          [
                            0.2222222222222222,
                            "#7201a8"
                          ],
                          [
                            0.3333333333333333,
                            "#9c179e"
                          ],
                          [
                            0.4444444444444444,
                            "#bd3786"
                          ],
                          [
                            0.5555555555555556,
                            "#d8576b"
                          ],
                          [
                            0.6666666666666666,
                            "#ed7953"
                          ],
                          [
                            0.7777777777777778,
                            "#fb9f3a"
                          ],
                          [
                            0.8888888888888888,
                            "#fdca26"
                          ],
                          [
                            1,
                            "#f0f921"
                          ]
                        ],
                        "type": "histogram2d"
                      }
                    ],
                    "histogram2dcontour": [
                      {
                        "colorbar": {
                          "outlinewidth": 0,
                          "ticks": ""
                        },
                        "colorscale": [
                          [
                            0,
                            "#0d0887"
                          ],
                          [
                            0.1111111111111111,
                            "#46039f"
                          ],
                          [
                            0.2222222222222222,
                            "#7201a8"
                          ],
                          [
                            0.3333333333333333,
                            "#9c179e"
                          ],
                          [
                            0.4444444444444444,
                            "#bd3786"
                          ],
                          [
                            0.5555555555555556,
                            "#d8576b"
                          ],
                          [
                            0.6666666666666666,
                            "#ed7953"
                          ],
                          [
                            0.7777777777777778,
                            "#fb9f3a"
                          ],
                          [
                            0.8888888888888888,
                            "#fdca26"
                          ],
                          [
                            1,
                            "#f0f921"
                          ]
                        ],
                        "type": "histogram2dcontour"
                      }
                    ],
                    "mesh3d": [
                      {
                        "colorbar": {
                          "outlinewidth": 0,
                          "ticks": ""
                        },
                        "type": "mesh3d"
                      }
                    ],
                    "parcoords": [
                      {
                        "line": {
                          "colorbar": {
                            "outlinewidth": 0,
                            "ticks": ""
                          }
                        },
                        "type": "parcoords"
                      }
                    ],
                    "pie": [
                      {
                        "automargin": true,
                        "type": "pie"
                      }
                    ],
                    "scatter": [
                      {
                        "fillpattern": {
                          "fillmode": "overlay",
                          "size": 10,
                          "solidity": 0.2
                        },
                        "type": "scatter"
                      }
                    ],
                    "scatter3d": [
                      {
                        "line": {
                          "colorbar": {
                            "outlinewidth": 0,
                            "ticks": ""
                          }
                        },
                        "marker": {
                          "colorbar": {
                            "outlinewidth": 0,
                            "ticks": ""
                          }
                        },
                        "type": "scatter3d"
                      }
                    ],
                    "scattercarpet": [
                      {
                        "marker": {
                          "colorbar": {
                            "outlinewidth": 0,
                            "ticks": ""
                          }
                        },
                        "type": "scattercarpet"
                      }
                    ],
                    "scattergeo": [
                      {
                        "marker": {
                          "colorbar": {
                            "outlinewidth": 0,
                            "ticks": ""
                          }
                        },
                        "type": "scattergeo"
                      }
                    ],
                    "scattergl": [
                      {
                        "marker": {
                          "colorbar": {
                            "outlinewidth": 0,
                            "ticks": ""
                          }
                        },
                        "type": "scattergl"
                      }
                    ],
                    "scattermap": [
                      {
                        "marker": {
                          "colorbar": {
                            "outlinewidth": 0,
                            "ticks": ""
                          }
                        },
                        "type": "scattermap"
                      }
                    ],
                    "scattermapbox": [
                      {
                        "marker": {
                          "colorbar": {
                            "outlinewidth": 0,
                            "ticks": ""
                          }
                        },
                        "type": "scattermapbox"
                      }
                    ],
                    "scatterpolar": [
                      {
                        "marker": {
                          "colorbar": {
                            "outlinewidth": 0,
                            "ticks": ""
                          }
                        },
                        "type": "scatterpolar"
                      }
                    ],
                    "scatterpolargl": [
                      {
                        "marker": {
                          "colorbar": {
                            "outlinewidth": 0,
                            "ticks": ""
                          }
                        },
                        "type": "scatterpolargl"
                      }
                    ],
                    "scatterternary": [
                      {
                        "marker": {
                          "colorbar": {
                            "outlinewidth": 0,
                            "ticks": ""
                          }
                        },
                        "type": "scatterternary"
                      }
                    ],
                    "surface": [
                      {
                        "colorbar": {
                          "outlinewidth": 0,
                          "ticks": ""
                        },
                        "colorscale": [
                          [
                            0,
                            "#0d0887"
                          ],
                          [
                            0.1111111111111111,
                            "#46039f"
                          ],
                          [
                            0.2222222222222222,
                            "#7201a8"
                          ],
                          [
                            0.3333333333333333,
                            "#9c179e"
                          ],
                          [
                            0.4444444444444444,
                            "#bd3786"
                          ],
                          [
                            0.5555555555555556,
                            "#d8576b"
                          ],
                          [
                            0.6666666666666666,
                            "#ed7953"
                          ],
                          [
                            0.7777777777777778,
                            "#fb9f3a"
                          ],
                          [
                            0.8888888888888888,
                            "#fdca26"
                          ],
                          [
                            1,
                            "#f0f921"
                          ]
                        ],
                        "type": "surface"
                      }
                    ],
                    "table": [
                      {
                        "cells": {
                          "fill": {
                            "color": "#EBF0F8"
                          },
                          "line": {
                            "color": "white"
                          }
                        },
                        "header": {
                          "fill": {
                            "color": "#C8D4E3"
                          },
                          "line": {
                            "color": "white"
                          }
                        },
                        "type": "table"
                      }
                    ]
                  },
                  "layout": {
                    "annotationdefaults": {
                      "arrowcolor": "#2a3f5f",
                      "arrowhead": 0,
                      "arrowwidth": 1
                    },
                    "autotypenumbers": "strict",
                    "coloraxis": {
                      "colorbar": {
                        "outlinewidth": 0,
                        "ticks": ""
                      }
                    },
                    "colorscale": {
                      "diverging": [
                        [
                          0,
                          "#8e0152"
                        ],
                        [
                          0.1,
                          "#c51b7d"
                        ],
                        [
                          0.2,
                          "#de77ae"
                        ],
                        [
                          0.3,
                          "#f1b6da"
                        ],
                        [
                          0.4,
                          "#fde0ef"
                        ],
                        [
                          0.5,
                          "#f7f7f7"
                        ],
                        [
                          0.6,
                          "#e6f5d0"
                        ],
                        [
                          0.7,
                          "#b8e186"
                        ],
                        [
                          0.8,
                          "#7fbc41"
                        ],
                        [
                          0.9,
                          "#4d9221"
                        ],
                        [
                          1,
                          "#276419"
                        ]
                      ],
                      "sequential": [
                        [
                          0,
                          "#0d0887"
                        ],
                        [
                          0.1111111111111111,
                          "#46039f"
                        ],
                        [
                          0.2222222222222222,
                          "#7201a8"
                        ],
                        [
                          0.3333333333333333,
                          "#9c179e"
                        ],
                        [
                          0.4444444444444444,
                          "#bd3786"
                        ],
                        [
                          0.5555555555555556,
                          "#d8576b"
                        ],
                        [
                          0.6666666666666666,
                          "#ed7953"
                        ],
                        [
                          0.7777777777777778,
                          "#fb9f3a"
                        ],
                        [
                          0.8888888888888888,
                          "#fdca26"
                        ],
                        [
                          1,
                          "#f0f921"
                        ]
                      ],
                      "sequentialminus": [
                        [
                          0,
                          "#0d0887"
                        ],
                        [
                          0.1111111111111111,
                          "#46039f"
                        ],
                        [
                          0.2222222222222222,
                          "#7201a8"
                        ],
                        [
                          0.3333333333333333,
                          "#9c179e"
                        ],
                        [
                          0.4444444444444444,
                          "#bd3786"
                        ],
                        [
                          0.5555555555555556,
                          "#d8576b"
                        ],
                        [
                          0.6666666666666666,
                          "#ed7953"
                        ],
                        [
                          0.7777777777777778,
                          "#fb9f3a"
                        ],
                        [
                          0.8888888888888888,
                          "#fdca26"
                        ],
                        [
                          1,
                          "#f0f921"
                        ]
                      ]
                    },
                    "colorway": [
                      "#636efa",
                      "#EF553B",
                      "#00cc96",
                      "#ab63fa",
                      "#FFA15A",
                      "#19d3f3",
                      "#FF6692",
                      "#B6E880",
                      "#FF97FF",
                      "#FECB52"
                    ],
                    "font": {
                      "color": "#2a3f5f"
                    },
                    "geo": {
                      "bgcolor": "white",
                      "lakecolor": "white",
                      "landcolor": "white",
                      "showlakes": true,
                      "showland": true,
                      "subunitcolor": "#C8D4E3"
                    },
                    "hoverlabel": {
                      "align": "left"
                    },
                    "hovermode": "closest",
                    "mapbox": {
                      "style": "light"
                    },
                    "paper_bgcolor": "white",
                    "plot_bgcolor": "white",
                    "polar": {
                      "angularaxis": {
                        "gridcolor": "#EBF0F8",
                        "linecolor": "#EBF0F8",
                        "ticks": ""
                      },
                      "bgcolor": "white",
                      "radialaxis": {
                        "gridcolor": "#EBF0F8",
                        "linecolor": "#EBF0F8",
                        "ticks": ""
                      }
                    },
                    "scene": {
                      "xaxis": {
                        "backgroundcolor": "white",
                        "gridcolor": "#DFE8F3",
                        "gridwidth": 2,
                        "linecolor": "#EBF0F8",
                        "showbackground": true,
                        "ticks": "",
                        "zerolinecolor": "#EBF0F8"
                      },
                      "yaxis": {
                        "backgroundcolor": "white",
                        "gridcolor": "#DFE8F3",
                        "gridwidth": 2,
                        "linecolor": "#EBF0F8",
                        "showbackground": true,
                        "ticks": "",
                        "zerolinecolor": "#EBF0F8"
                      },
                      "zaxis": {
                        "backgroundcolor": "white",
                        "gridcolor": "#DFE8F3",
                        "gridwidth": 2,
                        "linecolor": "#EBF0F8",
                        "showbackground": true,
                        "ticks": "",
                        "zerolinecolor": "#EBF0F8"
                      }
                    },
                    "shapedefaults": {
                      "line": {
                        "color": "#2a3f5f"
                      }
                    },
                    "ternary": {
                      "aaxis": {
                        "gridcolor": "#DFE8F3",
                        "linecolor": "#A2B1C6",
                        "ticks": ""
                      },
                      "baxis": {
                        "gridcolor": "#DFE8F3",
                        "linecolor": "#A2B1C6",
                        "ticks": ""
                      },
                      "bgcolor": "white",
                      "caxis": {
                        "gridcolor": "#DFE8F3",
                        "linecolor": "#A2B1C6",
                        "ticks": ""
                      }
                    },
                    "title": {
                      "x": 0.05
                    },
                    "xaxis": {
                      "automargin": true,
                      "gridcolor": "#EBF0F8",
                      "linecolor": "#EBF0F8",
                      "ticks": "",
                      "title": {
                        "standoff": 15
                      },
                      "zerolinecolor": "#EBF0F8",
                      "zerolinewidth": 2
                    },
                    "yaxis": {
                      "automargin": true,
                      "gridcolor": "#EBF0F8",
                      "linecolor": "#EBF0F8",
                      "ticks": "",
                      "title": {
                        "standoff": 15
                      },
                      "zerolinecolor": "#EBF0F8",
                      "zerolinewidth": 2
                    }
                  }
                },
                "title": {
                  "text": "COVID-19 Cases in India"
                },
                "xaxis": {
                  "anchor": "y",
                  "domain": [
                    0,
                    1
                  ],
                  "title": {
                    "text": "Date"
                  }
                },
                "yaxis": {
                  "anchor": "x",
                  "domain": [
                    0,
                    1
                  ],
                  "title": {
                    "text": "Count"
                  }
                }
              }
            }
          },
          "metadata": {},
          "output_type": "display_data"
        }
      ],
      "source": [
        "country = 'India'\n",
        "\n",
        "fig = px.line(df2, x='Date', y=['Confirmed', 'Active', 'Recovered', 'Deaths'],\n",
        "                         title=f'COVID-19 Cases in {country}',\n",
        "                         labels={'value': 'Count', 'variable': 'Case Type'})\n",
        "fig.show()"
      ]
    },
    {
      "cell_type": "markdown",
      "metadata": {
        "id": "NPuoCgHIa4DN"
      },
      "source": [
        "Select country for ploting using reverse indexing"
      ]
    },
    {
      "cell_type": "code",
      "execution_count": 33,
      "metadata": {
        "colab": {
          "base_uri": "https://localhost:8080/",
          "height": 542
        },
        "id": "_VPw3kmTWagg",
        "outputId": "f81058ce-aea1-4a9c-c3c8-fe6a73fc61c7"
      },
      "outputs": [
        {
          "data": {
            "application/vnd.plotly.v1+json": {
              "config": {
                "plotlyServerURL": "https://plot.ly"
              },
              "data": [
                {
                  "hovertemplate": "Case Type=Confirmed<br>Date=%{x}<br>Count=%{y}<extra></extra>",
                  "legendgroup": "Confirmed",
                  "line": {
                    "color": "#636efa",
                    "dash": "solid"
                  },
                  "marker": {
                    "symbol": "circle"
                  },
                  "mode": "lines",
                  "name": "Confirmed",
                  "orientation": "v",
                  "showlegend": true,
                  "type": "scatter",
                  "x": [
                    "2020-01-22T00:00:00.000000000",
                    "2020-01-23T00:00:00.000000000",
                    "2020-01-24T00:00:00.000000000",
                    "2020-01-25T00:00:00.000000000",
                    "2020-01-26T00:00:00.000000000",
                    "2020-01-27T00:00:00.000000000",
                    "2020-01-28T00:00:00.000000000",
                    "2020-01-29T00:00:00.000000000",
                    "2020-01-30T00:00:00.000000000",
                    "2020-01-31T00:00:00.000000000",
                    "2020-02-01T00:00:00.000000000",
                    "2020-02-02T00:00:00.000000000",
                    "2020-02-03T00:00:00.000000000",
                    "2020-02-04T00:00:00.000000000",
                    "2020-02-05T00:00:00.000000000",
                    "2020-02-06T00:00:00.000000000",
                    "2020-02-07T00:00:00.000000000",
                    "2020-02-08T00:00:00.000000000",
                    "2020-02-09T00:00:00.000000000",
                    "2020-02-10T00:00:00.000000000",
                    "2020-02-11T00:00:00.000000000",
                    "2020-02-12T00:00:00.000000000",
                    "2020-02-13T00:00:00.000000000",
                    "2020-02-14T00:00:00.000000000",
                    "2020-02-15T00:00:00.000000000",
                    "2020-02-16T00:00:00.000000000",
                    "2020-02-17T00:00:00.000000000",
                    "2020-02-18T00:00:00.000000000",
                    "2020-02-19T00:00:00.000000000",
                    "2020-02-20T00:00:00.000000000",
                    "2020-02-21T00:00:00.000000000",
                    "2020-02-22T00:00:00.000000000",
                    "2020-02-23T00:00:00.000000000",
                    "2020-02-24T00:00:00.000000000",
                    "2020-02-25T00:00:00.000000000",
                    "2020-02-26T00:00:00.000000000",
                    "2020-02-27T00:00:00.000000000",
                    "2020-02-28T00:00:00.000000000",
                    "2020-02-29T00:00:00.000000000",
                    "2020-03-01T00:00:00.000000000",
                    "2020-03-02T00:00:00.000000000",
                    "2020-03-03T00:00:00.000000000",
                    "2020-03-04T00:00:00.000000000",
                    "2020-03-05T00:00:00.000000000",
                    "2020-03-06T00:00:00.000000000",
                    "2020-03-07T00:00:00.000000000",
                    "2020-03-08T00:00:00.000000000",
                    "2020-03-09T00:00:00.000000000",
                    "2020-03-10T00:00:00.000000000",
                    "2020-03-11T00:00:00.000000000",
                    "2020-03-12T00:00:00.000000000",
                    "2020-03-13T00:00:00.000000000",
                    "2020-03-14T00:00:00.000000000",
                    "2020-03-15T00:00:00.000000000",
                    "2020-03-16T00:00:00.000000000",
                    "2020-03-17T00:00:00.000000000",
                    "2020-03-18T00:00:00.000000000",
                    "2020-03-19T00:00:00.000000000",
                    "2020-03-20T00:00:00.000000000",
                    "2020-03-21T00:00:00.000000000",
                    "2020-03-22T00:00:00.000000000",
                    "2020-03-23T00:00:00.000000000",
                    "2020-03-24T00:00:00.000000000",
                    "2020-03-25T00:00:00.000000000",
                    "2020-03-26T00:00:00.000000000",
                    "2020-03-27T00:00:00.000000000",
                    "2020-03-28T00:00:00.000000000",
                    "2020-03-29T00:00:00.000000000",
                    "2020-03-30T00:00:00.000000000",
                    "2020-03-31T00:00:00.000000000",
                    "2020-04-01T00:00:00.000000000",
                    "2020-04-02T00:00:00.000000000",
                    "2020-04-03T00:00:00.000000000",
                    "2020-04-04T00:00:00.000000000",
                    "2020-04-05T00:00:00.000000000",
                    "2020-04-06T00:00:00.000000000",
                    "2020-04-07T00:00:00.000000000",
                    "2020-04-08T00:00:00.000000000",
                    "2020-04-09T00:00:00.000000000",
                    "2020-04-10T00:00:00.000000000",
                    "2020-04-11T00:00:00.000000000",
                    "2020-04-12T00:00:00.000000000",
                    "2020-04-13T00:00:00.000000000",
                    "2020-04-14T00:00:00.000000000",
                    "2020-04-15T00:00:00.000000000",
                    "2020-04-16T00:00:00.000000000",
                    "2020-04-17T00:00:00.000000000",
                    "2020-04-18T00:00:00.000000000",
                    "2020-04-19T00:00:00.000000000",
                    "2020-04-20T00:00:00.000000000",
                    "2020-04-21T00:00:00.000000000",
                    "2020-04-22T00:00:00.000000000",
                    "2020-04-23T00:00:00.000000000",
                    "2020-04-24T00:00:00.000000000",
                    "2020-04-25T00:00:00.000000000",
                    "2020-04-26T00:00:00.000000000",
                    "2020-04-27T00:00:00.000000000",
                    "2020-04-28T00:00:00.000000000",
                    "2020-04-29T00:00:00.000000000",
                    "2020-04-30T00:00:00.000000000",
                    "2020-05-01T00:00:00.000000000",
                    "2020-05-02T00:00:00.000000000",
                    "2020-05-03T00:00:00.000000000",
                    "2020-05-04T00:00:00.000000000",
                    "2020-05-05T00:00:00.000000000",
                    "2020-05-06T00:00:00.000000000",
                    "2020-05-07T00:00:00.000000000",
                    "2020-05-08T00:00:00.000000000",
                    "2020-05-09T00:00:00.000000000",
                    "2020-05-10T00:00:00.000000000",
                    "2020-05-11T00:00:00.000000000",
                    "2020-05-12T00:00:00.000000000",
                    "2020-05-13T00:00:00.000000000",
                    "2020-05-14T00:00:00.000000000",
                    "2020-05-15T00:00:00.000000000",
                    "2020-05-16T00:00:00.000000000",
                    "2020-05-17T00:00:00.000000000",
                    "2020-05-18T00:00:00.000000000",
                    "2020-05-19T00:00:00.000000000",
                    "2020-05-20T00:00:00.000000000",
                    "2020-05-21T00:00:00.000000000",
                    "2020-05-22T00:00:00.000000000",
                    "2020-05-23T00:00:00.000000000",
                    "2020-05-24T00:00:00.000000000",
                    "2020-05-25T00:00:00.000000000",
                    "2020-05-26T00:00:00.000000000",
                    "2020-05-27T00:00:00.000000000",
                    "2020-05-28T00:00:00.000000000",
                    "2020-05-29T00:00:00.000000000",
                    "2020-05-30T00:00:00.000000000",
                    "2020-05-31T00:00:00.000000000",
                    "2020-06-01T00:00:00.000000000",
                    "2020-06-02T00:00:00.000000000",
                    "2020-06-03T00:00:00.000000000",
                    "2020-06-04T00:00:00.000000000",
                    "2020-06-05T00:00:00.000000000",
                    "2020-06-06T00:00:00.000000000",
                    "2020-06-07T00:00:00.000000000",
                    "2020-06-08T00:00:00.000000000",
                    "2020-06-09T00:00:00.000000000",
                    "2020-06-10T00:00:00.000000000",
                    "2020-06-11T00:00:00.000000000",
                    "2020-06-12T00:00:00.000000000",
                    "2020-06-13T00:00:00.000000000",
                    "2020-06-14T00:00:00.000000000",
                    "2020-06-15T00:00:00.000000000",
                    "2020-06-16T00:00:00.000000000",
                    "2020-06-17T00:00:00.000000000",
                    "2020-06-18T00:00:00.000000000",
                    "2020-06-19T00:00:00.000000000",
                    "2020-06-20T00:00:00.000000000",
                    "2020-06-21T00:00:00.000000000",
                    "2020-06-22T00:00:00.000000000",
                    "2020-06-23T00:00:00.000000000",
                    "2020-06-24T00:00:00.000000000",
                    "2020-06-25T00:00:00.000000000",
                    "2020-06-26T00:00:00.000000000",
                    "2020-06-27T00:00:00.000000000",
                    "2020-06-28T00:00:00.000000000",
                    "2020-06-29T00:00:00.000000000",
                    "2020-06-30T00:00:00.000000000",
                    "2020-07-01T00:00:00.000000000",
                    "2020-07-02T00:00:00.000000000",
                    "2020-07-03T00:00:00.000000000",
                    "2020-07-04T00:00:00.000000000",
                    "2020-07-05T00:00:00.000000000",
                    "2020-07-06T00:00:00.000000000",
                    "2020-07-07T00:00:00.000000000",
                    "2020-07-08T00:00:00.000000000",
                    "2020-07-09T00:00:00.000000000",
                    "2020-07-10T00:00:00.000000000",
                    "2020-07-11T00:00:00.000000000",
                    "2020-07-12T00:00:00.000000000",
                    "2020-07-13T00:00:00.000000000",
                    "2020-07-14T00:00:00.000000000",
                    "2020-07-15T00:00:00.000000000",
                    "2020-07-16T00:00:00.000000000",
                    "2020-07-17T00:00:00.000000000",
                    "2020-07-18T00:00:00.000000000",
                    "2020-07-19T00:00:00.000000000",
                    "2020-07-20T00:00:00.000000000",
                    "2020-07-21T00:00:00.000000000",
                    "2020-07-22T00:00:00.000000000",
                    "2020-07-23T00:00:00.000000000",
                    "2020-07-24T00:00:00.000000000",
                    "2020-07-25T00:00:00.000000000",
                    "2020-07-26T00:00:00.000000000",
                    "2020-07-27T00:00:00.000000000"
                  ],
                  "xaxis": "x",
                  "y": {
                    "bdata": "KwIAAI4CAACtAwAAmgUAAEYIAABvCwAAyhUAABYYAAAqIAAAxyYAAAYvAACTQQAAr00AAFpdAAD7awAAUngAAB6GAADMkAAAn5wAAImmAACDrgAA4bUAAC7rAACCBAEAnQwBAN8UAQBvHAEAcSMBABYlAQA5JwEArikBAI8wAQDSMQEABjQBAFs3AQAeOwEAckABANNFAQA6TQEAilYBAEBeAQBRaAEATHEBADN8AQCaiwEAYJsBANKqAQAOugEArs0BAJ3rAQATAgIAWDoCALplAgBEkQIAh8oCAGUIAwDnVAMA9cEDAJ01BADPswQAUTYFAAbbBQC5ewYAOkIHACo4CAC6MwkAAzwKALwkCwA7IQwAu0sNAHF1DgBosw8AO/gQAIoyEgCwShMAkGYUANmSFQAY2hYAeSwYAOOCGQCIrxoAlSkcAG85HQCWSh4AU4YfABsAIQDHViIArHcjADeyJACy0CUApPYmAKoiKABffikA+9EqAL8dLACyOi0AEkcuADVtLwArmjAADOExABI1MwAodDQAbKM1AJnMNgAOBTgAtGQ5ALLAOgAvJjwAhXU9AFufPgAsyT8Auw9BAMtaQgAc1kMAeU5FAC3DRgDa9UcAtk5JAF7HSgDSWUwAMPlNAMSaTwANNlEAa6pSAB7+UwCIZ1UAUPhWAGLKWACxo1oAGr5cADpiXgAV1l8AAK5hAFyAYwA1cGUAZG9nAGqCaQDtOGsAPshsAPStbgB9uXAA/9RyAEXNdACP4HYAvOl4ABK9egBt5XwAig9/ACIygQBo9IMA2FuGAPNRiAB1bIoAT/KMAP6OjwDdRZIATzGVAA3plwBrYJoA18ucACFznwB6xaIA0/ClALkLqQDY/6sAf8muAC5XsQDKjrQAJMq3AKdFuwAo0r4AMB/CAMwPxQDXAMgA42HLALDozgAtw9IAo3TWAOYU2gBdW90AF4PgAAYT5ABNW+gA0avsAB328ABW3PQAlPv3AOV4+wA=",
                    "dtype": "i4"
                  },
                  "yaxis": "y"
                },
                {
                  "hovertemplate": "Case Type=Active<br>Date=%{x}<br>Count=%{y}<extra></extra>",
                  "legendgroup": "Active",
                  "line": {
                    "color": "#EF553B",
                    "dash": "solid"
                  },
                  "marker": {
                    "symbol": "circle"
                  },
                  "mode": "lines",
                  "name": "Active",
                  "orientation": "v",
                  "showlegend": true,
                  "type": "scatter",
                  "x": [
                    "2020-01-22T00:00:00.000000000",
                    "2020-01-23T00:00:00.000000000",
                    "2020-01-24T00:00:00.000000000",
                    "2020-01-25T00:00:00.000000000",
                    "2020-01-26T00:00:00.000000000",
                    "2020-01-27T00:00:00.000000000",
                    "2020-01-28T00:00:00.000000000",
                    "2020-01-29T00:00:00.000000000",
                    "2020-01-30T00:00:00.000000000",
                    "2020-01-31T00:00:00.000000000",
                    "2020-02-01T00:00:00.000000000",
                    "2020-02-02T00:00:00.000000000",
                    "2020-02-03T00:00:00.000000000",
                    "2020-02-04T00:00:00.000000000",
                    "2020-02-05T00:00:00.000000000",
                    "2020-02-06T00:00:00.000000000",
                    "2020-02-07T00:00:00.000000000",
                    "2020-02-08T00:00:00.000000000",
                    "2020-02-09T00:00:00.000000000",
                    "2020-02-10T00:00:00.000000000",
                    "2020-02-11T00:00:00.000000000",
                    "2020-02-12T00:00:00.000000000",
                    "2020-02-13T00:00:00.000000000",
                    "2020-02-14T00:00:00.000000000",
                    "2020-02-15T00:00:00.000000000",
                    "2020-02-16T00:00:00.000000000",
                    "2020-02-17T00:00:00.000000000",
                    "2020-02-18T00:00:00.000000000",
                    "2020-02-19T00:00:00.000000000",
                    "2020-02-20T00:00:00.000000000",
                    "2020-02-21T00:00:00.000000000",
                    "2020-02-22T00:00:00.000000000",
                    "2020-02-23T00:00:00.000000000",
                    "2020-02-24T00:00:00.000000000",
                    "2020-02-25T00:00:00.000000000",
                    "2020-02-26T00:00:00.000000000",
                    "2020-02-27T00:00:00.000000000",
                    "2020-02-28T00:00:00.000000000",
                    "2020-02-29T00:00:00.000000000",
                    "2020-03-01T00:00:00.000000000",
                    "2020-03-02T00:00:00.000000000",
                    "2020-03-03T00:00:00.000000000",
                    "2020-03-04T00:00:00.000000000",
                    "2020-03-05T00:00:00.000000000",
                    "2020-03-06T00:00:00.000000000",
                    "2020-03-07T00:00:00.000000000",
                    "2020-03-08T00:00:00.000000000",
                    "2020-03-09T00:00:00.000000000",
                    "2020-03-10T00:00:00.000000000",
                    "2020-03-11T00:00:00.000000000",
                    "2020-03-12T00:00:00.000000000",
                    "2020-03-13T00:00:00.000000000",
                    "2020-03-14T00:00:00.000000000",
                    "2020-03-15T00:00:00.000000000",
                    "2020-03-16T00:00:00.000000000",
                    "2020-03-17T00:00:00.000000000",
                    "2020-03-18T00:00:00.000000000",
                    "2020-03-19T00:00:00.000000000",
                    "2020-03-20T00:00:00.000000000",
                    "2020-03-21T00:00:00.000000000",
                    "2020-03-22T00:00:00.000000000",
                    "2020-03-23T00:00:00.000000000",
                    "2020-03-24T00:00:00.000000000",
                    "2020-03-25T00:00:00.000000000",
                    "2020-03-26T00:00:00.000000000",
                    "2020-03-27T00:00:00.000000000",
                    "2020-03-28T00:00:00.000000000",
                    "2020-03-29T00:00:00.000000000",
                    "2020-03-30T00:00:00.000000000",
                    "2020-03-31T00:00:00.000000000",
                    "2020-04-01T00:00:00.000000000",
                    "2020-04-02T00:00:00.000000000",
                    "2020-04-03T00:00:00.000000000",
                    "2020-04-04T00:00:00.000000000",
                    "2020-04-05T00:00:00.000000000",
                    "2020-04-06T00:00:00.000000000",
                    "2020-04-07T00:00:00.000000000",
                    "2020-04-08T00:00:00.000000000",
                    "2020-04-09T00:00:00.000000000",
                    "2020-04-10T00:00:00.000000000",
                    "2020-04-11T00:00:00.000000000",
                    "2020-04-12T00:00:00.000000000",
                    "2020-04-13T00:00:00.000000000",
                    "2020-04-14T00:00:00.000000000",
                    "2020-04-15T00:00:00.000000000",
                    "2020-04-16T00:00:00.000000000",
                    "2020-04-17T00:00:00.000000000",
                    "2020-04-18T00:00:00.000000000",
                    "2020-04-19T00:00:00.000000000",
                    "2020-04-20T00:00:00.000000000",
                    "2020-04-21T00:00:00.000000000",
                    "2020-04-22T00:00:00.000000000",
                    "2020-04-23T00:00:00.000000000",
                    "2020-04-24T00:00:00.000000000",
                    "2020-04-25T00:00:00.000000000",
                    "2020-04-26T00:00:00.000000000",
                    "2020-04-27T00:00:00.000000000",
                    "2020-04-28T00:00:00.000000000",
                    "2020-04-29T00:00:00.000000000",
                    "2020-04-30T00:00:00.000000000",
                    "2020-05-01T00:00:00.000000000",
                    "2020-05-02T00:00:00.000000000",
                    "2020-05-03T00:00:00.000000000",
                    "2020-05-04T00:00:00.000000000",
                    "2020-05-05T00:00:00.000000000",
                    "2020-05-06T00:00:00.000000000",
                    "2020-05-07T00:00:00.000000000",
                    "2020-05-08T00:00:00.000000000",
                    "2020-05-09T00:00:00.000000000",
                    "2020-05-10T00:00:00.000000000",
                    "2020-05-11T00:00:00.000000000",
                    "2020-05-12T00:00:00.000000000",
                    "2020-05-13T00:00:00.000000000",
                    "2020-05-14T00:00:00.000000000",
                    "2020-05-15T00:00:00.000000000",
                    "2020-05-16T00:00:00.000000000",
                    "2020-05-17T00:00:00.000000000",
                    "2020-05-18T00:00:00.000000000",
                    "2020-05-19T00:00:00.000000000",
                    "2020-05-20T00:00:00.000000000",
                    "2020-05-21T00:00:00.000000000",
                    "2020-05-22T00:00:00.000000000",
                    "2020-05-23T00:00:00.000000000",
                    "2020-05-24T00:00:00.000000000",
                    "2020-05-25T00:00:00.000000000",
                    "2020-05-26T00:00:00.000000000",
                    "2020-05-27T00:00:00.000000000",
                    "2020-05-28T00:00:00.000000000",
                    "2020-05-29T00:00:00.000000000",
                    "2020-05-30T00:00:00.000000000",
                    "2020-05-31T00:00:00.000000000",
                    "2020-06-01T00:00:00.000000000",
                    "2020-06-02T00:00:00.000000000",
                    "2020-06-03T00:00:00.000000000",
                    "2020-06-04T00:00:00.000000000",
                    "2020-06-05T00:00:00.000000000",
                    "2020-06-06T00:00:00.000000000",
                    "2020-06-07T00:00:00.000000000",
                    "2020-06-08T00:00:00.000000000",
                    "2020-06-09T00:00:00.000000000",
                    "2020-06-10T00:00:00.000000000",
                    "2020-06-11T00:00:00.000000000",
                    "2020-06-12T00:00:00.000000000",
                    "2020-06-13T00:00:00.000000000",
                    "2020-06-14T00:00:00.000000000",
                    "2020-06-15T00:00:00.000000000",
                    "2020-06-16T00:00:00.000000000",
                    "2020-06-17T00:00:00.000000000",
                    "2020-06-18T00:00:00.000000000",
                    "2020-06-19T00:00:00.000000000",
                    "2020-06-20T00:00:00.000000000",
                    "2020-06-21T00:00:00.000000000",
                    "2020-06-22T00:00:00.000000000",
                    "2020-06-23T00:00:00.000000000",
                    "2020-06-24T00:00:00.000000000",
                    "2020-06-25T00:00:00.000000000",
                    "2020-06-26T00:00:00.000000000",
                    "2020-06-27T00:00:00.000000000",
                    "2020-06-28T00:00:00.000000000",
                    "2020-06-29T00:00:00.000000000",
                    "2020-06-30T00:00:00.000000000",
                    "2020-07-01T00:00:00.000000000",
                    "2020-07-02T00:00:00.000000000",
                    "2020-07-03T00:00:00.000000000",
                    "2020-07-04T00:00:00.000000000",
                    "2020-07-05T00:00:00.000000000",
                    "2020-07-06T00:00:00.000000000",
                    "2020-07-07T00:00:00.000000000",
                    "2020-07-08T00:00:00.000000000",
                    "2020-07-09T00:00:00.000000000",
                    "2020-07-10T00:00:00.000000000",
                    "2020-07-11T00:00:00.000000000",
                    "2020-07-12T00:00:00.000000000",
                    "2020-07-13T00:00:00.000000000",
                    "2020-07-14T00:00:00.000000000",
                    "2020-07-15T00:00:00.000000000",
                    "2020-07-16T00:00:00.000000000",
                    "2020-07-17T00:00:00.000000000",
                    "2020-07-18T00:00:00.000000000",
                    "2020-07-19T00:00:00.000000000",
                    "2020-07-20T00:00:00.000000000",
                    "2020-07-21T00:00:00.000000000",
                    "2020-07-22T00:00:00.000000000",
                    "2020-07-23T00:00:00.000000000",
                    "2020-07-24T00:00:00.000000000",
                    "2020-07-25T00:00:00.000000000",
                    "2020-07-26T00:00:00.000000000",
                    "2020-07-27T00:00:00.000000000"
                  ],
                  "xaxis": "x",
                  "y": {
                    "bdata": "/gEAAF4CAABvAwAASQUAANoHAADgCgAA3BQAABQXAADyHgAAFyUAAOosAABePgAAqUkAADlYAACYZQAATnAAAOB7AAAAhAAAJI0AABKUAADpmAAAkp4AAKnOAADS4AAAVeMAAKblAAB05gAAHOYAAKngAACa2gAAttoAAJ3RAAAP0QAA1MsAAKzEAAC6vgAAybgAALawAAAYrAAA5KkAAASmAACmpQAAyKIAABijAAAeqgAAx68AACm1AACmvAAAuMcAAEjbAABk6wAAMxoBALI6AQBpVgEA/4QBAPm0AQBH9AEAnlYCAPO6AgDSIQMAbIUDANIgBABkkwQAxDkFAE4DBgAgzwYApqgHANleCAC+DgkAA/YJAArOCgB2sgsASKUMAJp6DQDGSg4ADxAPADXEDwBlghAA7VcRAGc/EgCt8BIAngoUAGKcFABsMhUAasEVADWpFgBvehcAPyYYAMDWGAC/jBkANxEaAO6wGgCfghsAQfobAB3HHACTaB0AnfsdAFeKHgBt/B4AjDIfAETiHwDYcCAAsBghAAixIQBhRyIAN94iAAOPIwDuUyQAdcUkAHhhJQCoySUA+W0mAOPOJgAJnicAx0koAL7UKACRXSkAoN0pAAV7KgAbFysAMN8rACPHKwDifiwAGxEtAOppLQD47S0ARHYuAKQzLwAQ0C8AX8kwAN86MQDEzzEAnAAyACmLMgADWDMA5Tk0ALknNQCe/jUA9DE1ACfGNQCKjDYAf0k3ACD9NwBhszgAGp45AOctOgD9vjoA+gk7APzdOwC5Fj0AJ6s9ABeHPgBULz8AvAtAAHHRQABIBUIAkz5DAJlGRAAWV0UAK0VGAIQPRwCiikgAEUtHANumSACAjkgAL3lJALMWSgALAUsAX8BLAEMaTQD8ck4A0sJPAJXwUAD8r1EALtFSAMfTUwAsRlUALG5WAG6rVwCji1kAzzdaAN8GWwBSg1wA9hVeAMLKXgBaRl8AT0dgAFoFYQA=",
                    "dtype": "i4"
                  },
                  "yaxis": "y"
                },
                {
                  "hovertemplate": "Case Type=Recovered<br>Date=%{x}<br>Count=%{y}<extra></extra>",
                  "legendgroup": "Recovered",
                  "line": {
                    "color": "#00cc96",
                    "dash": "solid"
                  },
                  "marker": {
                    "symbol": "circle"
                  },
                  "mode": "lines",
                  "name": "Recovered",
                  "orientation": "v",
                  "showlegend": true,
                  "type": "scatter",
                  "x": [
                    "2020-01-22T00:00:00.000000000",
                    "2020-01-23T00:00:00.000000000",
                    "2020-01-24T00:00:00.000000000",
                    "2020-01-25T00:00:00.000000000",
                    "2020-01-26T00:00:00.000000000",
                    "2020-01-27T00:00:00.000000000",
                    "2020-01-28T00:00:00.000000000",
                    "2020-01-29T00:00:00.000000000",
                    "2020-01-30T00:00:00.000000000",
                    "2020-01-31T00:00:00.000000000",
                    "2020-02-01T00:00:00.000000000",
                    "2020-02-02T00:00:00.000000000",
                    "2020-02-03T00:00:00.000000000",
                    "2020-02-04T00:00:00.000000000",
                    "2020-02-05T00:00:00.000000000",
                    "2020-02-06T00:00:00.000000000",
                    "2020-02-07T00:00:00.000000000",
                    "2020-02-08T00:00:00.000000000",
                    "2020-02-09T00:00:00.000000000",
                    "2020-02-10T00:00:00.000000000",
                    "2020-02-11T00:00:00.000000000",
                    "2020-02-12T00:00:00.000000000",
                    "2020-02-13T00:00:00.000000000",
                    "2020-02-14T00:00:00.000000000",
                    "2020-02-15T00:00:00.000000000",
                    "2020-02-16T00:00:00.000000000",
                    "2020-02-17T00:00:00.000000000",
                    "2020-02-18T00:00:00.000000000",
                    "2020-02-19T00:00:00.000000000",
                    "2020-02-20T00:00:00.000000000",
                    "2020-02-21T00:00:00.000000000",
                    "2020-02-22T00:00:00.000000000",
                    "2020-02-23T00:00:00.000000000",
                    "2020-02-24T00:00:00.000000000",
                    "2020-02-25T00:00:00.000000000",
                    "2020-02-26T00:00:00.000000000",
                    "2020-02-27T00:00:00.000000000",
                    "2020-02-28T00:00:00.000000000",
                    "2020-02-29T00:00:00.000000000",
                    "2020-03-01T00:00:00.000000000",
                    "2020-03-02T00:00:00.000000000",
                    "2020-03-03T00:00:00.000000000",
                    "2020-03-04T00:00:00.000000000",
                    "2020-03-05T00:00:00.000000000",
                    "2020-03-06T00:00:00.000000000",
                    "2020-03-07T00:00:00.000000000",
                    "2020-03-08T00:00:00.000000000",
                    "2020-03-09T00:00:00.000000000",
                    "2020-03-10T00:00:00.000000000",
                    "2020-03-11T00:00:00.000000000",
                    "2020-03-12T00:00:00.000000000",
                    "2020-03-13T00:00:00.000000000",
                    "2020-03-14T00:00:00.000000000",
                    "2020-03-15T00:00:00.000000000",
                    "2020-03-16T00:00:00.000000000",
                    "2020-03-17T00:00:00.000000000",
                    "2020-03-18T00:00:00.000000000",
                    "2020-03-19T00:00:00.000000000",
                    "2020-03-20T00:00:00.000000000",
                    "2020-03-21T00:00:00.000000000",
                    "2020-03-22T00:00:00.000000000",
                    "2020-03-23T00:00:00.000000000",
                    "2020-03-24T00:00:00.000000000",
                    "2020-03-25T00:00:00.000000000",
                    "2020-03-26T00:00:00.000000000",
                    "2020-03-27T00:00:00.000000000",
                    "2020-03-28T00:00:00.000000000",
                    "2020-03-29T00:00:00.000000000",
                    "2020-03-30T00:00:00.000000000",
                    "2020-03-31T00:00:00.000000000",
                    "2020-04-01T00:00:00.000000000",
                    "2020-04-02T00:00:00.000000000",
                    "2020-04-03T00:00:00.000000000",
                    "2020-04-04T00:00:00.000000000",
                    "2020-04-05T00:00:00.000000000",
                    "2020-04-06T00:00:00.000000000",
                    "2020-04-07T00:00:00.000000000",
                    "2020-04-08T00:00:00.000000000",
                    "2020-04-09T00:00:00.000000000",
                    "2020-04-10T00:00:00.000000000",
                    "2020-04-11T00:00:00.000000000",
                    "2020-04-12T00:00:00.000000000",
                    "2020-04-13T00:00:00.000000000",
                    "2020-04-14T00:00:00.000000000",
                    "2020-04-15T00:00:00.000000000",
                    "2020-04-16T00:00:00.000000000",
                    "2020-04-17T00:00:00.000000000",
                    "2020-04-18T00:00:00.000000000",
                    "2020-04-19T00:00:00.000000000",
                    "2020-04-20T00:00:00.000000000",
                    "2020-04-21T00:00:00.000000000",
                    "2020-04-22T00:00:00.000000000",
                    "2020-04-23T00:00:00.000000000",
                    "2020-04-24T00:00:00.000000000",
                    "2020-04-25T00:00:00.000000000",
                    "2020-04-26T00:00:00.000000000",
                    "2020-04-27T00:00:00.000000000",
                    "2020-04-28T00:00:00.000000000",
                    "2020-04-29T00:00:00.000000000",
                    "2020-04-30T00:00:00.000000000",
                    "2020-05-01T00:00:00.000000000",
                    "2020-05-02T00:00:00.000000000",
                    "2020-05-03T00:00:00.000000000",
                    "2020-05-04T00:00:00.000000000",
                    "2020-05-05T00:00:00.000000000",
                    "2020-05-06T00:00:00.000000000",
                    "2020-05-07T00:00:00.000000000",
                    "2020-05-08T00:00:00.000000000",
                    "2020-05-09T00:00:00.000000000",
                    "2020-05-10T00:00:00.000000000",
                    "2020-05-11T00:00:00.000000000",
                    "2020-05-12T00:00:00.000000000",
                    "2020-05-13T00:00:00.000000000",
                    "2020-05-14T00:00:00.000000000",
                    "2020-05-15T00:00:00.000000000",
                    "2020-05-16T00:00:00.000000000",
                    "2020-05-17T00:00:00.000000000",
                    "2020-05-18T00:00:00.000000000",
                    "2020-05-19T00:00:00.000000000",
                    "2020-05-20T00:00:00.000000000",
                    "2020-05-21T00:00:00.000000000",
                    "2020-05-22T00:00:00.000000000",
                    "2020-05-23T00:00:00.000000000",
                    "2020-05-24T00:00:00.000000000",
                    "2020-05-25T00:00:00.000000000",
                    "2020-05-26T00:00:00.000000000",
                    "2020-05-27T00:00:00.000000000",
                    "2020-05-28T00:00:00.000000000",
                    "2020-05-29T00:00:00.000000000",
                    "2020-05-30T00:00:00.000000000",
                    "2020-05-31T00:00:00.000000000",
                    "2020-06-01T00:00:00.000000000",
                    "2020-06-02T00:00:00.000000000",
                    "2020-06-03T00:00:00.000000000",
                    "2020-06-04T00:00:00.000000000",
                    "2020-06-05T00:00:00.000000000",
                    "2020-06-06T00:00:00.000000000",
                    "2020-06-07T00:00:00.000000000",
                    "2020-06-08T00:00:00.000000000",
                    "2020-06-09T00:00:00.000000000",
                    "2020-06-10T00:00:00.000000000",
                    "2020-06-11T00:00:00.000000000",
                    "2020-06-12T00:00:00.000000000",
                    "2020-06-13T00:00:00.000000000",
                    "2020-06-14T00:00:00.000000000",
                    "2020-06-15T00:00:00.000000000",
                    "2020-06-16T00:00:00.000000000",
                    "2020-06-17T00:00:00.000000000",
                    "2020-06-18T00:00:00.000000000",
                    "2020-06-19T00:00:00.000000000",
                    "2020-06-20T00:00:00.000000000",
                    "2020-06-21T00:00:00.000000000",
                    "2020-06-22T00:00:00.000000000",
                    "2020-06-23T00:00:00.000000000",
                    "2020-06-24T00:00:00.000000000",
                    "2020-06-25T00:00:00.000000000",
                    "2020-06-26T00:00:00.000000000",
                    "2020-06-27T00:00:00.000000000",
                    "2020-06-28T00:00:00.000000000",
                    "2020-06-29T00:00:00.000000000",
                    "2020-06-30T00:00:00.000000000",
                    "2020-07-01T00:00:00.000000000",
                    "2020-07-02T00:00:00.000000000",
                    "2020-07-03T00:00:00.000000000",
                    "2020-07-04T00:00:00.000000000",
                    "2020-07-05T00:00:00.000000000",
                    "2020-07-06T00:00:00.000000000",
                    "2020-07-07T00:00:00.000000000",
                    "2020-07-08T00:00:00.000000000",
                    "2020-07-09T00:00:00.000000000",
                    "2020-07-10T00:00:00.000000000",
                    "2020-07-11T00:00:00.000000000",
                    "2020-07-12T00:00:00.000000000",
                    "2020-07-13T00:00:00.000000000",
                    "2020-07-14T00:00:00.000000000",
                    "2020-07-15T00:00:00.000000000",
                    "2020-07-16T00:00:00.000000000",
                    "2020-07-17T00:00:00.000000000",
                    "2020-07-18T00:00:00.000000000",
                    "2020-07-19T00:00:00.000000000",
                    "2020-07-20T00:00:00.000000000",
                    "2020-07-21T00:00:00.000000000",
                    "2020-07-22T00:00:00.000000000",
                    "2020-07-23T00:00:00.000000000",
                    "2020-07-24T00:00:00.000000000",
                    "2020-07-25T00:00:00.000000000",
                    "2020-07-26T00:00:00.000000000",
                    "2020-07-27T00:00:00.000000000"
                  ],
                  "xaxis": "x",
                  "y": {
                    "bdata": "HAAAAB4AAAAkAAAAJwAAADQAAAA9AAAAawAAAH0AAACNAAAA2wAAABkBAADLAQAAXAIAADUDAAAvBAAAigUAAG8HAACmCQAA8QsAAIIOAABBEQAA8RIAACoXAAC9HQAAxiIAAE8oAACvLgAAfTUAACI8AADZQwAALkYAAFlVAAAgVwAA710AABxoAACVcQAAr3wAAOqJAACqlQAA+KAAADWsAABZtgAA08EAAA3MAAD+0wAAuN0AANTmAADb7QAAUvUAAFn+AACCAwEABwsBAEkUAQCbIQEAoCkBAGA0AQATPgEAeEQBAAVOAQCvXgEA9nYBAMh4AQANngEAVbMBAPzTAQD89QEAYBYCAFU7AgCrdwIA+qcCAPrjAgDkJAMAhF8DALCtAwAN4gMA3CEEACF7BADh6QQA7UgFAHWbBQAf/wUA2EgGAHuwBgCmEAcA7ZwHAHcSCAAvdQgA/dAIAC1JCQBmnAkA6yEKANeTCgAZAwsAAcULAB8uDABxmgwAngENAMh/DQA4IA4AsBkPAMWpDwB6RRAAab8QAB5AEQBLyxEADnoSAB8QEwDxmhMAF2gUAPznFAAMnBUAnygWAFn+FgDwlRcAME4YAKInGQB7xBkAbZAaAABZGwBJPBwA4AAdAN2lHgDSeR8As08gAP1FIQDuGiIADQ8jAGIRJAC/OyUAnUwmAPVzJwDvRigAK9spADYNKwAYHCwAvSYtAMY8LgCuES8AOF8xAIGdMgBSzjMAORo1ABVONgCQmjcA1qs4AP7hOQBwXjsACSk9APpjPgAC1T8Aa5dBABuiQgBtBkQAIJtFAI1dRwCyxkgA/mVKADAETAAAX00Azs1OALOWUABbWlIARbFWAN5cWABHWFsAyildACALXwCJQGEAyKdjABW0ZQAe02cAL71pAJZwawBTk20AEb1vANArcgBBfXQAYOx2AGY5eQDrj3oAOft8ALqjfwBHVIIAOeuEALloiABXwIsAmM6NALd4kAA=",
                    "dtype": "i4"
                  },
                  "yaxis": "y"
                },
                {
                  "hovertemplate": "Case Type=Deaths<br>Date=%{x}<br>Count=%{y}<extra></extra>",
                  "legendgroup": "Deaths",
                  "line": {
                    "color": "#ab63fa",
                    "dash": "solid"
                  },
                  "marker": {
                    "symbol": "circle"
                  },
                  "mode": "lines",
                  "name": "Deaths",
                  "orientation": "v",
                  "showlegend": true,
                  "type": "scatter",
                  "x": [
                    "2020-01-22T00:00:00.000000000",
                    "2020-01-23T00:00:00.000000000",
                    "2020-01-24T00:00:00.000000000",
                    "2020-01-25T00:00:00.000000000",
                    "2020-01-26T00:00:00.000000000",
                    "2020-01-27T00:00:00.000000000",
                    "2020-01-28T00:00:00.000000000",
                    "2020-01-29T00:00:00.000000000",
                    "2020-01-30T00:00:00.000000000",
                    "2020-01-31T00:00:00.000000000",
                    "2020-02-01T00:00:00.000000000",
                    "2020-02-02T00:00:00.000000000",
                    "2020-02-03T00:00:00.000000000",
                    "2020-02-04T00:00:00.000000000",
                    "2020-02-05T00:00:00.000000000",
                    "2020-02-06T00:00:00.000000000",
                    "2020-02-07T00:00:00.000000000",
                    "2020-02-08T00:00:00.000000000",
                    "2020-02-09T00:00:00.000000000",
                    "2020-02-10T00:00:00.000000000",
                    "2020-02-11T00:00:00.000000000",
                    "2020-02-12T00:00:00.000000000",
                    "2020-02-13T00:00:00.000000000",
                    "2020-02-14T00:00:00.000000000",
                    "2020-02-15T00:00:00.000000000",
                    "2020-02-16T00:00:00.000000000",
                    "2020-02-17T00:00:00.000000000",
                    "2020-02-18T00:00:00.000000000",
                    "2020-02-19T00:00:00.000000000",
                    "2020-02-20T00:00:00.000000000",
                    "2020-02-21T00:00:00.000000000",
                    "2020-02-22T00:00:00.000000000",
                    "2020-02-23T00:00:00.000000000",
                    "2020-02-24T00:00:00.000000000",
                    "2020-02-25T00:00:00.000000000",
                    "2020-02-26T00:00:00.000000000",
                    "2020-02-27T00:00:00.000000000",
                    "2020-02-28T00:00:00.000000000",
                    "2020-02-29T00:00:00.000000000",
                    "2020-03-01T00:00:00.000000000",
                    "2020-03-02T00:00:00.000000000",
                    "2020-03-03T00:00:00.000000000",
                    "2020-03-04T00:00:00.000000000",
                    "2020-03-05T00:00:00.000000000",
                    "2020-03-06T00:00:00.000000000",
                    "2020-03-07T00:00:00.000000000",
                    "2020-03-08T00:00:00.000000000",
                    "2020-03-09T00:00:00.000000000",
                    "2020-03-10T00:00:00.000000000",
                    "2020-03-11T00:00:00.000000000",
                    "2020-03-12T00:00:00.000000000",
                    "2020-03-13T00:00:00.000000000",
                    "2020-03-14T00:00:00.000000000",
                    "2020-03-15T00:00:00.000000000",
                    "2020-03-16T00:00:00.000000000",
                    "2020-03-17T00:00:00.000000000",
                    "2020-03-18T00:00:00.000000000",
                    "2020-03-19T00:00:00.000000000",
                    "2020-03-20T00:00:00.000000000",
                    "2020-03-21T00:00:00.000000000",
                    "2020-03-22T00:00:00.000000000",
                    "2020-03-23T00:00:00.000000000",
                    "2020-03-24T00:00:00.000000000",
                    "2020-03-25T00:00:00.000000000",
                    "2020-03-26T00:00:00.000000000",
                    "2020-03-27T00:00:00.000000000",
                    "2020-03-28T00:00:00.000000000",
                    "2020-03-29T00:00:00.000000000",
                    "2020-03-30T00:00:00.000000000",
                    "2020-03-31T00:00:00.000000000",
                    "2020-04-01T00:00:00.000000000",
                    "2020-04-02T00:00:00.000000000",
                    "2020-04-03T00:00:00.000000000",
                    "2020-04-04T00:00:00.000000000",
                    "2020-04-05T00:00:00.000000000",
                    "2020-04-06T00:00:00.000000000",
                    "2020-04-07T00:00:00.000000000",
                    "2020-04-08T00:00:00.000000000",
                    "2020-04-09T00:00:00.000000000",
                    "2020-04-10T00:00:00.000000000",
                    "2020-04-11T00:00:00.000000000",
                    "2020-04-12T00:00:00.000000000",
                    "2020-04-13T00:00:00.000000000",
                    "2020-04-14T00:00:00.000000000",
                    "2020-04-15T00:00:00.000000000",
                    "2020-04-16T00:00:00.000000000",
                    "2020-04-17T00:00:00.000000000",
                    "2020-04-18T00:00:00.000000000",
                    "2020-04-19T00:00:00.000000000",
                    "2020-04-20T00:00:00.000000000",
                    "2020-04-21T00:00:00.000000000",
                    "2020-04-22T00:00:00.000000000",
                    "2020-04-23T00:00:00.000000000",
                    "2020-04-24T00:00:00.000000000",
                    "2020-04-25T00:00:00.000000000",
                    "2020-04-26T00:00:00.000000000",
                    "2020-04-27T00:00:00.000000000",
                    "2020-04-28T00:00:00.000000000",
                    "2020-04-29T00:00:00.000000000",
                    "2020-04-30T00:00:00.000000000",
                    "2020-05-01T00:00:00.000000000",
                    "2020-05-02T00:00:00.000000000",
                    "2020-05-03T00:00:00.000000000",
                    "2020-05-04T00:00:00.000000000",
                    "2020-05-05T00:00:00.000000000",
                    "2020-05-06T00:00:00.000000000",
                    "2020-05-07T00:00:00.000000000",
                    "2020-05-08T00:00:00.000000000",
                    "2020-05-09T00:00:00.000000000",
                    "2020-05-10T00:00:00.000000000",
                    "2020-05-11T00:00:00.000000000",
                    "2020-05-12T00:00:00.000000000",
                    "2020-05-13T00:00:00.000000000",
                    "2020-05-14T00:00:00.000000000",
                    "2020-05-15T00:00:00.000000000",
                    "2020-05-16T00:00:00.000000000",
                    "2020-05-17T00:00:00.000000000",
                    "2020-05-18T00:00:00.000000000",
                    "2020-05-19T00:00:00.000000000",
                    "2020-05-20T00:00:00.000000000",
                    "2020-05-21T00:00:00.000000000",
                    "2020-05-22T00:00:00.000000000",
                    "2020-05-23T00:00:00.000000000",
                    "2020-05-24T00:00:00.000000000",
                    "2020-05-25T00:00:00.000000000",
                    "2020-05-26T00:00:00.000000000",
                    "2020-05-27T00:00:00.000000000",
                    "2020-05-28T00:00:00.000000000",
                    "2020-05-29T00:00:00.000000000",
                    "2020-05-30T00:00:00.000000000",
                    "2020-05-31T00:00:00.000000000",
                    "2020-06-01T00:00:00.000000000",
                    "2020-06-02T00:00:00.000000000",
                    "2020-06-03T00:00:00.000000000",
                    "2020-06-04T00:00:00.000000000",
                    "2020-06-05T00:00:00.000000000",
                    "2020-06-06T00:00:00.000000000",
                    "2020-06-07T00:00:00.000000000",
                    "2020-06-08T00:00:00.000000000",
                    "2020-06-09T00:00:00.000000000",
                    "2020-06-10T00:00:00.000000000",
                    "2020-06-11T00:00:00.000000000",
                    "2020-06-12T00:00:00.000000000",
                    "2020-06-13T00:00:00.000000000",
                    "2020-06-14T00:00:00.000000000",
                    "2020-06-15T00:00:00.000000000",
                    "2020-06-16T00:00:00.000000000",
                    "2020-06-17T00:00:00.000000000",
                    "2020-06-18T00:00:00.000000000",
                    "2020-06-19T00:00:00.000000000",
                    "2020-06-20T00:00:00.000000000",
                    "2020-06-21T00:00:00.000000000",
                    "2020-06-22T00:00:00.000000000",
                    "2020-06-23T00:00:00.000000000",
                    "2020-06-24T00:00:00.000000000",
                    "2020-06-25T00:00:00.000000000",
                    "2020-06-26T00:00:00.000000000",
                    "2020-06-27T00:00:00.000000000",
                    "2020-06-28T00:00:00.000000000",
                    "2020-06-29T00:00:00.000000000",
                    "2020-06-30T00:00:00.000000000",
                    "2020-07-01T00:00:00.000000000",
                    "2020-07-02T00:00:00.000000000",
                    "2020-07-03T00:00:00.000000000",
                    "2020-07-04T00:00:00.000000000",
                    "2020-07-05T00:00:00.000000000",
                    "2020-07-06T00:00:00.000000000",
                    "2020-07-07T00:00:00.000000000",
                    "2020-07-08T00:00:00.000000000",
                    "2020-07-09T00:00:00.000000000",
                    "2020-07-10T00:00:00.000000000",
                    "2020-07-11T00:00:00.000000000",
                    "2020-07-12T00:00:00.000000000",
                    "2020-07-13T00:00:00.000000000",
                    "2020-07-14T00:00:00.000000000",
                    "2020-07-15T00:00:00.000000000",
                    "2020-07-16T00:00:00.000000000",
                    "2020-07-17T00:00:00.000000000",
                    "2020-07-18T00:00:00.000000000",
                    "2020-07-19T00:00:00.000000000",
                    "2020-07-20T00:00:00.000000000",
                    "2020-07-21T00:00:00.000000000",
                    "2020-07-22T00:00:00.000000000",
                    "2020-07-23T00:00:00.000000000",
                    "2020-07-24T00:00:00.000000000",
                    "2020-07-25T00:00:00.000000000",
                    "2020-07-26T00:00:00.000000000",
                    "2020-07-27T00:00:00.000000000"
                  ],
                  "xaxis": "x",
                  "y": {
                    "bdata": "EQAAABIAAAAaAAAAKgAAADgAAABSAAAAgwAAAIUAAACrAAAA1QAAAAMBAABqAQAAqgEAAOwBAAA0AgAAegIAAM8CAAAmAwAAigMAAPUDAABZBAAAXgQAAFsFAADzBQAAggYAAOoGAABMBwAA2AcAAEsIAADGCAAAyggAAJkJAACjCQAAQwoAAJMKAADPCgAA+goAADMLAAB4CwAArgsAAAcMAABSDAAAsQwAAA4NAAB+DQAA4Q0AANUOAACNDwAApBAAAPwRAAAtEwAAHhUAAL8WAABAGQAA6BsAAAwfAACNIgAA3yYAAKUsAABOMwAA7zkAAGxBAABISgAAIVUAAOBgAACebgAA/XwAAI6KAADSmgAAvq0AAG3DAAAO3AAAb/MAAEAKAQDdHQEApTQBAINTAQDSbQEAn4sBAAeoAQC8vwEAH9YBAJLsAQCEBwIA/CcCAG9EAgApZwIAcIACAEqSAgCNpwIAgsMCAOXdAgCn+AIAuRIDAIMoAwCuNwMA10kDABZjAwCGfQMA0JQDAAmpAwDWvQMAU8sDAHPbAwBi8gMAbwwEAJAhBABQNwQA+UcEAOdVBAB4YwQAI3kEAI+NBAAjogQAgrYEAM3GBADO0wQAqeAEAFnzBABuBgUAIBkFAMQtBQBZPQUAnUkFADdOBQCiXgUA/3IFAFyFBQDilwUAHqgFAGazBQBivwUAOdIFAP3nBQAa/AUAwg4GAOsdBgChKAYAEjcGAExKBgChXgYAR3EGABCCBgCekgYAzJ8GAC2tBgAAyAYAh9wGACzwBgCtCAcARhkHAMEoBwC0NgcAc0sHAABgBwDjeQcAvowHAESeBwBVqgcA3rgHAOrMBwB94AcAffQHAAAICAARGQgAhiYIAFs1CAA2TQgA/WEIAE93CAAOjAgAL58IAKGuCACIvQgApNMIABnpCADA/wgAFxoJABIwCQDPPwkAD1AJAG1oCQC0gwkAoqoJAKLCCQCl1QkAreUJANT6CQA=",
                    "dtype": "i4"
                  },
                  "yaxis": "y"
                }
              ],
              "layout": {
                "legend": {
                  "title": {
                    "text": "Case Type"
                  },
                  "tracegroupgap": 0
                },
                "template": {
                  "data": {
                    "bar": [
                      {
                        "error_x": {
                          "color": "#2a3f5f"
                        },
                        "error_y": {
                          "color": "#2a3f5f"
                        },
                        "marker": {
                          "line": {
                            "color": "white",
                            "width": 0.5
                          },
                          "pattern": {
                            "fillmode": "overlay",
                            "size": 10,
                            "solidity": 0.2
                          }
                        },
                        "type": "bar"
                      }
                    ],
                    "barpolar": [
                      {
                        "marker": {
                          "line": {
                            "color": "white",
                            "width": 0.5
                          },
                          "pattern": {
                            "fillmode": "overlay",
                            "size": 10,
                            "solidity": 0.2
                          }
                        },
                        "type": "barpolar"
                      }
                    ],
                    "carpet": [
                      {
                        "aaxis": {
                          "endlinecolor": "#2a3f5f",
                          "gridcolor": "#C8D4E3",
                          "linecolor": "#C8D4E3",
                          "minorgridcolor": "#C8D4E3",
                          "startlinecolor": "#2a3f5f"
                        },
                        "baxis": {
                          "endlinecolor": "#2a3f5f",
                          "gridcolor": "#C8D4E3",
                          "linecolor": "#C8D4E3",
                          "minorgridcolor": "#C8D4E3",
                          "startlinecolor": "#2a3f5f"
                        },
                        "type": "carpet"
                      }
                    ],
                    "choropleth": [
                      {
                        "colorbar": {
                          "outlinewidth": 0,
                          "ticks": ""
                        },
                        "type": "choropleth"
                      }
                    ],
                    "contour": [
                      {
                        "colorbar": {
                          "outlinewidth": 0,
                          "ticks": ""
                        },
                        "colorscale": [
                          [
                            0,
                            "#0d0887"
                          ],
                          [
                            0.1111111111111111,
                            "#46039f"
                          ],
                          [
                            0.2222222222222222,
                            "#7201a8"
                          ],
                          [
                            0.3333333333333333,
                            "#9c179e"
                          ],
                          [
                            0.4444444444444444,
                            "#bd3786"
                          ],
                          [
                            0.5555555555555556,
                            "#d8576b"
                          ],
                          [
                            0.6666666666666666,
                            "#ed7953"
                          ],
                          [
                            0.7777777777777778,
                            "#fb9f3a"
                          ],
                          [
                            0.8888888888888888,
                            "#fdca26"
                          ],
                          [
                            1,
                            "#f0f921"
                          ]
                        ],
                        "type": "contour"
                      }
                    ],
                    "contourcarpet": [
                      {
                        "colorbar": {
                          "outlinewidth": 0,
                          "ticks": ""
                        },
                        "type": "contourcarpet"
                      }
                    ],
                    "heatmap": [
                      {
                        "colorbar": {
                          "outlinewidth": 0,
                          "ticks": ""
                        },
                        "colorscale": [
                          [
                            0,
                            "#0d0887"
                          ],
                          [
                            0.1111111111111111,
                            "#46039f"
                          ],
                          [
                            0.2222222222222222,
                            "#7201a8"
                          ],
                          [
                            0.3333333333333333,
                            "#9c179e"
                          ],
                          [
                            0.4444444444444444,
                            "#bd3786"
                          ],
                          [
                            0.5555555555555556,
                            "#d8576b"
                          ],
                          [
                            0.6666666666666666,
                            "#ed7953"
                          ],
                          [
                            0.7777777777777778,
                            "#fb9f3a"
                          ],
                          [
                            0.8888888888888888,
                            "#fdca26"
                          ],
                          [
                            1,
                            "#f0f921"
                          ]
                        ],
                        "type": "heatmap"
                      }
                    ],
                    "histogram": [
                      {
                        "marker": {
                          "pattern": {
                            "fillmode": "overlay",
                            "size": 10,
                            "solidity": 0.2
                          }
                        },
                        "type": "histogram"
                      }
                    ],
                    "histogram2d": [
                      {
                        "colorbar": {
                          "outlinewidth": 0,
                          "ticks": ""
                        },
                        "colorscale": [
                          [
                            0,
                            "#0d0887"
                          ],
                          [
                            0.1111111111111111,
                            "#46039f"
                          ],
                          [
                            0.2222222222222222,
                            "#7201a8"
                          ],
                          [
                            0.3333333333333333,
                            "#9c179e"
                          ],
                          [
                            0.4444444444444444,
                            "#bd3786"
                          ],
                          [
                            0.5555555555555556,
                            "#d8576b"
                          ],
                          [
                            0.6666666666666666,
                            "#ed7953"
                          ],
                          [
                            0.7777777777777778,
                            "#fb9f3a"
                          ],
                          [
                            0.8888888888888888,
                            "#fdca26"
                          ],
                          [
                            1,
                            "#f0f921"
                          ]
                        ],
                        "type": "histogram2d"
                      }
                    ],
                    "histogram2dcontour": [
                      {
                        "colorbar": {
                          "outlinewidth": 0,
                          "ticks": ""
                        },
                        "colorscale": [
                          [
                            0,
                            "#0d0887"
                          ],
                          [
                            0.1111111111111111,
                            "#46039f"
                          ],
                          [
                            0.2222222222222222,
                            "#7201a8"
                          ],
                          [
                            0.3333333333333333,
                            "#9c179e"
                          ],
                          [
                            0.4444444444444444,
                            "#bd3786"
                          ],
                          [
                            0.5555555555555556,
                            "#d8576b"
                          ],
                          [
                            0.6666666666666666,
                            "#ed7953"
                          ],
                          [
                            0.7777777777777778,
                            "#fb9f3a"
                          ],
                          [
                            0.8888888888888888,
                            "#fdca26"
                          ],
                          [
                            1,
                            "#f0f921"
                          ]
                        ],
                        "type": "histogram2dcontour"
                      }
                    ],
                    "mesh3d": [
                      {
                        "colorbar": {
                          "outlinewidth": 0,
                          "ticks": ""
                        },
                        "type": "mesh3d"
                      }
                    ],
                    "parcoords": [
                      {
                        "line": {
                          "colorbar": {
                            "outlinewidth": 0,
                            "ticks": ""
                          }
                        },
                        "type": "parcoords"
                      }
                    ],
                    "pie": [
                      {
                        "automargin": true,
                        "type": "pie"
                      }
                    ],
                    "scatter": [
                      {
                        "fillpattern": {
                          "fillmode": "overlay",
                          "size": 10,
                          "solidity": 0.2
                        },
                        "type": "scatter"
                      }
                    ],
                    "scatter3d": [
                      {
                        "line": {
                          "colorbar": {
                            "outlinewidth": 0,
                            "ticks": ""
                          }
                        },
                        "marker": {
                          "colorbar": {
                            "outlinewidth": 0,
                            "ticks": ""
                          }
                        },
                        "type": "scatter3d"
                      }
                    ],
                    "scattercarpet": [
                      {
                        "marker": {
                          "colorbar": {
                            "outlinewidth": 0,
                            "ticks": ""
                          }
                        },
                        "type": "scattercarpet"
                      }
                    ],
                    "scattergeo": [
                      {
                        "marker": {
                          "colorbar": {
                            "outlinewidth": 0,
                            "ticks": ""
                          }
                        },
                        "type": "scattergeo"
                      }
                    ],
                    "scattergl": [
                      {
                        "marker": {
                          "colorbar": {
                            "outlinewidth": 0,
                            "ticks": ""
                          }
                        },
                        "type": "scattergl"
                      }
                    ],
                    "scattermap": [
                      {
                        "marker": {
                          "colorbar": {
                            "outlinewidth": 0,
                            "ticks": ""
                          }
                        },
                        "type": "scattermap"
                      }
                    ],
                    "scattermapbox": [
                      {
                        "marker": {
                          "colorbar": {
                            "outlinewidth": 0,
                            "ticks": ""
                          }
                        },
                        "type": "scattermapbox"
                      }
                    ],
                    "scatterpolar": [
                      {
                        "marker": {
                          "colorbar": {
                            "outlinewidth": 0,
                            "ticks": ""
                          }
                        },
                        "type": "scatterpolar"
                      }
                    ],
                    "scatterpolargl": [
                      {
                        "marker": {
                          "colorbar": {
                            "outlinewidth": 0,
                            "ticks": ""
                          }
                        },
                        "type": "scatterpolargl"
                      }
                    ],
                    "scatterternary": [
                      {
                        "marker": {
                          "colorbar": {
                            "outlinewidth": 0,
                            "ticks": ""
                          }
                        },
                        "type": "scatterternary"
                      }
                    ],
                    "surface": [
                      {
                        "colorbar": {
                          "outlinewidth": 0,
                          "ticks": ""
                        },
                        "colorscale": [
                          [
                            0,
                            "#0d0887"
                          ],
                          [
                            0.1111111111111111,
                            "#46039f"
                          ],
                          [
                            0.2222222222222222,
                            "#7201a8"
                          ],
                          [
                            0.3333333333333333,
                            "#9c179e"
                          ],
                          [
                            0.4444444444444444,
                            "#bd3786"
                          ],
                          [
                            0.5555555555555556,
                            "#d8576b"
                          ],
                          [
                            0.6666666666666666,
                            "#ed7953"
                          ],
                          [
                            0.7777777777777778,
                            "#fb9f3a"
                          ],
                          [
                            0.8888888888888888,
                            "#fdca26"
                          ],
                          [
                            1,
                            "#f0f921"
                          ]
                        ],
                        "type": "surface"
                      }
                    ],
                    "table": [
                      {
                        "cells": {
                          "fill": {
                            "color": "#EBF0F8"
                          },
                          "line": {
                            "color": "white"
                          }
                        },
                        "header": {
                          "fill": {
                            "color": "#C8D4E3"
                          },
                          "line": {
                            "color": "white"
                          }
                        },
                        "type": "table"
                      }
                    ]
                  },
                  "layout": {
                    "annotationdefaults": {
                      "arrowcolor": "#2a3f5f",
                      "arrowhead": 0,
                      "arrowwidth": 1
                    },
                    "autotypenumbers": "strict",
                    "coloraxis": {
                      "colorbar": {
                        "outlinewidth": 0,
                        "ticks": ""
                      }
                    },
                    "colorscale": {
                      "diverging": [
                        [
                          0,
                          "#8e0152"
                        ],
                        [
                          0.1,
                          "#c51b7d"
                        ],
                        [
                          0.2,
                          "#de77ae"
                        ],
                        [
                          0.3,
                          "#f1b6da"
                        ],
                        [
                          0.4,
                          "#fde0ef"
                        ],
                        [
                          0.5,
                          "#f7f7f7"
                        ],
                        [
                          0.6,
                          "#e6f5d0"
                        ],
                        [
                          0.7,
                          "#b8e186"
                        ],
                        [
                          0.8,
                          "#7fbc41"
                        ],
                        [
                          0.9,
                          "#4d9221"
                        ],
                        [
                          1,
                          "#276419"
                        ]
                      ],
                      "sequential": [
                        [
                          0,
                          "#0d0887"
                        ],
                        [
                          0.1111111111111111,
                          "#46039f"
                        ],
                        [
                          0.2222222222222222,
                          "#7201a8"
                        ],
                        [
                          0.3333333333333333,
                          "#9c179e"
                        ],
                        [
                          0.4444444444444444,
                          "#bd3786"
                        ],
                        [
                          0.5555555555555556,
                          "#d8576b"
                        ],
                        [
                          0.6666666666666666,
                          "#ed7953"
                        ],
                        [
                          0.7777777777777778,
                          "#fb9f3a"
                        ],
                        [
                          0.8888888888888888,
                          "#fdca26"
                        ],
                        [
                          1,
                          "#f0f921"
                        ]
                      ],
                      "sequentialminus": [
                        [
                          0,
                          "#0d0887"
                        ],
                        [
                          0.1111111111111111,
                          "#46039f"
                        ],
                        [
                          0.2222222222222222,
                          "#7201a8"
                        ],
                        [
                          0.3333333333333333,
                          "#9c179e"
                        ],
                        [
                          0.4444444444444444,
                          "#bd3786"
                        ],
                        [
                          0.5555555555555556,
                          "#d8576b"
                        ],
                        [
                          0.6666666666666666,
                          "#ed7953"
                        ],
                        [
                          0.7777777777777778,
                          "#fb9f3a"
                        ],
                        [
                          0.8888888888888888,
                          "#fdca26"
                        ],
                        [
                          1,
                          "#f0f921"
                        ]
                      ]
                    },
                    "colorway": [
                      "#636efa",
                      "#EF553B",
                      "#00cc96",
                      "#ab63fa",
                      "#FFA15A",
                      "#19d3f3",
                      "#FF6692",
                      "#B6E880",
                      "#FF97FF",
                      "#FECB52"
                    ],
                    "font": {
                      "color": "#2a3f5f"
                    },
                    "geo": {
                      "bgcolor": "white",
                      "lakecolor": "white",
                      "landcolor": "white",
                      "showlakes": true,
                      "showland": true,
                      "subunitcolor": "#C8D4E3"
                    },
                    "hoverlabel": {
                      "align": "left"
                    },
                    "hovermode": "closest",
                    "mapbox": {
                      "style": "light"
                    },
                    "paper_bgcolor": "white",
                    "plot_bgcolor": "white",
                    "polar": {
                      "angularaxis": {
                        "gridcolor": "#EBF0F8",
                        "linecolor": "#EBF0F8",
                        "ticks": ""
                      },
                      "bgcolor": "white",
                      "radialaxis": {
                        "gridcolor": "#EBF0F8",
                        "linecolor": "#EBF0F8",
                        "ticks": ""
                      }
                    },
                    "scene": {
                      "xaxis": {
                        "backgroundcolor": "white",
                        "gridcolor": "#DFE8F3",
                        "gridwidth": 2,
                        "linecolor": "#EBF0F8",
                        "showbackground": true,
                        "ticks": "",
                        "zerolinecolor": "#EBF0F8"
                      },
                      "yaxis": {
                        "backgroundcolor": "white",
                        "gridcolor": "#DFE8F3",
                        "gridwidth": 2,
                        "linecolor": "#EBF0F8",
                        "showbackground": true,
                        "ticks": "",
                        "zerolinecolor": "#EBF0F8"
                      },
                      "zaxis": {
                        "backgroundcolor": "white",
                        "gridcolor": "#DFE8F3",
                        "gridwidth": 2,
                        "linecolor": "#EBF0F8",
                        "showbackground": true,
                        "ticks": "",
                        "zerolinecolor": "#EBF0F8"
                      }
                    },
                    "shapedefaults": {
                      "line": {
                        "color": "#2a3f5f"
                      }
                    },
                    "ternary": {
                      "aaxis": {
                        "gridcolor": "#DFE8F3",
                        "linecolor": "#A2B1C6",
                        "ticks": ""
                      },
                      "baxis": {
                        "gridcolor": "#DFE8F3",
                        "linecolor": "#A2B1C6",
                        "ticks": ""
                      },
                      "bgcolor": "white",
                      "caxis": {
                        "gridcolor": "#DFE8F3",
                        "linecolor": "#A2B1C6",
                        "ticks": ""
                      }
                    },
                    "title": {
                      "x": 0.05
                    },
                    "xaxis": {
                      "automargin": true,
                      "gridcolor": "#EBF0F8",
                      "linecolor": "#EBF0F8",
                      "ticks": "",
                      "title": {
                        "standoff": 15
                      },
                      "zerolinecolor": "#EBF0F8",
                      "zerolinewidth": 2
                    },
                    "yaxis": {
                      "automargin": true,
                      "gridcolor": "#EBF0F8",
                      "linecolor": "#EBF0F8",
                      "ticks": "",
                      "title": {
                        "standoff": 15
                      },
                      "zerolinecolor": "#EBF0F8",
                      "zerolinewidth": 2
                    }
                  }
                },
                "title": {
                  "text": "COVID-19 Cases in Lesotho"
                },
                "xaxis": {
                  "anchor": "y",
                  "domain": [
                    0,
                    1
                  ],
                  "title": {
                    "text": "Date"
                  }
                },
                "yaxis": {
                  "anchor": "x",
                  "domain": [
                    0,
                    1
                  ],
                  "title": {
                    "text": "Count"
                  }
                }
              }
            }
          },
          "metadata": {},
          "output_type": "display_data"
        }
      ],
      "source": [
        "country = df['country'].unique()[-1]\n",
        "\n",
        "fig = px.line(df2, x='Date', y=['Confirmed', 'Active', 'Recovered', 'Deaths'],\n",
        "                         title=f'COVID-19 Cases in {country}',\n",
        "                         labels={'value': 'Count', 'variable': 'Case Type'})\n",
        "fig.show()"
      ]
    },
    {
      "cell_type": "code",
      "execution_count": 34,
      "metadata": {
        "colab": {
          "base_uri": "https://localhost:8080/",
          "height": 542
        },
        "id": "w0zdN3VAK6l5",
        "outputId": "76aa15a0-e613-4454-b79b-9e0119d6bbb3"
      },
      "outputs": [
        {
          "data": {
            "application/vnd.plotly.v1+json": {
              "config": {
                "plotlyServerURL": "https://plot.ly"
              },
              "data": [
                {
                  "hovertemplate": "Case Type=Confirmed<br>Date=%{x}<br>Count=%{y}<extra></extra>",
                  "legendgroup": "Confirmed",
                  "line": {
                    "color": "#636efa",
                    "dash": "solid"
                  },
                  "marker": {
                    "symbol": "circle"
                  },
                  "mode": "lines",
                  "name": "Confirmed",
                  "orientation": "v",
                  "showlegend": true,
                  "type": "scatter",
                  "x": [
                    "2020-01-22T00:00:00.000000000",
                    "2020-01-23T00:00:00.000000000",
                    "2020-01-24T00:00:00.000000000",
                    "2020-01-25T00:00:00.000000000",
                    "2020-01-26T00:00:00.000000000",
                    "2020-01-27T00:00:00.000000000",
                    "2020-01-28T00:00:00.000000000",
                    "2020-01-29T00:00:00.000000000",
                    "2020-01-30T00:00:00.000000000",
                    "2020-01-31T00:00:00.000000000",
                    "2020-02-01T00:00:00.000000000",
                    "2020-02-02T00:00:00.000000000",
                    "2020-02-03T00:00:00.000000000",
                    "2020-02-04T00:00:00.000000000",
                    "2020-02-05T00:00:00.000000000",
                    "2020-02-06T00:00:00.000000000",
                    "2020-02-07T00:00:00.000000000",
                    "2020-02-08T00:00:00.000000000",
                    "2020-02-09T00:00:00.000000000",
                    "2020-02-10T00:00:00.000000000",
                    "2020-02-11T00:00:00.000000000",
                    "2020-02-12T00:00:00.000000000",
                    "2020-02-13T00:00:00.000000000",
                    "2020-02-14T00:00:00.000000000",
                    "2020-02-15T00:00:00.000000000",
                    "2020-02-16T00:00:00.000000000",
                    "2020-02-17T00:00:00.000000000",
                    "2020-02-18T00:00:00.000000000",
                    "2020-02-19T00:00:00.000000000",
                    "2020-02-20T00:00:00.000000000",
                    "2020-02-21T00:00:00.000000000",
                    "2020-02-22T00:00:00.000000000",
                    "2020-02-23T00:00:00.000000000",
                    "2020-02-24T00:00:00.000000000",
                    "2020-02-25T00:00:00.000000000",
                    "2020-02-26T00:00:00.000000000",
                    "2020-02-27T00:00:00.000000000",
                    "2020-02-28T00:00:00.000000000",
                    "2020-02-29T00:00:00.000000000",
                    "2020-03-01T00:00:00.000000000",
                    "2020-03-02T00:00:00.000000000",
                    "2020-03-03T00:00:00.000000000",
                    "2020-03-04T00:00:00.000000000",
                    "2020-03-05T00:00:00.000000000",
                    "2020-03-06T00:00:00.000000000",
                    "2020-03-07T00:00:00.000000000",
                    "2020-03-08T00:00:00.000000000",
                    "2020-03-09T00:00:00.000000000",
                    "2020-03-10T00:00:00.000000000",
                    "2020-03-11T00:00:00.000000000",
                    "2020-03-12T00:00:00.000000000",
                    "2020-03-13T00:00:00.000000000",
                    "2020-03-14T00:00:00.000000000",
                    "2020-03-15T00:00:00.000000000",
                    "2020-03-16T00:00:00.000000000",
                    "2020-03-17T00:00:00.000000000",
                    "2020-03-18T00:00:00.000000000",
                    "2020-03-19T00:00:00.000000000",
                    "2020-03-20T00:00:00.000000000",
                    "2020-03-21T00:00:00.000000000",
                    "2020-03-22T00:00:00.000000000",
                    "2020-03-23T00:00:00.000000000",
                    "2020-03-24T00:00:00.000000000",
                    "2020-03-25T00:00:00.000000000",
                    "2020-03-26T00:00:00.000000000",
                    "2020-03-27T00:00:00.000000000",
                    "2020-03-28T00:00:00.000000000",
                    "2020-03-29T00:00:00.000000000",
                    "2020-03-30T00:00:00.000000000",
                    "2020-03-31T00:00:00.000000000",
                    "2020-04-01T00:00:00.000000000",
                    "2020-04-02T00:00:00.000000000",
                    "2020-04-03T00:00:00.000000000",
                    "2020-04-04T00:00:00.000000000",
                    "2020-04-05T00:00:00.000000000",
                    "2020-04-06T00:00:00.000000000",
                    "2020-04-07T00:00:00.000000000",
                    "2020-04-08T00:00:00.000000000",
                    "2020-04-09T00:00:00.000000000",
                    "2020-04-10T00:00:00.000000000",
                    "2020-04-11T00:00:00.000000000",
                    "2020-04-12T00:00:00.000000000",
                    "2020-04-13T00:00:00.000000000",
                    "2020-04-14T00:00:00.000000000",
                    "2020-04-15T00:00:00.000000000",
                    "2020-04-16T00:00:00.000000000",
                    "2020-04-17T00:00:00.000000000",
                    "2020-04-18T00:00:00.000000000",
                    "2020-04-19T00:00:00.000000000",
                    "2020-04-20T00:00:00.000000000",
                    "2020-04-21T00:00:00.000000000",
                    "2020-04-22T00:00:00.000000000",
                    "2020-04-23T00:00:00.000000000",
                    "2020-04-24T00:00:00.000000000",
                    "2020-04-25T00:00:00.000000000",
                    "2020-04-26T00:00:00.000000000",
                    "2020-04-27T00:00:00.000000000",
                    "2020-04-28T00:00:00.000000000",
                    "2020-04-29T00:00:00.000000000",
                    "2020-04-30T00:00:00.000000000",
                    "2020-05-01T00:00:00.000000000",
                    "2020-05-02T00:00:00.000000000",
                    "2020-05-03T00:00:00.000000000",
                    "2020-05-04T00:00:00.000000000",
                    "2020-05-05T00:00:00.000000000",
                    "2020-05-06T00:00:00.000000000",
                    "2020-05-07T00:00:00.000000000",
                    "2020-05-08T00:00:00.000000000",
                    "2020-05-09T00:00:00.000000000",
                    "2020-05-10T00:00:00.000000000",
                    "2020-05-11T00:00:00.000000000",
                    "2020-05-12T00:00:00.000000000",
                    "2020-05-13T00:00:00.000000000",
                    "2020-05-14T00:00:00.000000000",
                    "2020-05-15T00:00:00.000000000",
                    "2020-05-16T00:00:00.000000000",
                    "2020-05-17T00:00:00.000000000",
                    "2020-05-18T00:00:00.000000000",
                    "2020-05-19T00:00:00.000000000",
                    "2020-05-20T00:00:00.000000000",
                    "2020-05-21T00:00:00.000000000",
                    "2020-05-22T00:00:00.000000000",
                    "2020-05-23T00:00:00.000000000",
                    "2020-05-24T00:00:00.000000000",
                    "2020-05-25T00:00:00.000000000",
                    "2020-05-26T00:00:00.000000000",
                    "2020-05-27T00:00:00.000000000",
                    "2020-05-28T00:00:00.000000000",
                    "2020-05-29T00:00:00.000000000",
                    "2020-05-30T00:00:00.000000000",
                    "2020-05-31T00:00:00.000000000",
                    "2020-06-01T00:00:00.000000000",
                    "2020-06-02T00:00:00.000000000",
                    "2020-06-03T00:00:00.000000000",
                    "2020-06-04T00:00:00.000000000",
                    "2020-06-05T00:00:00.000000000",
                    "2020-06-06T00:00:00.000000000",
                    "2020-06-07T00:00:00.000000000",
                    "2020-06-08T00:00:00.000000000",
                    "2020-06-09T00:00:00.000000000",
                    "2020-06-10T00:00:00.000000000",
                    "2020-06-11T00:00:00.000000000",
                    "2020-06-12T00:00:00.000000000",
                    "2020-06-13T00:00:00.000000000",
                    "2020-06-14T00:00:00.000000000",
                    "2020-06-15T00:00:00.000000000",
                    "2020-06-16T00:00:00.000000000",
                    "2020-06-17T00:00:00.000000000",
                    "2020-06-18T00:00:00.000000000",
                    "2020-06-19T00:00:00.000000000",
                    "2020-06-20T00:00:00.000000000",
                    "2020-06-21T00:00:00.000000000",
                    "2020-06-22T00:00:00.000000000",
                    "2020-06-23T00:00:00.000000000",
                    "2020-06-24T00:00:00.000000000",
                    "2020-06-25T00:00:00.000000000",
                    "2020-06-26T00:00:00.000000000",
                    "2020-06-27T00:00:00.000000000",
                    "2020-06-28T00:00:00.000000000",
                    "2020-06-29T00:00:00.000000000",
                    "2020-06-30T00:00:00.000000000",
                    "2020-07-01T00:00:00.000000000",
                    "2020-07-02T00:00:00.000000000",
                    "2020-07-03T00:00:00.000000000",
                    "2020-07-04T00:00:00.000000000",
                    "2020-07-05T00:00:00.000000000",
                    "2020-07-06T00:00:00.000000000",
                    "2020-07-07T00:00:00.000000000",
                    "2020-07-08T00:00:00.000000000",
                    "2020-07-09T00:00:00.000000000",
                    "2020-07-10T00:00:00.000000000",
                    "2020-07-11T00:00:00.000000000",
                    "2020-07-12T00:00:00.000000000",
                    "2020-07-13T00:00:00.000000000",
                    "2020-07-14T00:00:00.000000000",
                    "2020-07-15T00:00:00.000000000",
                    "2020-07-16T00:00:00.000000000",
                    "2020-07-17T00:00:00.000000000",
                    "2020-07-18T00:00:00.000000000",
                    "2020-07-19T00:00:00.000000000",
                    "2020-07-20T00:00:00.000000000",
                    "2020-07-21T00:00:00.000000000",
                    "2020-07-22T00:00:00.000000000",
                    "2020-07-23T00:00:00.000000000",
                    "2020-07-24T00:00:00.000000000",
                    "2020-07-25T00:00:00.000000000",
                    "2020-07-26T00:00:00.000000000",
                    "2020-07-27T00:00:00.000000000"
                  ],
                  "xaxis": "x",
                  "y": {
                    "bdata": "KwIAAI4CAACtAwAAmgUAAEYIAABvCwAAyhUAABYYAAAqIAAAxyYAAAYvAACTQQAAr00AAFpdAAD7awAAUngAAB6GAADMkAAAn5wAAImmAACDrgAA4bUAAC7rAACCBAEAnQwBAN8UAQBvHAEAcSMBABYlAQA5JwEArikBAI8wAQDSMQEABjQBAFs3AQAeOwEAckABANNFAQA6TQEAilYBAEBeAQBRaAEATHEBADN8AQCaiwEAYJsBANKqAQAOugEArs0BAJ3rAQATAgIAWDoCALplAgBEkQIAh8oCAGUIAwDnVAMA9cEDAJ01BADPswQAUTYFAAbbBQC5ewYAOkIHACo4CAC6MwkAAzwKALwkCwA7IQwAu0sNAHF1DgBosw8AO/gQAIoyEgCwShMAkGYUANmSFQAY2hYAeSwYAOOCGQCIrxoAlSkcAG85HQCWSh4AU4YfABsAIQDHViIArHcjADeyJACy0CUApPYmAKoiKABffikA+9EqAL8dLACyOi0AEkcuADVtLwArmjAADOExABI1MwAodDQAbKM1AJnMNgAOBTgAtGQ5ALLAOgAvJjwAhXU9AFufPgAsyT8Auw9BAMtaQgAc1kMAeU5FAC3DRgDa9UcAtk5JAF7HSgDSWUwAMPlNAMSaTwANNlEAa6pSAB7+UwCIZ1UAUPhWAGLKWACxo1oAGr5cADpiXgAV1l8AAK5hAFyAYwA1cGUAZG9nAGqCaQDtOGsAPshsAPStbgB9uXAA/9RyAEXNdACP4HYAvOl4ABK9egBt5XwAig9/ACIygQBo9IMA2FuGAPNRiAB1bIoAT/KMAP6OjwDdRZIATzGVAA3plwBrYJoA18ucACFznwB6xaIA0/ClALkLqQDY/6sAf8muAC5XsQDKjrQAJMq3AKdFuwAo0r4AMB/CAMwPxQDXAMgA42HLALDozgAtw9IAo3TWAOYU2gBdW90AF4PgAAYT5ABNW+gA0avsAB328ABW3PQAlPv3AOV4+wA=",
                    "dtype": "i4"
                  },
                  "yaxis": "y"
                },
                {
                  "hovertemplate": "Case Type=Active<br>Date=%{x}<br>Count=%{y}<extra></extra>",
                  "legendgroup": "Active",
                  "line": {
                    "color": "#EF553B",
                    "dash": "solid"
                  },
                  "marker": {
                    "symbol": "circle"
                  },
                  "mode": "lines",
                  "name": "Active",
                  "orientation": "v",
                  "showlegend": true,
                  "type": "scatter",
                  "x": [
                    "2020-01-22T00:00:00.000000000",
                    "2020-01-23T00:00:00.000000000",
                    "2020-01-24T00:00:00.000000000",
                    "2020-01-25T00:00:00.000000000",
                    "2020-01-26T00:00:00.000000000",
                    "2020-01-27T00:00:00.000000000",
                    "2020-01-28T00:00:00.000000000",
                    "2020-01-29T00:00:00.000000000",
                    "2020-01-30T00:00:00.000000000",
                    "2020-01-31T00:00:00.000000000",
                    "2020-02-01T00:00:00.000000000",
                    "2020-02-02T00:00:00.000000000",
                    "2020-02-03T00:00:00.000000000",
                    "2020-02-04T00:00:00.000000000",
                    "2020-02-05T00:00:00.000000000",
                    "2020-02-06T00:00:00.000000000",
                    "2020-02-07T00:00:00.000000000",
                    "2020-02-08T00:00:00.000000000",
                    "2020-02-09T00:00:00.000000000",
                    "2020-02-10T00:00:00.000000000",
                    "2020-02-11T00:00:00.000000000",
                    "2020-02-12T00:00:00.000000000",
                    "2020-02-13T00:00:00.000000000",
                    "2020-02-14T00:00:00.000000000",
                    "2020-02-15T00:00:00.000000000",
                    "2020-02-16T00:00:00.000000000",
                    "2020-02-17T00:00:00.000000000",
                    "2020-02-18T00:00:00.000000000",
                    "2020-02-19T00:00:00.000000000",
                    "2020-02-20T00:00:00.000000000",
                    "2020-02-21T00:00:00.000000000",
                    "2020-02-22T00:00:00.000000000",
                    "2020-02-23T00:00:00.000000000",
                    "2020-02-24T00:00:00.000000000",
                    "2020-02-25T00:00:00.000000000",
                    "2020-02-26T00:00:00.000000000",
                    "2020-02-27T00:00:00.000000000",
                    "2020-02-28T00:00:00.000000000",
                    "2020-02-29T00:00:00.000000000",
                    "2020-03-01T00:00:00.000000000",
                    "2020-03-02T00:00:00.000000000",
                    "2020-03-03T00:00:00.000000000",
                    "2020-03-04T00:00:00.000000000",
                    "2020-03-05T00:00:00.000000000",
                    "2020-03-06T00:00:00.000000000",
                    "2020-03-07T00:00:00.000000000",
                    "2020-03-08T00:00:00.000000000",
                    "2020-03-09T00:00:00.000000000",
                    "2020-03-10T00:00:00.000000000",
                    "2020-03-11T00:00:00.000000000",
                    "2020-03-12T00:00:00.000000000",
                    "2020-03-13T00:00:00.000000000",
                    "2020-03-14T00:00:00.000000000",
                    "2020-03-15T00:00:00.000000000",
                    "2020-03-16T00:00:00.000000000",
                    "2020-03-17T00:00:00.000000000",
                    "2020-03-18T00:00:00.000000000",
                    "2020-03-19T00:00:00.000000000",
                    "2020-03-20T00:00:00.000000000",
                    "2020-03-21T00:00:00.000000000",
                    "2020-03-22T00:00:00.000000000",
                    "2020-03-23T00:00:00.000000000",
                    "2020-03-24T00:00:00.000000000",
                    "2020-03-25T00:00:00.000000000",
                    "2020-03-26T00:00:00.000000000",
                    "2020-03-27T00:00:00.000000000",
                    "2020-03-28T00:00:00.000000000",
                    "2020-03-29T00:00:00.000000000",
                    "2020-03-30T00:00:00.000000000",
                    "2020-03-31T00:00:00.000000000",
                    "2020-04-01T00:00:00.000000000",
                    "2020-04-02T00:00:00.000000000",
                    "2020-04-03T00:00:00.000000000",
                    "2020-04-04T00:00:00.000000000",
                    "2020-04-05T00:00:00.000000000",
                    "2020-04-06T00:00:00.000000000",
                    "2020-04-07T00:00:00.000000000",
                    "2020-04-08T00:00:00.000000000",
                    "2020-04-09T00:00:00.000000000",
                    "2020-04-10T00:00:00.000000000",
                    "2020-04-11T00:00:00.000000000",
                    "2020-04-12T00:00:00.000000000",
                    "2020-04-13T00:00:00.000000000",
                    "2020-04-14T00:00:00.000000000",
                    "2020-04-15T00:00:00.000000000",
                    "2020-04-16T00:00:00.000000000",
                    "2020-04-17T00:00:00.000000000",
                    "2020-04-18T00:00:00.000000000",
                    "2020-04-19T00:00:00.000000000",
                    "2020-04-20T00:00:00.000000000",
                    "2020-04-21T00:00:00.000000000",
                    "2020-04-22T00:00:00.000000000",
                    "2020-04-23T00:00:00.000000000",
                    "2020-04-24T00:00:00.000000000",
                    "2020-04-25T00:00:00.000000000",
                    "2020-04-26T00:00:00.000000000",
                    "2020-04-27T00:00:00.000000000",
                    "2020-04-28T00:00:00.000000000",
                    "2020-04-29T00:00:00.000000000",
                    "2020-04-30T00:00:00.000000000",
                    "2020-05-01T00:00:00.000000000",
                    "2020-05-02T00:00:00.000000000",
                    "2020-05-03T00:00:00.000000000",
                    "2020-05-04T00:00:00.000000000",
                    "2020-05-05T00:00:00.000000000",
                    "2020-05-06T00:00:00.000000000",
                    "2020-05-07T00:00:00.000000000",
                    "2020-05-08T00:00:00.000000000",
                    "2020-05-09T00:00:00.000000000",
                    "2020-05-10T00:00:00.000000000",
                    "2020-05-11T00:00:00.000000000",
                    "2020-05-12T00:00:00.000000000",
                    "2020-05-13T00:00:00.000000000",
                    "2020-05-14T00:00:00.000000000",
                    "2020-05-15T00:00:00.000000000",
                    "2020-05-16T00:00:00.000000000",
                    "2020-05-17T00:00:00.000000000",
                    "2020-05-18T00:00:00.000000000",
                    "2020-05-19T00:00:00.000000000",
                    "2020-05-20T00:00:00.000000000",
                    "2020-05-21T00:00:00.000000000",
                    "2020-05-22T00:00:00.000000000",
                    "2020-05-23T00:00:00.000000000",
                    "2020-05-24T00:00:00.000000000",
                    "2020-05-25T00:00:00.000000000",
                    "2020-05-26T00:00:00.000000000",
                    "2020-05-27T00:00:00.000000000",
                    "2020-05-28T00:00:00.000000000",
                    "2020-05-29T00:00:00.000000000",
                    "2020-05-30T00:00:00.000000000",
                    "2020-05-31T00:00:00.000000000",
                    "2020-06-01T00:00:00.000000000",
                    "2020-06-02T00:00:00.000000000",
                    "2020-06-03T00:00:00.000000000",
                    "2020-06-04T00:00:00.000000000",
                    "2020-06-05T00:00:00.000000000",
                    "2020-06-06T00:00:00.000000000",
                    "2020-06-07T00:00:00.000000000",
                    "2020-06-08T00:00:00.000000000",
                    "2020-06-09T00:00:00.000000000",
                    "2020-06-10T00:00:00.000000000",
                    "2020-06-11T00:00:00.000000000",
                    "2020-06-12T00:00:00.000000000",
                    "2020-06-13T00:00:00.000000000",
                    "2020-06-14T00:00:00.000000000",
                    "2020-06-15T00:00:00.000000000",
                    "2020-06-16T00:00:00.000000000",
                    "2020-06-17T00:00:00.000000000",
                    "2020-06-18T00:00:00.000000000",
                    "2020-06-19T00:00:00.000000000",
                    "2020-06-20T00:00:00.000000000",
                    "2020-06-21T00:00:00.000000000",
                    "2020-06-22T00:00:00.000000000",
                    "2020-06-23T00:00:00.000000000",
                    "2020-06-24T00:00:00.000000000",
                    "2020-06-25T00:00:00.000000000",
                    "2020-06-26T00:00:00.000000000",
                    "2020-06-27T00:00:00.000000000",
                    "2020-06-28T00:00:00.000000000",
                    "2020-06-29T00:00:00.000000000",
                    "2020-06-30T00:00:00.000000000",
                    "2020-07-01T00:00:00.000000000",
                    "2020-07-02T00:00:00.000000000",
                    "2020-07-03T00:00:00.000000000",
                    "2020-07-04T00:00:00.000000000",
                    "2020-07-05T00:00:00.000000000",
                    "2020-07-06T00:00:00.000000000",
                    "2020-07-07T00:00:00.000000000",
                    "2020-07-08T00:00:00.000000000",
                    "2020-07-09T00:00:00.000000000",
                    "2020-07-10T00:00:00.000000000",
                    "2020-07-11T00:00:00.000000000",
                    "2020-07-12T00:00:00.000000000",
                    "2020-07-13T00:00:00.000000000",
                    "2020-07-14T00:00:00.000000000",
                    "2020-07-15T00:00:00.000000000",
                    "2020-07-16T00:00:00.000000000",
                    "2020-07-17T00:00:00.000000000",
                    "2020-07-18T00:00:00.000000000",
                    "2020-07-19T00:00:00.000000000",
                    "2020-07-20T00:00:00.000000000",
                    "2020-07-21T00:00:00.000000000",
                    "2020-07-22T00:00:00.000000000",
                    "2020-07-23T00:00:00.000000000",
                    "2020-07-24T00:00:00.000000000",
                    "2020-07-25T00:00:00.000000000",
                    "2020-07-26T00:00:00.000000000",
                    "2020-07-27T00:00:00.000000000"
                  ],
                  "xaxis": "x",
                  "y": {
                    "bdata": "/gEAAF4CAABvAwAASQUAANoHAADgCgAA3BQAABQXAADyHgAAFyUAAOosAABePgAAqUkAADlYAACYZQAATnAAAOB7AAAAhAAAJI0AABKUAADpmAAAkp4AAKnOAADS4AAAVeMAAKblAAB05gAAHOYAAKngAACa2gAAttoAAJ3RAAAP0QAA1MsAAKzEAAC6vgAAybgAALawAAAYrAAA5KkAAASmAACmpQAAyKIAABijAAAeqgAAx68AACm1AACmvAAAuMcAAEjbAABk6wAAMxoBALI6AQBpVgEA/4QBAPm0AQBH9AEAnlYCAPO6AgDSIQMAbIUDANIgBABkkwQAxDkFAE4DBgAgzwYApqgHANleCAC+DgkAA/YJAArOCgB2sgsASKUMAJp6DQDGSg4ADxAPADXEDwBlghAA7VcRAGc/EgCt8BIAngoUAGKcFABsMhUAasEVADWpFgBvehcAPyYYAMDWGAC/jBkANxEaAO6wGgCfghsAQfobAB3HHACTaB0AnfsdAFeKHgBt/B4AjDIfAETiHwDYcCAAsBghAAixIQBhRyIAN94iAAOPIwDuUyQAdcUkAHhhJQCoySUA+W0mAOPOJgAJnicAx0koAL7UKACRXSkAoN0pAAV7KgAbFysAMN8rACPHKwDifiwAGxEtAOppLQD47S0ARHYuAKQzLwAQ0C8AX8kwAN86MQDEzzEAnAAyACmLMgADWDMA5Tk0ALknNQCe/jUA9DE1ACfGNQCKjDYAf0k3ACD9NwBhszgAGp45AOctOgD9vjoA+gk7APzdOwC5Fj0AJ6s9ABeHPgBULz8AvAtAAHHRQABIBUIAkz5DAJlGRAAWV0UAK0VGAIQPRwCiikgAEUtHANumSACAjkgAL3lJALMWSgALAUsAX8BLAEMaTQD8ck4A0sJPAJXwUAD8r1EALtFSAMfTUwAsRlUALG5WAG6rVwCji1kAzzdaAN8GWwBSg1wA9hVeAMLKXgBaRl8AT0dgAFoFYQA=",
                    "dtype": "i4"
                  },
                  "yaxis": "y"
                },
                {
                  "hovertemplate": "Case Type=Recovered<br>Date=%{x}<br>Count=%{y}<extra></extra>",
                  "legendgroup": "Recovered",
                  "line": {
                    "color": "#00cc96",
                    "dash": "solid"
                  },
                  "marker": {
                    "symbol": "circle"
                  },
                  "mode": "lines",
                  "name": "Recovered",
                  "orientation": "v",
                  "showlegend": true,
                  "type": "scatter",
                  "x": [
                    "2020-01-22T00:00:00.000000000",
                    "2020-01-23T00:00:00.000000000",
                    "2020-01-24T00:00:00.000000000",
                    "2020-01-25T00:00:00.000000000",
                    "2020-01-26T00:00:00.000000000",
                    "2020-01-27T00:00:00.000000000",
                    "2020-01-28T00:00:00.000000000",
                    "2020-01-29T00:00:00.000000000",
                    "2020-01-30T00:00:00.000000000",
                    "2020-01-31T00:00:00.000000000",
                    "2020-02-01T00:00:00.000000000",
                    "2020-02-02T00:00:00.000000000",
                    "2020-02-03T00:00:00.000000000",
                    "2020-02-04T00:00:00.000000000",
                    "2020-02-05T00:00:00.000000000",
                    "2020-02-06T00:00:00.000000000",
                    "2020-02-07T00:00:00.000000000",
                    "2020-02-08T00:00:00.000000000",
                    "2020-02-09T00:00:00.000000000",
                    "2020-02-10T00:00:00.000000000",
                    "2020-02-11T00:00:00.000000000",
                    "2020-02-12T00:00:00.000000000",
                    "2020-02-13T00:00:00.000000000",
                    "2020-02-14T00:00:00.000000000",
                    "2020-02-15T00:00:00.000000000",
                    "2020-02-16T00:00:00.000000000",
                    "2020-02-17T00:00:00.000000000",
                    "2020-02-18T00:00:00.000000000",
                    "2020-02-19T00:00:00.000000000",
                    "2020-02-20T00:00:00.000000000",
                    "2020-02-21T00:00:00.000000000",
                    "2020-02-22T00:00:00.000000000",
                    "2020-02-23T00:00:00.000000000",
                    "2020-02-24T00:00:00.000000000",
                    "2020-02-25T00:00:00.000000000",
                    "2020-02-26T00:00:00.000000000",
                    "2020-02-27T00:00:00.000000000",
                    "2020-02-28T00:00:00.000000000",
                    "2020-02-29T00:00:00.000000000",
                    "2020-03-01T00:00:00.000000000",
                    "2020-03-02T00:00:00.000000000",
                    "2020-03-03T00:00:00.000000000",
                    "2020-03-04T00:00:00.000000000",
                    "2020-03-05T00:00:00.000000000",
                    "2020-03-06T00:00:00.000000000",
                    "2020-03-07T00:00:00.000000000",
                    "2020-03-08T00:00:00.000000000",
                    "2020-03-09T00:00:00.000000000",
                    "2020-03-10T00:00:00.000000000",
                    "2020-03-11T00:00:00.000000000",
                    "2020-03-12T00:00:00.000000000",
                    "2020-03-13T00:00:00.000000000",
                    "2020-03-14T00:00:00.000000000",
                    "2020-03-15T00:00:00.000000000",
                    "2020-03-16T00:00:00.000000000",
                    "2020-03-17T00:00:00.000000000",
                    "2020-03-18T00:00:00.000000000",
                    "2020-03-19T00:00:00.000000000",
                    "2020-03-20T00:00:00.000000000",
                    "2020-03-21T00:00:00.000000000",
                    "2020-03-22T00:00:00.000000000",
                    "2020-03-23T00:00:00.000000000",
                    "2020-03-24T00:00:00.000000000",
                    "2020-03-25T00:00:00.000000000",
                    "2020-03-26T00:00:00.000000000",
                    "2020-03-27T00:00:00.000000000",
                    "2020-03-28T00:00:00.000000000",
                    "2020-03-29T00:00:00.000000000",
                    "2020-03-30T00:00:00.000000000",
                    "2020-03-31T00:00:00.000000000",
                    "2020-04-01T00:00:00.000000000",
                    "2020-04-02T00:00:00.000000000",
                    "2020-04-03T00:00:00.000000000",
                    "2020-04-04T00:00:00.000000000",
                    "2020-04-05T00:00:00.000000000",
                    "2020-04-06T00:00:00.000000000",
                    "2020-04-07T00:00:00.000000000",
                    "2020-04-08T00:00:00.000000000",
                    "2020-04-09T00:00:00.000000000",
                    "2020-04-10T00:00:00.000000000",
                    "2020-04-11T00:00:00.000000000",
                    "2020-04-12T00:00:00.000000000",
                    "2020-04-13T00:00:00.000000000",
                    "2020-04-14T00:00:00.000000000",
                    "2020-04-15T00:00:00.000000000",
                    "2020-04-16T00:00:00.000000000",
                    "2020-04-17T00:00:00.000000000",
                    "2020-04-18T00:00:00.000000000",
                    "2020-04-19T00:00:00.000000000",
                    "2020-04-20T00:00:00.000000000",
                    "2020-04-21T00:00:00.000000000",
                    "2020-04-22T00:00:00.000000000",
                    "2020-04-23T00:00:00.000000000",
                    "2020-04-24T00:00:00.000000000",
                    "2020-04-25T00:00:00.000000000",
                    "2020-04-26T00:00:00.000000000",
                    "2020-04-27T00:00:00.000000000",
                    "2020-04-28T00:00:00.000000000",
                    "2020-04-29T00:00:00.000000000",
                    "2020-04-30T00:00:00.000000000",
                    "2020-05-01T00:00:00.000000000",
                    "2020-05-02T00:00:00.000000000",
                    "2020-05-03T00:00:00.000000000",
                    "2020-05-04T00:00:00.000000000",
                    "2020-05-05T00:00:00.000000000",
                    "2020-05-06T00:00:00.000000000",
                    "2020-05-07T00:00:00.000000000",
                    "2020-05-08T00:00:00.000000000",
                    "2020-05-09T00:00:00.000000000",
                    "2020-05-10T00:00:00.000000000",
                    "2020-05-11T00:00:00.000000000",
                    "2020-05-12T00:00:00.000000000",
                    "2020-05-13T00:00:00.000000000",
                    "2020-05-14T00:00:00.000000000",
                    "2020-05-15T00:00:00.000000000",
                    "2020-05-16T00:00:00.000000000",
                    "2020-05-17T00:00:00.000000000",
                    "2020-05-18T00:00:00.000000000",
                    "2020-05-19T00:00:00.000000000",
                    "2020-05-20T00:00:00.000000000",
                    "2020-05-21T00:00:00.000000000",
                    "2020-05-22T00:00:00.000000000",
                    "2020-05-23T00:00:00.000000000",
                    "2020-05-24T00:00:00.000000000",
                    "2020-05-25T00:00:00.000000000",
                    "2020-05-26T00:00:00.000000000",
                    "2020-05-27T00:00:00.000000000",
                    "2020-05-28T00:00:00.000000000",
                    "2020-05-29T00:00:00.000000000",
                    "2020-05-30T00:00:00.000000000",
                    "2020-05-31T00:00:00.000000000",
                    "2020-06-01T00:00:00.000000000",
                    "2020-06-02T00:00:00.000000000",
                    "2020-06-03T00:00:00.000000000",
                    "2020-06-04T00:00:00.000000000",
                    "2020-06-05T00:00:00.000000000",
                    "2020-06-06T00:00:00.000000000",
                    "2020-06-07T00:00:00.000000000",
                    "2020-06-08T00:00:00.000000000",
                    "2020-06-09T00:00:00.000000000",
                    "2020-06-10T00:00:00.000000000",
                    "2020-06-11T00:00:00.000000000",
                    "2020-06-12T00:00:00.000000000",
                    "2020-06-13T00:00:00.000000000",
                    "2020-06-14T00:00:00.000000000",
                    "2020-06-15T00:00:00.000000000",
                    "2020-06-16T00:00:00.000000000",
                    "2020-06-17T00:00:00.000000000",
                    "2020-06-18T00:00:00.000000000",
                    "2020-06-19T00:00:00.000000000",
                    "2020-06-20T00:00:00.000000000",
                    "2020-06-21T00:00:00.000000000",
                    "2020-06-22T00:00:00.000000000",
                    "2020-06-23T00:00:00.000000000",
                    "2020-06-24T00:00:00.000000000",
                    "2020-06-25T00:00:00.000000000",
                    "2020-06-26T00:00:00.000000000",
                    "2020-06-27T00:00:00.000000000",
                    "2020-06-28T00:00:00.000000000",
                    "2020-06-29T00:00:00.000000000",
                    "2020-06-30T00:00:00.000000000",
                    "2020-07-01T00:00:00.000000000",
                    "2020-07-02T00:00:00.000000000",
                    "2020-07-03T00:00:00.000000000",
                    "2020-07-04T00:00:00.000000000",
                    "2020-07-05T00:00:00.000000000",
                    "2020-07-06T00:00:00.000000000",
                    "2020-07-07T00:00:00.000000000",
                    "2020-07-08T00:00:00.000000000",
                    "2020-07-09T00:00:00.000000000",
                    "2020-07-10T00:00:00.000000000",
                    "2020-07-11T00:00:00.000000000",
                    "2020-07-12T00:00:00.000000000",
                    "2020-07-13T00:00:00.000000000",
                    "2020-07-14T00:00:00.000000000",
                    "2020-07-15T00:00:00.000000000",
                    "2020-07-16T00:00:00.000000000",
                    "2020-07-17T00:00:00.000000000",
                    "2020-07-18T00:00:00.000000000",
                    "2020-07-19T00:00:00.000000000",
                    "2020-07-20T00:00:00.000000000",
                    "2020-07-21T00:00:00.000000000",
                    "2020-07-22T00:00:00.000000000",
                    "2020-07-23T00:00:00.000000000",
                    "2020-07-24T00:00:00.000000000",
                    "2020-07-25T00:00:00.000000000",
                    "2020-07-26T00:00:00.000000000",
                    "2020-07-27T00:00:00.000000000"
                  ],
                  "xaxis": "x",
                  "y": {
                    "bdata": "HAAAAB4AAAAkAAAAJwAAADQAAAA9AAAAawAAAH0AAACNAAAA2wAAABkBAADLAQAAXAIAADUDAAAvBAAAigUAAG8HAACmCQAA8QsAAIIOAABBEQAA8RIAACoXAAC9HQAAxiIAAE8oAACvLgAAfTUAACI8AADZQwAALkYAAFlVAAAgVwAA710AABxoAACVcQAAr3wAAOqJAACqlQAA+KAAADWsAABZtgAA08EAAA3MAAD+0wAAuN0AANTmAADb7QAAUvUAAFn+AACCAwEABwsBAEkUAQCbIQEAoCkBAGA0AQATPgEAeEQBAAVOAQCvXgEA9nYBAMh4AQANngEAVbMBAPzTAQD89QEAYBYCAFU7AgCrdwIA+qcCAPrjAgDkJAMAhF8DALCtAwAN4gMA3CEEACF7BADh6QQA7UgFAHWbBQAf/wUA2EgGAHuwBgCmEAcA7ZwHAHcSCAAvdQgA/dAIAC1JCQBmnAkA6yEKANeTCgAZAwsAAcULAB8uDABxmgwAngENAMh/DQA4IA4AsBkPAMWpDwB6RRAAab8QAB5AEQBLyxEADnoSAB8QEwDxmhMAF2gUAPznFAAMnBUAnygWAFn+FgDwlRcAME4YAKInGQB7xBkAbZAaAABZGwBJPBwA4AAdAN2lHgDSeR8As08gAP1FIQDuGiIADQ8jAGIRJAC/OyUAnUwmAPVzJwDvRigAK9spADYNKwAYHCwAvSYtAMY8LgCuES8AOF8xAIGdMgBSzjMAORo1ABVONgCQmjcA1qs4AP7hOQBwXjsACSk9APpjPgAC1T8Aa5dBABuiQgBtBkQAIJtFAI1dRwCyxkgA/mVKADAETAAAX00Azs1OALOWUABbWlIARbFWAN5cWABHWFsAyildACALXwCJQGEAyKdjABW0ZQAe02cAL71pAJZwawBTk20AEb1vANArcgBBfXQAYOx2AGY5eQDrj3oAOft8ALqjfwBHVIIAOeuEALloiABXwIsAmM6NALd4kAA=",
                    "dtype": "i4"
                  },
                  "yaxis": "y"
                },
                {
                  "hovertemplate": "Case Type=Deaths<br>Date=%{x}<br>Count=%{y}<extra></extra>",
                  "legendgroup": "Deaths",
                  "line": {
                    "color": "#ab63fa",
                    "dash": "solid"
                  },
                  "marker": {
                    "symbol": "circle"
                  },
                  "mode": "lines",
                  "name": "Deaths",
                  "orientation": "v",
                  "showlegend": true,
                  "type": "scatter",
                  "x": [
                    "2020-01-22T00:00:00.000000000",
                    "2020-01-23T00:00:00.000000000",
                    "2020-01-24T00:00:00.000000000",
                    "2020-01-25T00:00:00.000000000",
                    "2020-01-26T00:00:00.000000000",
                    "2020-01-27T00:00:00.000000000",
                    "2020-01-28T00:00:00.000000000",
                    "2020-01-29T00:00:00.000000000",
                    "2020-01-30T00:00:00.000000000",
                    "2020-01-31T00:00:00.000000000",
                    "2020-02-01T00:00:00.000000000",
                    "2020-02-02T00:00:00.000000000",
                    "2020-02-03T00:00:00.000000000",
                    "2020-02-04T00:00:00.000000000",
                    "2020-02-05T00:00:00.000000000",
                    "2020-02-06T00:00:00.000000000",
                    "2020-02-07T00:00:00.000000000",
                    "2020-02-08T00:00:00.000000000",
                    "2020-02-09T00:00:00.000000000",
                    "2020-02-10T00:00:00.000000000",
                    "2020-02-11T00:00:00.000000000",
                    "2020-02-12T00:00:00.000000000",
                    "2020-02-13T00:00:00.000000000",
                    "2020-02-14T00:00:00.000000000",
                    "2020-02-15T00:00:00.000000000",
                    "2020-02-16T00:00:00.000000000",
                    "2020-02-17T00:00:00.000000000",
                    "2020-02-18T00:00:00.000000000",
                    "2020-02-19T00:00:00.000000000",
                    "2020-02-20T00:00:00.000000000",
                    "2020-02-21T00:00:00.000000000",
                    "2020-02-22T00:00:00.000000000",
                    "2020-02-23T00:00:00.000000000",
                    "2020-02-24T00:00:00.000000000",
                    "2020-02-25T00:00:00.000000000",
                    "2020-02-26T00:00:00.000000000",
                    "2020-02-27T00:00:00.000000000",
                    "2020-02-28T00:00:00.000000000",
                    "2020-02-29T00:00:00.000000000",
                    "2020-03-01T00:00:00.000000000",
                    "2020-03-02T00:00:00.000000000",
                    "2020-03-03T00:00:00.000000000",
                    "2020-03-04T00:00:00.000000000",
                    "2020-03-05T00:00:00.000000000",
                    "2020-03-06T00:00:00.000000000",
                    "2020-03-07T00:00:00.000000000",
                    "2020-03-08T00:00:00.000000000",
                    "2020-03-09T00:00:00.000000000",
                    "2020-03-10T00:00:00.000000000",
                    "2020-03-11T00:00:00.000000000",
                    "2020-03-12T00:00:00.000000000",
                    "2020-03-13T00:00:00.000000000",
                    "2020-03-14T00:00:00.000000000",
                    "2020-03-15T00:00:00.000000000",
                    "2020-03-16T00:00:00.000000000",
                    "2020-03-17T00:00:00.000000000",
                    "2020-03-18T00:00:00.000000000",
                    "2020-03-19T00:00:00.000000000",
                    "2020-03-20T00:00:00.000000000",
                    "2020-03-21T00:00:00.000000000",
                    "2020-03-22T00:00:00.000000000",
                    "2020-03-23T00:00:00.000000000",
                    "2020-03-24T00:00:00.000000000",
                    "2020-03-25T00:00:00.000000000",
                    "2020-03-26T00:00:00.000000000",
                    "2020-03-27T00:00:00.000000000",
                    "2020-03-28T00:00:00.000000000",
                    "2020-03-29T00:00:00.000000000",
                    "2020-03-30T00:00:00.000000000",
                    "2020-03-31T00:00:00.000000000",
                    "2020-04-01T00:00:00.000000000",
                    "2020-04-02T00:00:00.000000000",
                    "2020-04-03T00:00:00.000000000",
                    "2020-04-04T00:00:00.000000000",
                    "2020-04-05T00:00:00.000000000",
                    "2020-04-06T00:00:00.000000000",
                    "2020-04-07T00:00:00.000000000",
                    "2020-04-08T00:00:00.000000000",
                    "2020-04-09T00:00:00.000000000",
                    "2020-04-10T00:00:00.000000000",
                    "2020-04-11T00:00:00.000000000",
                    "2020-04-12T00:00:00.000000000",
                    "2020-04-13T00:00:00.000000000",
                    "2020-04-14T00:00:00.000000000",
                    "2020-04-15T00:00:00.000000000",
                    "2020-04-16T00:00:00.000000000",
                    "2020-04-17T00:00:00.000000000",
                    "2020-04-18T00:00:00.000000000",
                    "2020-04-19T00:00:00.000000000",
                    "2020-04-20T00:00:00.000000000",
                    "2020-04-21T00:00:00.000000000",
                    "2020-04-22T00:00:00.000000000",
                    "2020-04-23T00:00:00.000000000",
                    "2020-04-24T00:00:00.000000000",
                    "2020-04-25T00:00:00.000000000",
                    "2020-04-26T00:00:00.000000000",
                    "2020-04-27T00:00:00.000000000",
                    "2020-04-28T00:00:00.000000000",
                    "2020-04-29T00:00:00.000000000",
                    "2020-04-30T00:00:00.000000000",
                    "2020-05-01T00:00:00.000000000",
                    "2020-05-02T00:00:00.000000000",
                    "2020-05-03T00:00:00.000000000",
                    "2020-05-04T00:00:00.000000000",
                    "2020-05-05T00:00:00.000000000",
                    "2020-05-06T00:00:00.000000000",
                    "2020-05-07T00:00:00.000000000",
                    "2020-05-08T00:00:00.000000000",
                    "2020-05-09T00:00:00.000000000",
                    "2020-05-10T00:00:00.000000000",
                    "2020-05-11T00:00:00.000000000",
                    "2020-05-12T00:00:00.000000000",
                    "2020-05-13T00:00:00.000000000",
                    "2020-05-14T00:00:00.000000000",
                    "2020-05-15T00:00:00.000000000",
                    "2020-05-16T00:00:00.000000000",
                    "2020-05-17T00:00:00.000000000",
                    "2020-05-18T00:00:00.000000000",
                    "2020-05-19T00:00:00.000000000",
                    "2020-05-20T00:00:00.000000000",
                    "2020-05-21T00:00:00.000000000",
                    "2020-05-22T00:00:00.000000000",
                    "2020-05-23T00:00:00.000000000",
                    "2020-05-24T00:00:00.000000000",
                    "2020-05-25T00:00:00.000000000",
                    "2020-05-26T00:00:00.000000000",
                    "2020-05-27T00:00:00.000000000",
                    "2020-05-28T00:00:00.000000000",
                    "2020-05-29T00:00:00.000000000",
                    "2020-05-30T00:00:00.000000000",
                    "2020-05-31T00:00:00.000000000",
                    "2020-06-01T00:00:00.000000000",
                    "2020-06-02T00:00:00.000000000",
                    "2020-06-03T00:00:00.000000000",
                    "2020-06-04T00:00:00.000000000",
                    "2020-06-05T00:00:00.000000000",
                    "2020-06-06T00:00:00.000000000",
                    "2020-06-07T00:00:00.000000000",
                    "2020-06-08T00:00:00.000000000",
                    "2020-06-09T00:00:00.000000000",
                    "2020-06-10T00:00:00.000000000",
                    "2020-06-11T00:00:00.000000000",
                    "2020-06-12T00:00:00.000000000",
                    "2020-06-13T00:00:00.000000000",
                    "2020-06-14T00:00:00.000000000",
                    "2020-06-15T00:00:00.000000000",
                    "2020-06-16T00:00:00.000000000",
                    "2020-06-17T00:00:00.000000000",
                    "2020-06-18T00:00:00.000000000",
                    "2020-06-19T00:00:00.000000000",
                    "2020-06-20T00:00:00.000000000",
                    "2020-06-21T00:00:00.000000000",
                    "2020-06-22T00:00:00.000000000",
                    "2020-06-23T00:00:00.000000000",
                    "2020-06-24T00:00:00.000000000",
                    "2020-06-25T00:00:00.000000000",
                    "2020-06-26T00:00:00.000000000",
                    "2020-06-27T00:00:00.000000000",
                    "2020-06-28T00:00:00.000000000",
                    "2020-06-29T00:00:00.000000000",
                    "2020-06-30T00:00:00.000000000",
                    "2020-07-01T00:00:00.000000000",
                    "2020-07-02T00:00:00.000000000",
                    "2020-07-03T00:00:00.000000000",
                    "2020-07-04T00:00:00.000000000",
                    "2020-07-05T00:00:00.000000000",
                    "2020-07-06T00:00:00.000000000",
                    "2020-07-07T00:00:00.000000000",
                    "2020-07-08T00:00:00.000000000",
                    "2020-07-09T00:00:00.000000000",
                    "2020-07-10T00:00:00.000000000",
                    "2020-07-11T00:00:00.000000000",
                    "2020-07-12T00:00:00.000000000",
                    "2020-07-13T00:00:00.000000000",
                    "2020-07-14T00:00:00.000000000",
                    "2020-07-15T00:00:00.000000000",
                    "2020-07-16T00:00:00.000000000",
                    "2020-07-17T00:00:00.000000000",
                    "2020-07-18T00:00:00.000000000",
                    "2020-07-19T00:00:00.000000000",
                    "2020-07-20T00:00:00.000000000",
                    "2020-07-21T00:00:00.000000000",
                    "2020-07-22T00:00:00.000000000",
                    "2020-07-23T00:00:00.000000000",
                    "2020-07-24T00:00:00.000000000",
                    "2020-07-25T00:00:00.000000000",
                    "2020-07-26T00:00:00.000000000",
                    "2020-07-27T00:00:00.000000000"
                  ],
                  "xaxis": "x",
                  "y": {
                    "bdata": "EQAAABIAAAAaAAAAKgAAADgAAABSAAAAgwAAAIUAAACrAAAA1QAAAAMBAABqAQAAqgEAAOwBAAA0AgAAegIAAM8CAAAmAwAAigMAAPUDAABZBAAAXgQAAFsFAADzBQAAggYAAOoGAABMBwAA2AcAAEsIAADGCAAAyggAAJkJAACjCQAAQwoAAJMKAADPCgAA+goAADMLAAB4CwAArgsAAAcMAABSDAAAsQwAAA4NAAB+DQAA4Q0AANUOAACNDwAApBAAAPwRAAAtEwAAHhUAAL8WAABAGQAA6BsAAAwfAACNIgAA3yYAAKUsAABOMwAA7zkAAGxBAABISgAAIVUAAOBgAACebgAA/XwAAI6KAADSmgAAvq0AAG3DAAAO3AAAb/MAAEAKAQDdHQEApTQBAINTAQDSbQEAn4sBAAeoAQC8vwEAH9YBAJLsAQCEBwIA/CcCAG9EAgApZwIAcIACAEqSAgCNpwIAgsMCAOXdAgCn+AIAuRIDAIMoAwCuNwMA10kDABZjAwCGfQMA0JQDAAmpAwDWvQMAU8sDAHPbAwBi8gMAbwwEAJAhBABQNwQA+UcEAOdVBAB4YwQAI3kEAI+NBAAjogQAgrYEAM3GBADO0wQAqeAEAFnzBABuBgUAIBkFAMQtBQBZPQUAnUkFADdOBQCiXgUA/3IFAFyFBQDilwUAHqgFAGazBQBivwUAOdIFAP3nBQAa/AUAwg4GAOsdBgChKAYAEjcGAExKBgChXgYAR3EGABCCBgCekgYAzJ8GAC2tBgAAyAYAh9wGACzwBgCtCAcARhkHAMEoBwC0NgcAc0sHAABgBwDjeQcAvowHAESeBwBVqgcA3rgHAOrMBwB94AcAffQHAAAICAARGQgAhiYIAFs1CAA2TQgA/WEIAE93CAAOjAgAL58IAKGuCACIvQgApNMIABnpCADA/wgAFxoJABIwCQDPPwkAD1AJAG1oCQC0gwkAoqoJAKLCCQCl1QkAreUJANT6CQA=",
                    "dtype": "i4"
                  },
                  "yaxis": "y"
                }
              ],
              "layout": {
                "legend": {
                  "title": {
                    "text": "Case Type"
                  },
                  "tracegroupgap": 0
                },
                "template": {
                  "data": {
                    "bar": [
                      {
                        "error_x": {
                          "color": "#2a3f5f"
                        },
                        "error_y": {
                          "color": "#2a3f5f"
                        },
                        "marker": {
                          "line": {
                            "color": "white",
                            "width": 0.5
                          },
                          "pattern": {
                            "fillmode": "overlay",
                            "size": 10,
                            "solidity": 0.2
                          }
                        },
                        "type": "bar"
                      }
                    ],
                    "barpolar": [
                      {
                        "marker": {
                          "line": {
                            "color": "white",
                            "width": 0.5
                          },
                          "pattern": {
                            "fillmode": "overlay",
                            "size": 10,
                            "solidity": 0.2
                          }
                        },
                        "type": "barpolar"
                      }
                    ],
                    "carpet": [
                      {
                        "aaxis": {
                          "endlinecolor": "#2a3f5f",
                          "gridcolor": "#C8D4E3",
                          "linecolor": "#C8D4E3",
                          "minorgridcolor": "#C8D4E3",
                          "startlinecolor": "#2a3f5f"
                        },
                        "baxis": {
                          "endlinecolor": "#2a3f5f",
                          "gridcolor": "#C8D4E3",
                          "linecolor": "#C8D4E3",
                          "minorgridcolor": "#C8D4E3",
                          "startlinecolor": "#2a3f5f"
                        },
                        "type": "carpet"
                      }
                    ],
                    "choropleth": [
                      {
                        "colorbar": {
                          "outlinewidth": 0,
                          "ticks": ""
                        },
                        "type": "choropleth"
                      }
                    ],
                    "contour": [
                      {
                        "colorbar": {
                          "outlinewidth": 0,
                          "ticks": ""
                        },
                        "colorscale": [
                          [
                            0,
                            "#0d0887"
                          ],
                          [
                            0.1111111111111111,
                            "#46039f"
                          ],
                          [
                            0.2222222222222222,
                            "#7201a8"
                          ],
                          [
                            0.3333333333333333,
                            "#9c179e"
                          ],
                          [
                            0.4444444444444444,
                            "#bd3786"
                          ],
                          [
                            0.5555555555555556,
                            "#d8576b"
                          ],
                          [
                            0.6666666666666666,
                            "#ed7953"
                          ],
                          [
                            0.7777777777777778,
                            "#fb9f3a"
                          ],
                          [
                            0.8888888888888888,
                            "#fdca26"
                          ],
                          [
                            1,
                            "#f0f921"
                          ]
                        ],
                        "type": "contour"
                      }
                    ],
                    "contourcarpet": [
                      {
                        "colorbar": {
                          "outlinewidth": 0,
                          "ticks": ""
                        },
                        "type": "contourcarpet"
                      }
                    ],
                    "heatmap": [
                      {
                        "colorbar": {
                          "outlinewidth": 0,
                          "ticks": ""
                        },
                        "colorscale": [
                          [
                            0,
                            "#0d0887"
                          ],
                          [
                            0.1111111111111111,
                            "#46039f"
                          ],
                          [
                            0.2222222222222222,
                            "#7201a8"
                          ],
                          [
                            0.3333333333333333,
                            "#9c179e"
                          ],
                          [
                            0.4444444444444444,
                            "#bd3786"
                          ],
                          [
                            0.5555555555555556,
                            "#d8576b"
                          ],
                          [
                            0.6666666666666666,
                            "#ed7953"
                          ],
                          [
                            0.7777777777777778,
                            "#fb9f3a"
                          ],
                          [
                            0.8888888888888888,
                            "#fdca26"
                          ],
                          [
                            1,
                            "#f0f921"
                          ]
                        ],
                        "type": "heatmap"
                      }
                    ],
                    "histogram": [
                      {
                        "marker": {
                          "pattern": {
                            "fillmode": "overlay",
                            "size": 10,
                            "solidity": 0.2
                          }
                        },
                        "type": "histogram"
                      }
                    ],
                    "histogram2d": [
                      {
                        "colorbar": {
                          "outlinewidth": 0,
                          "ticks": ""
                        },
                        "colorscale": [
                          [
                            0,
                            "#0d0887"
                          ],
                          [
                            0.1111111111111111,
                            "#46039f"
                          ],
                          [
                            0.2222222222222222,
                            "#7201a8"
                          ],
                          [
                            0.3333333333333333,
                            "#9c179e"
                          ],
                          [
                            0.4444444444444444,
                            "#bd3786"
                          ],
                          [
                            0.5555555555555556,
                            "#d8576b"
                          ],
                          [
                            0.6666666666666666,
                            "#ed7953"
                          ],
                          [
                            0.7777777777777778,
                            "#fb9f3a"
                          ],
                          [
                            0.8888888888888888,
                            "#fdca26"
                          ],
                          [
                            1,
                            "#f0f921"
                          ]
                        ],
                        "type": "histogram2d"
                      }
                    ],
                    "histogram2dcontour": [
                      {
                        "colorbar": {
                          "outlinewidth": 0,
                          "ticks": ""
                        },
                        "colorscale": [
                          [
                            0,
                            "#0d0887"
                          ],
                          [
                            0.1111111111111111,
                            "#46039f"
                          ],
                          [
                            0.2222222222222222,
                            "#7201a8"
                          ],
                          [
                            0.3333333333333333,
                            "#9c179e"
                          ],
                          [
                            0.4444444444444444,
                            "#bd3786"
                          ],
                          [
                            0.5555555555555556,
                            "#d8576b"
                          ],
                          [
                            0.6666666666666666,
                            "#ed7953"
                          ],
                          [
                            0.7777777777777778,
                            "#fb9f3a"
                          ],
                          [
                            0.8888888888888888,
                            "#fdca26"
                          ],
                          [
                            1,
                            "#f0f921"
                          ]
                        ],
                        "type": "histogram2dcontour"
                      }
                    ],
                    "mesh3d": [
                      {
                        "colorbar": {
                          "outlinewidth": 0,
                          "ticks": ""
                        },
                        "type": "mesh3d"
                      }
                    ],
                    "parcoords": [
                      {
                        "line": {
                          "colorbar": {
                            "outlinewidth": 0,
                            "ticks": ""
                          }
                        },
                        "type": "parcoords"
                      }
                    ],
                    "pie": [
                      {
                        "automargin": true,
                        "type": "pie"
                      }
                    ],
                    "scatter": [
                      {
                        "fillpattern": {
                          "fillmode": "overlay",
                          "size": 10,
                          "solidity": 0.2
                        },
                        "type": "scatter"
                      }
                    ],
                    "scatter3d": [
                      {
                        "line": {
                          "colorbar": {
                            "outlinewidth": 0,
                            "ticks": ""
                          }
                        },
                        "marker": {
                          "colorbar": {
                            "outlinewidth": 0,
                            "ticks": ""
                          }
                        },
                        "type": "scatter3d"
                      }
                    ],
                    "scattercarpet": [
                      {
                        "marker": {
                          "colorbar": {
                            "outlinewidth": 0,
                            "ticks": ""
                          }
                        },
                        "type": "scattercarpet"
                      }
                    ],
                    "scattergeo": [
                      {
                        "marker": {
                          "colorbar": {
                            "outlinewidth": 0,
                            "ticks": ""
                          }
                        },
                        "type": "scattergeo"
                      }
                    ],
                    "scattergl": [
                      {
                        "marker": {
                          "colorbar": {
                            "outlinewidth": 0,
                            "ticks": ""
                          }
                        },
                        "type": "scattergl"
                      }
                    ],
                    "scattermap": [
                      {
                        "marker": {
                          "colorbar": {
                            "outlinewidth": 0,
                            "ticks": ""
                          }
                        },
                        "type": "scattermap"
                      }
                    ],
                    "scattermapbox": [
                      {
                        "marker": {
                          "colorbar": {
                            "outlinewidth": 0,
                            "ticks": ""
                          }
                        },
                        "type": "scattermapbox"
                      }
                    ],
                    "scatterpolar": [
                      {
                        "marker": {
                          "colorbar": {
                            "outlinewidth": 0,
                            "ticks": ""
                          }
                        },
                        "type": "scatterpolar"
                      }
                    ],
                    "scatterpolargl": [
                      {
                        "marker": {
                          "colorbar": {
                            "outlinewidth": 0,
                            "ticks": ""
                          }
                        },
                        "type": "scatterpolargl"
                      }
                    ],
                    "scatterternary": [
                      {
                        "marker": {
                          "colorbar": {
                            "outlinewidth": 0,
                            "ticks": ""
                          }
                        },
                        "type": "scatterternary"
                      }
                    ],
                    "surface": [
                      {
                        "colorbar": {
                          "outlinewidth": 0,
                          "ticks": ""
                        },
                        "colorscale": [
                          [
                            0,
                            "#0d0887"
                          ],
                          [
                            0.1111111111111111,
                            "#46039f"
                          ],
                          [
                            0.2222222222222222,
                            "#7201a8"
                          ],
                          [
                            0.3333333333333333,
                            "#9c179e"
                          ],
                          [
                            0.4444444444444444,
                            "#bd3786"
                          ],
                          [
                            0.5555555555555556,
                            "#d8576b"
                          ],
                          [
                            0.6666666666666666,
                            "#ed7953"
                          ],
                          [
                            0.7777777777777778,
                            "#fb9f3a"
                          ],
                          [
                            0.8888888888888888,
                            "#fdca26"
                          ],
                          [
                            1,
                            "#f0f921"
                          ]
                        ],
                        "type": "surface"
                      }
                    ],
                    "table": [
                      {
                        "cells": {
                          "fill": {
                            "color": "#EBF0F8"
                          },
                          "line": {
                            "color": "white"
                          }
                        },
                        "header": {
                          "fill": {
                            "color": "#C8D4E3"
                          },
                          "line": {
                            "color": "white"
                          }
                        },
                        "type": "table"
                      }
                    ]
                  },
                  "layout": {
                    "annotationdefaults": {
                      "arrowcolor": "#2a3f5f",
                      "arrowhead": 0,
                      "arrowwidth": 1
                    },
                    "autotypenumbers": "strict",
                    "coloraxis": {
                      "colorbar": {
                        "outlinewidth": 0,
                        "ticks": ""
                      }
                    },
                    "colorscale": {
                      "diverging": [
                        [
                          0,
                          "#8e0152"
                        ],
                        [
                          0.1,
                          "#c51b7d"
                        ],
                        [
                          0.2,
                          "#de77ae"
                        ],
                        [
                          0.3,
                          "#f1b6da"
                        ],
                        [
                          0.4,
                          "#fde0ef"
                        ],
                        [
                          0.5,
                          "#f7f7f7"
                        ],
                        [
                          0.6,
                          "#e6f5d0"
                        ],
                        [
                          0.7,
                          "#b8e186"
                        ],
                        [
                          0.8,
                          "#7fbc41"
                        ],
                        [
                          0.9,
                          "#4d9221"
                        ],
                        [
                          1,
                          "#276419"
                        ]
                      ],
                      "sequential": [
                        [
                          0,
                          "#0d0887"
                        ],
                        [
                          0.1111111111111111,
                          "#46039f"
                        ],
                        [
                          0.2222222222222222,
                          "#7201a8"
                        ],
                        [
                          0.3333333333333333,
                          "#9c179e"
                        ],
                        [
                          0.4444444444444444,
                          "#bd3786"
                        ],
                        [
                          0.5555555555555556,
                          "#d8576b"
                        ],
                        [
                          0.6666666666666666,
                          "#ed7953"
                        ],
                        [
                          0.7777777777777778,
                          "#fb9f3a"
                        ],
                        [
                          0.8888888888888888,
                          "#fdca26"
                        ],
                        [
                          1,
                          "#f0f921"
                        ]
                      ],
                      "sequentialminus": [
                        [
                          0,
                          "#0d0887"
                        ],
                        [
                          0.1111111111111111,
                          "#46039f"
                        ],
                        [
                          0.2222222222222222,
                          "#7201a8"
                        ],
                        [
                          0.3333333333333333,
                          "#9c179e"
                        ],
                        [
                          0.4444444444444444,
                          "#bd3786"
                        ],
                        [
                          0.5555555555555556,
                          "#d8576b"
                        ],
                        [
                          0.6666666666666666,
                          "#ed7953"
                        ],
                        [
                          0.7777777777777778,
                          "#fb9f3a"
                        ],
                        [
                          0.8888888888888888,
                          "#fdca26"
                        ],
                        [
                          1,
                          "#f0f921"
                        ]
                      ]
                    },
                    "colorway": [
                      "#636efa",
                      "#EF553B",
                      "#00cc96",
                      "#ab63fa",
                      "#FFA15A",
                      "#19d3f3",
                      "#FF6692",
                      "#B6E880",
                      "#FF97FF",
                      "#FECB52"
                    ],
                    "font": {
                      "color": "#2a3f5f"
                    },
                    "geo": {
                      "bgcolor": "white",
                      "lakecolor": "white",
                      "landcolor": "white",
                      "showlakes": true,
                      "showland": true,
                      "subunitcolor": "#C8D4E3"
                    },
                    "hoverlabel": {
                      "align": "left"
                    },
                    "hovermode": "closest",
                    "mapbox": {
                      "style": "light"
                    },
                    "paper_bgcolor": "white",
                    "plot_bgcolor": "white",
                    "polar": {
                      "angularaxis": {
                        "gridcolor": "#EBF0F8",
                        "linecolor": "#EBF0F8",
                        "ticks": ""
                      },
                      "bgcolor": "white",
                      "radialaxis": {
                        "gridcolor": "#EBF0F8",
                        "linecolor": "#EBF0F8",
                        "ticks": ""
                      }
                    },
                    "scene": {
                      "xaxis": {
                        "backgroundcolor": "white",
                        "gridcolor": "#DFE8F3",
                        "gridwidth": 2,
                        "linecolor": "#EBF0F8",
                        "showbackground": true,
                        "ticks": "",
                        "zerolinecolor": "#EBF0F8"
                      },
                      "yaxis": {
                        "backgroundcolor": "white",
                        "gridcolor": "#DFE8F3",
                        "gridwidth": 2,
                        "linecolor": "#EBF0F8",
                        "showbackground": true,
                        "ticks": "",
                        "zerolinecolor": "#EBF0F8"
                      },
                      "zaxis": {
                        "backgroundcolor": "white",
                        "gridcolor": "#DFE8F3",
                        "gridwidth": 2,
                        "linecolor": "#EBF0F8",
                        "showbackground": true,
                        "ticks": "",
                        "zerolinecolor": "#EBF0F8"
                      }
                    },
                    "shapedefaults": {
                      "line": {
                        "color": "#2a3f5f"
                      }
                    },
                    "ternary": {
                      "aaxis": {
                        "gridcolor": "#DFE8F3",
                        "linecolor": "#A2B1C6",
                        "ticks": ""
                      },
                      "baxis": {
                        "gridcolor": "#DFE8F3",
                        "linecolor": "#A2B1C6",
                        "ticks": ""
                      },
                      "bgcolor": "white",
                      "caxis": {
                        "gridcolor": "#DFE8F3",
                        "linecolor": "#A2B1C6",
                        "ticks": ""
                      }
                    },
                    "title": {
                      "x": 0.05
                    },
                    "xaxis": {
                      "automargin": true,
                      "gridcolor": "#EBF0F8",
                      "linecolor": "#EBF0F8",
                      "ticks": "",
                      "title": {
                        "standoff": 15
                      },
                      "zerolinecolor": "#EBF0F8",
                      "zerolinewidth": 2
                    },
                    "yaxis": {
                      "automargin": true,
                      "gridcolor": "#EBF0F8",
                      "linecolor": "#EBF0F8",
                      "ticks": "",
                      "title": {
                        "standoff": 15
                      },
                      "zerolinecolor": "#EBF0F8",
                      "zerolinewidth": 2
                    }
                  }
                },
                "title": {
                  "text": "COVID-19 Cases in Monaco"
                },
                "xaxis": {
                  "anchor": "y",
                  "domain": [
                    0,
                    1
                  ],
                  "title": {
                    "text": "Date"
                  }
                },
                "yaxis": {
                  "anchor": "x",
                  "domain": [
                    0,
                    1
                  ],
                  "title": {
                    "text": "Count"
                  }
                }
              }
            }
          },
          "metadata": {},
          "output_type": "display_data"
        }
      ],
      "source": [
        "fig = px.line(\n",
        "    df2,\n",
        "    x='Date',\n",
        "    y=['Confirmed', 'Active', 'Recovered', 'Deaths'],\n",
        "    title=f'COVID-19 Cases in {df[\"country\"].unique()[100]}',\n",
        "    labels={'value': 'Count', 'variable': 'Case Type'}\n",
        ")\n",
        "fig.show()\n"
      ]
    },
    {
      "cell_type": "markdown",
      "metadata": {
        "id": "5q75Rv1whks5"
      },
      "source": [
        "Individual column wise updates"
      ]
    },
    {
      "cell_type": "markdown",
      "metadata": {
        "id": "F8lRiu1EbkHA"
      },
      "source": [
        "Creating Daily Patients Update"
      ]
    },
    {
      "cell_type": "code",
      "execution_count": 35,
      "metadata": {
        "id": "XBIXEimxK6sk"
      },
      "outputs": [],
      "source": [
        "df2['New_Confirmed'] = df2['Confirmed'].diff().fillna(0)\n",
        "df2['New_Recovered'] = df2['Recovered'].diff().fillna(0)\n",
        "df2['New_Deaths'] = df2['Deaths'].diff().fillna(0)"
      ]
    },
    {
      "cell_type": "markdown",
      "metadata": {
        "id": "gWr---iVhaHL"
      },
      "source": [
        "OR"
      ]
    },
    {
      "cell_type": "markdown",
      "metadata": {
        "id": "4svLc0m2htXl"
      },
      "source": [
        "Updates using for loop"
      ]
    },
    {
      "cell_type": "code",
      "execution_count": 36,
      "metadata": {
        "id": "Upi8JEmvdezg"
      },
      "outputs": [],
      "source": [
        "columns = ['Confirmed', 'Recovered', 'Deaths']\n",
        "new_columns = ['New_Confirmed', 'New_Recovered', 'New_Deaths']\n",
        "\n",
        "for old_col, new_col in zip(columns, new_columns):\n",
        "    df2[new_col] = df2[old_col].diff().fillna(0)\n"
      ]
    },
    {
      "cell_type": "code",
      "execution_count": 37,
      "metadata": {
        "colab": {
          "base_uri": "https://localhost:8080/",
          "height": 206
        },
        "id": "Rk6xXYMVf8Fv",
        "outputId": "8280a363-0a5e-4b2b-83bf-23ef3f0e4146"
      },
      "outputs": [
        {
          "data": {
            "text/html": [
              "<div>\n",
              "<style scoped>\n",
              "    .dataframe tbody tr th:only-of-type {\n",
              "        vertical-align: middle;\n",
              "    }\n",
              "\n",
              "    .dataframe tbody tr th {\n",
              "        vertical-align: top;\n",
              "    }\n",
              "\n",
              "    .dataframe thead th {\n",
              "        text-align: right;\n",
              "    }\n",
              "</style>\n",
              "<table border=\"1\" class=\"dataframe\">\n",
              "  <thead>\n",
              "    <tr style=\"text-align: right;\">\n",
              "      <th></th>\n",
              "      <th>Date</th>\n",
              "      <th>Confirmed</th>\n",
              "      <th>Deaths</th>\n",
              "      <th>Recovered</th>\n",
              "      <th>Active</th>\n",
              "      <th>New_Confirmed</th>\n",
              "      <th>New_Recovered</th>\n",
              "      <th>New_Deaths</th>\n",
              "    </tr>\n",
              "  </thead>\n",
              "  <tbody>\n",
              "    <tr>\n",
              "      <th>0</th>\n",
              "      <td>2020-01-22</td>\n",
              "      <td>555</td>\n",
              "      <td>17</td>\n",
              "      <td>28</td>\n",
              "      <td>510</td>\n",
              "      <td>0.0</td>\n",
              "      <td>0.0</td>\n",
              "      <td>0.0</td>\n",
              "    </tr>\n",
              "    <tr>\n",
              "      <th>1</th>\n",
              "      <td>2020-01-23</td>\n",
              "      <td>654</td>\n",
              "      <td>18</td>\n",
              "      <td>30</td>\n",
              "      <td>606</td>\n",
              "      <td>99.0</td>\n",
              "      <td>2.0</td>\n",
              "      <td>1.0</td>\n",
              "    </tr>\n",
              "    <tr>\n",
              "      <th>2</th>\n",
              "      <td>2020-01-24</td>\n",
              "      <td>941</td>\n",
              "      <td>26</td>\n",
              "      <td>36</td>\n",
              "      <td>879</td>\n",
              "      <td>287.0</td>\n",
              "      <td>6.0</td>\n",
              "      <td>8.0</td>\n",
              "    </tr>\n",
              "    <tr>\n",
              "      <th>3</th>\n",
              "      <td>2020-01-25</td>\n",
              "      <td>1434</td>\n",
              "      <td>42</td>\n",
              "      <td>39</td>\n",
              "      <td>1353</td>\n",
              "      <td>493.0</td>\n",
              "      <td>3.0</td>\n",
              "      <td>16.0</td>\n",
              "    </tr>\n",
              "    <tr>\n",
              "      <th>4</th>\n",
              "      <td>2020-01-26</td>\n",
              "      <td>2118</td>\n",
              "      <td>56</td>\n",
              "      <td>52</td>\n",
              "      <td>2010</td>\n",
              "      <td>684.0</td>\n",
              "      <td>13.0</td>\n",
              "      <td>14.0</td>\n",
              "    </tr>\n",
              "  </tbody>\n",
              "</table>\n",
              "</div>"
            ],
            "text/plain": [
              "        Date  Confirmed  Deaths  Recovered  Active  New_Confirmed  \\\n",
              "0 2020-01-22        555      17         28     510            0.0   \n",
              "1 2020-01-23        654      18         30     606           99.0   \n",
              "2 2020-01-24        941      26         36     879          287.0   \n",
              "3 2020-01-25       1434      42         39    1353          493.0   \n",
              "4 2020-01-26       2118      56         52    2010          684.0   \n",
              "\n",
              "   New_Recovered  New_Deaths  \n",
              "0            0.0         0.0  \n",
              "1            2.0         1.0  \n",
              "2            6.0         8.0  \n",
              "3            3.0        16.0  \n",
              "4           13.0        14.0  "
            ]
          },
          "execution_count": 37,
          "metadata": {},
          "output_type": "execute_result"
        }
      ],
      "source": [
        "df2.head()"
      ]
    },
    {
      "cell_type": "markdown",
      "metadata": {
        "id": "8omdDfBlcEgo"
      },
      "source": [
        "Ploting daily updates"
      ]
    },
    {
      "cell_type": "code",
      "execution_count": 38,
      "metadata": {
        "colab": {
          "base_uri": "https://localhost:8080/",
          "height": 542
        },
        "id": "_zUisDWIde5l",
        "outputId": "6f145d91-5154-4f21-bc50-5e0796054ed2"
      },
      "outputs": [
        {
          "data": {
            "application/vnd.plotly.v1+json": {
              "config": {
                "plotlyServerURL": "https://plot.ly"
              },
              "data": [
                {
                  "hovertemplate": "Change Type=New_Confirmed<br>Date=%{x}<br>Count=%{y}<extra></extra>",
                  "legendgroup": "New_Confirmed",
                  "line": {
                    "color": "#636efa",
                    "dash": "solid"
                  },
                  "marker": {
                    "symbol": "circle"
                  },
                  "mode": "lines",
                  "name": "New_Confirmed",
                  "orientation": "v",
                  "showlegend": true,
                  "type": "scatter",
                  "x": [
                    "2020-01-22T00:00:00.000000000",
                    "2020-01-23T00:00:00.000000000",
                    "2020-01-24T00:00:00.000000000",
                    "2020-01-25T00:00:00.000000000",
                    "2020-01-26T00:00:00.000000000",
                    "2020-01-27T00:00:00.000000000",
                    "2020-01-28T00:00:00.000000000",
                    "2020-01-29T00:00:00.000000000",
                    "2020-01-30T00:00:00.000000000",
                    "2020-01-31T00:00:00.000000000",
                    "2020-02-01T00:00:00.000000000",
                    "2020-02-02T00:00:00.000000000",
                    "2020-02-03T00:00:00.000000000",
                    "2020-02-04T00:00:00.000000000",
                    "2020-02-05T00:00:00.000000000",
                    "2020-02-06T00:00:00.000000000",
                    "2020-02-07T00:00:00.000000000",
                    "2020-02-08T00:00:00.000000000",
                    "2020-02-09T00:00:00.000000000",
                    "2020-02-10T00:00:00.000000000",
                    "2020-02-11T00:00:00.000000000",
                    "2020-02-12T00:00:00.000000000",
                    "2020-02-13T00:00:00.000000000",
                    "2020-02-14T00:00:00.000000000",
                    "2020-02-15T00:00:00.000000000",
                    "2020-02-16T00:00:00.000000000",
                    "2020-02-17T00:00:00.000000000",
                    "2020-02-18T00:00:00.000000000",
                    "2020-02-19T00:00:00.000000000",
                    "2020-02-20T00:00:00.000000000",
                    "2020-02-21T00:00:00.000000000",
                    "2020-02-22T00:00:00.000000000",
                    "2020-02-23T00:00:00.000000000",
                    "2020-02-24T00:00:00.000000000",
                    "2020-02-25T00:00:00.000000000",
                    "2020-02-26T00:00:00.000000000",
                    "2020-02-27T00:00:00.000000000",
                    "2020-02-28T00:00:00.000000000",
                    "2020-02-29T00:00:00.000000000",
                    "2020-03-01T00:00:00.000000000",
                    "2020-03-02T00:00:00.000000000",
                    "2020-03-03T00:00:00.000000000",
                    "2020-03-04T00:00:00.000000000",
                    "2020-03-05T00:00:00.000000000",
                    "2020-03-06T00:00:00.000000000",
                    "2020-03-07T00:00:00.000000000",
                    "2020-03-08T00:00:00.000000000",
                    "2020-03-09T00:00:00.000000000",
                    "2020-03-10T00:00:00.000000000",
                    "2020-03-11T00:00:00.000000000",
                    "2020-03-12T00:00:00.000000000",
                    "2020-03-13T00:00:00.000000000",
                    "2020-03-14T00:00:00.000000000",
                    "2020-03-15T00:00:00.000000000",
                    "2020-03-16T00:00:00.000000000",
                    "2020-03-17T00:00:00.000000000",
                    "2020-03-18T00:00:00.000000000",
                    "2020-03-19T00:00:00.000000000",
                    "2020-03-20T00:00:00.000000000",
                    "2020-03-21T00:00:00.000000000",
                    "2020-03-22T00:00:00.000000000",
                    "2020-03-23T00:00:00.000000000",
                    "2020-03-24T00:00:00.000000000",
                    "2020-03-25T00:00:00.000000000",
                    "2020-03-26T00:00:00.000000000",
                    "2020-03-27T00:00:00.000000000",
                    "2020-03-28T00:00:00.000000000",
                    "2020-03-29T00:00:00.000000000",
                    "2020-03-30T00:00:00.000000000",
                    "2020-03-31T00:00:00.000000000",
                    "2020-04-01T00:00:00.000000000",
                    "2020-04-02T00:00:00.000000000",
                    "2020-04-03T00:00:00.000000000",
                    "2020-04-04T00:00:00.000000000",
                    "2020-04-05T00:00:00.000000000",
                    "2020-04-06T00:00:00.000000000",
                    "2020-04-07T00:00:00.000000000",
                    "2020-04-08T00:00:00.000000000",
                    "2020-04-09T00:00:00.000000000",
                    "2020-04-10T00:00:00.000000000",
                    "2020-04-11T00:00:00.000000000",
                    "2020-04-12T00:00:00.000000000",
                    "2020-04-13T00:00:00.000000000",
                    "2020-04-14T00:00:00.000000000",
                    "2020-04-15T00:00:00.000000000",
                    "2020-04-16T00:00:00.000000000",
                    "2020-04-17T00:00:00.000000000",
                    "2020-04-18T00:00:00.000000000",
                    "2020-04-19T00:00:00.000000000",
                    "2020-04-20T00:00:00.000000000",
                    "2020-04-21T00:00:00.000000000",
                    "2020-04-22T00:00:00.000000000",
                    "2020-04-23T00:00:00.000000000",
                    "2020-04-24T00:00:00.000000000",
                    "2020-04-25T00:00:00.000000000",
                    "2020-04-26T00:00:00.000000000",
                    "2020-04-27T00:00:00.000000000",
                    "2020-04-28T00:00:00.000000000",
                    "2020-04-29T00:00:00.000000000",
                    "2020-04-30T00:00:00.000000000",
                    "2020-05-01T00:00:00.000000000",
                    "2020-05-02T00:00:00.000000000",
                    "2020-05-03T00:00:00.000000000",
                    "2020-05-04T00:00:00.000000000",
                    "2020-05-05T00:00:00.000000000",
                    "2020-05-06T00:00:00.000000000",
                    "2020-05-07T00:00:00.000000000",
                    "2020-05-08T00:00:00.000000000",
                    "2020-05-09T00:00:00.000000000",
                    "2020-05-10T00:00:00.000000000",
                    "2020-05-11T00:00:00.000000000",
                    "2020-05-12T00:00:00.000000000",
                    "2020-05-13T00:00:00.000000000",
                    "2020-05-14T00:00:00.000000000",
                    "2020-05-15T00:00:00.000000000",
                    "2020-05-16T00:00:00.000000000",
                    "2020-05-17T00:00:00.000000000",
                    "2020-05-18T00:00:00.000000000",
                    "2020-05-19T00:00:00.000000000",
                    "2020-05-20T00:00:00.000000000",
                    "2020-05-21T00:00:00.000000000",
                    "2020-05-22T00:00:00.000000000",
                    "2020-05-23T00:00:00.000000000",
                    "2020-05-24T00:00:00.000000000",
                    "2020-05-25T00:00:00.000000000",
                    "2020-05-26T00:00:00.000000000",
                    "2020-05-27T00:00:00.000000000",
                    "2020-05-28T00:00:00.000000000",
                    "2020-05-29T00:00:00.000000000",
                    "2020-05-30T00:00:00.000000000",
                    "2020-05-31T00:00:00.000000000",
                    "2020-06-01T00:00:00.000000000",
                    "2020-06-02T00:00:00.000000000",
                    "2020-06-03T00:00:00.000000000",
                    "2020-06-04T00:00:00.000000000",
                    "2020-06-05T00:00:00.000000000",
                    "2020-06-06T00:00:00.000000000",
                    "2020-06-07T00:00:00.000000000",
                    "2020-06-08T00:00:00.000000000",
                    "2020-06-09T00:00:00.000000000",
                    "2020-06-10T00:00:00.000000000",
                    "2020-06-11T00:00:00.000000000",
                    "2020-06-12T00:00:00.000000000",
                    "2020-06-13T00:00:00.000000000",
                    "2020-06-14T00:00:00.000000000",
                    "2020-06-15T00:00:00.000000000",
                    "2020-06-16T00:00:00.000000000",
                    "2020-06-17T00:00:00.000000000",
                    "2020-06-18T00:00:00.000000000",
                    "2020-06-19T00:00:00.000000000",
                    "2020-06-20T00:00:00.000000000",
                    "2020-06-21T00:00:00.000000000",
                    "2020-06-22T00:00:00.000000000",
                    "2020-06-23T00:00:00.000000000",
                    "2020-06-24T00:00:00.000000000",
                    "2020-06-25T00:00:00.000000000",
                    "2020-06-26T00:00:00.000000000",
                    "2020-06-27T00:00:00.000000000",
                    "2020-06-28T00:00:00.000000000",
                    "2020-06-29T00:00:00.000000000",
                    "2020-06-30T00:00:00.000000000",
                    "2020-07-01T00:00:00.000000000",
                    "2020-07-02T00:00:00.000000000",
                    "2020-07-03T00:00:00.000000000",
                    "2020-07-04T00:00:00.000000000",
                    "2020-07-05T00:00:00.000000000",
                    "2020-07-06T00:00:00.000000000",
                    "2020-07-07T00:00:00.000000000",
                    "2020-07-08T00:00:00.000000000",
                    "2020-07-09T00:00:00.000000000",
                    "2020-07-10T00:00:00.000000000",
                    "2020-07-11T00:00:00.000000000",
                    "2020-07-12T00:00:00.000000000",
                    "2020-07-13T00:00:00.000000000",
                    "2020-07-14T00:00:00.000000000",
                    "2020-07-15T00:00:00.000000000",
                    "2020-07-16T00:00:00.000000000",
                    "2020-07-17T00:00:00.000000000",
                    "2020-07-18T00:00:00.000000000",
                    "2020-07-19T00:00:00.000000000",
                    "2020-07-20T00:00:00.000000000",
                    "2020-07-21T00:00:00.000000000",
                    "2020-07-22T00:00:00.000000000",
                    "2020-07-23T00:00:00.000000000",
                    "2020-07-24T00:00:00.000000000",
                    "2020-07-25T00:00:00.000000000",
                    "2020-07-26T00:00:00.000000000",
                    "2020-07-27T00:00:00.000000000"
                  ],
                  "xaxis": "x",
                  "y": {
                    "bdata": "AAAAAAAAAAAAAAAAAMBYQAAAAAAA8HFAAAAAAADQfkAAAAAAAGCFQAAAAAAASIlAAAAAAAC2pEAAAAAAAGCCQAAAAAAAKKBAAAAAAAB0mkAAAAAAAH6gQAAAAAAAjbJAAAAAAAA4qEAAAAAAAFavQAAAAAAAQq1AAAAAAACuqEAAAAAAAJirQAAAAAAAXKVAAAAAAACmp0AAAAAAANSjQAAAAAAA6J9AAAAAAAB4nUAAAAAAgKbKQAAAAAAAVLlAAAAAAAA2oEAAAAAAAISgQAAAAAAAQJ5AAAAAAAAInEAAAAAAAFB6QAAAAAAAGIFAAAAAAACog0AAAAAAAISbQAAAAAAAMHRAAAAAAACggUAAAAAAAKiKQAAAAAAAGI5AAAAAAABQlUAAAAAAAISVQAAAAAAAnJ1AAAAAAACgokAAAAAAANieQAAAAAAAIqRAAAAAAAD2oUAAAAAAAM6lQAAAAAAAzq5AAAAAAACMr0AAAAAAAOSuQAAAAAAAeK5AAAAAAACgs0AAAAAAAO+9QAAAAAAAdrZAAAAAAIAizEAAAAAAALHFQAAAAAAAxcVAAAAAAIChzEAAAAAAAO/OQAAAAACAINNAAAAAAIBD20AAAAAAAOrcQAAAAACAjN9AAAAAAEBQ4EAAAAAAoJbkQAAAAABgFuRAAAAAACDQ6EAAAAAAAL7uQAAAAAAAcu9AAAAAAJCE8EAAAAAAIBftQAAAAADgj+9AAAAAAACo8kAAAAAAYJvyQAAAAABw3/NAAAAAADBN9EAAAAAA8KTzQAAAAABggvFAAAAAAAC+8UAAAAAAkMTyQAAAAADwc/RAAAAAABAm9UAAAAAAoGb1QAAAAABQyvJAAAAAANCg90AAAAAAoP3wQAAAAABwEvFAAAAAANC780AAAAAAgJz3QAAAAADAavVAAAAAAFAO8kAAAAAAsKjzQAAAAACw5/FAAAAAACBf8kAAAAAAYMDyQAAAAABQu/VAAAAAAMA59UAAAAAAQLz0QAAAAAAwz/FAAAAAAADG8EAAAAAAMGLyQAAAAABgz/JAAAAAABBu9EAAAAAAYED1QAAAAABg8fNAAAAAAED08kAAAAAA0JLyQAAAAABQh/NAAAAAAGD69UAAAAAA4L/1QAAAAADQV/ZAAAAAAGD19EAAAAAAYJ3yQAAAAAAQnfJAAAAAAPBo9EAAAAAAALH0QAAAAAAQtfdAAAAAANCF90AAAAAAQEv3QAAAAADQKvNAAAAAAMCN9UAAAAAAgIr3QAAAAABAJ/lAAAAAAOD1+UAAAAAAQBn6QAAAAACQtPlAAAAAAOBF90AAAAAAMDv1QAAAAACglvZAAAAAAIAM+UAAAAAAICH9QAAAAADwlP1AAAAAAEjTAEEAAAAAAEL6QAAAAACwPfdAAAAAALB+/UAAAAAAwCX9QAAAAACQ/f5AAAAAAPDy/0AAAAAAMJgAQQAAAAAwaPtAAAAAABD1+EAAAAAAYFv+QAAAAABIXABBAAAAABDcAEEAAAAAYIT/QAAAAABQmgBBAAAAAGhJAEEAAAAAYDX9QAAAAADYQgFBAAAAAOhQAUEAAAAAwBQBQQAAAAAwEgZBAAAAAIA7A0EAAAAAsGH/QAAAAAAQ1ABBAAAAANAuBEEAAAAAeOUEQQAAAAD4tgVBAAAAAJBbB0EAAAAA8L0FQQAAAADwugNBAAAAAGBbA0EAAAAAUDoFQQAAAADIkgpBAAAAAMhaCUEAAAAAMNcIQQAAAAD4oAdBAAAAADhNBkEAAAAAeG0EQQAAAADgvAlBAAAAANDaCUEAAAAAGNwLQQAAAAAIZAxBAAAAAEBoCkEAAAAA4IQHQQAAAABYiAdBAAAAAGAIC0EAAAAAaDYMQQAAAADo0w5BAAAAALCLDUEAAAAAGAINQQAAAAC4MwpBAAAAANA9CUEAAAAAeH8MQQAAAAAcIRFBAAAAABBCEUEAAAAAMCkRQQAAAADIMQ9BAAAAAPD5CEEAAAAAiOoLQQ==",
                    "dtype": "f8"
                  },
                  "yaxis": "y"
                },
                {
                  "hovertemplate": "Change Type=New_Recovered<br>Date=%{x}<br>Count=%{y}<extra></extra>",
                  "legendgroup": "New_Recovered",
                  "line": {
                    "color": "#EF553B",
                    "dash": "solid"
                  },
                  "marker": {
                    "symbol": "circle"
                  },
                  "mode": "lines",
                  "name": "New_Recovered",
                  "orientation": "v",
                  "showlegend": true,
                  "type": "scatter",
                  "x": [
                    "2020-01-22T00:00:00.000000000",
                    "2020-01-23T00:00:00.000000000",
                    "2020-01-24T00:00:00.000000000",
                    "2020-01-25T00:00:00.000000000",
                    "2020-01-26T00:00:00.000000000",
                    "2020-01-27T00:00:00.000000000",
                    "2020-01-28T00:00:00.000000000",
                    "2020-01-29T00:00:00.000000000",
                    "2020-01-30T00:00:00.000000000",
                    "2020-01-31T00:00:00.000000000",
                    "2020-02-01T00:00:00.000000000",
                    "2020-02-02T00:00:00.000000000",
                    "2020-02-03T00:00:00.000000000",
                    "2020-02-04T00:00:00.000000000",
                    "2020-02-05T00:00:00.000000000",
                    "2020-02-06T00:00:00.000000000",
                    "2020-02-07T00:00:00.000000000",
                    "2020-02-08T00:00:00.000000000",
                    "2020-02-09T00:00:00.000000000",
                    "2020-02-10T00:00:00.000000000",
                    "2020-02-11T00:00:00.000000000",
                    "2020-02-12T00:00:00.000000000",
                    "2020-02-13T00:00:00.000000000",
                    "2020-02-14T00:00:00.000000000",
                    "2020-02-15T00:00:00.000000000",
                    "2020-02-16T00:00:00.000000000",
                    "2020-02-17T00:00:00.000000000",
                    "2020-02-18T00:00:00.000000000",
                    "2020-02-19T00:00:00.000000000",
                    "2020-02-20T00:00:00.000000000",
                    "2020-02-21T00:00:00.000000000",
                    "2020-02-22T00:00:00.000000000",
                    "2020-02-23T00:00:00.000000000",
                    "2020-02-24T00:00:00.000000000",
                    "2020-02-25T00:00:00.000000000",
                    "2020-02-26T00:00:00.000000000",
                    "2020-02-27T00:00:00.000000000",
                    "2020-02-28T00:00:00.000000000",
                    "2020-02-29T00:00:00.000000000",
                    "2020-03-01T00:00:00.000000000",
                    "2020-03-02T00:00:00.000000000",
                    "2020-03-03T00:00:00.000000000",
                    "2020-03-04T00:00:00.000000000",
                    "2020-03-05T00:00:00.000000000",
                    "2020-03-06T00:00:00.000000000",
                    "2020-03-07T00:00:00.000000000",
                    "2020-03-08T00:00:00.000000000",
                    "2020-03-09T00:00:00.000000000",
                    "2020-03-10T00:00:00.000000000",
                    "2020-03-11T00:00:00.000000000",
                    "2020-03-12T00:00:00.000000000",
                    "2020-03-13T00:00:00.000000000",
                    "2020-03-14T00:00:00.000000000",
                    "2020-03-15T00:00:00.000000000",
                    "2020-03-16T00:00:00.000000000",
                    "2020-03-17T00:00:00.000000000",
                    "2020-03-18T00:00:00.000000000",
                    "2020-03-19T00:00:00.000000000",
                    "2020-03-20T00:00:00.000000000",
                    "2020-03-21T00:00:00.000000000",
                    "2020-03-22T00:00:00.000000000",
                    "2020-03-23T00:00:00.000000000",
                    "2020-03-24T00:00:00.000000000",
                    "2020-03-25T00:00:00.000000000",
                    "2020-03-26T00:00:00.000000000",
                    "2020-03-27T00:00:00.000000000",
                    "2020-03-28T00:00:00.000000000",
                    "2020-03-29T00:00:00.000000000",
                    "2020-03-30T00:00:00.000000000",
                    "2020-03-31T00:00:00.000000000",
                    "2020-04-01T00:00:00.000000000",
                    "2020-04-02T00:00:00.000000000",
                    "2020-04-03T00:00:00.000000000",
                    "2020-04-04T00:00:00.000000000",
                    "2020-04-05T00:00:00.000000000",
                    "2020-04-06T00:00:00.000000000",
                    "2020-04-07T00:00:00.000000000",
                    "2020-04-08T00:00:00.000000000",
                    "2020-04-09T00:00:00.000000000",
                    "2020-04-10T00:00:00.000000000",
                    "2020-04-11T00:00:00.000000000",
                    "2020-04-12T00:00:00.000000000",
                    "2020-04-13T00:00:00.000000000",
                    "2020-04-14T00:00:00.000000000",
                    "2020-04-15T00:00:00.000000000",
                    "2020-04-16T00:00:00.000000000",
                    "2020-04-17T00:00:00.000000000",
                    "2020-04-18T00:00:00.000000000",
                    "2020-04-19T00:00:00.000000000",
                    "2020-04-20T00:00:00.000000000",
                    "2020-04-21T00:00:00.000000000",
                    "2020-04-22T00:00:00.000000000",
                    "2020-04-23T00:00:00.000000000",
                    "2020-04-24T00:00:00.000000000",
                    "2020-04-25T00:00:00.000000000",
                    "2020-04-26T00:00:00.000000000",
                    "2020-04-27T00:00:00.000000000",
                    "2020-04-28T00:00:00.000000000",
                    "2020-04-29T00:00:00.000000000",
                    "2020-04-30T00:00:00.000000000",
                    "2020-05-01T00:00:00.000000000",
                    "2020-05-02T00:00:00.000000000",
                    "2020-05-03T00:00:00.000000000",
                    "2020-05-04T00:00:00.000000000",
                    "2020-05-05T00:00:00.000000000",
                    "2020-05-06T00:00:00.000000000",
                    "2020-05-07T00:00:00.000000000",
                    "2020-05-08T00:00:00.000000000",
                    "2020-05-09T00:00:00.000000000",
                    "2020-05-10T00:00:00.000000000",
                    "2020-05-11T00:00:00.000000000",
                    "2020-05-12T00:00:00.000000000",
                    "2020-05-13T00:00:00.000000000",
                    "2020-05-14T00:00:00.000000000",
                    "2020-05-15T00:00:00.000000000",
                    "2020-05-16T00:00:00.000000000",
                    "2020-05-17T00:00:00.000000000",
                    "2020-05-18T00:00:00.000000000",
                    "2020-05-19T00:00:00.000000000",
                    "2020-05-20T00:00:00.000000000",
                    "2020-05-21T00:00:00.000000000",
                    "2020-05-22T00:00:00.000000000",
                    "2020-05-23T00:00:00.000000000",
                    "2020-05-24T00:00:00.000000000",
                    "2020-05-25T00:00:00.000000000",
                    "2020-05-26T00:00:00.000000000",
                    "2020-05-27T00:00:00.000000000",
                    "2020-05-28T00:00:00.000000000",
                    "2020-05-29T00:00:00.000000000",
                    "2020-05-30T00:00:00.000000000",
                    "2020-05-31T00:00:00.000000000",
                    "2020-06-01T00:00:00.000000000",
                    "2020-06-02T00:00:00.000000000",
                    "2020-06-03T00:00:00.000000000",
                    "2020-06-04T00:00:00.000000000",
                    "2020-06-05T00:00:00.000000000",
                    "2020-06-06T00:00:00.000000000",
                    "2020-06-07T00:00:00.000000000",
                    "2020-06-08T00:00:00.000000000",
                    "2020-06-09T00:00:00.000000000",
                    "2020-06-10T00:00:00.000000000",
                    "2020-06-11T00:00:00.000000000",
                    "2020-06-12T00:00:00.000000000",
                    "2020-06-13T00:00:00.000000000",
                    "2020-06-14T00:00:00.000000000",
                    "2020-06-15T00:00:00.000000000",
                    "2020-06-16T00:00:00.000000000",
                    "2020-06-17T00:00:00.000000000",
                    "2020-06-18T00:00:00.000000000",
                    "2020-06-19T00:00:00.000000000",
                    "2020-06-20T00:00:00.000000000",
                    "2020-06-21T00:00:00.000000000",
                    "2020-06-22T00:00:00.000000000",
                    "2020-06-23T00:00:00.000000000",
                    "2020-06-24T00:00:00.000000000",
                    "2020-06-25T00:00:00.000000000",
                    "2020-06-26T00:00:00.000000000",
                    "2020-06-27T00:00:00.000000000",
                    "2020-06-28T00:00:00.000000000",
                    "2020-06-29T00:00:00.000000000",
                    "2020-06-30T00:00:00.000000000",
                    "2020-07-01T00:00:00.000000000",
                    "2020-07-02T00:00:00.000000000",
                    "2020-07-03T00:00:00.000000000",
                    "2020-07-04T00:00:00.000000000",
                    "2020-07-05T00:00:00.000000000",
                    "2020-07-06T00:00:00.000000000",
                    "2020-07-07T00:00:00.000000000",
                    "2020-07-08T00:00:00.000000000",
                    "2020-07-09T00:00:00.000000000",
                    "2020-07-10T00:00:00.000000000",
                    "2020-07-11T00:00:00.000000000",
                    "2020-07-12T00:00:00.000000000",
                    "2020-07-13T00:00:00.000000000",
                    "2020-07-14T00:00:00.000000000",
                    "2020-07-15T00:00:00.000000000",
                    "2020-07-16T00:00:00.000000000",
                    "2020-07-17T00:00:00.000000000",
                    "2020-07-18T00:00:00.000000000",
                    "2020-07-19T00:00:00.000000000",
                    "2020-07-20T00:00:00.000000000",
                    "2020-07-21T00:00:00.000000000",
                    "2020-07-22T00:00:00.000000000",
                    "2020-07-23T00:00:00.000000000",
                    "2020-07-24T00:00:00.000000000",
                    "2020-07-25T00:00:00.000000000",
                    "2020-07-26T00:00:00.000000000",
                    "2020-07-27T00:00:00.000000000"
                  ],
                  "xaxis": "x",
                  "y": {
                    "bdata": "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",
                    "dtype": "f8"
                  },
                  "yaxis": "y"
                },
                {
                  "hovertemplate": "Change Type=New_Deaths<br>Date=%{x}<br>Count=%{y}<extra></extra>",
                  "legendgroup": "New_Deaths",
                  "line": {
                    "color": "#00cc96",
                    "dash": "solid"
                  },
                  "marker": {
                    "symbol": "circle"
                  },
                  "mode": "lines",
                  "name": "New_Deaths",
                  "orientation": "v",
                  "showlegend": true,
                  "type": "scatter",
                  "x": [
                    "2020-01-22T00:00:00.000000000",
                    "2020-01-23T00:00:00.000000000",
                    "2020-01-24T00:00:00.000000000",
                    "2020-01-25T00:00:00.000000000",
                    "2020-01-26T00:00:00.000000000",
                    "2020-01-27T00:00:00.000000000",
                    "2020-01-28T00:00:00.000000000",
                    "2020-01-29T00:00:00.000000000",
                    "2020-01-30T00:00:00.000000000",
                    "2020-01-31T00:00:00.000000000",
                    "2020-02-01T00:00:00.000000000",
                    "2020-02-02T00:00:00.000000000",
                    "2020-02-03T00:00:00.000000000",
                    "2020-02-04T00:00:00.000000000",
                    "2020-02-05T00:00:00.000000000",
                    "2020-02-06T00:00:00.000000000",
                    "2020-02-07T00:00:00.000000000",
                    "2020-02-08T00:00:00.000000000",
                    "2020-02-09T00:00:00.000000000",
                    "2020-02-10T00:00:00.000000000",
                    "2020-02-11T00:00:00.000000000",
                    "2020-02-12T00:00:00.000000000",
                    "2020-02-13T00:00:00.000000000",
                    "2020-02-14T00:00:00.000000000",
                    "2020-02-15T00:00:00.000000000",
                    "2020-02-16T00:00:00.000000000",
                    "2020-02-17T00:00:00.000000000",
                    "2020-02-18T00:00:00.000000000",
                    "2020-02-19T00:00:00.000000000",
                    "2020-02-20T00:00:00.000000000",
                    "2020-02-21T00:00:00.000000000",
                    "2020-02-22T00:00:00.000000000",
                    "2020-02-23T00:00:00.000000000",
                    "2020-02-24T00:00:00.000000000",
                    "2020-02-25T00:00:00.000000000",
                    "2020-02-26T00:00:00.000000000",
                    "2020-02-27T00:00:00.000000000",
                    "2020-02-28T00:00:00.000000000",
                    "2020-02-29T00:00:00.000000000",
                    "2020-03-01T00:00:00.000000000",
                    "2020-03-02T00:00:00.000000000",
                    "2020-03-03T00:00:00.000000000",
                    "2020-03-04T00:00:00.000000000",
                    "2020-03-05T00:00:00.000000000",
                    "2020-03-06T00:00:00.000000000",
                    "2020-03-07T00:00:00.000000000",
                    "2020-03-08T00:00:00.000000000",
                    "2020-03-09T00:00:00.000000000",
                    "2020-03-10T00:00:00.000000000",
                    "2020-03-11T00:00:00.000000000",
                    "2020-03-12T00:00:00.000000000",
                    "2020-03-13T00:00:00.000000000",
                    "2020-03-14T00:00:00.000000000",
                    "2020-03-15T00:00:00.000000000",
                    "2020-03-16T00:00:00.000000000",
                    "2020-03-17T00:00:00.000000000",
                    "2020-03-18T00:00:00.000000000",
                    "2020-03-19T00:00:00.000000000",
                    "2020-03-20T00:00:00.000000000",
                    "2020-03-21T00:00:00.000000000",
                    "2020-03-22T00:00:00.000000000",
                    "2020-03-23T00:00:00.000000000",
                    "2020-03-24T00:00:00.000000000",
                    "2020-03-25T00:00:00.000000000",
                    "2020-03-26T00:00:00.000000000",
                    "2020-03-27T00:00:00.000000000",
                    "2020-03-28T00:00:00.000000000",
                    "2020-03-29T00:00:00.000000000",
                    "2020-03-30T00:00:00.000000000",
                    "2020-03-31T00:00:00.000000000",
                    "2020-04-01T00:00:00.000000000",
                    "2020-04-02T00:00:00.000000000",
                    "2020-04-03T00:00:00.000000000",
                    "2020-04-04T00:00:00.000000000",
                    "2020-04-05T00:00:00.000000000",
                    "2020-04-06T00:00:00.000000000",
                    "2020-04-07T00:00:00.000000000",
                    "2020-04-08T00:00:00.000000000",
                    "2020-04-09T00:00:00.000000000",
                    "2020-04-10T00:00:00.000000000",
                    "2020-04-11T00:00:00.000000000",
                    "2020-04-12T00:00:00.000000000",
                    "2020-04-13T00:00:00.000000000",
                    "2020-04-14T00:00:00.000000000",
                    "2020-04-15T00:00:00.000000000",
                    "2020-04-16T00:00:00.000000000",
                    "2020-04-17T00:00:00.000000000",
                    "2020-04-18T00:00:00.000000000",
                    "2020-04-19T00:00:00.000000000",
                    "2020-04-20T00:00:00.000000000",
                    "2020-04-21T00:00:00.000000000",
                    "2020-04-22T00:00:00.000000000",
                    "2020-04-23T00:00:00.000000000",
                    "2020-04-24T00:00:00.000000000",
                    "2020-04-25T00:00:00.000000000",
                    "2020-04-26T00:00:00.000000000",
                    "2020-04-27T00:00:00.000000000",
                    "2020-04-28T00:00:00.000000000",
                    "2020-04-29T00:00:00.000000000",
                    "2020-04-30T00:00:00.000000000",
                    "2020-05-01T00:00:00.000000000",
                    "2020-05-02T00:00:00.000000000",
                    "2020-05-03T00:00:00.000000000",
                    "2020-05-04T00:00:00.000000000",
                    "2020-05-05T00:00:00.000000000",
                    "2020-05-06T00:00:00.000000000",
                    "2020-05-07T00:00:00.000000000",
                    "2020-05-08T00:00:00.000000000",
                    "2020-05-09T00:00:00.000000000",
                    "2020-05-10T00:00:00.000000000",
                    "2020-05-11T00:00:00.000000000",
                    "2020-05-12T00:00:00.000000000",
                    "2020-05-13T00:00:00.000000000",
                    "2020-05-14T00:00:00.000000000",
                    "2020-05-15T00:00:00.000000000",
                    "2020-05-16T00:00:00.000000000",
                    "2020-05-17T00:00:00.000000000",
                    "2020-05-18T00:00:00.000000000",
                    "2020-05-19T00:00:00.000000000",
                    "2020-05-20T00:00:00.000000000",
                    "2020-05-21T00:00:00.000000000",
                    "2020-05-22T00:00:00.000000000",
                    "2020-05-23T00:00:00.000000000",
                    "2020-05-24T00:00:00.000000000",
                    "2020-05-25T00:00:00.000000000",
                    "2020-05-26T00:00:00.000000000",
                    "2020-05-27T00:00:00.000000000",
                    "2020-05-28T00:00:00.000000000",
                    "2020-05-29T00:00:00.000000000",
                    "2020-05-30T00:00:00.000000000",
                    "2020-05-31T00:00:00.000000000",
                    "2020-06-01T00:00:00.000000000",
                    "2020-06-02T00:00:00.000000000",
                    "2020-06-03T00:00:00.000000000",
                    "2020-06-04T00:00:00.000000000",
                    "2020-06-05T00:00:00.000000000",
                    "2020-06-06T00:00:00.000000000",
                    "2020-06-07T00:00:00.000000000",
                    "2020-06-08T00:00:00.000000000",
                    "2020-06-09T00:00:00.000000000",
                    "2020-06-10T00:00:00.000000000",
                    "2020-06-11T00:00:00.000000000",
                    "2020-06-12T00:00:00.000000000",
                    "2020-06-13T00:00:00.000000000",
                    "2020-06-14T00:00:00.000000000",
                    "2020-06-15T00:00:00.000000000",
                    "2020-06-16T00:00:00.000000000",
                    "2020-06-17T00:00:00.000000000",
                    "2020-06-18T00:00:00.000000000",
                    "2020-06-19T00:00:00.000000000",
                    "2020-06-20T00:00:00.000000000",
                    "2020-06-21T00:00:00.000000000",
                    "2020-06-22T00:00:00.000000000",
                    "2020-06-23T00:00:00.000000000",
                    "2020-06-24T00:00:00.000000000",
                    "2020-06-25T00:00:00.000000000",
                    "2020-06-26T00:00:00.000000000",
                    "2020-06-27T00:00:00.000000000",
                    "2020-06-28T00:00:00.000000000",
                    "2020-06-29T00:00:00.000000000",
                    "2020-06-30T00:00:00.000000000",
                    "2020-07-01T00:00:00.000000000",
                    "2020-07-02T00:00:00.000000000",
                    "2020-07-03T00:00:00.000000000",
                    "2020-07-04T00:00:00.000000000",
                    "2020-07-05T00:00:00.000000000",
                    "2020-07-06T00:00:00.000000000",
                    "2020-07-07T00:00:00.000000000",
                    "2020-07-08T00:00:00.000000000",
                    "2020-07-09T00:00:00.000000000",
                    "2020-07-10T00:00:00.000000000",
                    "2020-07-11T00:00:00.000000000",
                    "2020-07-12T00:00:00.000000000",
                    "2020-07-13T00:00:00.000000000",
                    "2020-07-14T00:00:00.000000000",
                    "2020-07-15T00:00:00.000000000",
                    "2020-07-16T00:00:00.000000000",
                    "2020-07-17T00:00:00.000000000",
                    "2020-07-18T00:00:00.000000000",
                    "2020-07-19T00:00:00.000000000",
                    "2020-07-20T00:00:00.000000000",
                    "2020-07-21T00:00:00.000000000",
                    "2020-07-22T00:00:00.000000000",
                    "2020-07-23T00:00:00.000000000",
                    "2020-07-24T00:00:00.000000000",
                    "2020-07-25T00:00:00.000000000",
                    "2020-07-26T00:00:00.000000000",
                    "2020-07-27T00:00:00.000000000"
                  ],
                  "xaxis": "x",
                  "y": {
                    "bdata": "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",
                    "dtype": "f8"
                  },
                  "yaxis": "y"
                }
              ],
              "layout": {
                "legend": {
                  "title": {
                    "text": "Change Type"
                  },
                  "tracegroupgap": 0
                },
                "template": {
                  "data": {
                    "bar": [
                      {
                        "error_x": {
                          "color": "#2a3f5f"
                        },
                        "error_y": {
                          "color": "#2a3f5f"
                        },
                        "marker": {
                          "line": {
                            "color": "white",
                            "width": 0.5
                          },
                          "pattern": {
                            "fillmode": "overlay",
                            "size": 10,
                            "solidity": 0.2
                          }
                        },
                        "type": "bar"
                      }
                    ],
                    "barpolar": [
                      {
                        "marker": {
                          "line": {
                            "color": "white",
                            "width": 0.5
                          },
                          "pattern": {
                            "fillmode": "overlay",
                            "size": 10,
                            "solidity": 0.2
                          }
                        },
                        "type": "barpolar"
                      }
                    ],
                    "carpet": [
                      {
                        "aaxis": {
                          "endlinecolor": "#2a3f5f",
                          "gridcolor": "#C8D4E3",
                          "linecolor": "#C8D4E3",
                          "minorgridcolor": "#C8D4E3",
                          "startlinecolor": "#2a3f5f"
                        },
                        "baxis": {
                          "endlinecolor": "#2a3f5f",
                          "gridcolor": "#C8D4E3",
                          "linecolor": "#C8D4E3",
                          "minorgridcolor": "#C8D4E3",
                          "startlinecolor": "#2a3f5f"
                        },
                        "type": "carpet"
                      }
                    ],
                    "choropleth": [
                      {
                        "colorbar": {
                          "outlinewidth": 0,
                          "ticks": ""
                        },
                        "type": "choropleth"
                      }
                    ],
                    "contour": [
                      {
                        "colorbar": {
                          "outlinewidth": 0,
                          "ticks": ""
                        },
                        "colorscale": [
                          [
                            0,
                            "#0d0887"
                          ],
                          [
                            0.1111111111111111,
                            "#46039f"
                          ],
                          [
                            0.2222222222222222,
                            "#7201a8"
                          ],
                          [
                            0.3333333333333333,
                            "#9c179e"
                          ],
                          [
                            0.4444444444444444,
                            "#bd3786"
                          ],
                          [
                            0.5555555555555556,
                            "#d8576b"
                          ],
                          [
                            0.6666666666666666,
                            "#ed7953"
                          ],
                          [
                            0.7777777777777778,
                            "#fb9f3a"
                          ],
                          [
                            0.8888888888888888,
                            "#fdca26"
                          ],
                          [
                            1,
                            "#f0f921"
                          ]
                        ],
                        "type": "contour"
                      }
                    ],
                    "contourcarpet": [
                      {
                        "colorbar": {
                          "outlinewidth": 0,
                          "ticks": ""
                        },
                        "type": "contourcarpet"
                      }
                    ],
                    "heatmap": [
                      {
                        "colorbar": {
                          "outlinewidth": 0,
                          "ticks": ""
                        },
                        "colorscale": [
                          [
                            0,
                            "#0d0887"
                          ],
                          [
                            0.1111111111111111,
                            "#46039f"
                          ],
                          [
                            0.2222222222222222,
                            "#7201a8"
                          ],
                          [
                            0.3333333333333333,
                            "#9c179e"
                          ],
                          [
                            0.4444444444444444,
                            "#bd3786"
                          ],
                          [
                            0.5555555555555556,
                            "#d8576b"
                          ],
                          [
                            0.6666666666666666,
                            "#ed7953"
                          ],
                          [
                            0.7777777777777778,
                            "#fb9f3a"
                          ],
                          [
                            0.8888888888888888,
                            "#fdca26"
                          ],
                          [
                            1,
                            "#f0f921"
                          ]
                        ],
                        "type": "heatmap"
                      }
                    ],
                    "histogram": [
                      {
                        "marker": {
                          "pattern": {
                            "fillmode": "overlay",
                            "size": 10,
                            "solidity": 0.2
                          }
                        },
                        "type": "histogram"
                      }
                    ],
                    "histogram2d": [
                      {
                        "colorbar": {
                          "outlinewidth": 0,
                          "ticks": ""
                        },
                        "colorscale": [
                          [
                            0,
                            "#0d0887"
                          ],
                          [
                            0.1111111111111111,
                            "#46039f"
                          ],
                          [
                            0.2222222222222222,
                            "#7201a8"
                          ],
                          [
                            0.3333333333333333,
                            "#9c179e"
                          ],
                          [
                            0.4444444444444444,
                            "#bd3786"
                          ],
                          [
                            0.5555555555555556,
                            "#d8576b"
                          ],
                          [
                            0.6666666666666666,
                            "#ed7953"
                          ],
                          [
                            0.7777777777777778,
                            "#fb9f3a"
                          ],
                          [
                            0.8888888888888888,
                            "#fdca26"
                          ],
                          [
                            1,
                            "#f0f921"
                          ]
                        ],
                        "type": "histogram2d"
                      }
                    ],
                    "histogram2dcontour": [
                      {
                        "colorbar": {
                          "outlinewidth": 0,
                          "ticks": ""
                        },
                        "colorscale": [
                          [
                            0,
                            "#0d0887"
                          ],
                          [
                            0.1111111111111111,
                            "#46039f"
                          ],
                          [
                            0.2222222222222222,
                            "#7201a8"
                          ],
                          [
                            0.3333333333333333,
                            "#9c179e"
                          ],
                          [
                            0.4444444444444444,
                            "#bd3786"
                          ],
                          [
                            0.5555555555555556,
                            "#d8576b"
                          ],
                          [
                            0.6666666666666666,
                            "#ed7953"
                          ],
                          [
                            0.7777777777777778,
                            "#fb9f3a"
                          ],
                          [
                            0.8888888888888888,
                            "#fdca26"
                          ],
                          [
                            1,
                            "#f0f921"
                          ]
                        ],
                        "type": "histogram2dcontour"
                      }
                    ],
                    "mesh3d": [
                      {
                        "colorbar": {
                          "outlinewidth": 0,
                          "ticks": ""
                        },
                        "type": "mesh3d"
                      }
                    ],
                    "parcoords": [
                      {
                        "line": {
                          "colorbar": {
                            "outlinewidth": 0,
                            "ticks": ""
                          }
                        },
                        "type": "parcoords"
                      }
                    ],
                    "pie": [
                      {
                        "automargin": true,
                        "type": "pie"
                      }
                    ],
                    "scatter": [
                      {
                        "fillpattern": {
                          "fillmode": "overlay",
                          "size": 10,
                          "solidity": 0.2
                        },
                        "type": "scatter"
                      }
                    ],
                    "scatter3d": [
                      {
                        "line": {
                          "colorbar": {
                            "outlinewidth": 0,
                            "ticks": ""
                          }
                        },
                        "marker": {
                          "colorbar": {
                            "outlinewidth": 0,
                            "ticks": ""
                          }
                        },
                        "type": "scatter3d"
                      }
                    ],
                    "scattercarpet": [
                      {
                        "marker": {
                          "colorbar": {
                            "outlinewidth": 0,
                            "ticks": ""
                          }
                        },
                        "type": "scattercarpet"
                      }
                    ],
                    "scattergeo": [
                      {
                        "marker": {
                          "colorbar": {
                            "outlinewidth": 0,
                            "ticks": ""
                          }
                        },
                        "type": "scattergeo"
                      }
                    ],
                    "scattergl": [
                      {
                        "marker": {
                          "colorbar": {
                            "outlinewidth": 0,
                            "ticks": ""
                          }
                        },
                        "type": "scattergl"
                      }
                    ],
                    "scattermap": [
                      {
                        "marker": {
                          "colorbar": {
                            "outlinewidth": 0,
                            "ticks": ""
                          }
                        },
                        "type": "scattermap"
                      }
                    ],
                    "scattermapbox": [
                      {
                        "marker": {
                          "colorbar": {
                            "outlinewidth": 0,
                            "ticks": ""
                          }
                        },
                        "type": "scattermapbox"
                      }
                    ],
                    "scatterpolar": [
                      {
                        "marker": {
                          "colorbar": {
                            "outlinewidth": 0,
                            "ticks": ""
                          }
                        },
                        "type": "scatterpolar"
                      }
                    ],
                    "scatterpolargl": [
                      {
                        "marker": {
                          "colorbar": {
                            "outlinewidth": 0,
                            "ticks": ""
                          }
                        },
                        "type": "scatterpolargl"
                      }
                    ],
                    "scatterternary": [
                      {
                        "marker": {
                          "colorbar": {
                            "outlinewidth": 0,
                            "ticks": ""
                          }
                        },
                        "type": "scatterternary"
                      }
                    ],
                    "surface": [
                      {
                        "colorbar": {
                          "outlinewidth": 0,
                          "ticks": ""
                        },
                        "colorscale": [
                          [
                            0,
                            "#0d0887"
                          ],
                          [
                            0.1111111111111111,
                            "#46039f"
                          ],
                          [
                            0.2222222222222222,
                            "#7201a8"
                          ],
                          [
                            0.3333333333333333,
                            "#9c179e"
                          ],
                          [
                            0.4444444444444444,
                            "#bd3786"
                          ],
                          [
                            0.5555555555555556,
                            "#d8576b"
                          ],
                          [
                            0.6666666666666666,
                            "#ed7953"
                          ],
                          [
                            0.7777777777777778,
                            "#fb9f3a"
                          ],
                          [
                            0.8888888888888888,
                            "#fdca26"
                          ],
                          [
                            1,
                            "#f0f921"
                          ]
                        ],
                        "type": "surface"
                      }
                    ],
                    "table": [
                      {
                        "cells": {
                          "fill": {
                            "color": "#EBF0F8"
                          },
                          "line": {
                            "color": "white"
                          }
                        },
                        "header": {
                          "fill": {
                            "color": "#C8D4E3"
                          },
                          "line": {
                            "color": "white"
                          }
                        },
                        "type": "table"
                      }
                    ]
                  },
                  "layout": {
                    "annotationdefaults": {
                      "arrowcolor": "#2a3f5f",
                      "arrowhead": 0,
                      "arrowwidth": 1
                    },
                    "autotypenumbers": "strict",
                    "coloraxis": {
                      "colorbar": {
                        "outlinewidth": 0,
                        "ticks": ""
                      }
                    },
                    "colorscale": {
                      "diverging": [
                        [
                          0,
                          "#8e0152"
                        ],
                        [
                          0.1,
                          "#c51b7d"
                        ],
                        [
                          0.2,
                          "#de77ae"
                        ],
                        [
                          0.3,
                          "#f1b6da"
                        ],
                        [
                          0.4,
                          "#fde0ef"
                        ],
                        [
                          0.5,
                          "#f7f7f7"
                        ],
                        [
                          0.6,
                          "#e6f5d0"
                        ],
                        [
                          0.7,
                          "#b8e186"
                        ],
                        [
                          0.8,
                          "#7fbc41"
                        ],
                        [
                          0.9,
                          "#4d9221"
                        ],
                        [
                          1,
                          "#276419"
                        ]
                      ],
                      "sequential": [
                        [
                          0,
                          "#0d0887"
                        ],
                        [
                          0.1111111111111111,
                          "#46039f"
                        ],
                        [
                          0.2222222222222222,
                          "#7201a8"
                        ],
                        [
                          0.3333333333333333,
                          "#9c179e"
                        ],
                        [
                          0.4444444444444444,
                          "#bd3786"
                        ],
                        [
                          0.5555555555555556,
                          "#d8576b"
                        ],
                        [
                          0.6666666666666666,
                          "#ed7953"
                        ],
                        [
                          0.7777777777777778,
                          "#fb9f3a"
                        ],
                        [
                          0.8888888888888888,
                          "#fdca26"
                        ],
                        [
                          1,
                          "#f0f921"
                        ]
                      ],
                      "sequentialminus": [
                        [
                          0,
                          "#0d0887"
                        ],
                        [
                          0.1111111111111111,
                          "#46039f"
                        ],
                        [
                          0.2222222222222222,
                          "#7201a8"
                        ],
                        [
                          0.3333333333333333,
                          "#9c179e"
                        ],
                        [
                          0.4444444444444444,
                          "#bd3786"
                        ],
                        [
                          0.5555555555555556,
                          "#d8576b"
                        ],
                        [
                          0.6666666666666666,
                          "#ed7953"
                        ],
                        [
                          0.7777777777777778,
                          "#fb9f3a"
                        ],
                        [
                          0.8888888888888888,
                          "#fdca26"
                        ],
                        [
                          1,
                          "#f0f921"
                        ]
                      ]
                    },
                    "colorway": [
                      "#636efa",
                      "#EF553B",
                      "#00cc96",
                      "#ab63fa",
                      "#FFA15A",
                      "#19d3f3",
                      "#FF6692",
                      "#B6E880",
                      "#FF97FF",
                      "#FECB52"
                    ],
                    "font": {
                      "color": "#2a3f5f"
                    },
                    "geo": {
                      "bgcolor": "white",
                      "lakecolor": "white",
                      "landcolor": "white",
                      "showlakes": true,
                      "showland": true,
                      "subunitcolor": "#C8D4E3"
                    },
                    "hoverlabel": {
                      "align": "left"
                    },
                    "hovermode": "closest",
                    "mapbox": {
                      "style": "light"
                    },
                    "paper_bgcolor": "white",
                    "plot_bgcolor": "white",
                    "polar": {
                      "angularaxis": {
                        "gridcolor": "#EBF0F8",
                        "linecolor": "#EBF0F8",
                        "ticks": ""
                      },
                      "bgcolor": "white",
                      "radialaxis": {
                        "gridcolor": "#EBF0F8",
                        "linecolor": "#EBF0F8",
                        "ticks": ""
                      }
                    },
                    "scene": {
                      "xaxis": {
                        "backgroundcolor": "white",
                        "gridcolor": "#DFE8F3",
                        "gridwidth": 2,
                        "linecolor": "#EBF0F8",
                        "showbackground": true,
                        "ticks": "",
                        "zerolinecolor": "#EBF0F8"
                      },
                      "yaxis": {
                        "backgroundcolor": "white",
                        "gridcolor": "#DFE8F3",
                        "gridwidth": 2,
                        "linecolor": "#EBF0F8",
                        "showbackground": true,
                        "ticks": "",
                        "zerolinecolor": "#EBF0F8"
                      },
                      "zaxis": {
                        "backgroundcolor": "white",
                        "gridcolor": "#DFE8F3",
                        "gridwidth": 2,
                        "linecolor": "#EBF0F8",
                        "showbackground": true,
                        "ticks": "",
                        "zerolinecolor": "#EBF0F8"
                      }
                    },
                    "shapedefaults": {
                      "line": {
                        "color": "#2a3f5f"
                      }
                    },
                    "ternary": {
                      "aaxis": {
                        "gridcolor": "#DFE8F3",
                        "linecolor": "#A2B1C6",
                        "ticks": ""
                      },
                      "baxis": {
                        "gridcolor": "#DFE8F3",
                        "linecolor": "#A2B1C6",
                        "ticks": ""
                      },
                      "bgcolor": "white",
                      "caxis": {
                        "gridcolor": "#DFE8F3",
                        "linecolor": "#A2B1C6",
                        "ticks": ""
                      }
                    },
                    "title": {
                      "x": 0.05
                    },
                    "xaxis": {
                      "automargin": true,
                      "gridcolor": "#EBF0F8",
                      "linecolor": "#EBF0F8",
                      "ticks": "",
                      "title": {
                        "standoff": 15
                      },
                      "zerolinecolor": "#EBF0F8",
                      "zerolinewidth": 2
                    },
                    "yaxis": {
                      "automargin": true,
                      "gridcolor": "#EBF0F8",
                      "linecolor": "#EBF0F8",
                      "ticks": "",
                      "title": {
                        "standoff": 15
                      },
                      "zerolinecolor": "#EBF0F8",
                      "zerolinewidth": 2
                    }
                  }
                },
                "title": {
                  "text": "Daily COVID-19 Changes in India"
                },
                "xaxis": {
                  "anchor": "y",
                  "domain": [
                    0,
                    1
                  ],
                  "title": {
                    "text": "Date"
                  }
                },
                "yaxis": {
                  "anchor": "x",
                  "domain": [
                    0,
                    1
                  ],
                  "title": {
                    "text": "Count"
                  }
                }
              }
            }
          },
          "metadata": {},
          "output_type": "display_data"
        }
      ],
      "source": [
        "country = 'India'\n",
        "\n",
        "fig = px.line(df2, x='Date', y=['New_Confirmed', 'New_Recovered', 'New_Deaths'],\n",
        "                         title=f'Daily COVID-19 Changes in {country}',\n",
        "                         labels={'value': 'Count', 'variable': 'Change Type'})\n",
        "fig.show()"
      ]
    },
    {
      "cell_type": "markdown",
      "metadata": {
        "id": "h-a-N7RUp_Cz"
      },
      "source": [
        "Time series Prediction and Forecast for Confirmed cases"
      ]
    },
    {
      "cell_type": "code",
      "execution_count": 39,
      "metadata": {
        "id": "f1Kvx_5vdfBs"
      },
      "outputs": [],
      "source": [
        "prophet_df = df2[['Date', 'Confirmed']].rename(columns={'Date': 'ds', 'Confirmed': 'y'})\n"
      ]
    },
    {
      "cell_type": "code",
      "execution_count": 40,
      "metadata": {
        "id": "eKxyHqnUdfFU"
      },
      "outputs": [],
      "source": [
        "model = Prophet()"
      ]
    },
    {
      "cell_type": "code",
      "execution_count": 41,
      "metadata": {
        "colab": {
          "base_uri": "https://localhost:8080/"
        },
        "id": "5tpuxaHadfJR",
        "outputId": "b05ed217-ede8-4c15-f201-0541b4146461"
      },
      "outputs": [
        {
          "name": "stderr",
          "output_type": "stream",
          "text": [
            "14:37:17 - cmdstanpy - INFO - Chain [1] start processing\n",
            "14:37:18 - cmdstanpy - INFO - Chain [1] done processing\n"
          ]
        },
        {
          "data": {
            "text/plain": [
              "<prophet.forecaster.Prophet at 0x1af409411d0>"
            ]
          },
          "execution_count": 41,
          "metadata": {},
          "output_type": "execute_result"
        }
      ],
      "source": [
        "model.fit(prophet_df)"
      ]
    },
    {
      "cell_type": "markdown",
      "metadata": {
        "id": "AC623KZndHaa"
      },
      "source": [
        "Creating weekly prediction"
      ]
    },
    {
      "cell_type": "code",
      "execution_count": 42,
      "metadata": {
        "id": "E92IZADZdfNr"
      },
      "outputs": [],
      "source": [
        "future = model.make_future_dataframe(periods=7)"
      ]
    },
    {
      "cell_type": "code",
      "execution_count": 43,
      "metadata": {
        "id": "EuE0_z6Ldfq8"
      },
      "outputs": [],
      "source": [
        "forecast = model.predict(future)\n"
      ]
    },
    {
      "cell_type": "code",
      "execution_count": 46,
      "metadata": {
        "colab": {
          "base_uri": "https://localhost:8080/",
          "height": 313
        },
        "id": "oYi0npbIdfvT",
        "outputId": "807e4e32-e12e-4d12-eae1-f0c82bd58795"
      },
      "outputs": [
        {
          "data": {
            "text/html": [
              "<div>\n",
              "<style scoped>\n",
              "    .dataframe tbody tr th:only-of-type {\n",
              "        vertical-align: middle;\n",
              "    }\n",
              "\n",
              "    .dataframe tbody tr th {\n",
              "        vertical-align: top;\n",
              "    }\n",
              "\n",
              "    .dataframe thead th {\n",
              "        text-align: right;\n",
              "    }\n",
              "</style>\n",
              "<table border=\"1\" class=\"dataframe\">\n",
              "  <thead>\n",
              "    <tr style=\"text-align: right;\">\n",
              "      <th></th>\n",
              "      <th>ds</th>\n",
              "      <th>trend</th>\n",
              "      <th>yhat_lower</th>\n",
              "      <th>yhat_upper</th>\n",
              "      <th>trend_lower</th>\n",
              "      <th>trend_upper</th>\n",
              "      <th>additive_terms</th>\n",
              "      <th>additive_terms_lower</th>\n",
              "      <th>additive_terms_upper</th>\n",
              "      <th>weekly</th>\n",
              "      <th>weekly_lower</th>\n",
              "      <th>weekly_upper</th>\n",
              "      <th>multiplicative_terms</th>\n",
              "      <th>multiplicative_terms_lower</th>\n",
              "      <th>multiplicative_terms_upper</th>\n",
              "      <th>yhat</th>\n",
              "    </tr>\n",
              "  </thead>\n",
              "  <tbody>\n",
              "    <tr>\n",
              "      <th>0</th>\n",
              "      <td>2020-01-22</td>\n",
              "      <td>-9356.185581</td>\n",
              "      <td>-131836.436233</td>\n",
              "      <td>84841.013772</td>\n",
              "      <td>-9356.185581</td>\n",
              "      <td>-9356.185581</td>\n",
              "      <td>-10986.210444</td>\n",
              "      <td>-10986.210444</td>\n",
              "      <td>-10986.210444</td>\n",
              "      <td>-10986.210444</td>\n",
              "      <td>-10986.210444</td>\n",
              "      <td>-10986.210444</td>\n",
              "      <td>0.0</td>\n",
              "      <td>0.0</td>\n",
              "      <td>0.0</td>\n",
              "      <td>-20342.396024</td>\n",
              "    </tr>\n",
              "    <tr>\n",
              "      <th>1</th>\n",
              "      <td>2020-01-23</td>\n",
              "      <td>-6667.733757</td>\n",
              "      <td>-108002.678347</td>\n",
              "      <td>102435.577792</td>\n",
              "      <td>-6667.733757</td>\n",
              "      <td>-6667.733757</td>\n",
              "      <td>-1078.891654</td>\n",
              "      <td>-1078.891654</td>\n",
              "      <td>-1078.891654</td>\n",
              "      <td>-1078.891654</td>\n",
              "      <td>-1078.891654</td>\n",
              "      <td>-1078.891654</td>\n",
              "      <td>0.0</td>\n",
              "      <td>0.0</td>\n",
              "      <td>0.0</td>\n",
              "      <td>-7746.625412</td>\n",
              "    </tr>\n",
              "    <tr>\n",
              "      <th>2</th>\n",
              "      <td>2020-01-24</td>\n",
              "      <td>-3979.281934</td>\n",
              "      <td>-105558.367370</td>\n",
              "      <td>107124.704129</td>\n",
              "      <td>-3979.281934</td>\n",
              "      <td>-3979.281934</td>\n",
              "      <td>10103.249373</td>\n",
              "      <td>10103.249373</td>\n",
              "      <td>10103.249373</td>\n",
              "      <td>10103.249373</td>\n",
              "      <td>10103.249373</td>\n",
              "      <td>10103.249373</td>\n",
              "      <td>0.0</td>\n",
              "      <td>0.0</td>\n",
              "      <td>0.0</td>\n",
              "      <td>6123.967440</td>\n",
              "    </tr>\n",
              "    <tr>\n",
              "      <th>3</th>\n",
              "      <td>2020-01-25</td>\n",
              "      <td>-1290.830110</td>\n",
              "      <td>-95429.393540</td>\n",
              "      <td>123541.042296</td>\n",
              "      <td>-1290.830110</td>\n",
              "      <td>-1290.830110</td>\n",
              "      <td>13670.214198</td>\n",
              "      <td>13670.214198</td>\n",
              "      <td>13670.214198</td>\n",
              "      <td>13670.214198</td>\n",
              "      <td>13670.214198</td>\n",
              "      <td>13670.214198</td>\n",
              "      <td>0.0</td>\n",
              "      <td>0.0</td>\n",
              "      <td>0.0</td>\n",
              "      <td>12379.384088</td>\n",
              "    </tr>\n",
              "    <tr>\n",
              "      <th>4</th>\n",
              "      <td>2020-01-26</td>\n",
              "      <td>1397.621714</td>\n",
              "      <td>-101226.362402</td>\n",
              "      <td>120047.967425</td>\n",
              "      <td>1397.621714</td>\n",
              "      <td>1397.621714</td>\n",
              "      <td>7218.144397</td>\n",
              "      <td>7218.144397</td>\n",
              "      <td>7218.144397</td>\n",
              "      <td>7218.144397</td>\n",
              "      <td>7218.144397</td>\n",
              "      <td>7218.144397</td>\n",
              "      <td>0.0</td>\n",
              "      <td>0.0</td>\n",
              "      <td>0.0</td>\n",
              "      <td>8615.766111</td>\n",
              "    </tr>\n",
              "  </tbody>\n",
              "</table>\n",
              "</div>"
            ],
            "text/plain": [
              "          ds        trend     yhat_lower     yhat_upper  trend_lower  \\\n",
              "0 2020-01-22 -9356.185581 -131836.436233   84841.013772 -9356.185581   \n",
              "1 2020-01-23 -6667.733757 -108002.678347  102435.577792 -6667.733757   \n",
              "2 2020-01-24 -3979.281934 -105558.367370  107124.704129 -3979.281934   \n",
              "3 2020-01-25 -1290.830110  -95429.393540  123541.042296 -1290.830110   \n",
              "4 2020-01-26  1397.621714 -101226.362402  120047.967425  1397.621714   \n",
              "\n",
              "   trend_upper  additive_terms  additive_terms_lower  additive_terms_upper  \\\n",
              "0 -9356.185581   -10986.210444         -10986.210444         -10986.210444   \n",
              "1 -6667.733757    -1078.891654          -1078.891654          -1078.891654   \n",
              "2 -3979.281934    10103.249373          10103.249373          10103.249373   \n",
              "3 -1290.830110    13670.214198          13670.214198          13670.214198   \n",
              "4  1397.621714     7218.144397           7218.144397           7218.144397   \n",
              "\n",
              "         weekly  weekly_lower  weekly_upper  multiplicative_terms  \\\n",
              "0 -10986.210444 -10986.210444 -10986.210444                   0.0   \n",
              "1  -1078.891654  -1078.891654  -1078.891654                   0.0   \n",
              "2  10103.249373  10103.249373  10103.249373                   0.0   \n",
              "3  13670.214198  13670.214198  13670.214198                   0.0   \n",
              "4   7218.144397   7218.144397   7218.144397                   0.0   \n",
              "\n",
              "   multiplicative_terms_lower  multiplicative_terms_upper          yhat  \n",
              "0                         0.0                         0.0 -20342.396024  \n",
              "1                         0.0                         0.0  -7746.625412  \n",
              "2                         0.0                         0.0   6123.967440  \n",
              "3                         0.0                         0.0  12379.384088  \n",
              "4                         0.0                         0.0   8615.766111  "
            ]
          },
          "execution_count": 46,
          "metadata": {},
          "output_type": "execute_result"
        }
      ],
      "source": [
        "forecast[:5]"
      ]
    },
    {
      "cell_type": "code",
      "execution_count": 47,
      "metadata": {
        "colab": {
          "base_uri": "https://localhost:8080/",
          "height": 617
        },
        "id": "J80XoU1rdfzt",
        "outputId": "9c222389-a941-47cd-8d81-7c4af0f20537"
      },
      "outputs": [
        {
          "data": {
            "application/vnd.plotly.v1+json": {
              "config": {
                "plotlyServerURL": "https://plot.ly"
              },
              "data": [
                {
                  "marker": {
                    "color": "black",
                    "size": 4
                  },
                  "mode": "markers",
                  "name": "Actual",
                  "type": "scatter",
                  "x": [
                    "2020-01-22T00:00:00.000000000",
                    "2020-01-23T00:00:00.000000000",
                    "2020-01-24T00:00:00.000000000",
                    "2020-01-25T00:00:00.000000000",
                    "2020-01-26T00:00:00.000000000",
                    "2020-01-27T00:00:00.000000000",
                    "2020-01-28T00:00:00.000000000",
                    "2020-01-29T00:00:00.000000000",
                    "2020-01-30T00:00:00.000000000",
                    "2020-01-31T00:00:00.000000000",
                    "2020-02-01T00:00:00.000000000",
                    "2020-02-02T00:00:00.000000000",
                    "2020-02-03T00:00:00.000000000",
                    "2020-02-04T00:00:00.000000000",
                    "2020-02-05T00:00:00.000000000",
                    "2020-02-06T00:00:00.000000000",
                    "2020-02-07T00:00:00.000000000",
                    "2020-02-08T00:00:00.000000000",
                    "2020-02-09T00:00:00.000000000",
                    "2020-02-10T00:00:00.000000000",
                    "2020-02-11T00:00:00.000000000",
                    "2020-02-12T00:00:00.000000000",
                    "2020-02-13T00:00:00.000000000",
                    "2020-02-14T00:00:00.000000000",
                    "2020-02-15T00:00:00.000000000",
                    "2020-02-16T00:00:00.000000000",
                    "2020-02-17T00:00:00.000000000",
                    "2020-02-18T00:00:00.000000000",
                    "2020-02-19T00:00:00.000000000",
                    "2020-02-20T00:00:00.000000000",
                    "2020-02-21T00:00:00.000000000",
                    "2020-02-22T00:00:00.000000000",
                    "2020-02-23T00:00:00.000000000",
                    "2020-02-24T00:00:00.000000000",
                    "2020-02-25T00:00:00.000000000",
                    "2020-02-26T00:00:00.000000000",
                    "2020-02-27T00:00:00.000000000",
                    "2020-02-28T00:00:00.000000000",
                    "2020-02-29T00:00:00.000000000",
                    "2020-03-01T00:00:00.000000000",
                    "2020-03-02T00:00:00.000000000",
                    "2020-03-03T00:00:00.000000000",
                    "2020-03-04T00:00:00.000000000",
                    "2020-03-05T00:00:00.000000000",
                    "2020-03-06T00:00:00.000000000",
                    "2020-03-07T00:00:00.000000000",
                    "2020-03-08T00:00:00.000000000",
                    "2020-03-09T00:00:00.000000000",
                    "2020-03-10T00:00:00.000000000",
                    "2020-03-11T00:00:00.000000000",
                    "2020-03-12T00:00:00.000000000",
                    "2020-03-13T00:00:00.000000000",
                    "2020-03-14T00:00:00.000000000",
                    "2020-03-15T00:00:00.000000000",
                    "2020-03-16T00:00:00.000000000",
                    "2020-03-17T00:00:00.000000000",
                    "2020-03-18T00:00:00.000000000",
                    "2020-03-19T00:00:00.000000000",
                    "2020-03-20T00:00:00.000000000",
                    "2020-03-21T00:00:00.000000000",
                    "2020-03-22T00:00:00.000000000",
                    "2020-03-23T00:00:00.000000000",
                    "2020-03-24T00:00:00.000000000",
                    "2020-03-25T00:00:00.000000000",
                    "2020-03-26T00:00:00.000000000",
                    "2020-03-27T00:00:00.000000000",
                    "2020-03-28T00:00:00.000000000",
                    "2020-03-29T00:00:00.000000000",
                    "2020-03-30T00:00:00.000000000",
                    "2020-03-31T00:00:00.000000000",
                    "2020-04-01T00:00:00.000000000",
                    "2020-04-02T00:00:00.000000000",
                    "2020-04-03T00:00:00.000000000",
                    "2020-04-04T00:00:00.000000000",
                    "2020-04-05T00:00:00.000000000",
                    "2020-04-06T00:00:00.000000000",
                    "2020-04-07T00:00:00.000000000",
                    "2020-04-08T00:00:00.000000000",
                    "2020-04-09T00:00:00.000000000",
                    "2020-04-10T00:00:00.000000000",
                    "2020-04-11T00:00:00.000000000",
                    "2020-04-12T00:00:00.000000000",
                    "2020-04-13T00:00:00.000000000",
                    "2020-04-14T00:00:00.000000000",
                    "2020-04-15T00:00:00.000000000",
                    "2020-04-16T00:00:00.000000000",
                    "2020-04-17T00:00:00.000000000",
                    "2020-04-18T00:00:00.000000000",
                    "2020-04-19T00:00:00.000000000",
                    "2020-04-20T00:00:00.000000000",
                    "2020-04-21T00:00:00.000000000",
                    "2020-04-22T00:00:00.000000000",
                    "2020-04-23T00:00:00.000000000",
                    "2020-04-24T00:00:00.000000000",
                    "2020-04-25T00:00:00.000000000",
                    "2020-04-26T00:00:00.000000000",
                    "2020-04-27T00:00:00.000000000",
                    "2020-04-28T00:00:00.000000000",
                    "2020-04-29T00:00:00.000000000",
                    "2020-04-30T00:00:00.000000000",
                    "2020-05-01T00:00:00.000000000",
                    "2020-05-02T00:00:00.000000000",
                    "2020-05-03T00:00:00.000000000",
                    "2020-05-04T00:00:00.000000000",
                    "2020-05-05T00:00:00.000000000",
                    "2020-05-06T00:00:00.000000000",
                    "2020-05-07T00:00:00.000000000",
                    "2020-05-08T00:00:00.000000000",
                    "2020-05-09T00:00:00.000000000",
                    "2020-05-10T00:00:00.000000000",
                    "2020-05-11T00:00:00.000000000",
                    "2020-05-12T00:00:00.000000000",
                    "2020-05-13T00:00:00.000000000",
                    "2020-05-14T00:00:00.000000000",
                    "2020-05-15T00:00:00.000000000",
                    "2020-05-16T00:00:00.000000000",
                    "2020-05-17T00:00:00.000000000",
                    "2020-05-18T00:00:00.000000000",
                    "2020-05-19T00:00:00.000000000",
                    "2020-05-20T00:00:00.000000000",
                    "2020-05-21T00:00:00.000000000",
                    "2020-05-22T00:00:00.000000000",
                    "2020-05-23T00:00:00.000000000",
                    "2020-05-24T00:00:00.000000000",
                    "2020-05-25T00:00:00.000000000",
                    "2020-05-26T00:00:00.000000000",
                    "2020-05-27T00:00:00.000000000",
                    "2020-05-28T00:00:00.000000000",
                    "2020-05-29T00:00:00.000000000",
                    "2020-05-30T00:00:00.000000000",
                    "2020-05-31T00:00:00.000000000",
                    "2020-06-01T00:00:00.000000000",
                    "2020-06-02T00:00:00.000000000",
                    "2020-06-03T00:00:00.000000000",
                    "2020-06-04T00:00:00.000000000",
                    "2020-06-05T00:00:00.000000000",
                    "2020-06-06T00:00:00.000000000",
                    "2020-06-07T00:00:00.000000000",
                    "2020-06-08T00:00:00.000000000",
                    "2020-06-09T00:00:00.000000000",
                    "2020-06-10T00:00:00.000000000",
                    "2020-06-11T00:00:00.000000000",
                    "2020-06-12T00:00:00.000000000",
                    "2020-06-13T00:00:00.000000000",
                    "2020-06-14T00:00:00.000000000",
                    "2020-06-15T00:00:00.000000000",
                    "2020-06-16T00:00:00.000000000",
                    "2020-06-17T00:00:00.000000000",
                    "2020-06-18T00:00:00.000000000",
                    "2020-06-19T00:00:00.000000000",
                    "2020-06-20T00:00:00.000000000",
                    "2020-06-21T00:00:00.000000000",
                    "2020-06-22T00:00:00.000000000",
                    "2020-06-23T00:00:00.000000000",
                    "2020-06-24T00:00:00.000000000",
                    "2020-06-25T00:00:00.000000000",
                    "2020-06-26T00:00:00.000000000",
                    "2020-06-27T00:00:00.000000000",
                    "2020-06-28T00:00:00.000000000",
                    "2020-06-29T00:00:00.000000000",
                    "2020-06-30T00:00:00.000000000",
                    "2020-07-01T00:00:00.000000000",
                    "2020-07-02T00:00:00.000000000",
                    "2020-07-03T00:00:00.000000000",
                    "2020-07-04T00:00:00.000000000",
                    "2020-07-05T00:00:00.000000000",
                    "2020-07-06T00:00:00.000000000",
                    "2020-07-07T00:00:00.000000000",
                    "2020-07-08T00:00:00.000000000",
                    "2020-07-09T00:00:00.000000000",
                    "2020-07-10T00:00:00.000000000",
                    "2020-07-11T00:00:00.000000000",
                    "2020-07-12T00:00:00.000000000",
                    "2020-07-13T00:00:00.000000000",
                    "2020-07-14T00:00:00.000000000",
                    "2020-07-15T00:00:00.000000000",
                    "2020-07-16T00:00:00.000000000",
                    "2020-07-17T00:00:00.000000000",
                    "2020-07-18T00:00:00.000000000",
                    "2020-07-19T00:00:00.000000000",
                    "2020-07-20T00:00:00.000000000",
                    "2020-07-21T00:00:00.000000000",
                    "2020-07-22T00:00:00.000000000",
                    "2020-07-23T00:00:00.000000000",
                    "2020-07-24T00:00:00.000000000",
                    "2020-07-25T00:00:00.000000000",
                    "2020-07-26T00:00:00.000000000",
                    "2020-07-27T00:00:00.000000000"
                  ],
                  "y": {
                    "bdata": "KwIAAI4CAACtAwAAmgUAAEYIAABvCwAAyhUAABYYAAAqIAAAxyYAAAYvAACTQQAAr00AAFpdAAD7awAAUngAAB6GAADMkAAAn5wAAImmAACDrgAA4bUAAC7rAACCBAEAnQwBAN8UAQBvHAEAcSMBABYlAQA5JwEArikBAI8wAQDSMQEABjQBAFs3AQAeOwEAckABANNFAQA6TQEAilYBAEBeAQBRaAEATHEBADN8AQCaiwEAYJsBANKqAQAOugEArs0BAJ3rAQATAgIAWDoCALplAgBEkQIAh8oCAGUIAwDnVAMA9cEDAJ01BADPswQAUTYFAAbbBQC5ewYAOkIHACo4CAC6MwkAAzwKALwkCwA7IQwAu0sNAHF1DgBosw8AO/gQAIoyEgCwShMAkGYUANmSFQAY2hYAeSwYAOOCGQCIrxoAlSkcAG85HQCWSh4AU4YfABsAIQDHViIArHcjADeyJACy0CUApPYmAKoiKABffikA+9EqAL8dLACyOi0AEkcuADVtLwArmjAADOExABI1MwAodDQAbKM1AJnMNgAOBTgAtGQ5ALLAOgAvJjwAhXU9AFufPgAsyT8Auw9BAMtaQgAc1kMAeU5FAC3DRgDa9UcAtk5JAF7HSgDSWUwAMPlNAMSaTwANNlEAa6pSAB7+UwCIZ1UAUPhWAGLKWACxo1oAGr5cADpiXgAV1l8AAK5hAFyAYwA1cGUAZG9nAGqCaQDtOGsAPshsAPStbgB9uXAA/9RyAEXNdACP4HYAvOl4ABK9egBt5XwAig9/ACIygQBo9IMA2FuGAPNRiAB1bIoAT/KMAP6OjwDdRZIATzGVAA3plwBrYJoA18ucACFznwB6xaIA0/ClALkLqQDY/6sAf8muAC5XsQDKjrQAJMq3AKdFuwAo0r4AMB/CAMwPxQDXAMgA42HLALDozgAtw9IAo3TWAOYU2gBdW90AF4PgAAYT5ABNW+gA0avsAB328ABW3PQAlPv3AOV4+wA=",
                    "dtype": "i4"
                  }
                },
                {
                  "hoverinfo": "skip",
                  "line": {
                    "width": 0
                  },
                  "mode": "lines",
                  "type": "scatter",
                  "x": [
                    "2020-01-22T00:00:00.000000000",
                    "2020-01-23T00:00:00.000000000",
                    "2020-01-24T00:00:00.000000000",
                    "2020-01-25T00:00:00.000000000",
                    "2020-01-26T00:00:00.000000000",
                    "2020-01-27T00:00:00.000000000",
                    "2020-01-28T00:00:00.000000000",
                    "2020-01-29T00:00:00.000000000",
                    "2020-01-30T00:00:00.000000000",
                    "2020-01-31T00:00:00.000000000",
                    "2020-02-01T00:00:00.000000000",
                    "2020-02-02T00:00:00.000000000",
                    "2020-02-03T00:00:00.000000000",
                    "2020-02-04T00:00:00.000000000",
                    "2020-02-05T00:00:00.000000000",
                    "2020-02-06T00:00:00.000000000",
                    "2020-02-07T00:00:00.000000000",
                    "2020-02-08T00:00:00.000000000",
                    "2020-02-09T00:00:00.000000000",
                    "2020-02-10T00:00:00.000000000",
                    "2020-02-11T00:00:00.000000000",
                    "2020-02-12T00:00:00.000000000",
                    "2020-02-13T00:00:00.000000000",
                    "2020-02-14T00:00:00.000000000",
                    "2020-02-15T00:00:00.000000000",
                    "2020-02-16T00:00:00.000000000",
                    "2020-02-17T00:00:00.000000000",
                    "2020-02-18T00:00:00.000000000",
                    "2020-02-19T00:00:00.000000000",
                    "2020-02-20T00:00:00.000000000",
                    "2020-02-21T00:00:00.000000000",
                    "2020-02-22T00:00:00.000000000",
                    "2020-02-23T00:00:00.000000000",
                    "2020-02-24T00:00:00.000000000",
                    "2020-02-25T00:00:00.000000000",
                    "2020-02-26T00:00:00.000000000",
                    "2020-02-27T00:00:00.000000000",
                    "2020-02-28T00:00:00.000000000",
                    "2020-02-29T00:00:00.000000000",
                    "2020-03-01T00:00:00.000000000",
                    "2020-03-02T00:00:00.000000000",
                    "2020-03-03T00:00:00.000000000",
                    "2020-03-04T00:00:00.000000000",
                    "2020-03-05T00:00:00.000000000",
                    "2020-03-06T00:00:00.000000000",
                    "2020-03-07T00:00:00.000000000",
                    "2020-03-08T00:00:00.000000000",
                    "2020-03-09T00:00:00.000000000",
                    "2020-03-10T00:00:00.000000000",
                    "2020-03-11T00:00:00.000000000",
                    "2020-03-12T00:00:00.000000000",
                    "2020-03-13T00:00:00.000000000",
                    "2020-03-14T00:00:00.000000000",
                    "2020-03-15T00:00:00.000000000",
                    "2020-03-16T00:00:00.000000000",
                    "2020-03-17T00:00:00.000000000",
                    "2020-03-18T00:00:00.000000000",
                    "2020-03-19T00:00:00.000000000",
                    "2020-03-20T00:00:00.000000000",
                    "2020-03-21T00:00:00.000000000",
                    "2020-03-22T00:00:00.000000000",
                    "2020-03-23T00:00:00.000000000",
                    "2020-03-24T00:00:00.000000000",
                    "2020-03-25T00:00:00.000000000",
                    "2020-03-26T00:00:00.000000000",
                    "2020-03-27T00:00:00.000000000",
                    "2020-03-28T00:00:00.000000000",
                    "2020-03-29T00:00:00.000000000",
                    "2020-03-30T00:00:00.000000000",
                    "2020-03-31T00:00:00.000000000",
                    "2020-04-01T00:00:00.000000000",
                    "2020-04-02T00:00:00.000000000",
                    "2020-04-03T00:00:00.000000000",
                    "2020-04-04T00:00:00.000000000",
                    "2020-04-05T00:00:00.000000000",
                    "2020-04-06T00:00:00.000000000",
                    "2020-04-07T00:00:00.000000000",
                    "2020-04-08T00:00:00.000000000",
                    "2020-04-09T00:00:00.000000000",
                    "2020-04-10T00:00:00.000000000",
                    "2020-04-11T00:00:00.000000000",
                    "2020-04-12T00:00:00.000000000",
                    "2020-04-13T00:00:00.000000000",
                    "2020-04-14T00:00:00.000000000",
                    "2020-04-15T00:00:00.000000000",
                    "2020-04-16T00:00:00.000000000",
                    "2020-04-17T00:00:00.000000000",
                    "2020-04-18T00:00:00.000000000",
                    "2020-04-19T00:00:00.000000000",
                    "2020-04-20T00:00:00.000000000",
                    "2020-04-21T00:00:00.000000000",
                    "2020-04-22T00:00:00.000000000",
                    "2020-04-23T00:00:00.000000000",
                    "2020-04-24T00:00:00.000000000",
                    "2020-04-25T00:00:00.000000000",
                    "2020-04-26T00:00:00.000000000",
                    "2020-04-27T00:00:00.000000000",
                    "2020-04-28T00:00:00.000000000",
                    "2020-04-29T00:00:00.000000000",
                    "2020-04-30T00:00:00.000000000",
                    "2020-05-01T00:00:00.000000000",
                    "2020-05-02T00:00:00.000000000",
                    "2020-05-03T00:00:00.000000000",
                    "2020-05-04T00:00:00.000000000",
                    "2020-05-05T00:00:00.000000000",
                    "2020-05-06T00:00:00.000000000",
                    "2020-05-07T00:00:00.000000000",
                    "2020-05-08T00:00:00.000000000",
                    "2020-05-09T00:00:00.000000000",
                    "2020-05-10T00:00:00.000000000",
                    "2020-05-11T00:00:00.000000000",
                    "2020-05-12T00:00:00.000000000",
                    "2020-05-13T00:00:00.000000000",
                    "2020-05-14T00:00:00.000000000",
                    "2020-05-15T00:00:00.000000000",
                    "2020-05-16T00:00:00.000000000",
                    "2020-05-17T00:00:00.000000000",
                    "2020-05-18T00:00:00.000000000",
                    "2020-05-19T00:00:00.000000000",
                    "2020-05-20T00:00:00.000000000",
                    "2020-05-21T00:00:00.000000000",
                    "2020-05-22T00:00:00.000000000",
                    "2020-05-23T00:00:00.000000000",
                    "2020-05-24T00:00:00.000000000",
                    "2020-05-25T00:00:00.000000000",
                    "2020-05-26T00:00:00.000000000",
                    "2020-05-27T00:00:00.000000000",
                    "2020-05-28T00:00:00.000000000",
                    "2020-05-29T00:00:00.000000000",
                    "2020-05-30T00:00:00.000000000",
                    "2020-05-31T00:00:00.000000000",
                    "2020-06-01T00:00:00.000000000",
                    "2020-06-02T00:00:00.000000000",
                    "2020-06-03T00:00:00.000000000",
                    "2020-06-04T00:00:00.000000000",
                    "2020-06-05T00:00:00.000000000",
                    "2020-06-06T00:00:00.000000000",
                    "2020-06-07T00:00:00.000000000",
                    "2020-06-08T00:00:00.000000000",
                    "2020-06-09T00:00:00.000000000",
                    "2020-06-10T00:00:00.000000000",
                    "2020-06-11T00:00:00.000000000",
                    "2020-06-12T00:00:00.000000000",
                    "2020-06-13T00:00:00.000000000",
                    "2020-06-14T00:00:00.000000000",
                    "2020-06-15T00:00:00.000000000",
                    "2020-06-16T00:00:00.000000000",
                    "2020-06-17T00:00:00.000000000",
                    "2020-06-18T00:00:00.000000000",
                    "2020-06-19T00:00:00.000000000",
                    "2020-06-20T00:00:00.000000000",
                    "2020-06-21T00:00:00.000000000",
                    "2020-06-22T00:00:00.000000000",
                    "2020-06-23T00:00:00.000000000",
                    "2020-06-24T00:00:00.000000000",
                    "2020-06-25T00:00:00.000000000",
                    "2020-06-26T00:00:00.000000000",
                    "2020-06-27T00:00:00.000000000",
                    "2020-06-28T00:00:00.000000000",
                    "2020-06-29T00:00:00.000000000",
                    "2020-06-30T00:00:00.000000000",
                    "2020-07-01T00:00:00.000000000",
                    "2020-07-02T00:00:00.000000000",
                    "2020-07-03T00:00:00.000000000",
                    "2020-07-04T00:00:00.000000000",
                    "2020-07-05T00:00:00.000000000",
                    "2020-07-06T00:00:00.000000000",
                    "2020-07-07T00:00:00.000000000",
                    "2020-07-08T00:00:00.000000000",
                    "2020-07-09T00:00:00.000000000",
                    "2020-07-10T00:00:00.000000000",
                    "2020-07-11T00:00:00.000000000",
                    "2020-07-12T00:00:00.000000000",
                    "2020-07-13T00:00:00.000000000",
                    "2020-07-14T00:00:00.000000000",
                    "2020-07-15T00:00:00.000000000",
                    "2020-07-16T00:00:00.000000000",
                    "2020-07-17T00:00:00.000000000",
                    "2020-07-18T00:00:00.000000000",
                    "2020-07-19T00:00:00.000000000",
                    "2020-07-20T00:00:00.000000000",
                    "2020-07-21T00:00:00.000000000",
                    "2020-07-22T00:00:00.000000000",
                    "2020-07-23T00:00:00.000000000",
                    "2020-07-24T00:00:00.000000000",
                    "2020-07-25T00:00:00.000000000",
                    "2020-07-26T00:00:00.000000000",
                    "2020-07-27T00:00:00.000000000",
                    "2020-07-28T00:00:00.000000000",
                    "2020-07-29T00:00:00.000000000",
                    "2020-07-30T00:00:00.000000000",
                    "2020-07-31T00:00:00.000000000",
                    "2020-08-01T00:00:00.000000000",
                    "2020-08-02T00:00:00.000000000",
                    "2020-08-03T00:00:00.000000000"
                  ],
                  "y": {
                    "bdata": "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",
                    "dtype": "f8"
                  }
                },
                {
                  "fill": "tonexty",
                  "fillcolor": "rgba(0, 114, 178, 0.2)",
                  "line": {
                    "color": "#0072B2",
                    "width": 2
                  },
                  "mode": "lines",
                  "name": "Predicted",
                  "type": "scatter",
                  "x": [
                    "2020-01-22T00:00:00.000000000",
                    "2020-01-23T00:00:00.000000000",
                    "2020-01-24T00:00:00.000000000",
                    "2020-01-25T00:00:00.000000000",
                    "2020-01-26T00:00:00.000000000",
                    "2020-01-27T00:00:00.000000000",
                    "2020-01-28T00:00:00.000000000",
                    "2020-01-29T00:00:00.000000000",
                    "2020-01-30T00:00:00.000000000",
                    "2020-01-31T00:00:00.000000000",
                    "2020-02-01T00:00:00.000000000",
                    "2020-02-02T00:00:00.000000000",
                    "2020-02-03T00:00:00.000000000",
                    "2020-02-04T00:00:00.000000000",
                    "2020-02-05T00:00:00.000000000",
                    "2020-02-06T00:00:00.000000000",
                    "2020-02-07T00:00:00.000000000",
                    "2020-02-08T00:00:00.000000000",
                    "2020-02-09T00:00:00.000000000",
                    "2020-02-10T00:00:00.000000000",
                    "2020-02-11T00:00:00.000000000",
                    "2020-02-12T00:00:00.000000000",
                    "2020-02-13T00:00:00.000000000",
                    "2020-02-14T00:00:00.000000000",
                    "2020-02-15T00:00:00.000000000",
                    "2020-02-16T00:00:00.000000000",
                    "2020-02-17T00:00:00.000000000",
                    "2020-02-18T00:00:00.000000000",
                    "2020-02-19T00:00:00.000000000",
                    "2020-02-20T00:00:00.000000000",
                    "2020-02-21T00:00:00.000000000",
                    "2020-02-22T00:00:00.000000000",
                    "2020-02-23T00:00:00.000000000",
                    "2020-02-24T00:00:00.000000000",
                    "2020-02-25T00:00:00.000000000",
                    "2020-02-26T00:00:00.000000000",
                    "2020-02-27T00:00:00.000000000",
                    "2020-02-28T00:00:00.000000000",
                    "2020-02-29T00:00:00.000000000",
                    "2020-03-01T00:00:00.000000000",
                    "2020-03-02T00:00:00.000000000",
                    "2020-03-03T00:00:00.000000000",
                    "2020-03-04T00:00:00.000000000",
                    "2020-03-05T00:00:00.000000000",
                    "2020-03-06T00:00:00.000000000",
                    "2020-03-07T00:00:00.000000000",
                    "2020-03-08T00:00:00.000000000",
                    "2020-03-09T00:00:00.000000000",
                    "2020-03-10T00:00:00.000000000",
                    "2020-03-11T00:00:00.000000000",
                    "2020-03-12T00:00:00.000000000",
                    "2020-03-13T00:00:00.000000000",
                    "2020-03-14T00:00:00.000000000",
                    "2020-03-15T00:00:00.000000000",
                    "2020-03-16T00:00:00.000000000",
                    "2020-03-17T00:00:00.000000000",
                    "2020-03-18T00:00:00.000000000",
                    "2020-03-19T00:00:00.000000000",
                    "2020-03-20T00:00:00.000000000",
                    "2020-03-21T00:00:00.000000000",
                    "2020-03-22T00:00:00.000000000",
                    "2020-03-23T00:00:00.000000000",
                    "2020-03-24T00:00:00.000000000",
                    "2020-03-25T00:00:00.000000000",
                    "2020-03-26T00:00:00.000000000",
                    "2020-03-27T00:00:00.000000000",
                    "2020-03-28T00:00:00.000000000",
                    "2020-03-29T00:00:00.000000000",
                    "2020-03-30T00:00:00.000000000",
                    "2020-03-31T00:00:00.000000000",
                    "2020-04-01T00:00:00.000000000",
                    "2020-04-02T00:00:00.000000000",
                    "2020-04-03T00:00:00.000000000",
                    "2020-04-04T00:00:00.000000000",
                    "2020-04-05T00:00:00.000000000",
                    "2020-04-06T00:00:00.000000000",
                    "2020-04-07T00:00:00.000000000",
                    "2020-04-08T00:00:00.000000000",
                    "2020-04-09T00:00:00.000000000",
                    "2020-04-10T00:00:00.000000000",
                    "2020-04-11T00:00:00.000000000",
                    "2020-04-12T00:00:00.000000000",
                    "2020-04-13T00:00:00.000000000",
                    "2020-04-14T00:00:00.000000000",
                    "2020-04-15T00:00:00.000000000",
                    "2020-04-16T00:00:00.000000000",
                    "2020-04-17T00:00:00.000000000",
                    "2020-04-18T00:00:00.000000000",
                    "2020-04-19T00:00:00.000000000",
                    "2020-04-20T00:00:00.000000000",
                    "2020-04-21T00:00:00.000000000",
                    "2020-04-22T00:00:00.000000000",
                    "2020-04-23T00:00:00.000000000",
                    "2020-04-24T00:00:00.000000000",
                    "2020-04-25T00:00:00.000000000",
                    "2020-04-26T00:00:00.000000000",
                    "2020-04-27T00:00:00.000000000",
                    "2020-04-28T00:00:00.000000000",
                    "2020-04-29T00:00:00.000000000",
                    "2020-04-30T00:00:00.000000000",
                    "2020-05-01T00:00:00.000000000",
                    "2020-05-02T00:00:00.000000000",
                    "2020-05-03T00:00:00.000000000",
                    "2020-05-04T00:00:00.000000000",
                    "2020-05-05T00:00:00.000000000",
                    "2020-05-06T00:00:00.000000000",
                    "2020-05-07T00:00:00.000000000",
                    "2020-05-08T00:00:00.000000000",
                    "2020-05-09T00:00:00.000000000",
                    "2020-05-10T00:00:00.000000000",
                    "2020-05-11T00:00:00.000000000",
                    "2020-05-12T00:00:00.000000000",
                    "2020-05-13T00:00:00.000000000",
                    "2020-05-14T00:00:00.000000000",
                    "2020-05-15T00:00:00.000000000",
                    "2020-05-16T00:00:00.000000000",
                    "2020-05-17T00:00:00.000000000",
                    "2020-05-18T00:00:00.000000000",
                    "2020-05-19T00:00:00.000000000",
                    "2020-05-20T00:00:00.000000000",
                    "2020-05-21T00:00:00.000000000",
                    "2020-05-22T00:00:00.000000000",
                    "2020-05-23T00:00:00.000000000",
                    "2020-05-24T00:00:00.000000000",
                    "2020-05-25T00:00:00.000000000",
                    "2020-05-26T00:00:00.000000000",
                    "2020-05-27T00:00:00.000000000",
                    "2020-05-28T00:00:00.000000000",
                    "2020-05-29T00:00:00.000000000",
                    "2020-05-30T00:00:00.000000000",
                    "2020-05-31T00:00:00.000000000",
                    "2020-06-01T00:00:00.000000000",
                    "2020-06-02T00:00:00.000000000",
                    "2020-06-03T00:00:00.000000000",
                    "2020-06-04T00:00:00.000000000",
                    "2020-06-05T00:00:00.000000000",
                    "2020-06-06T00:00:00.000000000",
                    "2020-06-07T00:00:00.000000000",
                    "2020-06-08T00:00:00.000000000",
                    "2020-06-09T00:00:00.000000000",
                    "2020-06-10T00:00:00.000000000",
                    "2020-06-11T00:00:00.000000000",
                    "2020-06-12T00:00:00.000000000",
                    "2020-06-13T00:00:00.000000000",
                    "2020-06-14T00:00:00.000000000",
                    "2020-06-15T00:00:00.000000000",
                    "2020-06-16T00:00:00.000000000",
                    "2020-06-17T00:00:00.000000000",
                    "2020-06-18T00:00:00.000000000",
                    "2020-06-19T00:00:00.000000000",
                    "2020-06-20T00:00:00.000000000",
                    "2020-06-21T00:00:00.000000000",
                    "2020-06-22T00:00:00.000000000",
                    "2020-06-23T00:00:00.000000000",
                    "2020-06-24T00:00:00.000000000",
                    "2020-06-25T00:00:00.000000000",
                    "2020-06-26T00:00:00.000000000",
                    "2020-06-27T00:00:00.000000000",
                    "2020-06-28T00:00:00.000000000",
                    "2020-06-29T00:00:00.000000000",
                    "2020-06-30T00:00:00.000000000",
                    "2020-07-01T00:00:00.000000000",
                    "2020-07-02T00:00:00.000000000",
                    "2020-07-03T00:00:00.000000000",
                    "2020-07-04T00:00:00.000000000",
                    "2020-07-05T00:00:00.000000000",
                    "2020-07-06T00:00:00.000000000",
                    "2020-07-07T00:00:00.000000000",
                    "2020-07-08T00:00:00.000000000",
                    "2020-07-09T00:00:00.000000000",
                    "2020-07-10T00:00:00.000000000",
                    "2020-07-11T00:00:00.000000000",
                    "2020-07-12T00:00:00.000000000",
                    "2020-07-13T00:00:00.000000000",
                    "2020-07-14T00:00:00.000000000",
                    "2020-07-15T00:00:00.000000000",
                    "2020-07-16T00:00:00.000000000",
                    "2020-07-17T00:00:00.000000000",
                    "2020-07-18T00:00:00.000000000",
                    "2020-07-19T00:00:00.000000000",
                    "2020-07-20T00:00:00.000000000",
                    "2020-07-21T00:00:00.000000000",
                    "2020-07-22T00:00:00.000000000",
                    "2020-07-23T00:00:00.000000000",
                    "2020-07-24T00:00:00.000000000",
                    "2020-07-25T00:00:00.000000000",
                    "2020-07-26T00:00:00.000000000",
                    "2020-07-27T00:00:00.000000000",
                    "2020-07-28T00:00:00.000000000",
                    "2020-07-29T00:00:00.000000000",
                    "2020-07-30T00:00:00.000000000",
                    "2020-07-31T00:00:00.000000000",
                    "2020-08-01T00:00:00.000000000",
                    "2020-08-02T00:00:00.000000000",
                    "2020-08-03T00:00:00.000000000"
                  ],
                  "y": {
                    "bdata": "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",
                    "dtype": "f8"
                  }
                },
                {
                  "fill": "tonexty",
                  "fillcolor": "rgba(0, 114, 178, 0.2)",
                  "hoverinfo": "skip",
                  "line": {
                    "width": 0
                  },
                  "mode": "lines",
                  "type": "scatter",
                  "x": [
                    "2020-01-22T00:00:00.000000000",
                    "2020-01-23T00:00:00.000000000",
                    "2020-01-24T00:00:00.000000000",
                    "2020-01-25T00:00:00.000000000",
                    "2020-01-26T00:00:00.000000000",
                    "2020-01-27T00:00:00.000000000",
                    "2020-01-28T00:00:00.000000000",
                    "2020-01-29T00:00:00.000000000",
                    "2020-01-30T00:00:00.000000000",
                    "2020-01-31T00:00:00.000000000",
                    "2020-02-01T00:00:00.000000000",
                    "2020-02-02T00:00:00.000000000",
                    "2020-02-03T00:00:00.000000000",
                    "2020-02-04T00:00:00.000000000",
                    "2020-02-05T00:00:00.000000000",
                    "2020-02-06T00:00:00.000000000",
                    "2020-02-07T00:00:00.000000000",
                    "2020-02-08T00:00:00.000000000",
                    "2020-02-09T00:00:00.000000000",
                    "2020-02-10T00:00:00.000000000",
                    "2020-02-11T00:00:00.000000000",
                    "2020-02-12T00:00:00.000000000",
                    "2020-02-13T00:00:00.000000000",
                    "2020-02-14T00:00:00.000000000",
                    "2020-02-15T00:00:00.000000000",
                    "2020-02-16T00:00:00.000000000",
                    "2020-02-17T00:00:00.000000000",
                    "2020-02-18T00:00:00.000000000",
                    "2020-02-19T00:00:00.000000000",
                    "2020-02-20T00:00:00.000000000",
                    "2020-02-21T00:00:00.000000000",
                    "2020-02-22T00:00:00.000000000",
                    "2020-02-23T00:00:00.000000000",
                    "2020-02-24T00:00:00.000000000",
                    "2020-02-25T00:00:00.000000000",
                    "2020-02-26T00:00:00.000000000",
                    "2020-02-27T00:00:00.000000000",
                    "2020-02-28T00:00:00.000000000",
                    "2020-02-29T00:00:00.000000000",
                    "2020-03-01T00:00:00.000000000",
                    "2020-03-02T00:00:00.000000000",
                    "2020-03-03T00:00:00.000000000",
                    "2020-03-04T00:00:00.000000000",
                    "2020-03-05T00:00:00.000000000",
                    "2020-03-06T00:00:00.000000000",
                    "2020-03-07T00:00:00.000000000",
                    "2020-03-08T00:00:00.000000000",
                    "2020-03-09T00:00:00.000000000",
                    "2020-03-10T00:00:00.000000000",
                    "2020-03-11T00:00:00.000000000",
                    "2020-03-12T00:00:00.000000000",
                    "2020-03-13T00:00:00.000000000",
                    "2020-03-14T00:00:00.000000000",
                    "2020-03-15T00:00:00.000000000",
                    "2020-03-16T00:00:00.000000000",
                    "2020-03-17T00:00:00.000000000",
                    "2020-03-18T00:00:00.000000000",
                    "2020-03-19T00:00:00.000000000",
                    "2020-03-20T00:00:00.000000000",
                    "2020-03-21T00:00:00.000000000",
                    "2020-03-22T00:00:00.000000000",
                    "2020-03-23T00:00:00.000000000",
                    "2020-03-24T00:00:00.000000000",
                    "2020-03-25T00:00:00.000000000",
                    "2020-03-26T00:00:00.000000000",
                    "2020-03-27T00:00:00.000000000",
                    "2020-03-28T00:00:00.000000000",
                    "2020-03-29T00:00:00.000000000",
                    "2020-03-30T00:00:00.000000000",
                    "2020-03-31T00:00:00.000000000",
                    "2020-04-01T00:00:00.000000000",
                    "2020-04-02T00:00:00.000000000",
                    "2020-04-03T00:00:00.000000000",
                    "2020-04-04T00:00:00.000000000",
                    "2020-04-05T00:00:00.000000000",
                    "2020-04-06T00:00:00.000000000",
                    "2020-04-07T00:00:00.000000000",
                    "2020-04-08T00:00:00.000000000",
                    "2020-04-09T00:00:00.000000000",
                    "2020-04-10T00:00:00.000000000",
                    "2020-04-11T00:00:00.000000000",
                    "2020-04-12T00:00:00.000000000",
                    "2020-04-13T00:00:00.000000000",
                    "2020-04-14T00:00:00.000000000",
                    "2020-04-15T00:00:00.000000000",
                    "2020-04-16T00:00:00.000000000",
                    "2020-04-17T00:00:00.000000000",
                    "2020-04-18T00:00:00.000000000",
                    "2020-04-19T00:00:00.000000000",
                    "2020-04-20T00:00:00.000000000",
                    "2020-04-21T00:00:00.000000000",
                    "2020-04-22T00:00:00.000000000",
                    "2020-04-23T00:00:00.000000000",
                    "2020-04-24T00:00:00.000000000",
                    "2020-04-25T00:00:00.000000000",
                    "2020-04-26T00:00:00.000000000",
                    "2020-04-27T00:00:00.000000000",
                    "2020-04-28T00:00:00.000000000",
                    "2020-04-29T00:00:00.000000000",
                    "2020-04-30T00:00:00.000000000",
                    "2020-05-01T00:00:00.000000000",
                    "2020-05-02T00:00:00.000000000",
                    "2020-05-03T00:00:00.000000000",
                    "2020-05-04T00:00:00.000000000",
                    "2020-05-05T00:00:00.000000000",
                    "2020-05-06T00:00:00.000000000",
                    "2020-05-07T00:00:00.000000000",
                    "2020-05-08T00:00:00.000000000",
                    "2020-05-09T00:00:00.000000000",
                    "2020-05-10T00:00:00.000000000",
                    "2020-05-11T00:00:00.000000000",
                    "2020-05-12T00:00:00.000000000",
                    "2020-05-13T00:00:00.000000000",
                    "2020-05-14T00:00:00.000000000",
                    "2020-05-15T00:00:00.000000000",
                    "2020-05-16T00:00:00.000000000",
                    "2020-05-17T00:00:00.000000000",
                    "2020-05-18T00:00:00.000000000",
                    "2020-05-19T00:00:00.000000000",
                    "2020-05-20T00:00:00.000000000",
                    "2020-05-21T00:00:00.000000000",
                    "2020-05-22T00:00:00.000000000",
                    "2020-05-23T00:00:00.000000000",
                    "2020-05-24T00:00:00.000000000",
                    "2020-05-25T00:00:00.000000000",
                    "2020-05-26T00:00:00.000000000",
                    "2020-05-27T00:00:00.000000000",
                    "2020-05-28T00:00:00.000000000",
                    "2020-05-29T00:00:00.000000000",
                    "2020-05-30T00:00:00.000000000",
                    "2020-05-31T00:00:00.000000000",
                    "2020-06-01T00:00:00.000000000",
                    "2020-06-02T00:00:00.000000000",
                    "2020-06-03T00:00:00.000000000",
                    "2020-06-04T00:00:00.000000000",
                    "2020-06-05T00:00:00.000000000",
                    "2020-06-06T00:00:00.000000000",
                    "2020-06-07T00:00:00.000000000",
                    "2020-06-08T00:00:00.000000000",
                    "2020-06-09T00:00:00.000000000",
                    "2020-06-10T00:00:00.000000000",
                    "2020-06-11T00:00:00.000000000",
                    "2020-06-12T00:00:00.000000000",
                    "2020-06-13T00:00:00.000000000",
                    "2020-06-14T00:00:00.000000000",
                    "2020-06-15T00:00:00.000000000",
                    "2020-06-16T00:00:00.000000000",
                    "2020-06-17T00:00:00.000000000",
                    "2020-06-18T00:00:00.000000000",
                    "2020-06-19T00:00:00.000000000",
                    "2020-06-20T00:00:00.000000000",
                    "2020-06-21T00:00:00.000000000",
                    "2020-06-22T00:00:00.000000000",
                    "2020-06-23T00:00:00.000000000",
                    "2020-06-24T00:00:00.000000000",
                    "2020-06-25T00:00:00.000000000",
                    "2020-06-26T00:00:00.000000000",
                    "2020-06-27T00:00:00.000000000",
                    "2020-06-28T00:00:00.000000000",
                    "2020-06-29T00:00:00.000000000",
                    "2020-06-30T00:00:00.000000000",
                    "2020-07-01T00:00:00.000000000",
                    "2020-07-02T00:00:00.000000000",
                    "2020-07-03T00:00:00.000000000",
                    "2020-07-04T00:00:00.000000000",
                    "2020-07-05T00:00:00.000000000",
                    "2020-07-06T00:00:00.000000000",
                    "2020-07-07T00:00:00.000000000",
                    "2020-07-08T00:00:00.000000000",
                    "2020-07-09T00:00:00.000000000",
                    "2020-07-10T00:00:00.000000000",
                    "2020-07-11T00:00:00.000000000",
                    "2020-07-12T00:00:00.000000000",
                    "2020-07-13T00:00:00.000000000",
                    "2020-07-14T00:00:00.000000000",
                    "2020-07-15T00:00:00.000000000",
                    "2020-07-16T00:00:00.000000000",
                    "2020-07-17T00:00:00.000000000",
                    "2020-07-18T00:00:00.000000000",
                    "2020-07-19T00:00:00.000000000",
                    "2020-07-20T00:00:00.000000000",
                    "2020-07-21T00:00:00.000000000",
                    "2020-07-22T00:00:00.000000000",
                    "2020-07-23T00:00:00.000000000",
                    "2020-07-24T00:00:00.000000000",
                    "2020-07-25T00:00:00.000000000",
                    "2020-07-26T00:00:00.000000000",
                    "2020-07-27T00:00:00.000000000",
                    "2020-07-28T00:00:00.000000000",
                    "2020-07-29T00:00:00.000000000",
                    "2020-07-30T00:00:00.000000000",
                    "2020-07-31T00:00:00.000000000",
                    "2020-08-01T00:00:00.000000000",
                    "2020-08-02T00:00:00.000000000",
                    "2020-08-03T00:00:00.000000000"
                  ],
                  "y": {
                    "bdata": "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",
                    "dtype": "f8"
                  }
                }
              ],
              "layout": {
                "height": 600,
                "showlegend": false,
                "template": {
                  "data": {
                    "bar": [
                      {
                        "error_x": {
                          "color": "#2a3f5f"
                        },
                        "error_y": {
                          "color": "#2a3f5f"
                        },
                        "marker": {
                          "line": {
                            "color": "white",
                            "width": 0.5
                          },
                          "pattern": {
                            "fillmode": "overlay",
                            "size": 10,
                            "solidity": 0.2
                          }
                        },
                        "type": "bar"
                      }
                    ],
                    "barpolar": [
                      {
                        "marker": {
                          "line": {
                            "color": "white",
                            "width": 0.5
                          },
                          "pattern": {
                            "fillmode": "overlay",
                            "size": 10,
                            "solidity": 0.2
                          }
                        },
                        "type": "barpolar"
                      }
                    ],
                    "carpet": [
                      {
                        "aaxis": {
                          "endlinecolor": "#2a3f5f",
                          "gridcolor": "#C8D4E3",
                          "linecolor": "#C8D4E3",
                          "minorgridcolor": "#C8D4E3",
                          "startlinecolor": "#2a3f5f"
                        },
                        "baxis": {
                          "endlinecolor": "#2a3f5f",
                          "gridcolor": "#C8D4E3",
                          "linecolor": "#C8D4E3",
                          "minorgridcolor": "#C8D4E3",
                          "startlinecolor": "#2a3f5f"
                        },
                        "type": "carpet"
                      }
                    ],
                    "choropleth": [
                      {
                        "colorbar": {
                          "outlinewidth": 0,
                          "ticks": ""
                        },
                        "type": "choropleth"
                      }
                    ],
                    "contour": [
                      {
                        "colorbar": {
                          "outlinewidth": 0,
                          "ticks": ""
                        },
                        "colorscale": [
                          [
                            0,
                            "#0d0887"
                          ],
                          [
                            0.1111111111111111,
                            "#46039f"
                          ],
                          [
                            0.2222222222222222,
                            "#7201a8"
                          ],
                          [
                            0.3333333333333333,
                            "#9c179e"
                          ],
                          [
                            0.4444444444444444,
                            "#bd3786"
                          ],
                          [
                            0.5555555555555556,
                            "#d8576b"
                          ],
                          [
                            0.6666666666666666,
                            "#ed7953"
                          ],
                          [
                            0.7777777777777778,
                            "#fb9f3a"
                          ],
                          [
                            0.8888888888888888,
                            "#fdca26"
                          ],
                          [
                            1,
                            "#f0f921"
                          ]
                        ],
                        "type": "contour"
                      }
                    ],
                    "contourcarpet": [
                      {
                        "colorbar": {
                          "outlinewidth": 0,
                          "ticks": ""
                        },
                        "type": "contourcarpet"
                      }
                    ],
                    "heatmap": [
                      {
                        "colorbar": {
                          "outlinewidth": 0,
                          "ticks": ""
                        },
                        "colorscale": [
                          [
                            0,
                            "#0d0887"
                          ],
                          [
                            0.1111111111111111,
                            "#46039f"
                          ],
                          [
                            0.2222222222222222,
                            "#7201a8"
                          ],
                          [
                            0.3333333333333333,
                            "#9c179e"
                          ],
                          [
                            0.4444444444444444,
                            "#bd3786"
                          ],
                          [
                            0.5555555555555556,
                            "#d8576b"
                          ],
                          [
                            0.6666666666666666,
                            "#ed7953"
                          ],
                          [
                            0.7777777777777778,
                            "#fb9f3a"
                          ],
                          [
                            0.8888888888888888,
                            "#fdca26"
                          ],
                          [
                            1,
                            "#f0f921"
                          ]
                        ],
                        "type": "heatmap"
                      }
                    ],
                    "histogram": [
                      {
                        "marker": {
                          "pattern": {
                            "fillmode": "overlay",
                            "size": 10,
                            "solidity": 0.2
                          }
                        },
                        "type": "histogram"
                      }
                    ],
                    "histogram2d": [
                      {
                        "colorbar": {
                          "outlinewidth": 0,
                          "ticks": ""
                        },
                        "colorscale": [
                          [
                            0,
                            "#0d0887"
                          ],
                          [
                            0.1111111111111111,
                            "#46039f"
                          ],
                          [
                            0.2222222222222222,
                            "#7201a8"
                          ],
                          [
                            0.3333333333333333,
                            "#9c179e"
                          ],
                          [
                            0.4444444444444444,
                            "#bd3786"
                          ],
                          [
                            0.5555555555555556,
                            "#d8576b"
                          ],
                          [
                            0.6666666666666666,
                            "#ed7953"
                          ],
                          [
                            0.7777777777777778,
                            "#fb9f3a"
                          ],
                          [
                            0.8888888888888888,
                            "#fdca26"
                          ],
                          [
                            1,
                            "#f0f921"
                          ]
                        ],
                        "type": "histogram2d"
                      }
                    ],
                    "histogram2dcontour": [
                      {
                        "colorbar": {
                          "outlinewidth": 0,
                          "ticks": ""
                        },
                        "colorscale": [
                          [
                            0,
                            "#0d0887"
                          ],
                          [
                            0.1111111111111111,
                            "#46039f"
                          ],
                          [
                            0.2222222222222222,
                            "#7201a8"
                          ],
                          [
                            0.3333333333333333,
                            "#9c179e"
                          ],
                          [
                            0.4444444444444444,
                            "#bd3786"
                          ],
                          [
                            0.5555555555555556,
                            "#d8576b"
                          ],
                          [
                            0.6666666666666666,
                            "#ed7953"
                          ],
                          [
                            0.7777777777777778,
                            "#fb9f3a"
                          ],
                          [
                            0.8888888888888888,
                            "#fdca26"
                          ],
                          [
                            1,
                            "#f0f921"
                          ]
                        ],
                        "type": "histogram2dcontour"
                      }
                    ],
                    "mesh3d": [
                      {
                        "colorbar": {
                          "outlinewidth": 0,
                          "ticks": ""
                        },
                        "type": "mesh3d"
                      }
                    ],
                    "parcoords": [
                      {
                        "line": {
                          "colorbar": {
                            "outlinewidth": 0,
                            "ticks": ""
                          }
                        },
                        "type": "parcoords"
                      }
                    ],
                    "pie": [
                      {
                        "automargin": true,
                        "type": "pie"
                      }
                    ],
                    "scatter": [
                      {
                        "fillpattern": {
                          "fillmode": "overlay",
                          "size": 10,
                          "solidity": 0.2
                        },
                        "type": "scatter"
                      }
                    ],
                    "scatter3d": [
                      {
                        "line": {
                          "colorbar": {
                            "outlinewidth": 0,
                            "ticks": ""
                          }
                        },
                        "marker": {
                          "colorbar": {
                            "outlinewidth": 0,
                            "ticks": ""
                          }
                        },
                        "type": "scatter3d"
                      }
                    ],
                    "scattercarpet": [
                      {
                        "marker": {
                          "colorbar": {
                            "outlinewidth": 0,
                            "ticks": ""
                          }
                        },
                        "type": "scattercarpet"
                      }
                    ],
                    "scattergeo": [
                      {
                        "marker": {
                          "colorbar": {
                            "outlinewidth": 0,
                            "ticks": ""
                          }
                        },
                        "type": "scattergeo"
                      }
                    ],
                    "scattergl": [
                      {
                        "marker": {
                          "colorbar": {
                            "outlinewidth": 0,
                            "ticks": ""
                          }
                        },
                        "type": "scattergl"
                      }
                    ],
                    "scattermap": [
                      {
                        "marker": {
                          "colorbar": {
                            "outlinewidth": 0,
                            "ticks": ""
                          }
                        },
                        "type": "scattermap"
                      }
                    ],
                    "scattermapbox": [
                      {
                        "marker": {
                          "colorbar": {
                            "outlinewidth": 0,
                            "ticks": ""
                          }
                        },
                        "type": "scattermapbox"
                      }
                    ],
                    "scatterpolar": [
                      {
                        "marker": {
                          "colorbar": {
                            "outlinewidth": 0,
                            "ticks": ""
                          }
                        },
                        "type": "scatterpolar"
                      }
                    ],
                    "scatterpolargl": [
                      {
                        "marker": {
                          "colorbar": {
                            "outlinewidth": 0,
                            "ticks": ""
                          }
                        },
                        "type": "scatterpolargl"
                      }
                    ],
                    "scatterternary": [
                      {
                        "marker": {
                          "colorbar": {
                            "outlinewidth": 0,
                            "ticks": ""
                          }
                        },
                        "type": "scatterternary"
                      }
                    ],
                    "surface": [
                      {
                        "colorbar": {
                          "outlinewidth": 0,
                          "ticks": ""
                        },
                        "colorscale": [
                          [
                            0,
                            "#0d0887"
                          ],
                          [
                            0.1111111111111111,
                            "#46039f"
                          ],
                          [
                            0.2222222222222222,
                            "#7201a8"
                          ],
                          [
                            0.3333333333333333,
                            "#9c179e"
                          ],
                          [
                            0.4444444444444444,
                            "#bd3786"
                          ],
                          [
                            0.5555555555555556,
                            "#d8576b"
                          ],
                          [
                            0.6666666666666666,
                            "#ed7953"
                          ],
                          [
                            0.7777777777777778,
                            "#fb9f3a"
                          ],
                          [
                            0.8888888888888888,
                            "#fdca26"
                          ],
                          [
                            1,
                            "#f0f921"
                          ]
                        ],
                        "type": "surface"
                      }
                    ],
                    "table": [
                      {
                        "cells": {
                          "fill": {
                            "color": "#EBF0F8"
                          },
                          "line": {
                            "color": "white"
                          }
                        },
                        "header": {
                          "fill": {
                            "color": "#C8D4E3"
                          },
                          "line": {
                            "color": "white"
                          }
                        },
                        "type": "table"
                      }
                    ]
                  },
                  "layout": {
                    "annotationdefaults": {
                      "arrowcolor": "#2a3f5f",
                      "arrowhead": 0,
                      "arrowwidth": 1
                    },
                    "autotypenumbers": "strict",
                    "coloraxis": {
                      "colorbar": {
                        "outlinewidth": 0,
                        "ticks": ""
                      }
                    },
                    "colorscale": {
                      "diverging": [
                        [
                          0,
                          "#8e0152"
                        ],
                        [
                          0.1,
                          "#c51b7d"
                        ],
                        [
                          0.2,
                          "#de77ae"
                        ],
                        [
                          0.3,
                          "#f1b6da"
                        ],
                        [
                          0.4,
                          "#fde0ef"
                        ],
                        [
                          0.5,
                          "#f7f7f7"
                        ],
                        [
                          0.6,
                          "#e6f5d0"
                        ],
                        [
                          0.7,
                          "#b8e186"
                        ],
                        [
                          0.8,
                          "#7fbc41"
                        ],
                        [
                          0.9,
                          "#4d9221"
                        ],
                        [
                          1,
                          "#276419"
                        ]
                      ],
                      "sequential": [
                        [
                          0,
                          "#0d0887"
                        ],
                        [
                          0.1111111111111111,
                          "#46039f"
                        ],
                        [
                          0.2222222222222222,
                          "#7201a8"
                        ],
                        [
                          0.3333333333333333,
                          "#9c179e"
                        ],
                        [
                          0.4444444444444444,
                          "#bd3786"
                        ],
                        [
                          0.5555555555555556,
                          "#d8576b"
                        ],
                        [
                          0.6666666666666666,
                          "#ed7953"
                        ],
                        [
                          0.7777777777777778,
                          "#fb9f3a"
                        ],
                        [
                          0.8888888888888888,
                          "#fdca26"
                        ],
                        [
                          1,
                          "#f0f921"
                        ]
                      ],
                      "sequentialminus": [
                        [
                          0,
                          "#0d0887"
                        ],
                        [
                          0.1111111111111111,
                          "#46039f"
                        ],
                        [
                          0.2222222222222222,
                          "#7201a8"
                        ],
                        [
                          0.3333333333333333,
                          "#9c179e"
                        ],
                        [
                          0.4444444444444444,
                          "#bd3786"
                        ],
                        [
                          0.5555555555555556,
                          "#d8576b"
                        ],
                        [
                          0.6666666666666666,
                          "#ed7953"
                        ],
                        [
                          0.7777777777777778,
                          "#fb9f3a"
                        ],
                        [
                          0.8888888888888888,
                          "#fdca26"
                        ],
                        [
                          1,
                          "#f0f921"
                        ]
                      ]
                    },
                    "colorway": [
                      "#636efa",
                      "#EF553B",
                      "#00cc96",
                      "#ab63fa",
                      "#FFA15A",
                      "#19d3f3",
                      "#FF6692",
                      "#B6E880",
                      "#FF97FF",
                      "#FECB52"
                    ],
                    "font": {
                      "color": "#2a3f5f"
                    },
                    "geo": {
                      "bgcolor": "white",
                      "lakecolor": "white",
                      "landcolor": "white",
                      "showlakes": true,
                      "showland": true,
                      "subunitcolor": "#C8D4E3"
                    },
                    "hoverlabel": {
                      "align": "left"
                    },
                    "hovermode": "closest",
                    "mapbox": {
                      "style": "light"
                    },
                    "paper_bgcolor": "white",
                    "plot_bgcolor": "white",
                    "polar": {
                      "angularaxis": {
                        "gridcolor": "#EBF0F8",
                        "linecolor": "#EBF0F8",
                        "ticks": ""
                      },
                      "bgcolor": "white",
                      "radialaxis": {
                        "gridcolor": "#EBF0F8",
                        "linecolor": "#EBF0F8",
                        "ticks": ""
                      }
                    },
                    "scene": {
                      "xaxis": {
                        "backgroundcolor": "white",
                        "gridcolor": "#DFE8F3",
                        "gridwidth": 2,
                        "linecolor": "#EBF0F8",
                        "showbackground": true,
                        "ticks": "",
                        "zerolinecolor": "#EBF0F8"
                      },
                      "yaxis": {
                        "backgroundcolor": "white",
                        "gridcolor": "#DFE8F3",
                        "gridwidth": 2,
                        "linecolor": "#EBF0F8",
                        "showbackground": true,
                        "ticks": "",
                        "zerolinecolor": "#EBF0F8"
                      },
                      "zaxis": {
                        "backgroundcolor": "white",
                        "gridcolor": "#DFE8F3",
                        "gridwidth": 2,
                        "linecolor": "#EBF0F8",
                        "showbackground": true,
                        "ticks": "",
                        "zerolinecolor": "#EBF0F8"
                      }
                    },
                    "shapedefaults": {
                      "line": {
                        "color": "#2a3f5f"
                      }
                    },
                    "ternary": {
                      "aaxis": {
                        "gridcolor": "#DFE8F3",
                        "linecolor": "#A2B1C6",
                        "ticks": ""
                      },
                      "baxis": {
                        "gridcolor": "#DFE8F3",
                        "linecolor": "#A2B1C6",
                        "ticks": ""
                      },
                      "bgcolor": "white",
                      "caxis": {
                        "gridcolor": "#DFE8F3",
                        "linecolor": "#A2B1C6",
                        "ticks": ""
                      }
                    },
                    "title": {
                      "x": 0.05
                    },
                    "xaxis": {
                      "automargin": true,
                      "gridcolor": "#EBF0F8",
                      "linecolor": "#EBF0F8",
                      "ticks": "",
                      "title": {
                        "standoff": 15
                      },
                      "zerolinecolor": "#EBF0F8",
                      "zerolinewidth": 2
                    },
                    "yaxis": {
                      "automargin": true,
                      "gridcolor": "#EBF0F8",
                      "linecolor": "#EBF0F8",
                      "ticks": "",
                      "title": {
                        "standoff": 15
                      },
                      "zerolinecolor": "#EBF0F8",
                      "zerolinewidth": 2
                    }
                  }
                },
                "title": {
                  "text": "COVID-19 Confirmed Cases Forecast for India"
                },
                "width": 900,
                "xaxis": {
                  "rangeselector": {
                    "buttons": [
                      {
                        "count": 7,
                        "label": "1w",
                        "step": "day",
                        "stepmode": "backward"
                      },
                      {
                        "count": 1,
                        "label": "1m",
                        "step": "month",
                        "stepmode": "backward"
                      },
                      {
                        "count": 6,
                        "label": "6m",
                        "step": "month",
                        "stepmode": "backward"
                      },
                      {
                        "count": 1,
                        "label": "1y",
                        "step": "year",
                        "stepmode": "backward"
                      },
                      {
                        "step": "all"
                      }
                    ]
                  },
                  "rangeslider": {
                    "visible": true
                  },
                  "title": {
                    "text": "ds"
                  },
                  "type": "date"
                },
                "yaxis": {
                  "title": {
                    "text": "y"
                  }
                }
              }
            }
          },
          "metadata": {},
          "output_type": "display_data"
        }
      ],
      "source": [
        "fig_forecast = plot_plotly(model, forecast)\n",
        "fig_forecast.update_layout(title_text=f'COVID-19 Confirmed Cases Forecast for {country}')\n",
        "fig_forecast.show()"
      ]
    },
    {
      "cell_type": "markdown",
      "metadata": {
        "id": "KnhfxVnxesOe"
      },
      "source": [
        "Upgraded Plot"
      ]
    },
    {
      "cell_type": "code",
      "execution_count": 48,
      "metadata": {
        "colab": {
          "base_uri": "https://localhost:8080/",
          "height": 637
        },
        "id": "tAPS94rfK6wH",
        "outputId": "e8d11370-ceed-4a32-e65e-e79f8494b9a8"
      },
      "outputs": [
        {
          "data": {
            "application/vnd.plotly.v1+json": {
              "config": {
                "plotlyServerURL": "https://plot.ly"
              },
              "data": [
                {
                  "marker": {
                    "color": "black",
                    "size": 4
                  },
                  "mode": "markers",
                  "name": "Actual",
                  "type": "scatter",
                  "x": [
                    "2020-01-22T00:00:00.000000000",
                    "2020-01-23T00:00:00.000000000",
                    "2020-01-24T00:00:00.000000000",
                    "2020-01-25T00:00:00.000000000",
                    "2020-01-26T00:00:00.000000000",
                    "2020-01-27T00:00:00.000000000",
                    "2020-01-28T00:00:00.000000000",
                    "2020-01-29T00:00:00.000000000",
                    "2020-01-30T00:00:00.000000000",
                    "2020-01-31T00:00:00.000000000",
                    "2020-02-01T00:00:00.000000000",
                    "2020-02-02T00:00:00.000000000",
                    "2020-02-03T00:00:00.000000000",
                    "2020-02-04T00:00:00.000000000",
                    "2020-02-05T00:00:00.000000000",
                    "2020-02-06T00:00:00.000000000",
                    "2020-02-07T00:00:00.000000000",
                    "2020-02-08T00:00:00.000000000",
                    "2020-02-09T00:00:00.000000000",
                    "2020-02-10T00:00:00.000000000",
                    "2020-02-11T00:00:00.000000000",
                    "2020-02-12T00:00:00.000000000",
                    "2020-02-13T00:00:00.000000000",
                    "2020-02-14T00:00:00.000000000",
                    "2020-02-15T00:00:00.000000000",
                    "2020-02-16T00:00:00.000000000",
                    "2020-02-17T00:00:00.000000000",
                    "2020-02-18T00:00:00.000000000",
                    "2020-02-19T00:00:00.000000000",
                    "2020-02-20T00:00:00.000000000",
                    "2020-02-21T00:00:00.000000000",
                    "2020-02-22T00:00:00.000000000",
                    "2020-02-23T00:00:00.000000000",
                    "2020-02-24T00:00:00.000000000",
                    "2020-02-25T00:00:00.000000000",
                    "2020-02-26T00:00:00.000000000",
                    "2020-02-27T00:00:00.000000000",
                    "2020-02-28T00:00:00.000000000",
                    "2020-02-29T00:00:00.000000000",
                    "2020-03-01T00:00:00.000000000",
                    "2020-03-02T00:00:00.000000000",
                    "2020-03-03T00:00:00.000000000",
                    "2020-03-04T00:00:00.000000000",
                    "2020-03-05T00:00:00.000000000",
                    "2020-03-06T00:00:00.000000000",
                    "2020-03-07T00:00:00.000000000",
                    "2020-03-08T00:00:00.000000000",
                    "2020-03-09T00:00:00.000000000",
                    "2020-03-10T00:00:00.000000000",
                    "2020-03-11T00:00:00.000000000",
                    "2020-03-12T00:00:00.000000000",
                    "2020-03-13T00:00:00.000000000",
                    "2020-03-14T00:00:00.000000000",
                    "2020-03-15T00:00:00.000000000",
                    "2020-03-16T00:00:00.000000000",
                    "2020-03-17T00:00:00.000000000",
                    "2020-03-18T00:00:00.000000000",
                    "2020-03-19T00:00:00.000000000",
                    "2020-03-20T00:00:00.000000000",
                    "2020-03-21T00:00:00.000000000",
                    "2020-03-22T00:00:00.000000000",
                    "2020-03-23T00:00:00.000000000",
                    "2020-03-24T00:00:00.000000000",
                    "2020-03-25T00:00:00.000000000",
                    "2020-03-26T00:00:00.000000000",
                    "2020-03-27T00:00:00.000000000",
                    "2020-03-28T00:00:00.000000000",
                    "2020-03-29T00:00:00.000000000",
                    "2020-03-30T00:00:00.000000000",
                    "2020-03-31T00:00:00.000000000",
                    "2020-04-01T00:00:00.000000000",
                    "2020-04-02T00:00:00.000000000",
                    "2020-04-03T00:00:00.000000000",
                    "2020-04-04T00:00:00.000000000",
                    "2020-04-05T00:00:00.000000000",
                    "2020-04-06T00:00:00.000000000",
                    "2020-04-07T00:00:00.000000000",
                    "2020-04-08T00:00:00.000000000",
                    "2020-04-09T00:00:00.000000000",
                    "2020-04-10T00:00:00.000000000",
                    "2020-04-11T00:00:00.000000000",
                    "2020-04-12T00:00:00.000000000",
                    "2020-04-13T00:00:00.000000000",
                    "2020-04-14T00:00:00.000000000",
                    "2020-04-15T00:00:00.000000000",
                    "2020-04-16T00:00:00.000000000",
                    "2020-04-17T00:00:00.000000000",
                    "2020-04-18T00:00:00.000000000",
                    "2020-04-19T00:00:00.000000000",
                    "2020-04-20T00:00:00.000000000",
                    "2020-04-21T00:00:00.000000000",
                    "2020-04-22T00:00:00.000000000",
                    "2020-04-23T00:00:00.000000000",
                    "2020-04-24T00:00:00.000000000",
                    "2020-04-25T00:00:00.000000000",
                    "2020-04-26T00:00:00.000000000",
                    "2020-04-27T00:00:00.000000000",
                    "2020-04-28T00:00:00.000000000",
                    "2020-04-29T00:00:00.000000000",
                    "2020-04-30T00:00:00.000000000",
                    "2020-05-01T00:00:00.000000000",
                    "2020-05-02T00:00:00.000000000",
                    "2020-05-03T00:00:00.000000000",
                    "2020-05-04T00:00:00.000000000",
                    "2020-05-05T00:00:00.000000000",
                    "2020-05-06T00:00:00.000000000",
                    "2020-05-07T00:00:00.000000000",
                    "2020-05-08T00:00:00.000000000",
                    "2020-05-09T00:00:00.000000000",
                    "2020-05-10T00:00:00.000000000",
                    "2020-05-11T00:00:00.000000000",
                    "2020-05-12T00:00:00.000000000",
                    "2020-05-13T00:00:00.000000000",
                    "2020-05-14T00:00:00.000000000",
                    "2020-05-15T00:00:00.000000000",
                    "2020-05-16T00:00:00.000000000",
                    "2020-05-17T00:00:00.000000000",
                    "2020-05-18T00:00:00.000000000",
                    "2020-05-19T00:00:00.000000000",
                    "2020-05-20T00:00:00.000000000",
                    "2020-05-21T00:00:00.000000000",
                    "2020-05-22T00:00:00.000000000",
                    "2020-05-23T00:00:00.000000000",
                    "2020-05-24T00:00:00.000000000",
                    "2020-05-25T00:00:00.000000000",
                    "2020-05-26T00:00:00.000000000",
                    "2020-05-27T00:00:00.000000000",
                    "2020-05-28T00:00:00.000000000",
                    "2020-05-29T00:00:00.000000000",
                    "2020-05-30T00:00:00.000000000",
                    "2020-05-31T00:00:00.000000000",
                    "2020-06-01T00:00:00.000000000",
                    "2020-06-02T00:00:00.000000000",
                    "2020-06-03T00:00:00.000000000",
                    "2020-06-04T00:00:00.000000000",
                    "2020-06-05T00:00:00.000000000",
                    "2020-06-06T00:00:00.000000000",
                    "2020-06-07T00:00:00.000000000",
                    "2020-06-08T00:00:00.000000000",
                    "2020-06-09T00:00:00.000000000",
                    "2020-06-10T00:00:00.000000000",
                    "2020-06-11T00:00:00.000000000",
                    "2020-06-12T00:00:00.000000000",
                    "2020-06-13T00:00:00.000000000",
                    "2020-06-14T00:00:00.000000000",
                    "2020-06-15T00:00:00.000000000",
                    "2020-06-16T00:00:00.000000000",
                    "2020-06-17T00:00:00.000000000",
                    "2020-06-18T00:00:00.000000000",
                    "2020-06-19T00:00:00.000000000",
                    "2020-06-20T00:00:00.000000000",
                    "2020-06-21T00:00:00.000000000",
                    "2020-06-22T00:00:00.000000000",
                    "2020-06-23T00:00:00.000000000",
                    "2020-06-24T00:00:00.000000000",
                    "2020-06-25T00:00:00.000000000",
                    "2020-06-26T00:00:00.000000000",
                    "2020-06-27T00:00:00.000000000",
                    "2020-06-28T00:00:00.000000000",
                    "2020-06-29T00:00:00.000000000",
                    "2020-06-30T00:00:00.000000000",
                    "2020-07-01T00:00:00.000000000",
                    "2020-07-02T00:00:00.000000000",
                    "2020-07-03T00:00:00.000000000",
                    "2020-07-04T00:00:00.000000000",
                    "2020-07-05T00:00:00.000000000",
                    "2020-07-06T00:00:00.000000000",
                    "2020-07-07T00:00:00.000000000",
                    "2020-07-08T00:00:00.000000000",
                    "2020-07-09T00:00:00.000000000",
                    "2020-07-10T00:00:00.000000000",
                    "2020-07-11T00:00:00.000000000",
                    "2020-07-12T00:00:00.000000000",
                    "2020-07-13T00:00:00.000000000",
                    "2020-07-14T00:00:00.000000000",
                    "2020-07-15T00:00:00.000000000",
                    "2020-07-16T00:00:00.000000000",
                    "2020-07-17T00:00:00.000000000",
                    "2020-07-18T00:00:00.000000000",
                    "2020-07-19T00:00:00.000000000",
                    "2020-07-20T00:00:00.000000000",
                    "2020-07-21T00:00:00.000000000",
                    "2020-07-22T00:00:00.000000000",
                    "2020-07-23T00:00:00.000000000",
                    "2020-07-24T00:00:00.000000000",
                    "2020-07-25T00:00:00.000000000",
                    "2020-07-26T00:00:00.000000000",
                    "2020-07-27T00:00:00.000000000"
                  ],
                  "y": {
                    "bdata": "KwIAAI4CAACtAwAAmgUAAEYIAABvCwAAyhUAABYYAAAqIAAAxyYAAAYvAACTQQAAr00AAFpdAAD7awAAUngAAB6GAADMkAAAn5wAAImmAACDrgAA4bUAAC7rAACCBAEAnQwBAN8UAQBvHAEAcSMBABYlAQA5JwEArikBAI8wAQDSMQEABjQBAFs3AQAeOwEAckABANNFAQA6TQEAilYBAEBeAQBRaAEATHEBADN8AQCaiwEAYJsBANKqAQAOugEArs0BAJ3rAQATAgIAWDoCALplAgBEkQIAh8oCAGUIAwDnVAMA9cEDAJ01BADPswQAUTYFAAbbBQC5ewYAOkIHACo4CAC6MwkAAzwKALwkCwA7IQwAu0sNAHF1DgBosw8AO/gQAIoyEgCwShMAkGYUANmSFQAY2hYAeSwYAOOCGQCIrxoAlSkcAG85HQCWSh4AU4YfABsAIQDHViIArHcjADeyJACy0CUApPYmAKoiKABffikA+9EqAL8dLACyOi0AEkcuADVtLwArmjAADOExABI1MwAodDQAbKM1AJnMNgAOBTgAtGQ5ALLAOgAvJjwAhXU9AFufPgAsyT8Auw9BAMtaQgAc1kMAeU5FAC3DRgDa9UcAtk5JAF7HSgDSWUwAMPlNAMSaTwANNlEAa6pSAB7+UwCIZ1UAUPhWAGLKWACxo1oAGr5cADpiXgAV1l8AAK5hAFyAYwA1cGUAZG9nAGqCaQDtOGsAPshsAPStbgB9uXAA/9RyAEXNdACP4HYAvOl4ABK9egBt5XwAig9/ACIygQBo9IMA2FuGAPNRiAB1bIoAT/KMAP6OjwDdRZIATzGVAA3plwBrYJoA18ucACFznwB6xaIA0/ClALkLqQDY/6sAf8muAC5XsQDKjrQAJMq3AKdFuwAo0r4AMB/CAMwPxQDXAMgA42HLALDozgAtw9IAo3TWAOYU2gBdW90AF4PgAAYT5ABNW+gA0avsAB328ABW3PQAlPv3AOV4+wA=",
                    "dtype": "i4"
                  }
                },
                {
                  "hoverinfo": "skip",
                  "line": {
                    "width": 0
                  },
                  "mode": "lines",
                  "type": "scatter",
                  "x": [
                    "2020-01-22T00:00:00.000000000",
                    "2020-01-23T00:00:00.000000000",
                    "2020-01-24T00:00:00.000000000",
                    "2020-01-25T00:00:00.000000000",
                    "2020-01-26T00:00:00.000000000",
                    "2020-01-27T00:00:00.000000000",
                    "2020-01-28T00:00:00.000000000",
                    "2020-01-29T00:00:00.000000000",
                    "2020-01-30T00:00:00.000000000",
                    "2020-01-31T00:00:00.000000000",
                    "2020-02-01T00:00:00.000000000",
                    "2020-02-02T00:00:00.000000000",
                    "2020-02-03T00:00:00.000000000",
                    "2020-02-04T00:00:00.000000000",
                    "2020-02-05T00:00:00.000000000",
                    "2020-02-06T00:00:00.000000000",
                    "2020-02-07T00:00:00.000000000",
                    "2020-02-08T00:00:00.000000000",
                    "2020-02-09T00:00:00.000000000",
                    "2020-02-10T00:00:00.000000000",
                    "2020-02-11T00:00:00.000000000",
                    "2020-02-12T00:00:00.000000000",
                    "2020-02-13T00:00:00.000000000",
                    "2020-02-14T00:00:00.000000000",
                    "2020-02-15T00:00:00.000000000",
                    "2020-02-16T00:00:00.000000000",
                    "2020-02-17T00:00:00.000000000",
                    "2020-02-18T00:00:00.000000000",
                    "2020-02-19T00:00:00.000000000",
                    "2020-02-20T00:00:00.000000000",
                    "2020-02-21T00:00:00.000000000",
                    "2020-02-22T00:00:00.000000000",
                    "2020-02-23T00:00:00.000000000",
                    "2020-02-24T00:00:00.000000000",
                    "2020-02-25T00:00:00.000000000",
                    "2020-02-26T00:00:00.000000000",
                    "2020-02-27T00:00:00.000000000",
                    "2020-02-28T00:00:00.000000000",
                    "2020-02-29T00:00:00.000000000",
                    "2020-03-01T00:00:00.000000000",
                    "2020-03-02T00:00:00.000000000",
                    "2020-03-03T00:00:00.000000000",
                    "2020-03-04T00:00:00.000000000",
                    "2020-03-05T00:00:00.000000000",
                    "2020-03-06T00:00:00.000000000",
                    "2020-03-07T00:00:00.000000000",
                    "2020-03-08T00:00:00.000000000",
                    "2020-03-09T00:00:00.000000000",
                    "2020-03-10T00:00:00.000000000",
                    "2020-03-11T00:00:00.000000000",
                    "2020-03-12T00:00:00.000000000",
                    "2020-03-13T00:00:00.000000000",
                    "2020-03-14T00:00:00.000000000",
                    "2020-03-15T00:00:00.000000000",
                    "2020-03-16T00:00:00.000000000",
                    "2020-03-17T00:00:00.000000000",
                    "2020-03-18T00:00:00.000000000",
                    "2020-03-19T00:00:00.000000000",
                    "2020-03-20T00:00:00.000000000",
                    "2020-03-21T00:00:00.000000000",
                    "2020-03-22T00:00:00.000000000",
                    "2020-03-23T00:00:00.000000000",
                    "2020-03-24T00:00:00.000000000",
                    "2020-03-25T00:00:00.000000000",
                    "2020-03-26T00:00:00.000000000",
                    "2020-03-27T00:00:00.000000000",
                    "2020-03-28T00:00:00.000000000",
                    "2020-03-29T00:00:00.000000000",
                    "2020-03-30T00:00:00.000000000",
                    "2020-03-31T00:00:00.000000000",
                    "2020-04-01T00:00:00.000000000",
                    "2020-04-02T00:00:00.000000000",
                    "2020-04-03T00:00:00.000000000",
                    "2020-04-04T00:00:00.000000000",
                    "2020-04-05T00:00:00.000000000",
                    "2020-04-06T00:00:00.000000000",
                    "2020-04-07T00:00:00.000000000",
                    "2020-04-08T00:00:00.000000000",
                    "2020-04-09T00:00:00.000000000",
                    "2020-04-10T00:00:00.000000000",
                    "2020-04-11T00:00:00.000000000",
                    "2020-04-12T00:00:00.000000000",
                    "2020-04-13T00:00:00.000000000",
                    "2020-04-14T00:00:00.000000000",
                    "2020-04-15T00:00:00.000000000",
                    "2020-04-16T00:00:00.000000000",
                    "2020-04-17T00:00:00.000000000",
                    "2020-04-18T00:00:00.000000000",
                    "2020-04-19T00:00:00.000000000",
                    "2020-04-20T00:00:00.000000000",
                    "2020-04-21T00:00:00.000000000",
                    "2020-04-22T00:00:00.000000000",
                    "2020-04-23T00:00:00.000000000",
                    "2020-04-24T00:00:00.000000000",
                    "2020-04-25T00:00:00.000000000",
                    "2020-04-26T00:00:00.000000000",
                    "2020-04-27T00:00:00.000000000",
                    "2020-04-28T00:00:00.000000000",
                    "2020-04-29T00:00:00.000000000",
                    "2020-04-30T00:00:00.000000000",
                    "2020-05-01T00:00:00.000000000",
                    "2020-05-02T00:00:00.000000000",
                    "2020-05-03T00:00:00.000000000",
                    "2020-05-04T00:00:00.000000000",
                    "2020-05-05T00:00:00.000000000",
                    "2020-05-06T00:00:00.000000000",
                    "2020-05-07T00:00:00.000000000",
                    "2020-05-08T00:00:00.000000000",
                    "2020-05-09T00:00:00.000000000",
                    "2020-05-10T00:00:00.000000000",
                    "2020-05-11T00:00:00.000000000",
                    "2020-05-12T00:00:00.000000000",
                    "2020-05-13T00:00:00.000000000",
                    "2020-05-14T00:00:00.000000000",
                    "2020-05-15T00:00:00.000000000",
                    "2020-05-16T00:00:00.000000000",
                    "2020-05-17T00:00:00.000000000",
                    "2020-05-18T00:00:00.000000000",
                    "2020-05-19T00:00:00.000000000",
                    "2020-05-20T00:00:00.000000000",
                    "2020-05-21T00:00:00.000000000",
                    "2020-05-22T00:00:00.000000000",
                    "2020-05-23T00:00:00.000000000",
                    "2020-05-24T00:00:00.000000000",
                    "2020-05-25T00:00:00.000000000",
                    "2020-05-26T00:00:00.000000000",
                    "2020-05-27T00:00:00.000000000",
                    "2020-05-28T00:00:00.000000000",
                    "2020-05-29T00:00:00.000000000",
                    "2020-05-30T00:00:00.000000000",
                    "2020-05-31T00:00:00.000000000",
                    "2020-06-01T00:00:00.000000000",
                    "2020-06-02T00:00:00.000000000",
                    "2020-06-03T00:00:00.000000000",
                    "2020-06-04T00:00:00.000000000",
                    "2020-06-05T00:00:00.000000000",
                    "2020-06-06T00:00:00.000000000",
                    "2020-06-07T00:00:00.000000000",
                    "2020-06-08T00:00:00.000000000",
                    "2020-06-09T00:00:00.000000000",
                    "2020-06-10T00:00:00.000000000",
                    "2020-06-11T00:00:00.000000000",
                    "2020-06-12T00:00:00.000000000",
                    "2020-06-13T00:00:00.000000000",
                    "2020-06-14T00:00:00.000000000",
                    "2020-06-15T00:00:00.000000000",
                    "2020-06-16T00:00:00.000000000",
                    "2020-06-17T00:00:00.000000000",
                    "2020-06-18T00:00:00.000000000",
                    "2020-06-19T00:00:00.000000000",
                    "2020-06-20T00:00:00.000000000",
                    "2020-06-21T00:00:00.000000000",
                    "2020-06-22T00:00:00.000000000",
                    "2020-06-23T00:00:00.000000000",
                    "2020-06-24T00:00:00.000000000",
                    "2020-06-25T00:00:00.000000000",
                    "2020-06-26T00:00:00.000000000",
                    "2020-06-27T00:00:00.000000000",
                    "2020-06-28T00:00:00.000000000",
                    "2020-06-29T00:00:00.000000000",
                    "2020-06-30T00:00:00.000000000",
                    "2020-07-01T00:00:00.000000000",
                    "2020-07-02T00:00:00.000000000",
                    "2020-07-03T00:00:00.000000000",
                    "2020-07-04T00:00:00.000000000",
                    "2020-07-05T00:00:00.000000000",
                    "2020-07-06T00:00:00.000000000",
                    "2020-07-07T00:00:00.000000000",
                    "2020-07-08T00:00:00.000000000",
                    "2020-07-09T00:00:00.000000000",
                    "2020-07-10T00:00:00.000000000",
                    "2020-07-11T00:00:00.000000000",
                    "2020-07-12T00:00:00.000000000",
                    "2020-07-13T00:00:00.000000000",
                    "2020-07-14T00:00:00.000000000",
                    "2020-07-15T00:00:00.000000000",
                    "2020-07-16T00:00:00.000000000",
                    "2020-07-17T00:00:00.000000000",
                    "2020-07-18T00:00:00.000000000",
                    "2020-07-19T00:00:00.000000000",
                    "2020-07-20T00:00:00.000000000",
                    "2020-07-21T00:00:00.000000000",
                    "2020-07-22T00:00:00.000000000",
                    "2020-07-23T00:00:00.000000000",
                    "2020-07-24T00:00:00.000000000",
                    "2020-07-25T00:00:00.000000000",
                    "2020-07-26T00:00:00.000000000",
                    "2020-07-27T00:00:00.000000000",
                    "2020-07-28T00:00:00.000000000",
                    "2020-07-29T00:00:00.000000000",
                    "2020-07-30T00:00:00.000000000",
                    "2020-07-31T00:00:00.000000000",
                    "2020-08-01T00:00:00.000000000",
                    "2020-08-02T00:00:00.000000000",
                    "2020-08-03T00:00:00.000000000"
                  ],
                  "y": {
                    "bdata": "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",
                    "dtype": "f8"
                  }
                },
                {
                  "fill": "tonexty",
                  "fillcolor": "rgba(0, 114, 178, 0.2)",
                  "line": {
                    "color": "#0072B2",
                    "width": 2
                  },
                  "mode": "lines",
                  "name": "Predicted",
                  "type": "scatter",
                  "x": [
                    "2020-01-22T00:00:00.000000000",
                    "2020-01-23T00:00:00.000000000",
                    "2020-01-24T00:00:00.000000000",
                    "2020-01-25T00:00:00.000000000",
                    "2020-01-26T00:00:00.000000000",
                    "2020-01-27T00:00:00.000000000",
                    "2020-01-28T00:00:00.000000000",
                    "2020-01-29T00:00:00.000000000",
                    "2020-01-30T00:00:00.000000000",
                    "2020-01-31T00:00:00.000000000",
                    "2020-02-01T00:00:00.000000000",
                    "2020-02-02T00:00:00.000000000",
                    "2020-02-03T00:00:00.000000000",
                    "2020-02-04T00:00:00.000000000",
                    "2020-02-05T00:00:00.000000000",
                    "2020-02-06T00:00:00.000000000",
                    "2020-02-07T00:00:00.000000000",
                    "2020-02-08T00:00:00.000000000",
                    "2020-02-09T00:00:00.000000000",
                    "2020-02-10T00:00:00.000000000",
                    "2020-02-11T00:00:00.000000000",
                    "2020-02-12T00:00:00.000000000",
                    "2020-02-13T00:00:00.000000000",
                    "2020-02-14T00:00:00.000000000",
                    "2020-02-15T00:00:00.000000000",
                    "2020-02-16T00:00:00.000000000",
                    "2020-02-17T00:00:00.000000000",
                    "2020-02-18T00:00:00.000000000",
                    "2020-02-19T00:00:00.000000000",
                    "2020-02-20T00:00:00.000000000",
                    "2020-02-21T00:00:00.000000000",
                    "2020-02-22T00:00:00.000000000",
                    "2020-02-23T00:00:00.000000000",
                    "2020-02-24T00:00:00.000000000",
                    "2020-02-25T00:00:00.000000000",
                    "2020-02-26T00:00:00.000000000",
                    "2020-02-27T00:00:00.000000000",
                    "2020-02-28T00:00:00.000000000",
                    "2020-02-29T00:00:00.000000000",
                    "2020-03-01T00:00:00.000000000",
                    "2020-03-02T00:00:00.000000000",
                    "2020-03-03T00:00:00.000000000",
                    "2020-03-04T00:00:00.000000000",
                    "2020-03-05T00:00:00.000000000",
                    "2020-03-06T00:00:00.000000000",
                    "2020-03-07T00:00:00.000000000",
                    "2020-03-08T00:00:00.000000000",
                    "2020-03-09T00:00:00.000000000",
                    "2020-03-10T00:00:00.000000000",
                    "2020-03-11T00:00:00.000000000",
                    "2020-03-12T00:00:00.000000000",
                    "2020-03-13T00:00:00.000000000",
                    "2020-03-14T00:00:00.000000000",
                    "2020-03-15T00:00:00.000000000",
                    "2020-03-16T00:00:00.000000000",
                    "2020-03-17T00:00:00.000000000",
                    "2020-03-18T00:00:00.000000000",
                    "2020-03-19T00:00:00.000000000",
                    "2020-03-20T00:00:00.000000000",
                    "2020-03-21T00:00:00.000000000",
                    "2020-03-22T00:00:00.000000000",
                    "2020-03-23T00:00:00.000000000",
                    "2020-03-24T00:00:00.000000000",
                    "2020-03-25T00:00:00.000000000",
                    "2020-03-26T00:00:00.000000000",
                    "2020-03-27T00:00:00.000000000",
                    "2020-03-28T00:00:00.000000000",
                    "2020-03-29T00:00:00.000000000",
                    "2020-03-30T00:00:00.000000000",
                    "2020-03-31T00:00:00.000000000",
                    "2020-04-01T00:00:00.000000000",
                    "2020-04-02T00:00:00.000000000",
                    "2020-04-03T00:00:00.000000000",
                    "2020-04-04T00:00:00.000000000",
                    "2020-04-05T00:00:00.000000000",
                    "2020-04-06T00:00:00.000000000",
                    "2020-04-07T00:00:00.000000000",
                    "2020-04-08T00:00:00.000000000",
                    "2020-04-09T00:00:00.000000000",
                    "2020-04-10T00:00:00.000000000",
                    "2020-04-11T00:00:00.000000000",
                    "2020-04-12T00:00:00.000000000",
                    "2020-04-13T00:00:00.000000000",
                    "2020-04-14T00:00:00.000000000",
                    "2020-04-15T00:00:00.000000000",
                    "2020-04-16T00:00:00.000000000",
                    "2020-04-17T00:00:00.000000000",
                    "2020-04-18T00:00:00.000000000",
                    "2020-04-19T00:00:00.000000000",
                    "2020-04-20T00:00:00.000000000",
                    "2020-04-21T00:00:00.000000000",
                    "2020-04-22T00:00:00.000000000",
                    "2020-04-23T00:00:00.000000000",
                    "2020-04-24T00:00:00.000000000",
                    "2020-04-25T00:00:00.000000000",
                    "2020-04-26T00:00:00.000000000",
                    "2020-04-27T00:00:00.000000000",
                    "2020-04-28T00:00:00.000000000",
                    "2020-04-29T00:00:00.000000000",
                    "2020-04-30T00:00:00.000000000",
                    "2020-05-01T00:00:00.000000000",
                    "2020-05-02T00:00:00.000000000",
                    "2020-05-03T00:00:00.000000000",
                    "2020-05-04T00:00:00.000000000",
                    "2020-05-05T00:00:00.000000000",
                    "2020-05-06T00:00:00.000000000",
                    "2020-05-07T00:00:00.000000000",
                    "2020-05-08T00:00:00.000000000",
                    "2020-05-09T00:00:00.000000000",
                    "2020-05-10T00:00:00.000000000",
                    "2020-05-11T00:00:00.000000000",
                    "2020-05-12T00:00:00.000000000",
                    "2020-05-13T00:00:00.000000000",
                    "2020-05-14T00:00:00.000000000",
                    "2020-05-15T00:00:00.000000000",
                    "2020-05-16T00:00:00.000000000",
                    "2020-05-17T00:00:00.000000000",
                    "2020-05-18T00:00:00.000000000",
                    "2020-05-19T00:00:00.000000000",
                    "2020-05-20T00:00:00.000000000",
                    "2020-05-21T00:00:00.000000000",
                    "2020-05-22T00:00:00.000000000",
                    "2020-05-23T00:00:00.000000000",
                    "2020-05-24T00:00:00.000000000",
                    "2020-05-25T00:00:00.000000000",
                    "2020-05-26T00:00:00.000000000",
                    "2020-05-27T00:00:00.000000000",
                    "2020-05-28T00:00:00.000000000",
                    "2020-05-29T00:00:00.000000000",
                    "2020-05-30T00:00:00.000000000",
                    "2020-05-31T00:00:00.000000000",
                    "2020-06-01T00:00:00.000000000",
                    "2020-06-02T00:00:00.000000000",
                    "2020-06-03T00:00:00.000000000",
                    "2020-06-04T00:00:00.000000000",
                    "2020-06-05T00:00:00.000000000",
                    "2020-06-06T00:00:00.000000000",
                    "2020-06-07T00:00:00.000000000",
                    "2020-06-08T00:00:00.000000000",
                    "2020-06-09T00:00:00.000000000",
                    "2020-06-10T00:00:00.000000000",
                    "2020-06-11T00:00:00.000000000",
                    "2020-06-12T00:00:00.000000000",
                    "2020-06-13T00:00:00.000000000",
                    "2020-06-14T00:00:00.000000000",
                    "2020-06-15T00:00:00.000000000",
                    "2020-06-16T00:00:00.000000000",
                    "2020-06-17T00:00:00.000000000",
                    "2020-06-18T00:00:00.000000000",
                    "2020-06-19T00:00:00.000000000",
                    "2020-06-20T00:00:00.000000000",
                    "2020-06-21T00:00:00.000000000",
                    "2020-06-22T00:00:00.000000000",
                    "2020-06-23T00:00:00.000000000",
                    "2020-06-24T00:00:00.000000000",
                    "2020-06-25T00:00:00.000000000",
                    "2020-06-26T00:00:00.000000000",
                    "2020-06-27T00:00:00.000000000",
                    "2020-06-28T00:00:00.000000000",
                    "2020-06-29T00:00:00.000000000",
                    "2020-06-30T00:00:00.000000000",
                    "2020-07-01T00:00:00.000000000",
                    "2020-07-02T00:00:00.000000000",
                    "2020-07-03T00:00:00.000000000",
                    "2020-07-04T00:00:00.000000000",
                    "2020-07-05T00:00:00.000000000",
                    "2020-07-06T00:00:00.000000000",
                    "2020-07-07T00:00:00.000000000",
                    "2020-07-08T00:00:00.000000000",
                    "2020-07-09T00:00:00.000000000",
                    "2020-07-10T00:00:00.000000000",
                    "2020-07-11T00:00:00.000000000",
                    "2020-07-12T00:00:00.000000000",
                    "2020-07-13T00:00:00.000000000",
                    "2020-07-14T00:00:00.000000000",
                    "2020-07-15T00:00:00.000000000",
                    "2020-07-16T00:00:00.000000000",
                    "2020-07-17T00:00:00.000000000",
                    "2020-07-18T00:00:00.000000000",
                    "2020-07-19T00:00:00.000000000",
                    "2020-07-20T00:00:00.000000000",
                    "2020-07-21T00:00:00.000000000",
                    "2020-07-22T00:00:00.000000000",
                    "2020-07-23T00:00:00.000000000",
                    "2020-07-24T00:00:00.000000000",
                    "2020-07-25T00:00:00.000000000",
                    "2020-07-26T00:00:00.000000000",
                    "2020-07-27T00:00:00.000000000",
                    "2020-07-28T00:00:00.000000000",
                    "2020-07-29T00:00:00.000000000",
                    "2020-07-30T00:00:00.000000000",
                    "2020-07-31T00:00:00.000000000",
                    "2020-08-01T00:00:00.000000000",
                    "2020-08-02T00:00:00.000000000",
                    "2020-08-03T00:00:00.000000000"
                  ],
                  "y": {
                    "bdata": "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",
                    "dtype": "f8"
                  }
                },
                {
                  "fill": "tonexty",
                  "fillcolor": "rgba(0, 114, 178, 0.2)",
                  "hoverinfo": "skip",
                  "line": {
                    "width": 0
                  },
                  "mode": "lines",
                  "type": "scatter",
                  "x": [
                    "2020-01-22T00:00:00.000000000",
                    "2020-01-23T00:00:00.000000000",
                    "2020-01-24T00:00:00.000000000",
                    "2020-01-25T00:00:00.000000000",
                    "2020-01-26T00:00:00.000000000",
                    "2020-01-27T00:00:00.000000000",
                    "2020-01-28T00:00:00.000000000",
                    "2020-01-29T00:00:00.000000000",
                    "2020-01-30T00:00:00.000000000",
                    "2020-01-31T00:00:00.000000000",
                    "2020-02-01T00:00:00.000000000",
                    "2020-02-02T00:00:00.000000000",
                    "2020-02-03T00:00:00.000000000",
                    "2020-02-04T00:00:00.000000000",
                    "2020-02-05T00:00:00.000000000",
                    "2020-02-06T00:00:00.000000000",
                    "2020-02-07T00:00:00.000000000",
                    "2020-02-08T00:00:00.000000000",
                    "2020-02-09T00:00:00.000000000",
                    "2020-02-10T00:00:00.000000000",
                    "2020-02-11T00:00:00.000000000",
                    "2020-02-12T00:00:00.000000000",
                    "2020-02-13T00:00:00.000000000",
                    "2020-02-14T00:00:00.000000000",
                    "2020-02-15T00:00:00.000000000",
                    "2020-02-16T00:00:00.000000000",
                    "2020-02-17T00:00:00.000000000",
                    "2020-02-18T00:00:00.000000000",
                    "2020-02-19T00:00:00.000000000",
                    "2020-02-20T00:00:00.000000000",
                    "2020-02-21T00:00:00.000000000",
                    "2020-02-22T00:00:00.000000000",
                    "2020-02-23T00:00:00.000000000",
                    "2020-02-24T00:00:00.000000000",
                    "2020-02-25T00:00:00.000000000",
                    "2020-02-26T00:00:00.000000000",
                    "2020-02-27T00:00:00.000000000",
                    "2020-02-28T00:00:00.000000000",
                    "2020-02-29T00:00:00.000000000",
                    "2020-03-01T00:00:00.000000000",
                    "2020-03-02T00:00:00.000000000",
                    "2020-03-03T00:00:00.000000000",
                    "2020-03-04T00:00:00.000000000",
                    "2020-03-05T00:00:00.000000000",
                    "2020-03-06T00:00:00.000000000",
                    "2020-03-07T00:00:00.000000000",
                    "2020-03-08T00:00:00.000000000",
                    "2020-03-09T00:00:00.000000000",
                    "2020-03-10T00:00:00.000000000",
                    "2020-03-11T00:00:00.000000000",
                    "2020-03-12T00:00:00.000000000",
                    "2020-03-13T00:00:00.000000000",
                    "2020-03-14T00:00:00.000000000",
                    "2020-03-15T00:00:00.000000000",
                    "2020-03-16T00:00:00.000000000",
                    "2020-03-17T00:00:00.000000000",
                    "2020-03-18T00:00:00.000000000",
                    "2020-03-19T00:00:00.000000000",
                    "2020-03-20T00:00:00.000000000",
                    "2020-03-21T00:00:00.000000000",
                    "2020-03-22T00:00:00.000000000",
                    "2020-03-23T00:00:00.000000000",
                    "2020-03-24T00:00:00.000000000",
                    "2020-03-25T00:00:00.000000000",
                    "2020-03-26T00:00:00.000000000",
                    "2020-03-27T00:00:00.000000000",
                    "2020-03-28T00:00:00.000000000",
                    "2020-03-29T00:00:00.000000000",
                    "2020-03-30T00:00:00.000000000",
                    "2020-03-31T00:00:00.000000000",
                    "2020-04-01T00:00:00.000000000",
                    "2020-04-02T00:00:00.000000000",
                    "2020-04-03T00:00:00.000000000",
                    "2020-04-04T00:00:00.000000000",
                    "2020-04-05T00:00:00.000000000",
                    "2020-04-06T00:00:00.000000000",
                    "2020-04-07T00:00:00.000000000",
                    "2020-04-08T00:00:00.000000000",
                    "2020-04-09T00:00:00.000000000",
                    "2020-04-10T00:00:00.000000000",
                    "2020-04-11T00:00:00.000000000",
                    "2020-04-12T00:00:00.000000000",
                    "2020-04-13T00:00:00.000000000",
                    "2020-04-14T00:00:00.000000000",
                    "2020-04-15T00:00:00.000000000",
                    "2020-04-16T00:00:00.000000000",
                    "2020-04-17T00:00:00.000000000",
                    "2020-04-18T00:00:00.000000000",
                    "2020-04-19T00:00:00.000000000",
                    "2020-04-20T00:00:00.000000000",
                    "2020-04-21T00:00:00.000000000",
                    "2020-04-22T00:00:00.000000000",
                    "2020-04-23T00:00:00.000000000",
                    "2020-04-24T00:00:00.000000000",
                    "2020-04-25T00:00:00.000000000",
                    "2020-04-26T00:00:00.000000000",
                    "2020-04-27T00:00:00.000000000",
                    "2020-04-28T00:00:00.000000000",
                    "2020-04-29T00:00:00.000000000",
                    "2020-04-30T00:00:00.000000000",
                    "2020-05-01T00:00:00.000000000",
                    "2020-05-02T00:00:00.000000000",
                    "2020-05-03T00:00:00.000000000",
                    "2020-05-04T00:00:00.000000000",
                    "2020-05-05T00:00:00.000000000",
                    "2020-05-06T00:00:00.000000000",
                    "2020-05-07T00:00:00.000000000",
                    "2020-05-08T00:00:00.000000000",
                    "2020-05-09T00:00:00.000000000",
                    "2020-05-10T00:00:00.000000000",
                    "2020-05-11T00:00:00.000000000",
                    "2020-05-12T00:00:00.000000000",
                    "2020-05-13T00:00:00.000000000",
                    "2020-05-14T00:00:00.000000000",
                    "2020-05-15T00:00:00.000000000",
                    "2020-05-16T00:00:00.000000000",
                    "2020-05-17T00:00:00.000000000",
                    "2020-05-18T00:00:00.000000000",
                    "2020-05-19T00:00:00.000000000",
                    "2020-05-20T00:00:00.000000000",
                    "2020-05-21T00:00:00.000000000",
                    "2020-05-22T00:00:00.000000000",
                    "2020-05-23T00:00:00.000000000",
                    "2020-05-24T00:00:00.000000000",
                    "2020-05-25T00:00:00.000000000",
                    "2020-05-26T00:00:00.000000000",
                    "2020-05-27T00:00:00.000000000",
                    "2020-05-28T00:00:00.000000000",
                    "2020-05-29T00:00:00.000000000",
                    "2020-05-30T00:00:00.000000000",
                    "2020-05-31T00:00:00.000000000",
                    "2020-06-01T00:00:00.000000000",
                    "2020-06-02T00:00:00.000000000",
                    "2020-06-03T00:00:00.000000000",
                    "2020-06-04T00:00:00.000000000",
                    "2020-06-05T00:00:00.000000000",
                    "2020-06-06T00:00:00.000000000",
                    "2020-06-07T00:00:00.000000000",
                    "2020-06-08T00:00:00.000000000",
                    "2020-06-09T00:00:00.000000000",
                    "2020-06-10T00:00:00.000000000",
                    "2020-06-11T00:00:00.000000000",
                    "2020-06-12T00:00:00.000000000",
                    "2020-06-13T00:00:00.000000000",
                    "2020-06-14T00:00:00.000000000",
                    "2020-06-15T00:00:00.000000000",
                    "2020-06-16T00:00:00.000000000",
                    "2020-06-17T00:00:00.000000000",
                    "2020-06-18T00:00:00.000000000",
                    "2020-06-19T00:00:00.000000000",
                    "2020-06-20T00:00:00.000000000",
                    "2020-06-21T00:00:00.000000000",
                    "2020-06-22T00:00:00.000000000",
                    "2020-06-23T00:00:00.000000000",
                    "2020-06-24T00:00:00.000000000",
                    "2020-06-25T00:00:00.000000000",
                    "2020-06-26T00:00:00.000000000",
                    "2020-06-27T00:00:00.000000000",
                    "2020-06-28T00:00:00.000000000",
                    "2020-06-29T00:00:00.000000000",
                    "2020-06-30T00:00:00.000000000",
                    "2020-07-01T00:00:00.000000000",
                    "2020-07-02T00:00:00.000000000",
                    "2020-07-03T00:00:00.000000000",
                    "2020-07-04T00:00:00.000000000",
                    "2020-07-05T00:00:00.000000000",
                    "2020-07-06T00:00:00.000000000",
                    "2020-07-07T00:00:00.000000000",
                    "2020-07-08T00:00:00.000000000",
                    "2020-07-09T00:00:00.000000000",
                    "2020-07-10T00:00:00.000000000",
                    "2020-07-11T00:00:00.000000000",
                    "2020-07-12T00:00:00.000000000",
                    "2020-07-13T00:00:00.000000000",
                    "2020-07-14T00:00:00.000000000",
                    "2020-07-15T00:00:00.000000000",
                    "2020-07-16T00:00:00.000000000",
                    "2020-07-17T00:00:00.000000000",
                    "2020-07-18T00:00:00.000000000",
                    "2020-07-19T00:00:00.000000000",
                    "2020-07-20T00:00:00.000000000",
                    "2020-07-21T00:00:00.000000000",
                    "2020-07-22T00:00:00.000000000",
                    "2020-07-23T00:00:00.000000000",
                    "2020-07-24T00:00:00.000000000",
                    "2020-07-25T00:00:00.000000000",
                    "2020-07-26T00:00:00.000000000",
                    "2020-07-27T00:00:00.000000000",
                    "2020-07-28T00:00:00.000000000",
                    "2020-07-29T00:00:00.000000000",
                    "2020-07-30T00:00:00.000000000",
                    "2020-07-31T00:00:00.000000000",
                    "2020-08-01T00:00:00.000000000",
                    "2020-08-02T00:00:00.000000000",
                    "2020-08-03T00:00:00.000000000"
                  ],
                  "y": {
                    "bdata": "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",
                    "dtype": "f8"
                  }
                }
              ],
              "layout": {
                "annotations": [
                  {
                    "arrowhead": 2,
                    "ax": 20,
                    "ay": -30,
                    "font": {
                      "color": "blue",
                      "size": 10
                    },
                    "showarrow": true,
                    "text": "6124.0",
                    "x": "2020-01-24T00:00:00",
                    "y": 6123.967439872916
                  },
                  {
                    "arrowhead": 2,
                    "ax": 20,
                    "ay": -30,
                    "font": {
                      "color": "blue",
                      "size": 10
                    },
                    "showarrow": true,
                    "text": "12379.0",
                    "x": "2020-01-25T00:00:00",
                    "y": 12379.384088466899
                  },
                  {
                    "arrowhead": 2,
                    "ax": 20,
                    "ay": -30,
                    "font": {
                      "color": "blue",
                      "size": 10
                    },
                    "showarrow": true,
                    "text": "8616.0",
                    "x": "2020-01-26T00:00:00",
                    "y": 8615.766110983044
                  },
                  {
                    "arrowhead": 2,
                    "ax": 20,
                    "ay": -30,
                    "font": {
                      "color": "blue",
                      "size": 10
                    },
                    "showarrow": true,
                    "text": "1942.0",
                    "x": "2020-01-27T00:00:00",
                    "y": 1941.698110503014
                  },
                  {
                    "arrowhead": 2,
                    "ax": 20,
                    "ay": -30,
                    "font": {
                      "color": "blue",
                      "size": 10
                    },
                    "showarrow": true,
                    "text": "11073.0",
                    "x": "2020-01-30T00:00:00",
                    "y": 11072.520940600538
                  },
                  {
                    "arrowhead": 2,
                    "ax": 20,
                    "ay": -30,
                    "font": {
                      "color": "blue",
                      "size": 10
                    },
                    "showarrow": true,
                    "text": "24943.0",
                    "x": "2020-01-31T00:00:00",
                    "y": 24943.105585330693
                  },
                  {
                    "arrowhead": 2,
                    "ax": 20,
                    "ay": -30,
                    "font": {
                      "color": "blue",
                      "size": 10
                    },
                    "showarrow": true,
                    "text": "31199.0",
                    "x": "2020-02-01T00:00:00",
                    "y": 31198.514027257334
                  },
                  {
                    "arrowhead": 2,
                    "ax": 20,
                    "ay": -30,
                    "font": {
                      "color": "blue",
                      "size": 10
                    },
                    "showarrow": true,
                    "text": "27435.0",
                    "x": "2020-02-02T00:00:00",
                    "y": 27434.887843101897
                  },
                  {
                    "arrowhead": 2,
                    "ax": 20,
                    "ay": -30,
                    "font": {
                      "color": "blue",
                      "size": 10
                    },
                    "showarrow": true,
                    "text": "20761.0",
                    "x": "2020-02-03T00:00:00",
                    "y": 20760.811635987233
                  },
                  {
                    "arrowhead": 2,
                    "ax": 20,
                    "ay": -30,
                    "font": {
                      "color": "blue",
                      "size": 10
                    },
                    "showarrow": true,
                    "text": "8811.0",
                    "x": "2020-02-04T00:00:00",
                    "y": 8811.499205292115
                  },
                  {
                    "arrowhead": 2,
                    "ax": 20,
                    "ay": -30,
                    "font": {
                      "color": "blue",
                      "size": 10
                    },
                    "showarrow": true,
                    "text": "17296.0",
                    "x": "2020-02-05T00:00:00",
                    "y": 17295.861792092597
                  },
                  {
                    "arrowhead": 2,
                    "ax": 20,
                    "ay": -30,
                    "font": {
                      "color": "blue",
                      "size": 10
                    },
                    "showarrow": true,
                    "text": "29892.0",
                    "x": "2020-02-06T00:00:00",
                    "y": 29891.62316763682
                  },
                  {
                    "arrowhead": 2,
                    "ax": 20,
                    "ay": -30,
                    "font": {
                      "color": "blue",
                      "size": 10
                    },
                    "showarrow": true,
                    "text": "43762.0",
                    "x": "2020-02-07T00:00:00",
                    "y": 43762.20678186322
                  },
                  {
                    "arrowhead": 2,
                    "ax": 20,
                    "ay": -30,
                    "font": {
                      "color": "blue",
                      "size": 10
                    },
                    "showarrow": true,
                    "text": "50018.0",
                    "x": "2020-02-08T00:00:00",
                    "y": 50017.614193230795
                  },
                  {
                    "arrowhead": 2,
                    "ax": 20,
                    "ay": -30,
                    "font": {
                      "color": "blue",
                      "size": 10
                    },
                    "showarrow": true,
                    "text": "46254.0",
                    "x": "2020-02-09T00:00:00",
                    "y": 46253.98697848297
                  },
                  {
                    "arrowhead": 2,
                    "ax": 20,
                    "ay": -30,
                    "font": {
                      "color": "blue",
                      "size": 10
                    },
                    "showarrow": true,
                    "text": "39580.0",
                    "x": "2020-02-10T00:00:00",
                    "y": 39579.91043872663
                  },
                  {
                    "arrowhead": 2,
                    "ax": 20,
                    "ay": -30,
                    "font": {
                      "color": "blue",
                      "size": 10
                    },
                    "showarrow": true,
                    "text": "27631.0",
                    "x": "2020-02-11T00:00:00",
                    "y": 27630.598705968194
                  },
                  {
                    "arrowhead": 2,
                    "ax": 20,
                    "ay": -30,
                    "font": {
                      "color": "blue",
                      "size": 10
                    },
                    "showarrow": true,
                    "text": "36115.0",
                    "x": "2020-02-12T00:00:00",
                    "y": 36114.96199067192
                  },
                  {
                    "arrowhead": 2,
                    "ax": 20,
                    "ay": -30,
                    "font": {
                      "color": "blue",
                      "size": 10
                    },
                    "showarrow": true,
                    "text": "48711.0",
                    "x": "2020-02-13T00:00:00",
                    "y": 48710.72406411299
                  },
                  {
                    "arrowhead": 2,
                    "ax": 20,
                    "ay": -30,
                    "font": {
                      "color": "blue",
                      "size": 10
                    },
                    "showarrow": true,
                    "text": "62581.0",
                    "x": "2020-02-14T00:00:00",
                    "y": 62581.30837624948
                  },
                  {
                    "arrowhead": 2,
                    "ax": 20,
                    "ay": -30,
                    "font": {
                      "color": "blue",
                      "size": 10
                    },
                    "showarrow": true,
                    "text": "68837.0",
                    "x": "2020-02-15T00:00:00",
                    "y": 68836.71648551412
                  },
                  {
                    "arrowhead": 2,
                    "ax": 20,
                    "ay": -30,
                    "font": {
                      "color": "blue",
                      "size": 10
                    },
                    "showarrow": true,
                    "text": "65073.0",
                    "x": "2020-02-16T00:00:00",
                    "y": 65073.088176049714
                  },
                  {
                    "arrowhead": 2,
                    "ax": 20,
                    "ay": -30,
                    "font": {
                      "color": "blue",
                      "size": 10
                    },
                    "showarrow": true,
                    "text": "58399.0",
                    "x": "2020-02-17T00:00:00",
                    "y": 58399.00984364709
                  },
                  {
                    "arrowhead": 2,
                    "ax": 20,
                    "ay": -30,
                    "font": {
                      "color": "blue",
                      "size": 10
                    },
                    "showarrow": true,
                    "text": "46450.0",
                    "x": "2020-02-18T00:00:00",
                    "y": 46449.69631825677
                  },
                  {
                    "arrowhead": 2,
                    "ax": 20,
                    "ay": -30,
                    "font": {
                      "color": "blue",
                      "size": 10
                    },
                    "showarrow": true,
                    "text": "54934.0",
                    "x": "2020-02-19T00:00:00",
                    "y": 54934.057810327635
                  },
                  {
                    "arrowhead": 2,
                    "ax": 20,
                    "ay": -30,
                    "font": {
                      "color": "blue",
                      "size": 10
                    },
                    "showarrow": true,
                    "text": "67530.0",
                    "x": "2020-02-20T00:00:00",
                    "y": 67529.81809116974
                  },
                  {
                    "arrowhead": 2,
                    "ax": 20,
                    "ay": -30,
                    "font": {
                      "color": "blue",
                      "size": 10
                    },
                    "showarrow": true,
                    "text": "81400.0",
                    "x": "2020-02-21T00:00:00",
                    "y": 81400.40061063683
                  },
                  {
                    "arrowhead": 2,
                    "ax": 20,
                    "ay": -30,
                    "font": {
                      "color": "blue",
                      "size": 10
                    },
                    "showarrow": true,
                    "text": "87656.0",
                    "x": "2020-02-22T00:00:00",
                    "y": 87655.80864451655
                  },
                  {
                    "arrowhead": 2,
                    "ax": 20,
                    "ay": -30,
                    "font": {
                      "color": "blue",
                      "size": 10
                    },
                    "showarrow": true,
                    "text": "83892.0",
                    "x": "2020-02-23T00:00:00",
                    "y": 83892.18205229759
                  },
                  {
                    "arrowhead": 2,
                    "ax": 20,
                    "ay": -30,
                    "font": {
                      "color": "blue",
                      "size": 10
                    },
                    "showarrow": true,
                    "text": "77218.0",
                    "x": "2020-02-24T00:00:00",
                    "y": 77218.1054371295
                  },
                  {
                    "arrowhead": 2,
                    "ax": 20,
                    "ay": -30,
                    "font": {
                      "color": "blue",
                      "size": 10
                    },
                    "showarrow": true,
                    "text": "65269.0",
                    "x": "2020-02-25T00:00:00",
                    "y": 65268.793628998275
                  },
                  {
                    "arrowhead": 2,
                    "ax": 20,
                    "ay": -30,
                    "font": {
                      "color": "blue",
                      "size": 10
                    },
                    "showarrow": true,
                    "text": "73753.0",
                    "x": "2020-02-26T00:00:00",
                    "y": 73753.15683833427
                  },
                  {
                    "arrowhead": 2,
                    "ax": 20,
                    "ay": -30,
                    "font": {
                      "color": "blue",
                      "size": 10
                    },
                    "showarrow": true,
                    "text": "86349.0",
                    "x": "2020-02-27T00:00:00",
                    "y": 86348.91883636096
                  },
                  {
                    "arrowhead": 2,
                    "ax": 20,
                    "ay": -30,
                    "font": {
                      "color": "blue",
                      "size": 10
                    },
                    "showarrow": true,
                    "text": "100220.0",
                    "x": "2020-02-28T00:00:00",
                    "y": 100219.50649389745
                  },
                  {
                    "arrowhead": 2,
                    "ax": 20,
                    "ay": -30,
                    "font": {
                      "color": "blue",
                      "size": 10
                    },
                    "showarrow": true,
                    "text": "106475.0",
                    "x": "2020-02-29T00:00:00",
                    "y": 106474.91794853235
                  },
                  {
                    "arrowhead": 2,
                    "ax": 20,
                    "ay": -30,
                    "font": {
                      "color": "blue",
                      "size": 10
                    },
                    "showarrow": true,
                    "text": "102711.0",
                    "x": "2020-03-01T00:00:00",
                    "y": 102711.29477710865
                  },
                  {
                    "arrowhead": 2,
                    "ax": 20,
                    "ay": -30,
                    "font": {
                      "color": "blue",
                      "size": 10
                    },
                    "showarrow": true,
                    "text": "96037.0",
                    "x": "2020-03-02T00:00:00",
                    "y": 96037.22158268408
                  },
                  {
                    "arrowhead": 2,
                    "ax": 20,
                    "ay": -30,
                    "font": {
                      "color": "blue",
                      "size": 10
                    },
                    "showarrow": true,
                    "text": "84088.0",
                    "x": "2020-03-03T00:00:00",
                    "y": 84087.91319532158
                  },
                  {
                    "arrowhead": 2,
                    "ax": 20,
                    "ay": -30,
                    "font": {
                      "color": "blue",
                      "size": 10
                    },
                    "showarrow": true,
                    "text": "92572.0",
                    "x": "2020-03-04T00:00:00",
                    "y": 92572.27982539512
                  },
                  {
                    "arrowhead": 2,
                    "ax": 20,
                    "ay": -30,
                    "font": {
                      "color": "blue",
                      "size": 10
                    },
                    "showarrow": true,
                    "text": "105851.0",
                    "x": "2020-03-05T00:00:00",
                    "y": 105850.75682648858
                  },
                  {
                    "arrowhead": 2,
                    "ax": 20,
                    "ay": -30,
                    "font": {
                      "color": "blue",
                      "size": 10
                    },
                    "showarrow": true,
                    "text": "120404.0",
                    "x": "2020-03-06T00:00:00",
                    "y": 120404.05606628268
                  },
                  {
                    "arrowhead": 2,
                    "ax": 20,
                    "ay": -30,
                    "font": {
                      "color": "blue",
                      "size": 10
                    },
                    "showarrow": true,
                    "text": "127342.0",
                    "x": "2020-03-07T00:00:00",
                    "y": 127342.17910315953
                  },
                  {
                    "arrowhead": 2,
                    "ax": 20,
                    "ay": -30,
                    "font": {
                      "color": "blue",
                      "size": 10
                    },
                    "showarrow": true,
                    "text": "124261.0",
                    "x": "2020-03-08T00:00:00",
                    "y": 124261.26751398844
                  },
                  {
                    "arrowhead": 2,
                    "ax": 20,
                    "ay": -30,
                    "font": {
                      "color": "blue",
                      "size": 10
                    },
                    "showarrow": true,
                    "text": "118270.0",
                    "x": "2020-03-09T00:00:00",
                    "y": 118269.90590186177
                  },
                  {
                    "arrowhead": 2,
                    "ax": 20,
                    "ay": -30,
                    "font": {
                      "color": "blue",
                      "size": 10
                    },
                    "showarrow": true,
                    "text": "107003.0",
                    "x": "2020-03-10T00:00:00",
                    "y": 107003.30909670633
                  },
                  {
                    "arrowhead": 2,
                    "ax": 20,
                    "ay": -30,
                    "font": {
                      "color": "blue",
                      "size": 10
                    },
                    "showarrow": true,
                    "text": "119882.0",
                    "x": "2020-03-11T00:00:00",
                    "y": 119881.8013441441
                  },
                  {
                    "arrowhead": 2,
                    "ax": 20,
                    "ay": -30,
                    "font": {
                      "color": "blue",
                      "size": 10
                    },
                    "showarrow": true,
                    "text": "136872.0",
                    "x": "2020-03-12T00:00:00",
                    "y": 136871.69238031917
                  },
                  {
                    "arrowhead": 2,
                    "ax": 20,
                    "ay": -30,
                    "font": {
                      "color": "blue",
                      "size": 10
                    },
                    "showarrow": true,
                    "text": "155136.0",
                    "x": "2020-03-13T00:00:00",
                    "y": 155136.4056551946
                  },
                  {
                    "arrowhead": 2,
                    "ax": 20,
                    "ay": -30,
                    "font": {
                      "color": "blue",
                      "size": 10
                    },
                    "showarrow": true,
                    "text": "165786.0",
                    "x": "2020-03-14T00:00:00",
                    "y": 165785.9427271793
                  },
                  {
                    "arrowhead": 2,
                    "ax": 20,
                    "ay": -30,
                    "font": {
                      "color": "blue",
                      "size": 10
                    },
                    "showarrow": true,
                    "text": "166416.0",
                    "x": "2020-03-15T00:00:00",
                    "y": 166416.44517308107
                  },
                  {
                    "arrowhead": 2,
                    "ax": 20,
                    "ay": -30,
                    "font": {
                      "color": "blue",
                      "size": 10
                    },
                    "showarrow": true,
                    "text": "164136.0",
                    "x": "2020-03-16T00:00:00",
                    "y": 164136.49759605655
                  },
                  {
                    "arrowhead": 2,
                    "ax": 20,
                    "ay": -30,
                    "font": {
                      "color": "blue",
                      "size": 10
                    },
                    "showarrow": true,
                    "text": "176591.0",
                    "x": "2020-03-17T00:00:00",
                    "y": 176591.44380594546
                  },
                  {
                    "arrowhead": 2,
                    "ax": 20,
                    "ay": -30,
                    "font": {
                      "color": "blue",
                      "size": 10
                    },
                    "showarrow": true,
                    "text": "209480.0",
                    "x": "2020-03-18T00:00:00",
                    "y": 209480.06503333297
                  },
                  {
                    "arrowhead": 2,
                    "ax": 20,
                    "ay": -30,
                    "font": {
                      "color": "blue",
                      "size": 10
                    },
                    "showarrow": true,
                    "text": "246480.0",
                    "x": "2020-03-19T00:00:00",
                    "y": 246480.0850494573
                  },
                  {
                    "arrowhead": 2,
                    "ax": 20,
                    "ay": -30,
                    "font": {
                      "color": "blue",
                      "size": 10
                    },
                    "showarrow": true,
                    "text": "284755.0",
                    "x": "2020-03-20T00:00:00",
                    "y": 284754.92730426724
                  },
                  {
                    "arrowhead": 2,
                    "ax": 20,
                    "ay": -30,
                    "font": {
                      "color": "blue",
                      "size": 10
                    },
                    "showarrow": true,
                    "text": "315415.0",
                    "x": "2020-03-21T00:00:00",
                    "y": 315414.5933562124
                  },
                  {
                    "arrowhead": 2,
                    "ax": 20,
                    "ay": -30,
                    "font": {
                      "color": "blue",
                      "size": 10
                    },
                    "showarrow": true,
                    "text": "336055.0",
                    "x": "2020-03-22T00:00:00",
                    "y": 336055.2247820594
                  },
                  {
                    "arrowhead": 2,
                    "ax": 20,
                    "ay": -30,
                    "font": {
                      "color": "blue",
                      "size": 10
                    },
                    "showarrow": true,
                    "text": "380471.0",
                    "x": "2020-03-23T00:00:00",
                    "y": 380470.5722445925
                  },
                  {
                    "arrowhead": 2,
                    "ax": 20,
                    "ay": -30,
                    "font": {
                      "color": "blue",
                      "size": 10
                    },
                    "showarrow": true,
                    "text": "419611.0",
                    "x": "2020-03-24T00:00:00",
                    "y": 419610.6845141188
                  },
                  {
                    "arrowhead": 2,
                    "ax": 20,
                    "ay": -30,
                    "font": {
                      "color": "blue",
                      "size": 10
                    },
                    "showarrow": true,
                    "text": "479184.0",
                    "x": "2020-03-25T00:00:00",
                    "y": 479184.47180110076
                  },
                  {
                    "arrowhead": 2,
                    "ax": 20,
                    "ay": -30,
                    "font": {
                      "color": "blue",
                      "size": 10
                    },
                    "showarrow": true,
                    "text": "542870.0",
                    "x": "2020-03-26T00:00:00",
                    "y": 542869.6578769073
                  },
                  {
                    "arrowhead": 2,
                    "ax": 20,
                    "ay": -30,
                    "font": {
                      "color": "blue",
                      "size": 10
                    },
                    "showarrow": true,
                    "text": "607830.0",
                    "x": "2020-03-27T00:00:00",
                    "y": 607829.6661913213
                  },
                  {
                    "arrowhead": 2,
                    "ax": 20,
                    "ay": -30,
                    "font": {
                      "color": "blue",
                      "size": 10
                    },
                    "showarrow": true,
                    "text": "665174.0",
                    "x": "2020-03-28T00:00:00",
                    "y": 665174.4983028808
                  },
                  {
                    "arrowhead": 2,
                    "ax": 20,
                    "ay": -30,
                    "font": {
                      "color": "blue",
                      "size": 10
                    },
                    "showarrow": true,
                    "text": "735005.0",
                    "x": "2020-03-29T00:00:00",
                    "y": 735005.4996925514
                  },
                  {
                    "arrowhead": 2,
                    "ax": 20,
                    "ay": -30,
                    "font": {
                      "color": "blue",
                      "size": 10
                    },
                    "showarrow": true,
                    "text": "801926.0",
                    "x": "2020-03-30T00:00:00",
                    "y": 801926.051059278
                  },
                  {
                    "arrowhead": 2,
                    "ax": 20,
                    "ay": -30,
                    "font": {
                      "color": "blue",
                      "size": 10
                    },
                    "showarrow": true,
                    "text": "863571.0",
                    "x": "2020-03-31T00:00:00",
                    "y": 863571.3672330319
                  },
                  {
                    "arrowhead": 2,
                    "ax": 20,
                    "ay": -30,
                    "font": {
                      "color": "blue",
                      "size": 10
                    },
                    "showarrow": true,
                    "text": "945650.0",
                    "x": "2020-04-01T00:00:00",
                    "y": 945650.3584242008
                  },
                  {
                    "arrowhead": 2,
                    "ax": 20,
                    "ay": -30,
                    "font": {
                      "color": "blue",
                      "size": 10
                    },
                    "showarrow": true,
                    "text": "1031841.0",
                    "x": "2020-04-02T00:00:00",
                    "y": 1031840.7484042009
                  },
                  {
                    "arrowhead": 2,
                    "ax": 20,
                    "ay": -30,
                    "font": {
                      "color": "blue",
                      "size": 10
                    },
                    "showarrow": true,
                    "text": "1119306.0",
                    "x": "2020-04-03T00:00:00",
                    "y": 1119305.9606228257
                  },
                  {
                    "arrowhead": 2,
                    "ax": 20,
                    "ay": -30,
                    "font": {
                      "color": "blue",
                      "size": 10
                    },
                    "showarrow": true,
                    "text": "1202962.0",
                    "x": "2020-04-04T00:00:00",
                    "y": 1202962.3012522853
                  },
                  {
                    "arrowhead": 2,
                    "ax": 20,
                    "ay": -30,
                    "font": {
                      "color": "blue",
                      "size": 10
                    },
                    "showarrow": true,
                    "text": "1276600.0",
                    "x": "2020-04-05T00:00:00",
                    "y": 1276599.6072556674
                  },
                  {
                    "arrowhead": 2,
                    "ax": 20,
                    "ay": -30,
                    "font": {
                      "color": "blue",
                      "size": 10
                    },
                    "showarrow": true,
                    "text": "1347326.0",
                    "x": "2020-04-06T00:00:00",
                    "y": 1347326.463236061
                  },
                  {
                    "arrowhead": 2,
                    "ax": 20,
                    "ay": -30,
                    "font": {
                      "color": "blue",
                      "size": 10
                    },
                    "showarrow": true,
                    "text": "1412778.0",
                    "x": "2020-04-07T00:00:00",
                    "y": 1412778.0840235183
                  },
                  {
                    "arrowhead": 2,
                    "ax": 20,
                    "ay": -30,
                    "font": {
                      "color": "blue",
                      "size": 10
                    },
                    "showarrow": true,
                    "text": "1498663.0",
                    "x": "2020-04-08T00:00:00",
                    "y": 1498663.3798284023
                  },
                  {
                    "arrowhead": 2,
                    "ax": 20,
                    "ay": -30,
                    "font": {
                      "color": "blue",
                      "size": 10
                    },
                    "showarrow": true,
                    "text": "1588898.0",
                    "x": "2020-04-09T00:00:00",
                    "y": 1588898.3082052162
                  },
                  {
                    "arrowhead": 2,
                    "ax": 20,
                    "ay": -30,
                    "font": {
                      "color": "blue",
                      "size": 10
                    },
                    "showarrow": true,
                    "text": "1680408.0",
                    "x": "2020-04-10T00:00:00",
                    "y": 1680408.0588206605
                  },
                  {
                    "arrowhead": 2,
                    "ax": 20,
                    "ay": -30,
                    "font": {
                      "color": "blue",
                      "size": 10
                    },
                    "showarrow": true,
                    "text": "1764303.0",
                    "x": "2020-04-11T00:00:00",
                    "y": 1764302.6332332082
                  },
                  {
                    "arrowhead": 2,
                    "ax": 20,
                    "ay": -30,
                    "font": {
                      "color": "blue",
                      "size": 10
                    },
                    "showarrow": true,
                    "text": "1838178.0",
                    "x": "2020-04-12T00:00:00",
                    "y": 1838178.1730197063
                  },
                  {
                    "arrowhead": 2,
                    "ax": 20,
                    "ay": -30,
                    "font": {
                      "color": "blue",
                      "size": 10
                    },
                    "showarrow": true,
                    "text": "1909143.0",
                    "x": "2020-04-13T00:00:00",
                    "y": 1909143.2627832084
                  },
                  {
                    "arrowhead": 2,
                    "ax": 20,
                    "ay": -30,
                    "font": {
                      "color": "blue",
                      "size": 10
                    },
                    "showarrow": true,
                    "text": "1974833.0",
                    "x": "2020-04-14T00:00:00",
                    "y": 1974833.1173537904
                  },
                  {
                    "arrowhead": 2,
                    "ax": 20,
                    "ay": -30,
                    "font": {
                      "color": "blue",
                      "size": 10
                    },
                    "showarrow": true,
                    "text": "2061029.0",
                    "x": "2020-04-15T00:00:00",
                    "y": 2061028.5827605985
                  },
                  {
                    "arrowhead": 2,
                    "ax": 20,
                    "ay": -30,
                    "font": {
                      "color": "blue",
                      "size": 10
                    },
                    "showarrow": true,
                    "text": "2151335.0",
                    "x": "2020-04-16T00:00:00",
                    "y": 2151335.4469561647
                  },
                  {
                    "arrowhead": 2,
                    "ax": 20,
                    "ay": -30,
                    "font": {
                      "color": "blue",
                      "size": 10
                    },
                    "showarrow": true,
                    "text": "2242917.0",
                    "x": "2020-04-17T00:00:00",
                    "y": 2242917.1333904364
                  },
                  {
                    "arrowhead": 2,
                    "ax": 20,
                    "ay": -30,
                    "font": {
                      "color": "blue",
                      "size": 10
                    },
                    "showarrow": true,
                    "text": "2326884.0",
                    "x": "2020-04-18T00:00:00",
                    "y": 2326883.6436218107
                  },
                  {
                    "arrowhead": 2,
                    "ax": 20,
                    "ay": -30,
                    "font": {
                      "color": "blue",
                      "size": 10
                    },
                    "showarrow": true,
                    "text": "2400831.0",
                    "x": "2020-04-19T00:00:00",
                    "y": 2400831.1192270922
                  },
                  {
                    "arrowhead": 2,
                    "ax": 20,
                    "ay": -30,
                    "font": {
                      "color": "blue",
                      "size": 10
                    },
                    "showarrow": true,
                    "text": "2471868.0",
                    "x": "2020-04-20T00:00:00",
                    "y": 2471868.144809383
                  },
                  {
                    "arrowhead": 2,
                    "ax": 20,
                    "ay": -30,
                    "font": {
                      "color": "blue",
                      "size": 10
                    },
                    "showarrow": true,
                    "text": "2537630.0",
                    "x": "2020-04-21T00:00:00",
                    "y": 2537629.9367530146
                  },
                  {
                    "arrowhead": 2,
                    "ax": 20,
                    "ay": -30,
                    "font": {
                      "color": "blue",
                      "size": 10
                    },
                    "showarrow": true,
                    "text": "2623825.0",
                    "x": "2020-04-22T00:00:00",
                    "y": 2623825.4037140408
                  },
                  {
                    "arrowhead": 2,
                    "ax": 20,
                    "ay": -30,
                    "font": {
                      "color": "blue",
                      "size": 10
                    },
                    "showarrow": true,
                    "text": "2714132.0",
                    "x": "2020-04-23T00:00:00",
                    "y": 2714132.2694638316
                  },
                  {
                    "arrowhead": 2,
                    "ax": 20,
                    "ay": -30,
                    "font": {
                      "color": "blue",
                      "size": 10
                    },
                    "showarrow": true,
                    "text": "2805714.0",
                    "x": "2020-04-24T00:00:00",
                    "y": 2805713.9574523307
                  },
                  {
                    "arrowhead": 2,
                    "ax": 20,
                    "ay": -30,
                    "font": {
                      "color": "blue",
                      "size": 10
                    },
                    "showarrow": true,
                    "text": "2889680.0",
                    "x": "2020-04-25T00:00:00",
                    "y": 2889680.469237903
                  },
                  {
                    "arrowhead": 2,
                    "ax": 20,
                    "ay": -30,
                    "font": {
                      "color": "blue",
                      "size": 10
                    },
                    "showarrow": true,
                    "text": "2963628.0",
                    "x": "2020-04-26T00:00:00",
                    "y": 2963627.946397412
                  },
                  {
                    "arrowhead": 2,
                    "ax": 20,
                    "ay": -30,
                    "font": {
                      "color": "blue",
                      "size": 10
                    },
                    "showarrow": true,
                    "text": "3034860.0",
                    "x": "2020-04-27T00:00:00",
                    "y": 3034860.365987884
                  },
                  {
                    "arrowhead": 2,
                    "ax": 20,
                    "ay": -30,
                    "font": {
                      "color": "blue",
                      "size": 10
                    },
                    "showarrow": true,
                    "text": "3100818.0",
                    "x": "2020-04-28T00:00:00",
                    "y": 3100817.55038536
                  },
                  {
                    "arrowhead": 2,
                    "ax": 20,
                    "ay": -30,
                    "font": {
                      "color": "blue",
                      "size": 10
                    },
                    "showarrow": true,
                    "text": "3187208.0",
                    "x": "2020-04-29T00:00:00",
                    "y": 3187208.4098002864
                  },
                  {
                    "arrowhead": 2,
                    "ax": 20,
                    "ay": -30,
                    "font": {
                      "color": "blue",
                      "size": 10
                    },
                    "showarrow": true,
                    "text": "3277711.0",
                    "x": "2020-04-30T00:00:00",
                    "y": 3277710.6680039787
                  },
                  {
                    "arrowhead": 2,
                    "ax": 20,
                    "ay": -30,
                    "font": {
                      "color": "blue",
                      "size": 10
                    },
                    "showarrow": true,
                    "text": "3369488.0",
                    "x": "2020-05-01T00:00:00",
                    "y": 3369487.748446337
                  },
                  {
                    "arrowhead": 2,
                    "ax": 20,
                    "ay": -30,
                    "font": {
                      "color": "blue",
                      "size": 10
                    },
                    "showarrow": true,
                    "text": "3453650.0",
                    "x": "2020-05-02T00:00:00",
                    "y": 3453649.6526858513
                  },
                  {
                    "arrowhead": 2,
                    "ax": 20,
                    "ay": -30,
                    "font": {
                      "color": "blue",
                      "size": 10
                    },
                    "showarrow": true,
                    "text": "3528810.0",
                    "x": "2020-05-03T00:00:00",
                    "y": 3528809.8881962746
                  },
                  {
                    "arrowhead": 2,
                    "ax": 20,
                    "ay": -30,
                    "font": {
                      "color": "blue",
                      "size": 10
                    },
                    "showarrow": true,
                    "text": "3601060.0",
                    "x": "2020-05-04T00:00:00",
                    "y": 3601059.6736837556
                  },
                  {
                    "arrowhead": 2,
                    "ax": 20,
                    "ay": -30,
                    "font": {
                      "color": "blue",
                      "size": 10
                    },
                    "showarrow": true,
                    "text": "3668034.0",
                    "x": "2020-05-05T00:00:00",
                    "y": 3668034.223978262
                  },
                  {
                    "arrowhead": 2,
                    "ax": 20,
                    "ay": -30,
                    "font": {
                      "color": "blue",
                      "size": 10
                    },
                    "showarrow": true,
                    "text": "3755442.0",
                    "x": "2020-05-06T00:00:00",
                    "y": 3755442.4492902257
                  },
                  {
                    "arrowhead": 2,
                    "ax": 20,
                    "ay": -30,
                    "font": {
                      "color": "blue",
                      "size": 10
                    },
                    "showarrow": true,
                    "text": "3846962.0",
                    "x": "2020-05-07T00:00:00",
                    "y": 3846962.0733909397
                  },
                  {
                    "arrowhead": 2,
                    "ax": 20,
                    "ay": -30,
                    "font": {
                      "color": "blue",
                      "size": 10
                    },
                    "showarrow": true,
                    "text": "3939757.0",
                    "x": "2020-05-08T00:00:00",
                    "y": 3939756.519730319
                  },
                  {
                    "arrowhead": 2,
                    "ax": 20,
                    "ay": -30,
                    "font": {
                      "color": "blue",
                      "size": 10
                    },
                    "showarrow": true,
                    "text": "4028465.0",
                    "x": "2020-05-09T00:00:00",
                    "y": 4028465.266398011
                  },
                  {
                    "arrowhead": 2,
                    "ax": 20,
                    "ay": -30,
                    "font": {
                      "color": "blue",
                      "size": 10
                    },
                    "showarrow": true,
                    "text": "4107155.0",
                    "x": "2020-05-10T00:00:00",
                    "y": 4107154.978439582
                  },
                  {
                    "arrowhead": 2,
                    "ax": 20,
                    "ay": -30,
                    "font": {
                      "color": "blue",
                      "size": 10
                    },
                    "showarrow": true,
                    "text": "4182934.0",
                    "x": "2020-05-11T00:00:00",
                    "y": 4182934.2404582384
                  },
                  {
                    "arrowhead": 2,
                    "ax": 20,
                    "ay": -30,
                    "font": {
                      "color": "blue",
                      "size": 10
                    },
                    "showarrow": true,
                    "text": "4253438.0",
                    "x": "2020-05-12T00:00:00",
                    "y": 4253438.26728392
                  },
                  {
                    "arrowhead": 2,
                    "ax": 20,
                    "ay": -30,
                    "font": {
                      "color": "blue",
                      "size": 10
                    },
                    "showarrow": true,
                    "text": "4344376.0",
                    "x": "2020-05-13T00:00:00",
                    "y": 4344375.9691270245
                  },
                  {
                    "arrowhead": 2,
                    "ax": 20,
                    "ay": -30,
                    "font": {
                      "color": "blue",
                      "size": 10
                    },
                    "showarrow": true,
                    "text": "4439425.0",
                    "x": "2020-05-14T00:00:00",
                    "y": 4439425.069758936
                  },
                  {
                    "arrowhead": 2,
                    "ax": 20,
                    "ay": -30,
                    "font": {
                      "color": "blue",
                      "size": 10
                    },
                    "showarrow": true,
                    "text": "4543886.0",
                    "x": "2020-05-15T00:00:00",
                    "y": 4543886.245317879
                  },
                  {
                    "arrowhead": 2,
                    "ax": 20,
                    "ay": -30,
                    "font": {
                      "color": "blue",
                      "size": 10
                    },
                    "showarrow": true,
                    "text": "4640732.0",
                    "x": "2020-05-16T00:00:00",
                    "y": 4640732.244673961
                  },
                  {
                    "arrowhead": 2,
                    "ax": 20,
                    "ay": -30,
                    "font": {
                      "color": "blue",
                      "size": 10
                    },
                    "showarrow": true,
                    "text": "4727559.0",
                    "x": "2020-05-17T00:00:00",
                    "y": 4727559.209403922
                  },
                  {
                    "arrowhead": 2,
                    "ax": 20,
                    "ay": -30,
                    "font": {
                      "color": "blue",
                      "size": 10
                    },
                    "showarrow": true,
                    "text": "4811476.0",
                    "x": "2020-05-18T00:00:00",
                    "y": 4811475.724111018
                  },
                  {
                    "arrowhead": 2,
                    "ax": 20,
                    "ay": -30,
                    "font": {
                      "color": "blue",
                      "size": 10
                    },
                    "showarrow": true,
                    "text": "4890117.0",
                    "x": "2020-05-19T00:00:00",
                    "y": 4890117.003625033
                  },
                  {
                    "arrowhead": 2,
                    "ax": 20,
                    "ay": -30,
                    "font": {
                      "color": "blue",
                      "size": 10
                    },
                    "showarrow": true,
                    "text": "4989192.0",
                    "x": "2020-05-20T00:00:00",
                    "y": 4989191.958156538
                  },
                  {
                    "arrowhead": 2,
                    "ax": 20,
                    "ay": -30,
                    "font": {
                      "color": "blue",
                      "size": 10
                    },
                    "showarrow": true,
                    "text": "5102825.0",
                    "x": "2020-05-21T00:00:00",
                    "y": 5102825.176348146
                  },
                  {
                    "arrowhead": 2,
                    "ax": 20,
                    "ay": -30,
                    "font": {
                      "color": "blue",
                      "size": 10
                    },
                    "showarrow": true,
                    "text": "5217733.0",
                    "x": "2020-05-22T00:00:00",
                    "y": 5217733.21677835
                  },
                  {
                    "arrowhead": 2,
                    "ax": 20,
                    "ay": -30,
                    "font": {
                      "color": "blue",
                      "size": 10
                    },
                    "showarrow": true,
                    "text": "5325026.0",
                    "x": "2020-05-23T00:00:00",
                    "y": 5325026.081005705
                  },
                  {
                    "arrowhead": 2,
                    "ax": 20,
                    "ay": -30,
                    "font": {
                      "color": "blue",
                      "size": 10
                    },
                    "showarrow": true,
                    "text": "5422300.0",
                    "x": "2020-05-24T00:00:00",
                    "y": 5422299.910606983
                  },
                  {
                    "arrowhead": 2,
                    "ax": 20,
                    "ay": -30,
                    "font": {
                      "color": "blue",
                      "size": 10
                    },
                    "showarrow": true,
                    "text": "5516663.0",
                    "x": "2020-05-25T00:00:00",
                    "y": 5516663.290185324
                  },
                  {
                    "arrowhead": 2,
                    "ax": 20,
                    "ay": -30,
                    "font": {
                      "color": "blue",
                      "size": 10
                    },
                    "showarrow": true,
                    "text": "5605751.0",
                    "x": "2020-05-26T00:00:00",
                    "y": 5605751.434570634
                  },
                  {
                    "arrowhead": 2,
                    "ax": 20,
                    "ay": -30,
                    "font": {
                      "color": "blue",
                      "size": 10
                    },
                    "showarrow": true,
                    "text": "5726935.0",
                    "x": "2020-05-27T00:00:00",
                    "y": 5726934.91566418
                  },
                  {
                    "arrowhead": 2,
                    "ax": 20,
                    "ay": -30,
                    "font": {
                      "color": "blue",
                      "size": 10
                    },
                    "showarrow": true,
                    "text": "5852230.0",
                    "x": "2020-05-28T00:00:00",
                    "y": 5852229.79554649
                  },
                  {
                    "arrowhead": 2,
                    "ax": 20,
                    "ay": -30,
                    "font": {
                      "color": "blue",
                      "size": 10
                    },
                    "showarrow": true,
                    "text": "5978799.0",
                    "x": "2020-05-29T00:00:00",
                    "y": 5978799.497667458
                  },
                  {
                    "arrowhead": 2,
                    "ax": 20,
                    "ay": -30,
                    "font": {
                      "color": "blue",
                      "size": 10
                    },
                    "showarrow": true,
                    "text": "6097754.0",
                    "x": "2020-05-30T00:00:00",
                    "y": 6097754.023585574
                  },
                  {
                    "arrowhead": 2,
                    "ax": 20,
                    "ay": -30,
                    "font": {
                      "color": "blue",
                      "size": 10
                    },
                    "showarrow": true,
                    "text": "6206690.0",
                    "x": "2020-05-31T00:00:00",
                    "y": 6206689.514877605
                  },
                  {
                    "arrowhead": 2,
                    "ax": 20,
                    "ay": -30,
                    "font": {
                      "color": "blue",
                      "size": 10
                    },
                    "showarrow": true,
                    "text": "6312715.0",
                    "x": "2020-06-01T00:00:00",
                    "y": 6312714.556146698
                  },
                  {
                    "arrowhead": 2,
                    "ax": 20,
                    "ay": -30,
                    "font": {
                      "color": "blue",
                      "size": 10
                    },
                    "showarrow": true,
                    "text": "6413464.0",
                    "x": "2020-06-02T00:00:00",
                    "y": 6413464.407893531
                  },
                  {
                    "arrowhead": 2,
                    "ax": 20,
                    "ay": -30,
                    "font": {
                      "color": "blue",
                      "size": 10
                    },
                    "showarrow": true,
                    "text": "6534648.0",
                    "x": "2020-06-03T00:00:00",
                    "y": 6534647.934657864
                  },
                  {
                    "arrowhead": 2,
                    "ax": 20,
                    "ay": -30,
                    "font": {
                      "color": "blue",
                      "size": 10
                    },
                    "showarrow": true,
                    "text": "6659943.0",
                    "x": "2020-06-04T00:00:00",
                    "y": 6659942.860210948
                  },
                  {
                    "arrowhead": 2,
                    "ax": 20,
                    "ay": -30,
                    "font": {
                      "color": "blue",
                      "size": 10
                    },
                    "showarrow": true,
                    "text": "6786513.0",
                    "x": "2020-06-05T00:00:00",
                    "y": 6786512.6080026915
                  },
                  {
                    "arrowhead": 2,
                    "ax": 20,
                    "ay": -30,
                    "font": {
                      "color": "blue",
                      "size": 10
                    },
                    "showarrow": true,
                    "text": "6905467.0",
                    "x": "2020-06-06T00:00:00",
                    "y": 6905467.179591568
                  },
                  {
                    "arrowhead": 2,
                    "ax": 20,
                    "ay": -30,
                    "font": {
                      "color": "blue",
                      "size": 10
                    },
                    "showarrow": true,
                    "text": "7014403.0",
                    "x": "2020-06-07T00:00:00",
                    "y": 7014402.71655436
                  },
                  {
                    "arrowhead": 2,
                    "ax": 20,
                    "ay": -30,
                    "font": {
                      "color": "blue",
                      "size": 10
                    },
                    "showarrow": true,
                    "text": "7120428.0",
                    "x": "2020-06-08T00:00:00",
                    "y": 7120427.802299048
                  },
                  {
                    "arrowhead": 2,
                    "ax": 20,
                    "ay": -30,
                    "font": {
                      "color": "blue",
                      "size": 10
                    },
                    "showarrow": true,
                    "text": "7221178.0",
                    "x": "2020-06-09T00:00:00",
                    "y": 7221177.6528507415
                  },
                  {
                    "arrowhead": 2,
                    "ax": 20,
                    "ay": -30,
                    "font": {
                      "color": "blue",
                      "size": 10
                    },
                    "showarrow": true,
                    "text": "7342361.0",
                    "x": "2020-06-10T00:00:00",
                    "y": 7342361.178419901
                  },
                  {
                    "arrowhead": 2,
                    "ax": 20,
                    "ay": -30,
                    "font": {
                      "color": "blue",
                      "size": 10
                    },
                    "showarrow": true,
                    "text": "7467656.0",
                    "x": "2020-06-11T00:00:00",
                    "y": 7467656.102777801
                  },
                  {
                    "arrowhead": 2,
                    "ax": 20,
                    "ay": -30,
                    "font": {
                      "color": "blue",
                      "size": 10
                    },
                    "showarrow": true,
                    "text": "7594226.0",
                    "x": "2020-06-12T00:00:00",
                    "y": 7594225.849374364
                  },
                  {
                    "arrowhead": 2,
                    "ax": 20,
                    "ay": -30,
                    "font": {
                      "color": "blue",
                      "size": 10
                    },
                    "showarrow": true,
                    "text": "7713180.0",
                    "x": "2020-06-13T00:00:00",
                    "y": 7713180.419768086
                  },
                  {
                    "arrowhead": 2,
                    "ax": 20,
                    "ay": -30,
                    "font": {
                      "color": "blue",
                      "size": 10
                    },
                    "showarrow": true,
                    "text": "7819375.0",
                    "x": "2020-06-14T00:00:00",
                    "y": 7819375.012926707
                  },
                  {
                    "arrowhead": 2,
                    "ax": 20,
                    "ay": -30,
                    "font": {
                      "color": "blue",
                      "size": 10
                    },
                    "showarrow": true,
                    "text": "7922659.0",
                    "x": "2020-06-15T00:00:00",
                    "y": 7922659.156062333
                  },
                  {
                    "arrowhead": 2,
                    "ax": 20,
                    "ay": -30,
                    "font": {
                      "color": "blue",
                      "size": 10
                    },
                    "showarrow": true,
                    "text": "8020668.0",
                    "x": "2020-06-16T00:00:00",
                    "y": 8020668.064005004
                  },
                  {
                    "arrowhead": 2,
                    "ax": 20,
                    "ay": -30,
                    "font": {
                      "color": "blue",
                      "size": 10
                    },
                    "showarrow": true,
                    "text": "8139111.0",
                    "x": "2020-06-17T00:00:00",
                    "y": 8139110.646965148
                  },
                  {
                    "arrowhead": 2,
                    "ax": 20,
                    "ay": -30,
                    "font": {
                      "color": "blue",
                      "size": 10
                    },
                    "showarrow": true,
                    "text": "8261665.0",
                    "x": "2020-06-18T00:00:00",
                    "y": 8261664.62871403
                  },
                  {
                    "arrowhead": 2,
                    "ax": 20,
                    "ay": -30,
                    "font": {
                      "color": "blue",
                      "size": 10
                    },
                    "showarrow": true,
                    "text": "8385493.0",
                    "x": "2020-06-19T00:00:00",
                    "y": 8385493.432701566
                  },
                  {
                    "arrowhead": 2,
                    "ax": 20,
                    "ay": -30,
                    "font": {
                      "color": "blue",
                      "size": 10
                    },
                    "showarrow": true,
                    "text": "8593302.0",
                    "x": "2020-06-20T00:00:00",
                    "y": 8593301.542093204
                  },
                  {
                    "arrowhead": 2,
                    "ax": 20,
                    "ay": -30,
                    "font": {
                      "color": "blue",
                      "size": 10
                    },
                    "showarrow": true,
                    "text": "8791091.0",
                    "x": "2020-06-21T00:00:00",
                    "y": 8791090.616858764
                  },
                  {
                    "arrowhead": 2,
                    "ax": 20,
                    "ay": -30,
                    "font": {
                      "color": "blue",
                      "size": 10
                    },
                    "showarrow": true,
                    "text": "8985969.0",
                    "x": "2020-06-22T00:00:00",
                    "y": 8985969.241601335
                  },
                  {
                    "arrowhead": 2,
                    "ax": 20,
                    "ay": -30,
                    "font": {
                      "color": "blue",
                      "size": 10
                    },
                    "showarrow": true,
                    "text": "9175573.0",
                    "x": "2020-06-23T00:00:00",
                    "y": 9175572.631150974
                  },
                  {
                    "arrowhead": 2,
                    "ax": 20,
                    "ay": -30,
                    "font": {
                      "color": "blue",
                      "size": 10
                    },
                    "showarrow": true,
                    "text": "9385610.0",
                    "x": "2020-06-24T00:00:00",
                    "y": 9385609.69571807
                  },
                  {
                    "arrowhead": 2,
                    "ax": 20,
                    "ay": -30,
                    "font": {
                      "color": "blue",
                      "size": 10
                    },
                    "showarrow": true,
                    "text": "9599758.0",
                    "x": "2020-06-25T00:00:00",
                    "y": 9599758.159073858
                  },
                  {
                    "arrowhead": 2,
                    "ax": 20,
                    "ay": -30,
                    "font": {
                      "color": "blue",
                      "size": 10
                    },
                    "showarrow": true,
                    "text": "9815181.0",
                    "x": "2020-06-26T00:00:00",
                    "y": 9815181.444668394
                  },
                  {
                    "arrowhead": 2,
                    "ax": 20,
                    "ay": -30,
                    "font": {
                      "color": "blue",
                      "size": 10
                    },
                    "showarrow": true,
                    "text": "10022990.0",
                    "x": "2020-06-27T00:00:00",
                    "y": 10022989.554060016
                  },
                  {
                    "arrowhead": 2,
                    "ax": 20,
                    "ay": -30,
                    "font": {
                      "color": "blue",
                      "size": 10
                    },
                    "showarrow": true,
                    "text": "10220779.0",
                    "x": "2020-06-28T00:00:00",
                    "y": 10220778.628825588
                  },
                  {
                    "arrowhead": 2,
                    "ax": 20,
                    "ay": -30,
                    "font": {
                      "color": "blue",
                      "size": 10
                    },
                    "showarrow": true,
                    "text": "10415657.0",
                    "x": "2020-06-29T00:00:00",
                    "y": 10415657.253568146
                  },
                  {
                    "arrowhead": 2,
                    "ax": 20,
                    "ay": -30,
                    "font": {
                      "color": "blue",
                      "size": 10
                    },
                    "showarrow": true,
                    "text": "10605261.0",
                    "x": "2020-06-30T00:00:00",
                    "y": 10605260.643117787
                  },
                  {
                    "arrowhead": 2,
                    "ax": 20,
                    "ay": -30,
                    "font": {
                      "color": "blue",
                      "size": 10
                    },
                    "showarrow": true,
                    "text": "10815298.0",
                    "x": "2020-07-01T00:00:00",
                    "y": 10815297.707684858
                  },
                  {
                    "arrowhead": 2,
                    "ax": 20,
                    "ay": -30,
                    "font": {
                      "color": "blue",
                      "size": 10
                    },
                    "showarrow": true,
                    "text": "11029446.0",
                    "x": "2020-07-02T00:00:00",
                    "y": 11029446.171040695
                  },
                  {
                    "arrowhead": 2,
                    "ax": 20,
                    "ay": -30,
                    "font": {
                      "color": "blue",
                      "size": 10
                    },
                    "showarrow": true,
                    "text": "11244869.0",
                    "x": "2020-07-03T00:00:00",
                    "y": 11244869.45663523
                  },
                  {
                    "arrowhead": 2,
                    "ax": 20,
                    "ay": -30,
                    "font": {
                      "color": "blue",
                      "size": 10
                    },
                    "showarrow": true,
                    "text": "11452678.0",
                    "x": "2020-07-04T00:00:00",
                    "y": 11452677.566026853
                  },
                  {
                    "arrowhead": 2,
                    "ax": 20,
                    "ay": -30,
                    "font": {
                      "color": "blue",
                      "size": 10
                    },
                    "showarrow": true,
                    "text": "11650467.0",
                    "x": "2020-07-05T00:00:00",
                    "y": 11650466.64079239
                  },
                  {
                    "arrowhead": 2,
                    "ax": 20,
                    "ay": -30,
                    "font": {
                      "color": "blue",
                      "size": 10
                    },
                    "showarrow": true,
                    "text": "11845345.0",
                    "x": "2020-07-06T00:00:00",
                    "y": 11845345.265535016
                  },
                  {
                    "arrowhead": 2,
                    "ax": 20,
                    "ay": -30,
                    "font": {
                      "color": "blue",
                      "size": 10
                    },
                    "showarrow": true,
                    "text": "12034949.0",
                    "x": "2020-07-07T00:00:00",
                    "y": 12034948.655084604
                  },
                  {
                    "arrowhead": 2,
                    "ax": 20,
                    "ay": -30,
                    "font": {
                      "color": "blue",
                      "size": 10
                    },
                    "showarrow": true,
                    "text": "12244986.0",
                    "x": "2020-07-08T00:00:00",
                    "y": 12244985.719651693
                  },
                  {
                    "arrowhead": 2,
                    "ax": 20,
                    "ay": -30,
                    "font": {
                      "color": "blue",
                      "size": 10
                    },
                    "showarrow": true,
                    "text": "12459134.0",
                    "x": "2020-07-09T00:00:00",
                    "y": 12459134.183007514
                  },
                  {
                    "arrowhead": 2,
                    "ax": 20,
                    "ay": -30,
                    "font": {
                      "color": "blue",
                      "size": 10
                    },
                    "showarrow": true,
                    "text": "12674557.0",
                    "x": "2020-07-10T00:00:00",
                    "y": 12674557.468602048
                  },
                  {
                    "arrowhead": 2,
                    "ax": 20,
                    "ay": -30,
                    "font": {
                      "color": "blue",
                      "size": 10
                    },
                    "showarrow": true,
                    "text": "12882366.0",
                    "x": "2020-07-11T00:00:00",
                    "y": 12882365.577993667
                  },
                  {
                    "arrowhead": 2,
                    "ax": 20,
                    "ay": -30,
                    "font": {
                      "color": "blue",
                      "size": 10
                    },
                    "showarrow": true,
                    "text": "13080155.0",
                    "x": "2020-07-12T00:00:00",
                    "y": 13080154.652759215
                  },
                  {
                    "arrowhead": 2,
                    "ax": 20,
                    "ay": -30,
                    "font": {
                      "color": "blue",
                      "size": 10
                    },
                    "showarrow": true,
                    "text": "13275033.0",
                    "x": "2020-07-13T00:00:00",
                    "y": 13275033.27750183
                  },
                  {
                    "arrowhead": 2,
                    "ax": 20,
                    "ay": -30,
                    "font": {
                      "color": "blue",
                      "size": 10
                    },
                    "showarrow": true,
                    "text": "13464637.0",
                    "x": "2020-07-14T00:00:00",
                    "y": 13464636.667051423
                  },
                  {
                    "arrowhead": 2,
                    "ax": 20,
                    "ay": -30,
                    "font": {
                      "color": "blue",
                      "size": 10
                    },
                    "showarrow": true,
                    "text": "13674674.0",
                    "x": "2020-07-15T00:00:00",
                    "y": 13674673.731618516
                  },
                  {
                    "arrowhead": 2,
                    "ax": 20,
                    "ay": -30,
                    "font": {
                      "color": "blue",
                      "size": 10
                    },
                    "showarrow": true,
                    "text": "13888822.0",
                    "x": "2020-07-16T00:00:00",
                    "y": 13888822.194974363
                  },
                  {
                    "arrowhead": 2,
                    "ax": 20,
                    "ay": -30,
                    "font": {
                      "color": "blue",
                      "size": 10
                    },
                    "showarrow": true,
                    "text": "14104245.0",
                    "x": "2020-07-17T00:00:00",
                    "y": 14104245.480568849
                  },
                  {
                    "arrowhead": 2,
                    "ax": 20,
                    "ay": -30,
                    "font": {
                      "color": "blue",
                      "size": 10
                    },
                    "showarrow": true,
                    "text": "14312054.0",
                    "x": "2020-07-18T00:00:00",
                    "y": 14312053.5899605
                  },
                  {
                    "arrowhead": 2,
                    "ax": 20,
                    "ay": -30,
                    "font": {
                      "color": "blue",
                      "size": 10
                    },
                    "showarrow": true,
                    "text": "14509843.0",
                    "x": "2020-07-19T00:00:00",
                    "y": 14509842.66472604
                  },
                  {
                    "arrowhead": 2,
                    "ax": 20,
                    "ay": -30,
                    "font": {
                      "color": "blue",
                      "size": 10
                    },
                    "showarrow": true,
                    "text": "14704721.0",
                    "x": "2020-07-20T00:00:00",
                    "y": 14704721.289468637
                  },
                  {
                    "arrowhead": 2,
                    "ax": 20,
                    "ay": -30,
                    "font": {
                      "color": "blue",
                      "size": 10
                    },
                    "showarrow": true,
                    "text": "14894325.0",
                    "x": "2020-07-21T00:00:00",
                    "y": 14894324.679018237
                  },
                  {
                    "arrowhead": 2,
                    "ax": 20,
                    "ay": -30,
                    "font": {
                      "color": "blue",
                      "size": 10
                    },
                    "showarrow": true,
                    "text": "15104362.0",
                    "x": "2020-07-22T00:00:00",
                    "y": 15104361.743585315
                  },
                  {
                    "arrowhead": 2,
                    "ax": 20,
                    "ay": -30,
                    "font": {
                      "color": "blue",
                      "size": 10
                    },
                    "showarrow": true,
                    "text": "15318510.0",
                    "x": "2020-07-23T00:00:00",
                    "y": 15318510.206941187
                  },
                  {
                    "arrowhead": 2,
                    "ax": 20,
                    "ay": -30,
                    "font": {
                      "color": "blue",
                      "size": 10
                    },
                    "showarrow": true,
                    "text": "15533933.0",
                    "x": "2020-07-24T00:00:00",
                    "y": 15533933.492535677
                  },
                  {
                    "arrowhead": 2,
                    "ax": 20,
                    "ay": -30,
                    "font": {
                      "color": "blue",
                      "size": 10
                    },
                    "showarrow": true,
                    "text": "15741742.0",
                    "x": "2020-07-25T00:00:00",
                    "y": 15741741.601927316
                  },
                  {
                    "arrowhead": 2,
                    "ax": 20,
                    "ay": -30,
                    "font": {
                      "color": "blue",
                      "size": 10
                    },
                    "showarrow": true,
                    "text": "15939531.0",
                    "x": "2020-07-26T00:00:00",
                    "y": 15939530.676692849
                  },
                  {
                    "arrowhead": 2,
                    "ax": 20,
                    "ay": -30,
                    "font": {
                      "color": "blue",
                      "size": 10
                    },
                    "showarrow": true,
                    "text": "16134409.0",
                    "x": "2020-07-27T00:00:00",
                    "y": 16134409.301435456
                  },
                  {
                    "arrowhead": 2,
                    "ax": 20,
                    "ay": -30,
                    "font": {
                      "color": "blue",
                      "size": 10
                    },
                    "showarrow": true,
                    "text": "16324013.0",
                    "x": "2020-07-28T00:00:00",
                    "y": 16324012.690985084
                  },
                  {
                    "arrowhead": 2,
                    "ax": 20,
                    "ay": -30,
                    "font": {
                      "color": "blue",
                      "size": 10
                    },
                    "showarrow": true,
                    "text": "16534050.0",
                    "x": "2020-07-29T00:00:00",
                    "y": 16534049.75555213
                  },
                  {
                    "arrowhead": 2,
                    "ax": 20,
                    "ay": -30,
                    "font": {
                      "color": "blue",
                      "size": 10
                    },
                    "showarrow": true,
                    "text": "16748198.0",
                    "x": "2020-07-30T00:00:00",
                    "y": 16748198.218908012
                  },
                  {
                    "arrowhead": 2,
                    "ax": 20,
                    "ay": -30,
                    "font": {
                      "color": "blue",
                      "size": 10
                    },
                    "showarrow": true,
                    "text": "16963622.0",
                    "x": "2020-07-31T00:00:00",
                    "y": 16963621.504502513
                  },
                  {
                    "arrowhead": 2,
                    "ax": 20,
                    "ay": -30,
                    "font": {
                      "color": "blue",
                      "size": 10
                    },
                    "showarrow": true,
                    "text": "17171430.0",
                    "x": "2020-08-01T00:00:00",
                    "y": 17171429.613894142
                  },
                  {
                    "arrowhead": 2,
                    "ax": 20,
                    "ay": -30,
                    "font": {
                      "color": "blue",
                      "size": 10
                    },
                    "showarrow": true,
                    "text": "17369219.0",
                    "x": "2020-08-02T00:00:00",
                    "y": 17369218.6886597
                  },
                  {
                    "arrowhead": 2,
                    "ax": 20,
                    "ay": -30,
                    "font": {
                      "color": "blue",
                      "size": 10
                    },
                    "showarrow": true,
                    "text": "17564097.0",
                    "x": "2020-08-03T00:00:00",
                    "y": 17564097.313402258
                  }
                ],
                "height": 600,
                "legend": {
                  "title": {
                    "text": "Legend"
                  }
                },
                "margin": {
                  "b": 40,
                  "l": 40,
                  "r": 40,
                  "t": 40
                },
                "showlegend": false,
                "template": {
                  "data": {
                    "bar": [
                      {
                        "error_x": {
                          "color": "#2a3f5f"
                        },
                        "error_y": {
                          "color": "#2a3f5f"
                        },
                        "marker": {
                          "line": {
                            "color": "white",
                            "width": 0.5
                          },
                          "pattern": {
                            "fillmode": "overlay",
                            "size": 10,
                            "solidity": 0.2
                          }
                        },
                        "type": "bar"
                      }
                    ],
                    "barpolar": [
                      {
                        "marker": {
                          "line": {
                            "color": "white",
                            "width": 0.5
                          },
                          "pattern": {
                            "fillmode": "overlay",
                            "size": 10,
                            "solidity": 0.2
                          }
                        },
                        "type": "barpolar"
                      }
                    ],
                    "carpet": [
                      {
                        "aaxis": {
                          "endlinecolor": "#2a3f5f",
                          "gridcolor": "#C8D4E3",
                          "linecolor": "#C8D4E3",
                          "minorgridcolor": "#C8D4E3",
                          "startlinecolor": "#2a3f5f"
                        },
                        "baxis": {
                          "endlinecolor": "#2a3f5f",
                          "gridcolor": "#C8D4E3",
                          "linecolor": "#C8D4E3",
                          "minorgridcolor": "#C8D4E3",
                          "startlinecolor": "#2a3f5f"
                        },
                        "type": "carpet"
                      }
                    ],
                    "choropleth": [
                      {
                        "colorbar": {
                          "outlinewidth": 0,
                          "ticks": ""
                        },
                        "type": "choropleth"
                      }
                    ],
                    "contour": [
                      {
                        "colorbar": {
                          "outlinewidth": 0,
                          "ticks": ""
                        },
                        "colorscale": [
                          [
                            0,
                            "#0d0887"
                          ],
                          [
                            0.1111111111111111,
                            "#46039f"
                          ],
                          [
                            0.2222222222222222,
                            "#7201a8"
                          ],
                          [
                            0.3333333333333333,
                            "#9c179e"
                          ],
                          [
                            0.4444444444444444,
                            "#bd3786"
                          ],
                          [
                            0.5555555555555556,
                            "#d8576b"
                          ],
                          [
                            0.6666666666666666,
                            "#ed7953"
                          ],
                          [
                            0.7777777777777778,
                            "#fb9f3a"
                          ],
                          [
                            0.8888888888888888,
                            "#fdca26"
                          ],
                          [
                            1,
                            "#f0f921"
                          ]
                        ],
                        "type": "contour"
                      }
                    ],
                    "contourcarpet": [
                      {
                        "colorbar": {
                          "outlinewidth": 0,
                          "ticks": ""
                        },
                        "type": "contourcarpet"
                      }
                    ],
                    "heatmap": [
                      {
                        "colorbar": {
                          "outlinewidth": 0,
                          "ticks": ""
                        },
                        "colorscale": [
                          [
                            0,
                            "#0d0887"
                          ],
                          [
                            0.1111111111111111,
                            "#46039f"
                          ],
                          [
                            0.2222222222222222,
                            "#7201a8"
                          ],
                          [
                            0.3333333333333333,
                            "#9c179e"
                          ],
                          [
                            0.4444444444444444,
                            "#bd3786"
                          ],
                          [
                            0.5555555555555556,
                            "#d8576b"
                          ],
                          [
                            0.6666666666666666,
                            "#ed7953"
                          ],
                          [
                            0.7777777777777778,
                            "#fb9f3a"
                          ],
                          [
                            0.8888888888888888,
                            "#fdca26"
                          ],
                          [
                            1,
                            "#f0f921"
                          ]
                        ],
                        "type": "heatmap"
                      }
                    ],
                    "histogram": [
                      {
                        "marker": {
                          "pattern": {
                            "fillmode": "overlay",
                            "size": 10,
                            "solidity": 0.2
                          }
                        },
                        "type": "histogram"
                      }
                    ],
                    "histogram2d": [
                      {
                        "colorbar": {
                          "outlinewidth": 0,
                          "ticks": ""
                        },
                        "colorscale": [
                          [
                            0,
                            "#0d0887"
                          ],
                          [
                            0.1111111111111111,
                            "#46039f"
                          ],
                          [
                            0.2222222222222222,
                            "#7201a8"
                          ],
                          [
                            0.3333333333333333,
                            "#9c179e"
                          ],
                          [
                            0.4444444444444444,
                            "#bd3786"
                          ],
                          [
                            0.5555555555555556,
                            "#d8576b"
                          ],
                          [
                            0.6666666666666666,
                            "#ed7953"
                          ],
                          [
                            0.7777777777777778,
                            "#fb9f3a"
                          ],
                          [
                            0.8888888888888888,
                            "#fdca26"
                          ],
                          [
                            1,
                            "#f0f921"
                          ]
                        ],
                        "type": "histogram2d"
                      }
                    ],
                    "histogram2dcontour": [
                      {
                        "colorbar": {
                          "outlinewidth": 0,
                          "ticks": ""
                        },
                        "colorscale": [
                          [
                            0,
                            "#0d0887"
                          ],
                          [
                            0.1111111111111111,
                            "#46039f"
                          ],
                          [
                            0.2222222222222222,
                            "#7201a8"
                          ],
                          [
                            0.3333333333333333,
                            "#9c179e"
                          ],
                          [
                            0.4444444444444444,
                            "#bd3786"
                          ],
                          [
                            0.5555555555555556,
                            "#d8576b"
                          ],
                          [
                            0.6666666666666666,
                            "#ed7953"
                          ],
                          [
                            0.7777777777777778,
                            "#fb9f3a"
                          ],
                          [
                            0.8888888888888888,
                            "#fdca26"
                          ],
                          [
                            1,
                            "#f0f921"
                          ]
                        ],
                        "type": "histogram2dcontour"
                      }
                    ],
                    "mesh3d": [
                      {
                        "colorbar": {
                          "outlinewidth": 0,
                          "ticks": ""
                        },
                        "type": "mesh3d"
                      }
                    ],
                    "parcoords": [
                      {
                        "line": {
                          "colorbar": {
                            "outlinewidth": 0,
                            "ticks": ""
                          }
                        },
                        "type": "parcoords"
                      }
                    ],
                    "pie": [
                      {
                        "automargin": true,
                        "type": "pie"
                      }
                    ],
                    "scatter": [
                      {
                        "fillpattern": {
                          "fillmode": "overlay",
                          "size": 10,
                          "solidity": 0.2
                        },
                        "type": "scatter"
                      }
                    ],
                    "scatter3d": [
                      {
                        "line": {
                          "colorbar": {
                            "outlinewidth": 0,
                            "ticks": ""
                          }
                        },
                        "marker": {
                          "colorbar": {
                            "outlinewidth": 0,
                            "ticks": ""
                          }
                        },
                        "type": "scatter3d"
                      }
                    ],
                    "scattercarpet": [
                      {
                        "marker": {
                          "colorbar": {
                            "outlinewidth": 0,
                            "ticks": ""
                          }
                        },
                        "type": "scattercarpet"
                      }
                    ],
                    "scattergeo": [
                      {
                        "marker": {
                          "colorbar": {
                            "outlinewidth": 0,
                            "ticks": ""
                          }
                        },
                        "type": "scattergeo"
                      }
                    ],
                    "scattergl": [
                      {
                        "marker": {
                          "colorbar": {
                            "outlinewidth": 0,
                            "ticks": ""
                          }
                        },
                        "type": "scattergl"
                      }
                    ],
                    "scattermap": [
                      {
                        "marker": {
                          "colorbar": {
                            "outlinewidth": 0,
                            "ticks": ""
                          }
                        },
                        "type": "scattermap"
                      }
                    ],
                    "scattermapbox": [
                      {
                        "marker": {
                          "colorbar": {
                            "outlinewidth": 0,
                            "ticks": ""
                          }
                        },
                        "type": "scattermapbox"
                      }
                    ],
                    "scatterpolar": [
                      {
                        "marker": {
                          "colorbar": {
                            "outlinewidth": 0,
                            "ticks": ""
                          }
                        },
                        "type": "scatterpolar"
                      }
                    ],
                    "scatterpolargl": [
                      {
                        "marker": {
                          "colorbar": {
                            "outlinewidth": 0,
                            "ticks": ""
                          }
                        },
                        "type": "scatterpolargl"
                      }
                    ],
                    "scatterternary": [
                      {
                        "marker": {
                          "colorbar": {
                            "outlinewidth": 0,
                            "ticks": ""
                          }
                        },
                        "type": "scatterternary"
                      }
                    ],
                    "surface": [
                      {
                        "colorbar": {
                          "outlinewidth": 0,
                          "ticks": ""
                        },
                        "colorscale": [
                          [
                            0,
                            "#0d0887"
                          ],
                          [
                            0.1111111111111111,
                            "#46039f"
                          ],
                          [
                            0.2222222222222222,
                            "#7201a8"
                          ],
                          [
                            0.3333333333333333,
                            "#9c179e"
                          ],
                          [
                            0.4444444444444444,
                            "#bd3786"
                          ],
                          [
                            0.5555555555555556,
                            "#d8576b"
                          ],
                          [
                            0.6666666666666666,
                            "#ed7953"
                          ],
                          [
                            0.7777777777777778,
                            "#fb9f3a"
                          ],
                          [
                            0.8888888888888888,
                            "#fdca26"
                          ],
                          [
                            1,
                            "#f0f921"
                          ]
                        ],
                        "type": "surface"
                      }
                    ],
                    "table": [
                      {
                        "cells": {
                          "fill": {
                            "color": "#EBF0F8"
                          },
                          "line": {
                            "color": "white"
                          }
                        },
                        "header": {
                          "fill": {
                            "color": "#C8D4E3"
                          },
                          "line": {
                            "color": "white"
                          }
                        },
                        "type": "table"
                      }
                    ]
                  },
                  "layout": {
                    "annotationdefaults": {
                      "arrowcolor": "#2a3f5f",
                      "arrowhead": 0,
                      "arrowwidth": 1
                    },
                    "autotypenumbers": "strict",
                    "coloraxis": {
                      "colorbar": {
                        "outlinewidth": 0,
                        "ticks": ""
                      }
                    },
                    "colorscale": {
                      "diverging": [
                        [
                          0,
                          "#8e0152"
                        ],
                        [
                          0.1,
                          "#c51b7d"
                        ],
                        [
                          0.2,
                          "#de77ae"
                        ],
                        [
                          0.3,
                          "#f1b6da"
                        ],
                        [
                          0.4,
                          "#fde0ef"
                        ],
                        [
                          0.5,
                          "#f7f7f7"
                        ],
                        [
                          0.6,
                          "#e6f5d0"
                        ],
                        [
                          0.7,
                          "#b8e186"
                        ],
                        [
                          0.8,
                          "#7fbc41"
                        ],
                        [
                          0.9,
                          "#4d9221"
                        ],
                        [
                          1,
                          "#276419"
                        ]
                      ],
                      "sequential": [
                        [
                          0,
                          "#0d0887"
                        ],
                        [
                          0.1111111111111111,
                          "#46039f"
                        ],
                        [
                          0.2222222222222222,
                          "#7201a8"
                        ],
                        [
                          0.3333333333333333,
                          "#9c179e"
                        ],
                        [
                          0.4444444444444444,
                          "#bd3786"
                        ],
                        [
                          0.5555555555555556,
                          "#d8576b"
                        ],
                        [
                          0.6666666666666666,
                          "#ed7953"
                        ],
                        [
                          0.7777777777777778,
                          "#fb9f3a"
                        ],
                        [
                          0.8888888888888888,
                          "#fdca26"
                        ],
                        [
                          1,
                          "#f0f921"
                        ]
                      ],
                      "sequentialminus": [
                        [
                          0,
                          "#0d0887"
                        ],
                        [
                          0.1111111111111111,
                          "#46039f"
                        ],
                        [
                          0.2222222222222222,
                          "#7201a8"
                        ],
                        [
                          0.3333333333333333,
                          "#9c179e"
                        ],
                        [
                          0.4444444444444444,
                          "#bd3786"
                        ],
                        [
                          0.5555555555555556,
                          "#d8576b"
                        ],
                        [
                          0.6666666666666666,
                          "#ed7953"
                        ],
                        [
                          0.7777777777777778,
                          "#fb9f3a"
                        ],
                        [
                          0.8888888888888888,
                          "#fdca26"
                        ],
                        [
                          1,
                          "#f0f921"
                        ]
                      ]
                    },
                    "colorway": [
                      "#636efa",
                      "#EF553B",
                      "#00cc96",
                      "#ab63fa",
                      "#FFA15A",
                      "#19d3f3",
                      "#FF6692",
                      "#B6E880",
                      "#FF97FF",
                      "#FECB52"
                    ],
                    "font": {
                      "color": "#2a3f5f"
                    },
                    "geo": {
                      "bgcolor": "white",
                      "lakecolor": "white",
                      "landcolor": "white",
                      "showlakes": true,
                      "showland": true,
                      "subunitcolor": "#C8D4E3"
                    },
                    "hoverlabel": {
                      "align": "left"
                    },
                    "hovermode": "closest",
                    "mapbox": {
                      "style": "light"
                    },
                    "paper_bgcolor": "white",
                    "plot_bgcolor": "white",
                    "polar": {
                      "angularaxis": {
                        "gridcolor": "#EBF0F8",
                        "linecolor": "#EBF0F8",
                        "ticks": ""
                      },
                      "bgcolor": "white",
                      "radialaxis": {
                        "gridcolor": "#EBF0F8",
                        "linecolor": "#EBF0F8",
                        "ticks": ""
                      }
                    },
                    "scene": {
                      "xaxis": {
                        "backgroundcolor": "white",
                        "gridcolor": "#DFE8F3",
                        "gridwidth": 2,
                        "linecolor": "#EBF0F8",
                        "showbackground": true,
                        "ticks": "",
                        "zerolinecolor": "#EBF0F8"
                      },
                      "yaxis": {
                        "backgroundcolor": "white",
                        "gridcolor": "#DFE8F3",
                        "gridwidth": 2,
                        "linecolor": "#EBF0F8",
                        "showbackground": true,
                        "ticks": "",
                        "zerolinecolor": "#EBF0F8"
                      },
                      "zaxis": {
                        "backgroundcolor": "white",
                        "gridcolor": "#DFE8F3",
                        "gridwidth": 2,
                        "linecolor": "#EBF0F8",
                        "showbackground": true,
                        "ticks": "",
                        "zerolinecolor": "#EBF0F8"
                      }
                    },
                    "shapedefaults": {
                      "line": {
                        "color": "#2a3f5f"
                      }
                    },
                    "ternary": {
                      "aaxis": {
                        "gridcolor": "#DFE8F3",
                        "linecolor": "#A2B1C6",
                        "ticks": ""
                      },
                      "baxis": {
                        "gridcolor": "#DFE8F3",
                        "linecolor": "#A2B1C6",
                        "ticks": ""
                      },
                      "bgcolor": "white",
                      "caxis": {
                        "gridcolor": "#DFE8F3",
                        "linecolor": "#A2B1C6",
                        "ticks": ""
                      }
                    },
                    "title": {
                      "x": 0.05
                    },
                    "xaxis": {
                      "automargin": true,
                      "gridcolor": "#EBF0F8",
                      "linecolor": "#EBF0F8",
                      "ticks": "",
                      "title": {
                        "standoff": 15
                      },
                      "zerolinecolor": "#EBF0F8",
                      "zerolinewidth": 2
                    },
                    "yaxis": {
                      "automargin": true,
                      "gridcolor": "#EBF0F8",
                      "linecolor": "#EBF0F8",
                      "ticks": "",
                      "title": {
                        "standoff": 15
                      },
                      "zerolinecolor": "#EBF0F8",
                      "zerolinewidth": 2
                    }
                  }
                },
                "title": {
                  "font": {
                    "size": 24
                  },
                  "text": "COVID-19 Confirmed Cases Forecast for India",
                  "x": 0.5
                },
                "width": 1000,
                "xaxis": {
                  "rangeselector": {
                    "buttons": [
                      {
                        "count": 7,
                        "label": "1w",
                        "step": "day",
                        "stepmode": "backward"
                      },
                      {
                        "count": 1,
                        "label": "1m",
                        "step": "month",
                        "stepmode": "backward"
                      },
                      {
                        "count": 6,
                        "label": "6m",
                        "step": "month",
                        "stepmode": "backward"
                      },
                      {
                        "count": 1,
                        "label": "1y",
                        "step": "year",
                        "stepmode": "backward"
                      },
                      {
                        "step": "all"
                      }
                    ]
                  },
                  "rangeslider": {
                    "visible": true
                  },
                  "title": {
                    "text": "Date"
                  },
                  "type": "date"
                },
                "yaxis": {
                  "title": {
                    "text": "Confirmed Cases"
                  }
                }
              }
            }
          },
          "metadata": {},
          "output_type": "display_data"
        }
      ],
      "source": [
        "\n",
        "# Plotting the forecast using Plotly\n",
        "fig_forecast = plot_plotly(model, forecast)\n",
        "\n",
        "# Updating layout with more customization\n",
        "fig_forecast.update_layout(\n",
        "    title_text=f'COVID-19 Confirmed Cases Forecast for {country}',\n",
        "    title_font_size=24,\n",
        "    title_x=0.5,\n",
        "    xaxis_title='Date',\n",
        "    yaxis_title='Confirmed Cases',\n",
        "    legend_title_text='Legend',\n",
        "    width=1000,\n",
        "    height=600,\n",
        "    margin=dict(l=40, r=40, t=40, b=40),\n",
        "    template='plotly_white'\n",
        ")\n",
        "\n",
        "# Adding annotations for better readability\n",
        "annotations = []\n",
        "for i in range(len(forecast)):\n",
        "    if forecast['yhat'][i] > 0:\n",
        "        annotations.append(\n",
        "            go.layout.Annotation(\n",
        "                x=forecast['ds'][i],\n",
        "                y=forecast['yhat'][i],\n",
        "                text=f\"{round(forecast['yhat'][i], 0)}\",\n",
        "                showarrow=True,\n",
        "                arrowhead=2,\n",
        "                ax=20,\n",
        "                ay=-30,\n",
        "                font=dict(size=10, color='blue')\n",
        "            )\n",
        "        )\n",
        "\n",
        "fig_forecast.update_layout(annotations=annotations)\n",
        "\n",
        "# Displaying the forecast plot\n",
        "fig_forecast.show()\n"
      ]
    },
    {
      "cell_type": "code",
      "execution_count": null,
      "metadata": {
        "id": "da2D93MxK6zl"
      },
      "outputs": [],
      "source": []
    },
    {
      "cell_type": "markdown",
      "metadata": {
        "id": "QORqOU5dnxy7"
      },
      "source": [
        "Time series forecast for Recovered cases"
      ]
    },
    {
      "cell_type": "code",
      "execution_count": 49,
      "metadata": {
        "colab": {
          "base_uri": "https://localhost:8080/",
          "height": 837
        },
        "id": "8wVkVcg2lz-3",
        "outputId": "a57010d1-910c-4728-d77b-d9beae661be7"
      },
      "outputs": [
        {
          "name": "stderr",
          "output_type": "stream",
          "text": [
            "14:38:07 - cmdstanpy - INFO - Chain [1] start processing\n",
            "14:38:07 - cmdstanpy - INFO - Chain [1] done processing\n"
          ]
        },
        {
          "data": {
            "application/vnd.plotly.v1+json": {
              "config": {
                "plotlyServerURL": "https://plot.ly"
              },
              "data": [
                {
                  "marker": {
                    "color": "black",
                    "size": 4
                  },
                  "mode": "markers",
                  "name": "Actual",
                  "type": "scatter",
                  "x": [
                    "2020-01-22T00:00:00.000000000",
                    "2020-01-23T00:00:00.000000000",
                    "2020-01-24T00:00:00.000000000",
                    "2020-01-25T00:00:00.000000000",
                    "2020-01-26T00:00:00.000000000",
                    "2020-01-27T00:00:00.000000000",
                    "2020-01-28T00:00:00.000000000",
                    "2020-01-29T00:00:00.000000000",
                    "2020-01-30T00:00:00.000000000",
                    "2020-01-31T00:00:00.000000000",
                    "2020-02-01T00:00:00.000000000",
                    "2020-02-02T00:00:00.000000000",
                    "2020-02-03T00:00:00.000000000",
                    "2020-02-04T00:00:00.000000000",
                    "2020-02-05T00:00:00.000000000",
                    "2020-02-06T00:00:00.000000000",
                    "2020-02-07T00:00:00.000000000",
                    "2020-02-08T00:00:00.000000000",
                    "2020-02-09T00:00:00.000000000",
                    "2020-02-10T00:00:00.000000000",
                    "2020-02-11T00:00:00.000000000",
                    "2020-02-12T00:00:00.000000000",
                    "2020-02-13T00:00:00.000000000",
                    "2020-02-14T00:00:00.000000000",
                    "2020-02-15T00:00:00.000000000",
                    "2020-02-16T00:00:00.000000000",
                    "2020-02-17T00:00:00.000000000",
                    "2020-02-18T00:00:00.000000000",
                    "2020-02-19T00:00:00.000000000",
                    "2020-02-20T00:00:00.000000000",
                    "2020-02-21T00:00:00.000000000",
                    "2020-02-22T00:00:00.000000000",
                    "2020-02-23T00:00:00.000000000",
                    "2020-02-24T00:00:00.000000000",
                    "2020-02-25T00:00:00.000000000",
                    "2020-02-26T00:00:00.000000000",
                    "2020-02-27T00:00:00.000000000",
                    "2020-02-28T00:00:00.000000000",
                    "2020-02-29T00:00:00.000000000",
                    "2020-03-01T00:00:00.000000000",
                    "2020-03-02T00:00:00.000000000",
                    "2020-03-03T00:00:00.000000000",
                    "2020-03-04T00:00:00.000000000",
                    "2020-03-05T00:00:00.000000000",
                    "2020-03-06T00:00:00.000000000",
                    "2020-03-07T00:00:00.000000000",
                    "2020-03-08T00:00:00.000000000",
                    "2020-03-09T00:00:00.000000000",
                    "2020-03-10T00:00:00.000000000",
                    "2020-03-11T00:00:00.000000000",
                    "2020-03-12T00:00:00.000000000",
                    "2020-03-13T00:00:00.000000000",
                    "2020-03-14T00:00:00.000000000",
                    "2020-03-15T00:00:00.000000000",
                    "2020-03-16T00:00:00.000000000",
                    "2020-03-17T00:00:00.000000000",
                    "2020-03-18T00:00:00.000000000",
                    "2020-03-19T00:00:00.000000000",
                    "2020-03-20T00:00:00.000000000",
                    "2020-03-21T00:00:00.000000000",
                    "2020-03-22T00:00:00.000000000",
                    "2020-03-23T00:00:00.000000000",
                    "2020-03-24T00:00:00.000000000",
                    "2020-03-25T00:00:00.000000000",
                    "2020-03-26T00:00:00.000000000",
                    "2020-03-27T00:00:00.000000000",
                    "2020-03-28T00:00:00.000000000",
                    "2020-03-29T00:00:00.000000000",
                    "2020-03-30T00:00:00.000000000",
                    "2020-03-31T00:00:00.000000000",
                    "2020-04-01T00:00:00.000000000",
                    "2020-04-02T00:00:00.000000000",
                    "2020-04-03T00:00:00.000000000",
                    "2020-04-04T00:00:00.000000000",
                    "2020-04-05T00:00:00.000000000",
                    "2020-04-06T00:00:00.000000000",
                    "2020-04-07T00:00:00.000000000",
                    "2020-04-08T00:00:00.000000000",
                    "2020-04-09T00:00:00.000000000",
                    "2020-04-10T00:00:00.000000000",
                    "2020-04-11T00:00:00.000000000",
                    "2020-04-12T00:00:00.000000000",
                    "2020-04-13T00:00:00.000000000",
                    "2020-04-14T00:00:00.000000000",
                    "2020-04-15T00:00:00.000000000",
                    "2020-04-16T00:00:00.000000000",
                    "2020-04-17T00:00:00.000000000",
                    "2020-04-18T00:00:00.000000000",
                    "2020-04-19T00:00:00.000000000",
                    "2020-04-20T00:00:00.000000000",
                    "2020-04-21T00:00:00.000000000",
                    "2020-04-22T00:00:00.000000000",
                    "2020-04-23T00:00:00.000000000",
                    "2020-04-24T00:00:00.000000000",
                    "2020-04-25T00:00:00.000000000",
                    "2020-04-26T00:00:00.000000000",
                    "2020-04-27T00:00:00.000000000",
                    "2020-04-28T00:00:00.000000000",
                    "2020-04-29T00:00:00.000000000",
                    "2020-04-30T00:00:00.000000000",
                    "2020-05-01T00:00:00.000000000",
                    "2020-05-02T00:00:00.000000000",
                    "2020-05-03T00:00:00.000000000",
                    "2020-05-04T00:00:00.000000000",
                    "2020-05-05T00:00:00.000000000",
                    "2020-05-06T00:00:00.000000000",
                    "2020-05-07T00:00:00.000000000",
                    "2020-05-08T00:00:00.000000000",
                    "2020-05-09T00:00:00.000000000",
                    "2020-05-10T00:00:00.000000000",
                    "2020-05-11T00:00:00.000000000",
                    "2020-05-12T00:00:00.000000000",
                    "2020-05-13T00:00:00.000000000",
                    "2020-05-14T00:00:00.000000000",
                    "2020-05-15T00:00:00.000000000",
                    "2020-05-16T00:00:00.000000000",
                    "2020-05-17T00:00:00.000000000",
                    "2020-05-18T00:00:00.000000000",
                    "2020-05-19T00:00:00.000000000",
                    "2020-05-20T00:00:00.000000000",
                    "2020-05-21T00:00:00.000000000",
                    "2020-05-22T00:00:00.000000000",
                    "2020-05-23T00:00:00.000000000",
                    "2020-05-24T00:00:00.000000000",
                    "2020-05-25T00:00:00.000000000",
                    "2020-05-26T00:00:00.000000000",
                    "2020-05-27T00:00:00.000000000",
                    "2020-05-28T00:00:00.000000000",
                    "2020-05-29T00:00:00.000000000",
                    "2020-05-30T00:00:00.000000000",
                    "2020-05-31T00:00:00.000000000",
                    "2020-06-01T00:00:00.000000000",
                    "2020-06-02T00:00:00.000000000",
                    "2020-06-03T00:00:00.000000000",
                    "2020-06-04T00:00:00.000000000",
                    "2020-06-05T00:00:00.000000000",
                    "2020-06-06T00:00:00.000000000",
                    "2020-06-07T00:00:00.000000000",
                    "2020-06-08T00:00:00.000000000",
                    "2020-06-09T00:00:00.000000000",
                    "2020-06-10T00:00:00.000000000",
                    "2020-06-11T00:00:00.000000000",
                    "2020-06-12T00:00:00.000000000",
                    "2020-06-13T00:00:00.000000000",
                    "2020-06-14T00:00:00.000000000",
                    "2020-06-15T00:00:00.000000000",
                    "2020-06-16T00:00:00.000000000",
                    "2020-06-17T00:00:00.000000000",
                    "2020-06-18T00:00:00.000000000",
                    "2020-06-19T00:00:00.000000000",
                    "2020-06-20T00:00:00.000000000",
                    "2020-06-21T00:00:00.000000000",
                    "2020-06-22T00:00:00.000000000",
                    "2020-06-23T00:00:00.000000000",
                    "2020-06-24T00:00:00.000000000",
                    "2020-06-25T00:00:00.000000000",
                    "2020-06-26T00:00:00.000000000",
                    "2020-06-27T00:00:00.000000000",
                    "2020-06-28T00:00:00.000000000",
                    "2020-06-29T00:00:00.000000000",
                    "2020-06-30T00:00:00.000000000",
                    "2020-07-01T00:00:00.000000000",
                    "2020-07-02T00:00:00.000000000",
                    "2020-07-03T00:00:00.000000000",
                    "2020-07-04T00:00:00.000000000",
                    "2020-07-05T00:00:00.000000000",
                    "2020-07-06T00:00:00.000000000",
                    "2020-07-07T00:00:00.000000000",
                    "2020-07-08T00:00:00.000000000",
                    "2020-07-09T00:00:00.000000000",
                    "2020-07-10T00:00:00.000000000",
                    "2020-07-11T00:00:00.000000000",
                    "2020-07-12T00:00:00.000000000",
                    "2020-07-13T00:00:00.000000000",
                    "2020-07-14T00:00:00.000000000",
                    "2020-07-15T00:00:00.000000000",
                    "2020-07-16T00:00:00.000000000",
                    "2020-07-17T00:00:00.000000000",
                    "2020-07-18T00:00:00.000000000",
                    "2020-07-19T00:00:00.000000000",
                    "2020-07-20T00:00:00.000000000",
                    "2020-07-21T00:00:00.000000000",
                    "2020-07-22T00:00:00.000000000",
                    "2020-07-23T00:00:00.000000000",
                    "2020-07-24T00:00:00.000000000",
                    "2020-07-25T00:00:00.000000000",
                    "2020-07-26T00:00:00.000000000",
                    "2020-07-27T00:00:00.000000000"
                  ],
                  "y": {
                    "bdata": "HAAAAB4AAAAkAAAAJwAAADQAAAA9AAAAawAAAH0AAACNAAAA2wAAABkBAADLAQAAXAIAADUDAAAvBAAAigUAAG8HAACmCQAA8QsAAIIOAABBEQAA8RIAACoXAAC9HQAAxiIAAE8oAACvLgAAfTUAACI8AADZQwAALkYAAFlVAAAgVwAA710AABxoAACVcQAAr3wAAOqJAACqlQAA+KAAADWsAABZtgAA08EAAA3MAAD+0wAAuN0AANTmAADb7QAAUvUAAFn+AACCAwEABwsBAEkUAQCbIQEAoCkBAGA0AQATPgEAeEQBAAVOAQCvXgEA9nYBAMh4AQANngEAVbMBAPzTAQD89QEAYBYCAFU7AgCrdwIA+qcCAPrjAgDkJAMAhF8DALCtAwAN4gMA3CEEACF7BADh6QQA7UgFAHWbBQAf/wUA2EgGAHuwBgCmEAcA7ZwHAHcSCAAvdQgA/dAIAC1JCQBmnAkA6yEKANeTCgAZAwsAAcULAB8uDABxmgwAngENAMh/DQA4IA4AsBkPAMWpDwB6RRAAab8QAB5AEQBLyxEADnoSAB8QEwDxmhMAF2gUAPznFAAMnBUAnygWAFn+FgDwlRcAME4YAKInGQB7xBkAbZAaAABZGwBJPBwA4AAdAN2lHgDSeR8As08gAP1FIQDuGiIADQ8jAGIRJAC/OyUAnUwmAPVzJwDvRigAK9spADYNKwAYHCwAvSYtAMY8LgCuES8AOF8xAIGdMgBSzjMAORo1ABVONgCQmjcA1qs4AP7hOQBwXjsACSk9APpjPgAC1T8Aa5dBABuiQgBtBkQAIJtFAI1dRwCyxkgA/mVKADAETAAAX00Azs1OALOWUABbWlIARbFWAN5cWABHWFsAyildACALXwCJQGEAyKdjABW0ZQAe02cAL71pAJZwawBTk20AEb1vANArcgBBfXQAYOx2AGY5eQDrj3oAOft8ALqjfwBHVIIAOeuEALloiABXwIsAmM6NALd4kAA=",
                    "dtype": "i4"
                  }
                },
                {
                  "hoverinfo": "skip",
                  "line": {
                    "width": 0
                  },
                  "mode": "lines",
                  "type": "scatter",
                  "x": [
                    "2020-01-22T00:00:00.000000000",
                    "2020-01-23T00:00:00.000000000",
                    "2020-01-24T00:00:00.000000000",
                    "2020-01-25T00:00:00.000000000",
                    "2020-01-26T00:00:00.000000000",
                    "2020-01-27T00:00:00.000000000",
                    "2020-01-28T00:00:00.000000000",
                    "2020-01-29T00:00:00.000000000",
                    "2020-01-30T00:00:00.000000000",
                    "2020-01-31T00:00:00.000000000",
                    "2020-02-01T00:00:00.000000000",
                    "2020-02-02T00:00:00.000000000",
                    "2020-02-03T00:00:00.000000000",
                    "2020-02-04T00:00:00.000000000",
                    "2020-02-05T00:00:00.000000000",
                    "2020-02-06T00:00:00.000000000",
                    "2020-02-07T00:00:00.000000000",
                    "2020-02-08T00:00:00.000000000",
                    "2020-02-09T00:00:00.000000000",
                    "2020-02-10T00:00:00.000000000",
                    "2020-02-11T00:00:00.000000000",
                    "2020-02-12T00:00:00.000000000",
                    "2020-02-13T00:00:00.000000000",
                    "2020-02-14T00:00:00.000000000",
                    "2020-02-15T00:00:00.000000000",
                    "2020-02-16T00:00:00.000000000",
                    "2020-02-17T00:00:00.000000000",
                    "2020-02-18T00:00:00.000000000",
                    "2020-02-19T00:00:00.000000000",
                    "2020-02-20T00:00:00.000000000",
                    "2020-02-21T00:00:00.000000000",
                    "2020-02-22T00:00:00.000000000",
                    "2020-02-23T00:00:00.000000000",
                    "2020-02-24T00:00:00.000000000",
                    "2020-02-25T00:00:00.000000000",
                    "2020-02-26T00:00:00.000000000",
                    "2020-02-27T00:00:00.000000000",
                    "2020-02-28T00:00:00.000000000",
                    "2020-02-29T00:00:00.000000000",
                    "2020-03-01T00:00:00.000000000",
                    "2020-03-02T00:00:00.000000000",
                    "2020-03-03T00:00:00.000000000",
                    "2020-03-04T00:00:00.000000000",
                    "2020-03-05T00:00:00.000000000",
                    "2020-03-06T00:00:00.000000000",
                    "2020-03-07T00:00:00.000000000",
                    "2020-03-08T00:00:00.000000000",
                    "2020-03-09T00:00:00.000000000",
                    "2020-03-10T00:00:00.000000000",
                    "2020-03-11T00:00:00.000000000",
                    "2020-03-12T00:00:00.000000000",
                    "2020-03-13T00:00:00.000000000",
                    "2020-03-14T00:00:00.000000000",
                    "2020-03-15T00:00:00.000000000",
                    "2020-03-16T00:00:00.000000000",
                    "2020-03-17T00:00:00.000000000",
                    "2020-03-18T00:00:00.000000000",
                    "2020-03-19T00:00:00.000000000",
                    "2020-03-20T00:00:00.000000000",
                    "2020-03-21T00:00:00.000000000",
                    "2020-03-22T00:00:00.000000000",
                    "2020-03-23T00:00:00.000000000",
                    "2020-03-24T00:00:00.000000000",
                    "2020-03-25T00:00:00.000000000",
                    "2020-03-26T00:00:00.000000000",
                    "2020-03-27T00:00:00.000000000",
                    "2020-03-28T00:00:00.000000000",
                    "2020-03-29T00:00:00.000000000",
                    "2020-03-30T00:00:00.000000000",
                    "2020-03-31T00:00:00.000000000",
                    "2020-04-01T00:00:00.000000000",
                    "2020-04-02T00:00:00.000000000",
                    "2020-04-03T00:00:00.000000000",
                    "2020-04-04T00:00:00.000000000",
                    "2020-04-05T00:00:00.000000000",
                    "2020-04-06T00:00:00.000000000",
                    "2020-04-07T00:00:00.000000000",
                    "2020-04-08T00:00:00.000000000",
                    "2020-04-09T00:00:00.000000000",
                    "2020-04-10T00:00:00.000000000",
                    "2020-04-11T00:00:00.000000000",
                    "2020-04-12T00:00:00.000000000",
                    "2020-04-13T00:00:00.000000000",
                    "2020-04-14T00:00:00.000000000",
                    "2020-04-15T00:00:00.000000000",
                    "2020-04-16T00:00:00.000000000",
                    "2020-04-17T00:00:00.000000000",
                    "2020-04-18T00:00:00.000000000",
                    "2020-04-19T00:00:00.000000000",
                    "2020-04-20T00:00:00.000000000",
                    "2020-04-21T00:00:00.000000000",
                    "2020-04-22T00:00:00.000000000",
                    "2020-04-23T00:00:00.000000000",
                    "2020-04-24T00:00:00.000000000",
                    "2020-04-25T00:00:00.000000000",
                    "2020-04-26T00:00:00.000000000",
                    "2020-04-27T00:00:00.000000000",
                    "2020-04-28T00:00:00.000000000",
                    "2020-04-29T00:00:00.000000000",
                    "2020-04-30T00:00:00.000000000",
                    "2020-05-01T00:00:00.000000000",
                    "2020-05-02T00:00:00.000000000",
                    "2020-05-03T00:00:00.000000000",
                    "2020-05-04T00:00:00.000000000",
                    "2020-05-05T00:00:00.000000000",
                    "2020-05-06T00:00:00.000000000",
                    "2020-05-07T00:00:00.000000000",
                    "2020-05-08T00:00:00.000000000",
                    "2020-05-09T00:00:00.000000000",
                    "2020-05-10T00:00:00.000000000",
                    "2020-05-11T00:00:00.000000000",
                    "2020-05-12T00:00:00.000000000",
                    "2020-05-13T00:00:00.000000000",
                    "2020-05-14T00:00:00.000000000",
                    "2020-05-15T00:00:00.000000000",
                    "2020-05-16T00:00:00.000000000",
                    "2020-05-17T00:00:00.000000000",
                    "2020-05-18T00:00:00.000000000",
                    "2020-05-19T00:00:00.000000000",
                    "2020-05-20T00:00:00.000000000",
                    "2020-05-21T00:00:00.000000000",
                    "2020-05-22T00:00:00.000000000",
                    "2020-05-23T00:00:00.000000000",
                    "2020-05-24T00:00:00.000000000",
                    "2020-05-25T00:00:00.000000000",
                    "2020-05-26T00:00:00.000000000",
                    "2020-05-27T00:00:00.000000000",
                    "2020-05-28T00:00:00.000000000",
                    "2020-05-29T00:00:00.000000000",
                    "2020-05-30T00:00:00.000000000",
                    "2020-05-31T00:00:00.000000000",
                    "2020-06-01T00:00:00.000000000",
                    "2020-06-02T00:00:00.000000000",
                    "2020-06-03T00:00:00.000000000",
                    "2020-06-04T00:00:00.000000000",
                    "2020-06-05T00:00:00.000000000",
                    "2020-06-06T00:00:00.000000000",
                    "2020-06-07T00:00:00.000000000",
                    "2020-06-08T00:00:00.000000000",
                    "2020-06-09T00:00:00.000000000",
                    "2020-06-10T00:00:00.000000000",
                    "2020-06-11T00:00:00.000000000",
                    "2020-06-12T00:00:00.000000000",
                    "2020-06-13T00:00:00.000000000",
                    "2020-06-14T00:00:00.000000000",
                    "2020-06-15T00:00:00.000000000",
                    "2020-06-16T00:00:00.000000000",
                    "2020-06-17T00:00:00.000000000",
                    "2020-06-18T00:00:00.000000000",
                    "2020-06-19T00:00:00.000000000",
                    "2020-06-20T00:00:00.000000000",
                    "2020-06-21T00:00:00.000000000",
                    "2020-06-22T00:00:00.000000000",
                    "2020-06-23T00:00:00.000000000",
                    "2020-06-24T00:00:00.000000000",
                    "2020-06-25T00:00:00.000000000",
                    "2020-06-26T00:00:00.000000000",
                    "2020-06-27T00:00:00.000000000",
                    "2020-06-28T00:00:00.000000000",
                    "2020-06-29T00:00:00.000000000",
                    "2020-06-30T00:00:00.000000000",
                    "2020-07-01T00:00:00.000000000",
                    "2020-07-02T00:00:00.000000000",
                    "2020-07-03T00:00:00.000000000",
                    "2020-07-04T00:00:00.000000000",
                    "2020-07-05T00:00:00.000000000",
                    "2020-07-06T00:00:00.000000000",
                    "2020-07-07T00:00:00.000000000",
                    "2020-07-08T00:00:00.000000000",
                    "2020-07-09T00:00:00.000000000",
                    "2020-07-10T00:00:00.000000000",
                    "2020-07-11T00:00:00.000000000",
                    "2020-07-12T00:00:00.000000000",
                    "2020-07-13T00:00:00.000000000",
                    "2020-07-14T00:00:00.000000000",
                    "2020-07-15T00:00:00.000000000",
                    "2020-07-16T00:00:00.000000000",
                    "2020-07-17T00:00:00.000000000",
                    "2020-07-18T00:00:00.000000000",
                    "2020-07-19T00:00:00.000000000",
                    "2020-07-20T00:00:00.000000000",
                    "2020-07-21T00:00:00.000000000",
                    "2020-07-22T00:00:00.000000000",
                    "2020-07-23T00:00:00.000000000",
                    "2020-07-24T00:00:00.000000000",
                    "2020-07-25T00:00:00.000000000",
                    "2020-07-26T00:00:00.000000000",
                    "2020-07-27T00:00:00.000000000",
                    "2020-07-28T00:00:00.000000000",
                    "2020-07-29T00:00:00.000000000",
                    "2020-07-30T00:00:00.000000000",
                    "2020-07-31T00:00:00.000000000",
                    "2020-08-01T00:00:00.000000000",
                    "2020-08-02T00:00:00.000000000",
                    "2020-08-03T00:00:00.000000000"
                  ],
                  "y": {
                    "bdata": "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",
                    "dtype": "f8"
                  }
                },
                {
                  "fill": "tonexty",
                  "fillcolor": "rgba(0, 114, 178, 0.2)",
                  "line": {
                    "color": "#0072B2",
                    "width": 2
                  },
                  "mode": "lines",
                  "name": "Predicted",
                  "type": "scatter",
                  "x": [
                    "2020-01-22T00:00:00.000000000",
                    "2020-01-23T00:00:00.000000000",
                    "2020-01-24T00:00:00.000000000",
                    "2020-01-25T00:00:00.000000000",
                    "2020-01-26T00:00:00.000000000",
                    "2020-01-27T00:00:00.000000000",
                    "2020-01-28T00:00:00.000000000",
                    "2020-01-29T00:00:00.000000000",
                    "2020-01-30T00:00:00.000000000",
                    "2020-01-31T00:00:00.000000000",
                    "2020-02-01T00:00:00.000000000",
                    "2020-02-02T00:00:00.000000000",
                    "2020-02-03T00:00:00.000000000",
                    "2020-02-04T00:00:00.000000000",
                    "2020-02-05T00:00:00.000000000",
                    "2020-02-06T00:00:00.000000000",
                    "2020-02-07T00:00:00.000000000",
                    "2020-02-08T00:00:00.000000000",
                    "2020-02-09T00:00:00.000000000",
                    "2020-02-10T00:00:00.000000000",
                    "2020-02-11T00:00:00.000000000",
                    "2020-02-12T00:00:00.000000000",
                    "2020-02-13T00:00:00.000000000",
                    "2020-02-14T00:00:00.000000000",
                    "2020-02-15T00:00:00.000000000",
                    "2020-02-16T00:00:00.000000000",
                    "2020-02-17T00:00:00.000000000",
                    "2020-02-18T00:00:00.000000000",
                    "2020-02-19T00:00:00.000000000",
                    "2020-02-20T00:00:00.000000000",
                    "2020-02-21T00:00:00.000000000",
                    "2020-02-22T00:00:00.000000000",
                    "2020-02-23T00:00:00.000000000",
                    "2020-02-24T00:00:00.000000000",
                    "2020-02-25T00:00:00.000000000",
                    "2020-02-26T00:00:00.000000000",
                    "2020-02-27T00:00:00.000000000",
                    "2020-02-28T00:00:00.000000000",
                    "2020-02-29T00:00:00.000000000",
                    "2020-03-01T00:00:00.000000000",
                    "2020-03-02T00:00:00.000000000",
                    "2020-03-03T00:00:00.000000000",
                    "2020-03-04T00:00:00.000000000",
                    "2020-03-05T00:00:00.000000000",
                    "2020-03-06T00:00:00.000000000",
                    "2020-03-07T00:00:00.000000000",
                    "2020-03-08T00:00:00.000000000",
                    "2020-03-09T00:00:00.000000000",
                    "2020-03-10T00:00:00.000000000",
                    "2020-03-11T00:00:00.000000000",
                    "2020-03-12T00:00:00.000000000",
                    "2020-03-13T00:00:00.000000000",
                    "2020-03-14T00:00:00.000000000",
                    "2020-03-15T00:00:00.000000000",
                    "2020-03-16T00:00:00.000000000",
                    "2020-03-17T00:00:00.000000000",
                    "2020-03-18T00:00:00.000000000",
                    "2020-03-19T00:00:00.000000000",
                    "2020-03-20T00:00:00.000000000",
                    "2020-03-21T00:00:00.000000000",
                    "2020-03-22T00:00:00.000000000",
                    "2020-03-23T00:00:00.000000000",
                    "2020-03-24T00:00:00.000000000",
                    "2020-03-25T00:00:00.000000000",
                    "2020-03-26T00:00:00.000000000",
                    "2020-03-27T00:00:00.000000000",
                    "2020-03-28T00:00:00.000000000",
                    "2020-03-29T00:00:00.000000000",
                    "2020-03-30T00:00:00.000000000",
                    "2020-03-31T00:00:00.000000000",
                    "2020-04-01T00:00:00.000000000",
                    "2020-04-02T00:00:00.000000000",
                    "2020-04-03T00:00:00.000000000",
                    "2020-04-04T00:00:00.000000000",
                    "2020-04-05T00:00:00.000000000",
                    "2020-04-06T00:00:00.000000000",
                    "2020-04-07T00:00:00.000000000",
                    "2020-04-08T00:00:00.000000000",
                    "2020-04-09T00:00:00.000000000",
                    "2020-04-10T00:00:00.000000000",
                    "2020-04-11T00:00:00.000000000",
                    "2020-04-12T00:00:00.000000000",
                    "2020-04-13T00:00:00.000000000",
                    "2020-04-14T00:00:00.000000000",
                    "2020-04-15T00:00:00.000000000",
                    "2020-04-16T00:00:00.000000000",
                    "2020-04-17T00:00:00.000000000",
                    "2020-04-18T00:00:00.000000000",
                    "2020-04-19T00:00:00.000000000",
                    "2020-04-20T00:00:00.000000000",
                    "2020-04-21T00:00:00.000000000",
                    "2020-04-22T00:00:00.000000000",
                    "2020-04-23T00:00:00.000000000",
                    "2020-04-24T00:00:00.000000000",
                    "2020-04-25T00:00:00.000000000",
                    "2020-04-26T00:00:00.000000000",
                    "2020-04-27T00:00:00.000000000",
                    "2020-04-28T00:00:00.000000000",
                    "2020-04-29T00:00:00.000000000",
                    "2020-04-30T00:00:00.000000000",
                    "2020-05-01T00:00:00.000000000",
                    "2020-05-02T00:00:00.000000000",
                    "2020-05-03T00:00:00.000000000",
                    "2020-05-04T00:00:00.000000000",
                    "2020-05-05T00:00:00.000000000",
                    "2020-05-06T00:00:00.000000000",
                    "2020-05-07T00:00:00.000000000",
                    "2020-05-08T00:00:00.000000000",
                    "2020-05-09T00:00:00.000000000",
                    "2020-05-10T00:00:00.000000000",
                    "2020-05-11T00:00:00.000000000",
                    "2020-05-12T00:00:00.000000000",
                    "2020-05-13T00:00:00.000000000",
                    "2020-05-14T00:00:00.000000000",
                    "2020-05-15T00:00:00.000000000",
                    "2020-05-16T00:00:00.000000000",
                    "2020-05-17T00:00:00.000000000",
                    "2020-05-18T00:00:00.000000000",
                    "2020-05-19T00:00:00.000000000",
                    "2020-05-20T00:00:00.000000000",
                    "2020-05-21T00:00:00.000000000",
                    "2020-05-22T00:00:00.000000000",
                    "2020-05-23T00:00:00.000000000",
                    "2020-05-24T00:00:00.000000000",
                    "2020-05-25T00:00:00.000000000",
                    "2020-05-26T00:00:00.000000000",
                    "2020-05-27T00:00:00.000000000",
                    "2020-05-28T00:00:00.000000000",
                    "2020-05-29T00:00:00.000000000",
                    "2020-05-30T00:00:00.000000000",
                    "2020-05-31T00:00:00.000000000",
                    "2020-06-01T00:00:00.000000000",
                    "2020-06-02T00:00:00.000000000",
                    "2020-06-03T00:00:00.000000000",
                    "2020-06-04T00:00:00.000000000",
                    "2020-06-05T00:00:00.000000000",
                    "2020-06-06T00:00:00.000000000",
                    "2020-06-07T00:00:00.000000000",
                    "2020-06-08T00:00:00.000000000",
                    "2020-06-09T00:00:00.000000000",
                    "2020-06-10T00:00:00.000000000",
                    "2020-06-11T00:00:00.000000000",
                    "2020-06-12T00:00:00.000000000",
                    "2020-06-13T00:00:00.000000000",
                    "2020-06-14T00:00:00.000000000",
                    "2020-06-15T00:00:00.000000000",
                    "2020-06-16T00:00:00.000000000",
                    "2020-06-17T00:00:00.000000000",
                    "2020-06-18T00:00:00.000000000",
                    "2020-06-19T00:00:00.000000000",
                    "2020-06-20T00:00:00.000000000",
                    "2020-06-21T00:00:00.000000000",
                    "2020-06-22T00:00:00.000000000",
                    "2020-06-23T00:00:00.000000000",
                    "2020-06-24T00:00:00.000000000",
                    "2020-06-25T00:00:00.000000000",
                    "2020-06-26T00:00:00.000000000",
                    "2020-06-27T00:00:00.000000000",
                    "2020-06-28T00:00:00.000000000",
                    "2020-06-29T00:00:00.000000000",
                    "2020-06-30T00:00:00.000000000",
                    "2020-07-01T00:00:00.000000000",
                    "2020-07-02T00:00:00.000000000",
                    "2020-07-03T00:00:00.000000000",
                    "2020-07-04T00:00:00.000000000",
                    "2020-07-05T00:00:00.000000000",
                    "2020-07-06T00:00:00.000000000",
                    "2020-07-07T00:00:00.000000000",
                    "2020-07-08T00:00:00.000000000",
                    "2020-07-09T00:00:00.000000000",
                    "2020-07-10T00:00:00.000000000",
                    "2020-07-11T00:00:00.000000000",
                    "2020-07-12T00:00:00.000000000",
                    "2020-07-13T00:00:00.000000000",
                    "2020-07-14T00:00:00.000000000",
                    "2020-07-15T00:00:00.000000000",
                    "2020-07-16T00:00:00.000000000",
                    "2020-07-17T00:00:00.000000000",
                    "2020-07-18T00:00:00.000000000",
                    "2020-07-19T00:00:00.000000000",
                    "2020-07-20T00:00:00.000000000",
                    "2020-07-21T00:00:00.000000000",
                    "2020-07-22T00:00:00.000000000",
                    "2020-07-23T00:00:00.000000000",
                    "2020-07-24T00:00:00.000000000",
                    "2020-07-25T00:00:00.000000000",
                    "2020-07-26T00:00:00.000000000",
                    "2020-07-27T00:00:00.000000000",
                    "2020-07-28T00:00:00.000000000",
                    "2020-07-29T00:00:00.000000000",
                    "2020-07-30T00:00:00.000000000",
                    "2020-07-31T00:00:00.000000000",
                    "2020-08-01T00:00:00.000000000",
                    "2020-08-02T00:00:00.000000000",
                    "2020-08-03T00:00:00.000000000"
                  ],
                  "y": {
                    "bdata": "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",
                    "dtype": "f8"
                  }
                },
                {
                  "fill": "tonexty",
                  "fillcolor": "rgba(0, 114, 178, 0.2)",
                  "hoverinfo": "skip",
                  "line": {
                    "width": 0
                  },
                  "mode": "lines",
                  "type": "scatter",
                  "x": [
                    "2020-01-22T00:00:00.000000000",
                    "2020-01-23T00:00:00.000000000",
                    "2020-01-24T00:00:00.000000000",
                    "2020-01-25T00:00:00.000000000",
                    "2020-01-26T00:00:00.000000000",
                    "2020-01-27T00:00:00.000000000",
                    "2020-01-28T00:00:00.000000000",
                    "2020-01-29T00:00:00.000000000",
                    "2020-01-30T00:00:00.000000000",
                    "2020-01-31T00:00:00.000000000",
                    "2020-02-01T00:00:00.000000000",
                    "2020-02-02T00:00:00.000000000",
                    "2020-02-03T00:00:00.000000000",
                    "2020-02-04T00:00:00.000000000",
                    "2020-02-05T00:00:00.000000000",
                    "2020-02-06T00:00:00.000000000",
                    "2020-02-07T00:00:00.000000000",
                    "2020-02-08T00:00:00.000000000",
                    "2020-02-09T00:00:00.000000000",
                    "2020-02-10T00:00:00.000000000",
                    "2020-02-11T00:00:00.000000000",
                    "2020-02-12T00:00:00.000000000",
                    "2020-02-13T00:00:00.000000000",
                    "2020-02-14T00:00:00.000000000",
                    "2020-02-15T00:00:00.000000000",
                    "2020-02-16T00:00:00.000000000",
                    "2020-02-17T00:00:00.000000000",
                    "2020-02-18T00:00:00.000000000",
                    "2020-02-19T00:00:00.000000000",
                    "2020-02-20T00:00:00.000000000",
                    "2020-02-21T00:00:00.000000000",
                    "2020-02-22T00:00:00.000000000",
                    "2020-02-23T00:00:00.000000000",
                    "2020-02-24T00:00:00.000000000",
                    "2020-02-25T00:00:00.000000000",
                    "2020-02-26T00:00:00.000000000",
                    "2020-02-27T00:00:00.000000000",
                    "2020-02-28T00:00:00.000000000",
                    "2020-02-29T00:00:00.000000000",
                    "2020-03-01T00:00:00.000000000",
                    "2020-03-02T00:00:00.000000000",
                    "2020-03-03T00:00:00.000000000",
                    "2020-03-04T00:00:00.000000000",
                    "2020-03-05T00:00:00.000000000",
                    "2020-03-06T00:00:00.000000000",
                    "2020-03-07T00:00:00.000000000",
                    "2020-03-08T00:00:00.000000000",
                    "2020-03-09T00:00:00.000000000",
                    "2020-03-10T00:00:00.000000000",
                    "2020-03-11T00:00:00.000000000",
                    "2020-03-12T00:00:00.000000000",
                    "2020-03-13T00:00:00.000000000",
                    "2020-03-14T00:00:00.000000000",
                    "2020-03-15T00:00:00.000000000",
                    "2020-03-16T00:00:00.000000000",
                    "2020-03-17T00:00:00.000000000",
                    "2020-03-18T00:00:00.000000000",
                    "2020-03-19T00:00:00.000000000",
                    "2020-03-20T00:00:00.000000000",
                    "2020-03-21T00:00:00.000000000",
                    "2020-03-22T00:00:00.000000000",
                    "2020-03-23T00:00:00.000000000",
                    "2020-03-24T00:00:00.000000000",
                    "2020-03-25T00:00:00.000000000",
                    "2020-03-26T00:00:00.000000000",
                    "2020-03-27T00:00:00.000000000",
                    "2020-03-28T00:00:00.000000000",
                    "2020-03-29T00:00:00.000000000",
                    "2020-03-30T00:00:00.000000000",
                    "2020-03-31T00:00:00.000000000",
                    "2020-04-01T00:00:00.000000000",
                    "2020-04-02T00:00:00.000000000",
                    "2020-04-03T00:00:00.000000000",
                    "2020-04-04T00:00:00.000000000",
                    "2020-04-05T00:00:00.000000000",
                    "2020-04-06T00:00:00.000000000",
                    "2020-04-07T00:00:00.000000000",
                    "2020-04-08T00:00:00.000000000",
                    "2020-04-09T00:00:00.000000000",
                    "2020-04-10T00:00:00.000000000",
                    "2020-04-11T00:00:00.000000000",
                    "2020-04-12T00:00:00.000000000",
                    "2020-04-13T00:00:00.000000000",
                    "2020-04-14T00:00:00.000000000",
                    "2020-04-15T00:00:00.000000000",
                    "2020-04-16T00:00:00.000000000",
                    "2020-04-17T00:00:00.000000000",
                    "2020-04-18T00:00:00.000000000",
                    "2020-04-19T00:00:00.000000000",
                    "2020-04-20T00:00:00.000000000",
                    "2020-04-21T00:00:00.000000000",
                    "2020-04-22T00:00:00.000000000",
                    "2020-04-23T00:00:00.000000000",
                    "2020-04-24T00:00:00.000000000",
                    "2020-04-25T00:00:00.000000000",
                    "2020-04-26T00:00:00.000000000",
                    "2020-04-27T00:00:00.000000000",
                    "2020-04-28T00:00:00.000000000",
                    "2020-04-29T00:00:00.000000000",
                    "2020-04-30T00:00:00.000000000",
                    "2020-05-01T00:00:00.000000000",
                    "2020-05-02T00:00:00.000000000",
                    "2020-05-03T00:00:00.000000000",
                    "2020-05-04T00:00:00.000000000",
                    "2020-05-05T00:00:00.000000000",
                    "2020-05-06T00:00:00.000000000",
                    "2020-05-07T00:00:00.000000000",
                    "2020-05-08T00:00:00.000000000",
                    "2020-05-09T00:00:00.000000000",
                    "2020-05-10T00:00:00.000000000",
                    "2020-05-11T00:00:00.000000000",
                    "2020-05-12T00:00:00.000000000",
                    "2020-05-13T00:00:00.000000000",
                    "2020-05-14T00:00:00.000000000",
                    "2020-05-15T00:00:00.000000000",
                    "2020-05-16T00:00:00.000000000",
                    "2020-05-17T00:00:00.000000000",
                    "2020-05-18T00:00:00.000000000",
                    "2020-05-19T00:00:00.000000000",
                    "2020-05-20T00:00:00.000000000",
                    "2020-05-21T00:00:00.000000000",
                    "2020-05-22T00:00:00.000000000",
                    "2020-05-23T00:00:00.000000000",
                    "2020-05-24T00:00:00.000000000",
                    "2020-05-25T00:00:00.000000000",
                    "2020-05-26T00:00:00.000000000",
                    "2020-05-27T00:00:00.000000000",
                    "2020-05-28T00:00:00.000000000",
                    "2020-05-29T00:00:00.000000000",
                    "2020-05-30T00:00:00.000000000",
                    "2020-05-31T00:00:00.000000000",
                    "2020-06-01T00:00:00.000000000",
                    "2020-06-02T00:00:00.000000000",
                    "2020-06-03T00:00:00.000000000",
                    "2020-06-04T00:00:00.000000000",
                    "2020-06-05T00:00:00.000000000",
                    "2020-06-06T00:00:00.000000000",
                    "2020-06-07T00:00:00.000000000",
                    "2020-06-08T00:00:00.000000000",
                    "2020-06-09T00:00:00.000000000",
                    "2020-06-10T00:00:00.000000000",
                    "2020-06-11T00:00:00.000000000",
                    "2020-06-12T00:00:00.000000000",
                    "2020-06-13T00:00:00.000000000",
                    "2020-06-14T00:00:00.000000000",
                    "2020-06-15T00:00:00.000000000",
                    "2020-06-16T00:00:00.000000000",
                    "2020-06-17T00:00:00.000000000",
                    "2020-06-18T00:00:00.000000000",
                    "2020-06-19T00:00:00.000000000",
                    "2020-06-20T00:00:00.000000000",
                    "2020-06-21T00:00:00.000000000",
                    "2020-06-22T00:00:00.000000000",
                    "2020-06-23T00:00:00.000000000",
                    "2020-06-24T00:00:00.000000000",
                    "2020-06-25T00:00:00.000000000",
                    "2020-06-26T00:00:00.000000000",
                    "2020-06-27T00:00:00.000000000",
                    "2020-06-28T00:00:00.000000000",
                    "2020-06-29T00:00:00.000000000",
                    "2020-06-30T00:00:00.000000000",
                    "2020-07-01T00:00:00.000000000",
                    "2020-07-02T00:00:00.000000000",
                    "2020-07-03T00:00:00.000000000",
                    "2020-07-04T00:00:00.000000000",
                    "2020-07-05T00:00:00.000000000",
                    "2020-07-06T00:00:00.000000000",
                    "2020-07-07T00:00:00.000000000",
                    "2020-07-08T00:00:00.000000000",
                    "2020-07-09T00:00:00.000000000",
                    "2020-07-10T00:00:00.000000000",
                    "2020-07-11T00:00:00.000000000",
                    "2020-07-12T00:00:00.000000000",
                    "2020-07-13T00:00:00.000000000",
                    "2020-07-14T00:00:00.000000000",
                    "2020-07-15T00:00:00.000000000",
                    "2020-07-16T00:00:00.000000000",
                    "2020-07-17T00:00:00.000000000",
                    "2020-07-18T00:00:00.000000000",
                    "2020-07-19T00:00:00.000000000",
                    "2020-07-20T00:00:00.000000000",
                    "2020-07-21T00:00:00.000000000",
                    "2020-07-22T00:00:00.000000000",
                    "2020-07-23T00:00:00.000000000",
                    "2020-07-24T00:00:00.000000000",
                    "2020-07-25T00:00:00.000000000",
                    "2020-07-26T00:00:00.000000000",
                    "2020-07-27T00:00:00.000000000",
                    "2020-07-28T00:00:00.000000000",
                    "2020-07-29T00:00:00.000000000",
                    "2020-07-30T00:00:00.000000000",
                    "2020-07-31T00:00:00.000000000",
                    "2020-08-01T00:00:00.000000000",
                    "2020-08-02T00:00:00.000000000",
                    "2020-08-03T00:00:00.000000000"
                  ],
                  "y": {
                    "bdata": "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",
                    "dtype": "f8"
                  }
                }
              ],
              "layout": {
                "height": 600,
                "showlegend": false,
                "template": {
                  "data": {
                    "bar": [
                      {
                        "error_x": {
                          "color": "#2a3f5f"
                        },
                        "error_y": {
                          "color": "#2a3f5f"
                        },
                        "marker": {
                          "line": {
                            "color": "white",
                            "width": 0.5
                          },
                          "pattern": {
                            "fillmode": "overlay",
                            "size": 10,
                            "solidity": 0.2
                          }
                        },
                        "type": "bar"
                      }
                    ],
                    "barpolar": [
                      {
                        "marker": {
                          "line": {
                            "color": "white",
                            "width": 0.5
                          },
                          "pattern": {
                            "fillmode": "overlay",
                            "size": 10,
                            "solidity": 0.2
                          }
                        },
                        "type": "barpolar"
                      }
                    ],
                    "carpet": [
                      {
                        "aaxis": {
                          "endlinecolor": "#2a3f5f",
                          "gridcolor": "#C8D4E3",
                          "linecolor": "#C8D4E3",
                          "minorgridcolor": "#C8D4E3",
                          "startlinecolor": "#2a3f5f"
                        },
                        "baxis": {
                          "endlinecolor": "#2a3f5f",
                          "gridcolor": "#C8D4E3",
                          "linecolor": "#C8D4E3",
                          "minorgridcolor": "#C8D4E3",
                          "startlinecolor": "#2a3f5f"
                        },
                        "type": "carpet"
                      }
                    ],
                    "choropleth": [
                      {
                        "colorbar": {
                          "outlinewidth": 0,
                          "ticks": ""
                        },
                        "type": "choropleth"
                      }
                    ],
                    "contour": [
                      {
                        "colorbar": {
                          "outlinewidth": 0,
                          "ticks": ""
                        },
                        "colorscale": [
                          [
                            0,
                            "#0d0887"
                          ],
                          [
                            0.1111111111111111,
                            "#46039f"
                          ],
                          [
                            0.2222222222222222,
                            "#7201a8"
                          ],
                          [
                            0.3333333333333333,
                            "#9c179e"
                          ],
                          [
                            0.4444444444444444,
                            "#bd3786"
                          ],
                          [
                            0.5555555555555556,
                            "#d8576b"
                          ],
                          [
                            0.6666666666666666,
                            "#ed7953"
                          ],
                          [
                            0.7777777777777778,
                            "#fb9f3a"
                          ],
                          [
                            0.8888888888888888,
                            "#fdca26"
                          ],
                          [
                            1,
                            "#f0f921"
                          ]
                        ],
                        "type": "contour"
                      }
                    ],
                    "contourcarpet": [
                      {
                        "colorbar": {
                          "outlinewidth": 0,
                          "ticks": ""
                        },
                        "type": "contourcarpet"
                      }
                    ],
                    "heatmap": [
                      {
                        "colorbar": {
                          "outlinewidth": 0,
                          "ticks": ""
                        },
                        "colorscale": [
                          [
                            0,
                            "#0d0887"
                          ],
                          [
                            0.1111111111111111,
                            "#46039f"
                          ],
                          [
                            0.2222222222222222,
                            "#7201a8"
                          ],
                          [
                            0.3333333333333333,
                            "#9c179e"
                          ],
                          [
                            0.4444444444444444,
                            "#bd3786"
                          ],
                          [
                            0.5555555555555556,
                            "#d8576b"
                          ],
                          [
                            0.6666666666666666,
                            "#ed7953"
                          ],
                          [
                            0.7777777777777778,
                            "#fb9f3a"
                          ],
                          [
                            0.8888888888888888,
                            "#fdca26"
                          ],
                          [
                            1,
                            "#f0f921"
                          ]
                        ],
                        "type": "heatmap"
                      }
                    ],
                    "histogram": [
                      {
                        "marker": {
                          "pattern": {
                            "fillmode": "overlay",
                            "size": 10,
                            "solidity": 0.2
                          }
                        },
                        "type": "histogram"
                      }
                    ],
                    "histogram2d": [
                      {
                        "colorbar": {
                          "outlinewidth": 0,
                          "ticks": ""
                        },
                        "colorscale": [
                          [
                            0,
                            "#0d0887"
                          ],
                          [
                            0.1111111111111111,
                            "#46039f"
                          ],
                          [
                            0.2222222222222222,
                            "#7201a8"
                          ],
                          [
                            0.3333333333333333,
                            "#9c179e"
                          ],
                          [
                            0.4444444444444444,
                            "#bd3786"
                          ],
                          [
                            0.5555555555555556,
                            "#d8576b"
                          ],
                          [
                            0.6666666666666666,
                            "#ed7953"
                          ],
                          [
                            0.7777777777777778,
                            "#fb9f3a"
                          ],
                          [
                            0.8888888888888888,
                            "#fdca26"
                          ],
                          [
                            1,
                            "#f0f921"
                          ]
                        ],
                        "type": "histogram2d"
                      }
                    ],
                    "histogram2dcontour": [
                      {
                        "colorbar": {
                          "outlinewidth": 0,
                          "ticks": ""
                        },
                        "colorscale": [
                          [
                            0,
                            "#0d0887"
                          ],
                          [
                            0.1111111111111111,
                            "#46039f"
                          ],
                          [
                            0.2222222222222222,
                            "#7201a8"
                          ],
                          [
                            0.3333333333333333,
                            "#9c179e"
                          ],
                          [
                            0.4444444444444444,
                            "#bd3786"
                          ],
                          [
                            0.5555555555555556,
                            "#d8576b"
                          ],
                          [
                            0.6666666666666666,
                            "#ed7953"
                          ],
                          [
                            0.7777777777777778,
                            "#fb9f3a"
                          ],
                          [
                            0.8888888888888888,
                            "#fdca26"
                          ],
                          [
                            1,
                            "#f0f921"
                          ]
                        ],
                        "type": "histogram2dcontour"
                      }
                    ],
                    "mesh3d": [
                      {
                        "colorbar": {
                          "outlinewidth": 0,
                          "ticks": ""
                        },
                        "type": "mesh3d"
                      }
                    ],
                    "parcoords": [
                      {
                        "line": {
                          "colorbar": {
                            "outlinewidth": 0,
                            "ticks": ""
                          }
                        },
                        "type": "parcoords"
                      }
                    ],
                    "pie": [
                      {
                        "automargin": true,
                        "type": "pie"
                      }
                    ],
                    "scatter": [
                      {
                        "fillpattern": {
                          "fillmode": "overlay",
                          "size": 10,
                          "solidity": 0.2
                        },
                        "type": "scatter"
                      }
                    ],
                    "scatter3d": [
                      {
                        "line": {
                          "colorbar": {
                            "outlinewidth": 0,
                            "ticks": ""
                          }
                        },
                        "marker": {
                          "colorbar": {
                            "outlinewidth": 0,
                            "ticks": ""
                          }
                        },
                        "type": "scatter3d"
                      }
                    ],
                    "scattercarpet": [
                      {
                        "marker": {
                          "colorbar": {
                            "outlinewidth": 0,
                            "ticks": ""
                          }
                        },
                        "type": "scattercarpet"
                      }
                    ],
                    "scattergeo": [
                      {
                        "marker": {
                          "colorbar": {
                            "outlinewidth": 0,
                            "ticks": ""
                          }
                        },
                        "type": "scattergeo"
                      }
                    ],
                    "scattergl": [
                      {
                        "marker": {
                          "colorbar": {
                            "outlinewidth": 0,
                            "ticks": ""
                          }
                        },
                        "type": "scattergl"
                      }
                    ],
                    "scattermap": [
                      {
                        "marker": {
                          "colorbar": {
                            "outlinewidth": 0,
                            "ticks": ""
                          }
                        },
                        "type": "scattermap"
                      }
                    ],
                    "scattermapbox": [
                      {
                        "marker": {
                          "colorbar": {
                            "outlinewidth": 0,
                            "ticks": ""
                          }
                        },
                        "type": "scattermapbox"
                      }
                    ],
                    "scatterpolar": [
                      {
                        "marker": {
                          "colorbar": {
                            "outlinewidth": 0,
                            "ticks": ""
                          }
                        },
                        "type": "scatterpolar"
                      }
                    ],
                    "scatterpolargl": [
                      {
                        "marker": {
                          "colorbar": {
                            "outlinewidth": 0,
                            "ticks": ""
                          }
                        },
                        "type": "scatterpolargl"
                      }
                    ],
                    "scatterternary": [
                      {
                        "marker": {
                          "colorbar": {
                            "outlinewidth": 0,
                            "ticks": ""
                          }
                        },
                        "type": "scatterternary"
                      }
                    ],
                    "surface": [
                      {
                        "colorbar": {
                          "outlinewidth": 0,
                          "ticks": ""
                        },
                        "colorscale": [
                          [
                            0,
                            "#0d0887"
                          ],
                          [
                            0.1111111111111111,
                            "#46039f"
                          ],
                          [
                            0.2222222222222222,
                            "#7201a8"
                          ],
                          [
                            0.3333333333333333,
                            "#9c179e"
                          ],
                          [
                            0.4444444444444444,
                            "#bd3786"
                          ],
                          [
                            0.5555555555555556,
                            "#d8576b"
                          ],
                          [
                            0.6666666666666666,
                            "#ed7953"
                          ],
                          [
                            0.7777777777777778,
                            "#fb9f3a"
                          ],
                          [
                            0.8888888888888888,
                            "#fdca26"
                          ],
                          [
                            1,
                            "#f0f921"
                          ]
                        ],
                        "type": "surface"
                      }
                    ],
                    "table": [
                      {
                        "cells": {
                          "fill": {
                            "color": "#EBF0F8"
                          },
                          "line": {
                            "color": "white"
                          }
                        },
                        "header": {
                          "fill": {
                            "color": "#C8D4E3"
                          },
                          "line": {
                            "color": "white"
                          }
                        },
                        "type": "table"
                      }
                    ]
                  },
                  "layout": {
                    "annotationdefaults": {
                      "arrowcolor": "#2a3f5f",
                      "arrowhead": 0,
                      "arrowwidth": 1
                    },
                    "autotypenumbers": "strict",
                    "coloraxis": {
                      "colorbar": {
                        "outlinewidth": 0,
                        "ticks": ""
                      }
                    },
                    "colorscale": {
                      "diverging": [
                        [
                          0,
                          "#8e0152"
                        ],
                        [
                          0.1,
                          "#c51b7d"
                        ],
                        [
                          0.2,
                          "#de77ae"
                        ],
                        [
                          0.3,
                          "#f1b6da"
                        ],
                        [
                          0.4,
                          "#fde0ef"
                        ],
                        [
                          0.5,
                          "#f7f7f7"
                        ],
                        [
                          0.6,
                          "#e6f5d0"
                        ],
                        [
                          0.7,
                          "#b8e186"
                        ],
                        [
                          0.8,
                          "#7fbc41"
                        ],
                        [
                          0.9,
                          "#4d9221"
                        ],
                        [
                          1,
                          "#276419"
                        ]
                      ],
                      "sequential": [
                        [
                          0,
                          "#0d0887"
                        ],
                        [
                          0.1111111111111111,
                          "#46039f"
                        ],
                        [
                          0.2222222222222222,
                          "#7201a8"
                        ],
                        [
                          0.3333333333333333,
                          "#9c179e"
                        ],
                        [
                          0.4444444444444444,
                          "#bd3786"
                        ],
                        [
                          0.5555555555555556,
                          "#d8576b"
                        ],
                        [
                          0.6666666666666666,
                          "#ed7953"
                        ],
                        [
                          0.7777777777777778,
                          "#fb9f3a"
                        ],
                        [
                          0.8888888888888888,
                          "#fdca26"
                        ],
                        [
                          1,
                          "#f0f921"
                        ]
                      ],
                      "sequentialminus": [
                        [
                          0,
                          "#0d0887"
                        ],
                        [
                          0.1111111111111111,
                          "#46039f"
                        ],
                        [
                          0.2222222222222222,
                          "#7201a8"
                        ],
                        [
                          0.3333333333333333,
                          "#9c179e"
                        ],
                        [
                          0.4444444444444444,
                          "#bd3786"
                        ],
                        [
                          0.5555555555555556,
                          "#d8576b"
                        ],
                        [
                          0.6666666666666666,
                          "#ed7953"
                        ],
                        [
                          0.7777777777777778,
                          "#fb9f3a"
                        ],
                        [
                          0.8888888888888888,
                          "#fdca26"
                        ],
                        [
                          1,
                          "#f0f921"
                        ]
                      ]
                    },
                    "colorway": [
                      "#636efa",
                      "#EF553B",
                      "#00cc96",
                      "#ab63fa",
                      "#FFA15A",
                      "#19d3f3",
                      "#FF6692",
                      "#B6E880",
                      "#FF97FF",
                      "#FECB52"
                    ],
                    "font": {
                      "color": "#2a3f5f"
                    },
                    "geo": {
                      "bgcolor": "white",
                      "lakecolor": "white",
                      "landcolor": "white",
                      "showlakes": true,
                      "showland": true,
                      "subunitcolor": "#C8D4E3"
                    },
                    "hoverlabel": {
                      "align": "left"
                    },
                    "hovermode": "closest",
                    "mapbox": {
                      "style": "light"
                    },
                    "paper_bgcolor": "white",
                    "plot_bgcolor": "white",
                    "polar": {
                      "angularaxis": {
                        "gridcolor": "#EBF0F8",
                        "linecolor": "#EBF0F8",
                        "ticks": ""
                      },
                      "bgcolor": "white",
                      "radialaxis": {
                        "gridcolor": "#EBF0F8",
                        "linecolor": "#EBF0F8",
                        "ticks": ""
                      }
                    },
                    "scene": {
                      "xaxis": {
                        "backgroundcolor": "white",
                        "gridcolor": "#DFE8F3",
                        "gridwidth": 2,
                        "linecolor": "#EBF0F8",
                        "showbackground": true,
                        "ticks": "",
                        "zerolinecolor": "#EBF0F8"
                      },
                      "yaxis": {
                        "backgroundcolor": "white",
                        "gridcolor": "#DFE8F3",
                        "gridwidth": 2,
                        "linecolor": "#EBF0F8",
                        "showbackground": true,
                        "ticks": "",
                        "zerolinecolor": "#EBF0F8"
                      },
                      "zaxis": {
                        "backgroundcolor": "white",
                        "gridcolor": "#DFE8F3",
                        "gridwidth": 2,
                        "linecolor": "#EBF0F8",
                        "showbackground": true,
                        "ticks": "",
                        "zerolinecolor": "#EBF0F8"
                      }
                    },
                    "shapedefaults": {
                      "line": {
                        "color": "#2a3f5f"
                      }
                    },
                    "ternary": {
                      "aaxis": {
                        "gridcolor": "#DFE8F3",
                        "linecolor": "#A2B1C6",
                        "ticks": ""
                      },
                      "baxis": {
                        "gridcolor": "#DFE8F3",
                        "linecolor": "#A2B1C6",
                        "ticks": ""
                      },
                      "bgcolor": "white",
                      "caxis": {
                        "gridcolor": "#DFE8F3",
                        "linecolor": "#A2B1C6",
                        "ticks": ""
                      }
                    },
                    "title": {
                      "x": 0.05
                    },
                    "xaxis": {
                      "automargin": true,
                      "gridcolor": "#EBF0F8",
                      "linecolor": "#EBF0F8",
                      "ticks": "",
                      "title": {
                        "standoff": 15
                      },
                      "zerolinecolor": "#EBF0F8",
                      "zerolinewidth": 2
                    },
                    "yaxis": {
                      "automargin": true,
                      "gridcolor": "#EBF0F8",
                      "linecolor": "#EBF0F8",
                      "ticks": "",
                      "title": {
                        "standoff": 15
                      },
                      "zerolinecolor": "#EBF0F8",
                      "zerolinewidth": 2
                    }
                  }
                },
                "title": {
                  "text": "COVID-19 Recovered Cases Forecast for India"
                },
                "width": 900,
                "xaxis": {
                  "rangeselector": {
                    "buttons": [
                      {
                        "count": 7,
                        "label": "1w",
                        "step": "day",
                        "stepmode": "backward"
                      },
                      {
                        "count": 1,
                        "label": "1m",
                        "step": "month",
                        "stepmode": "backward"
                      },
                      {
                        "count": 6,
                        "label": "6m",
                        "step": "month",
                        "stepmode": "backward"
                      },
                      {
                        "count": 1,
                        "label": "1y",
                        "step": "year",
                        "stepmode": "backward"
                      },
                      {
                        "step": "all"
                      }
                    ]
                  },
                  "rangeslider": {
                    "visible": true
                  },
                  "title": {
                    "text": "ds"
                  },
                  "type": "date"
                },
                "yaxis": {
                  "title": {
                    "text": "y"
                  }
                }
              }
            }
          },
          "metadata": {},
          "output_type": "display_data"
        }
      ],
      "source": [
        "\n",
        "prophet_recovered_df = df2[['Date', 'Recovered']].rename(columns={'Date': 'ds', 'Recovered': 'y'})\n",
        "model_recovered = Prophet()\n",
        "model_recovered.fit(prophet_recovered_df)\n",
        "future_recovered = model_recovered.make_future_dataframe(periods=7)\n",
        "forecast_recovered = model_recovered.predict(future_recovered)\n",
        "\n",
        "fig_forecast_recovered = plot_plotly(model_recovered, forecast_recovered)\n",
        "fig_forecast_recovered.update_layout(title_text=f'COVID-19 Recovered Cases Forecast for {country}')\n",
        "fig_forecast_recovered.show()"
      ]
    },
    {
      "cell_type": "code",
      "execution_count": null,
      "metadata": {
        "id": "Hcdhh6kZl0F6"
      },
      "outputs": [],
      "source": []
    },
    {
      "cell_type": "markdown",
      "metadata": {
        "id": "5NZxiNG9gslg"
      },
      "source": [
        "Alternative Analysis"
      ]
    },
    {
      "cell_type": "markdown",
      "metadata": {
        "id": "cnaG-e6zjFbP"
      },
      "source": [
        "Defining data analysis function method for forecasting"
      ]
    },
    {
      "cell_type": "code",
      "execution_count": null,
      "metadata": {
        "id": "ojt6dnPHo6fW"
      },
      "outputs": [],
      "source": []
    }
  ],
  "metadata": {
    "colab": {
      "provenance": []
    },
    "kernelspec": {
      "display_name": "Python 3",
      "name": "python3"
    },
    "language_info": {
      "codemirror_mode": {
        "name": "ipython",
        "version": 3
      },
      "file_extension": ".py",
      "mimetype": "text/x-python",
      "name": "python",
      "nbconvert_exporter": "python",
      "pygments_lexer": "ipython3",
      "version": "3.11.9"
    }
  },
  "nbformat": 4,
  "nbformat_minor": 0
}
